{
 "cells": [
  {
   "cell_type": "markdown",
   "metadata": {},
   "source": [
    "# Population structure and diversity\n",
    "\n",
    "## Setup"
   ]
  },
  {
   "cell_type": "code",
   "execution_count": 3,
   "metadata": {},
   "outputs": [
    {
     "name": "stderr",
     "output_type": "stream",
     "text": [
      "── \u001b[1mAttaching packages\u001b[22m ───────────────────────────────────────────────────── tidyverse 1.3.1 ──\n",
      "\n",
      "\u001b[32m✔\u001b[39m \u001b[34mggplot2\u001b[39m 3.4.2     \u001b[32m✔\u001b[39m \u001b[34mpurrr  \u001b[39m 1.0.1\n",
      "\u001b[32m✔\u001b[39m \u001b[34mtibble \u001b[39m 3.2.1     \u001b[32m✔\u001b[39m \u001b[34mdplyr  \u001b[39m 1.1.2\n",
      "\u001b[32m✔\u001b[39m \u001b[34mtidyr  \u001b[39m 1.3.0     \u001b[32m✔\u001b[39m \u001b[34mstringr\u001b[39m 1.5.0\n",
      "\u001b[32m✔\u001b[39m \u001b[34mreadr  \u001b[39m 2.1.4     \u001b[32m✔\u001b[39m \u001b[34mforcats\u001b[39m 1.0.0\n",
      "\n",
      "── \u001b[1mConflicts\u001b[22m ──────────────────────────────────────────────────────── tidyverse_conflicts() ──\n",
      "\u001b[31m✖\u001b[39m \u001b[34mdplyr\u001b[39m::\u001b[32mfilter()\u001b[39m masks \u001b[34mstats\u001b[39m::filter()\n",
      "\u001b[31m✖\u001b[39m \u001b[34mdplyr\u001b[39m::\u001b[32mlag()\u001b[39m    masks \u001b[34mstats\u001b[39m::lag()\n",
      "\n",
      "Loading required package: permute\n",
      "\n",
      "Loading required package: lattice\n",
      "\n",
      "This is vegan 2.6-4\n",
      "\n"
     ]
    }
   ],
   "source": [
    "# Load required packages\n",
    "library(tidyverse)\n",
    "library(wesanderson)\n",
    "library(vegan)\n",
    "library(umap)"
   ]
  },
  {
   "cell_type": "code",
   "execution_count": 4,
   "metadata": {},
   "outputs": [],
   "source": [
    "# Path to results for this project\n",
    "results_prefix <- '/scratch/projects/trifolium/gwsd/results/'"
   ]
  },
  {
   "cell_type": "code",
   "execution_count": 5,
   "metadata": {},
   "outputs": [],
   "source": [
    "# Sample order from ANGSD\n",
    "angsd_sample_order_path <- paste0(results_prefix, 'program_resources/angsd_allFinalSamples_4fold_order.txt')\n",
    "sample_order <- suppressMessages(\n",
    "        read_delim(angsd_sample_order_path, col_names = FALSE, delim = '\\t')\n",
    ")"
   ]
  },
  {
   "cell_type": "code",
   "execution_count": 6,
   "metadata": {},
   "outputs": [],
   "source": [
    "# Load sample sheet\n",
    "ss_inpath <- '../resources/sequencedPlants_phenotypesHabitat.txt'\n",
    "samples <- suppressMessages(\n",
    "        read_delim(ss_inpath, col_names = TRUE, delim = '\\t') %>%\n",
    "        filter(Sample %in% sample_order$X1)\n",
    ")"
   ]
  },
  {
   "cell_type": "markdown",
   "metadata": {},
   "source": [
    "### Functions"
   ]
  },
  {
   "cell_type": "code",
   "execution_count": 7,
   "metadata": {},
   "outputs": [],
   "source": [
    "# Function to calculate % variance and cummulative variance from PC\n",
    "# Used to generate summary table rather than printing the lengthy `princomp()` summary\n",
    "pca_importance <- function(x) {\n",
    "  vars <- x$sdev^2\n",
    "  vars <- vars/sum(vars)\n",
    "  rbind(`Standard deviation` = x$sdev, `Proportion of Variance` = vars, \n",
    "      `Cumulative Proportion` = cumsum(vars))\n",
    "}\n",
    "\n",
    "# Function to load NGSadmix log files\n",
    "load_ngsadmix_log <- function(path){\n",
    "    seed <- as.numeric(str_extract(basename(path), pattern = '(?<=seed)[0-9]+(?=\\\\.log)'))\n",
    "    \n",
    "    logfile <- readLines(path)[9]  ## 9 index is for line with likelihood\n",
    "    like <- as.numeric(str_extract(logfile, pattern = '(?<=like=)-[0-9]+\\\\.[0-9]+'))\n",
    "    \n",
    "    df_out <- data.frame(seed = seed, like = like)\n",
    "    return(df_out)\n",
    "}\n",
    "\n",
    "# Function to load thetas for a given habitat\n",
    "load_pi <- function(habitat){\n",
    "    path <- paste0(results_prefix, sprintf('angsd/summary_stats/thetas/byHabitat/4fold_%s.thetas.idx.pestPG', habitat))\n",
    "    df <- suppressMessages(read_delim(path, delim = '\\t')) %>%\n",
    "        mutate(tp_scaled = tP / nSites,\n",
    "               tw_scaled = tW / nSites,\n",
    "               habitat = habitat)\n",
    "    return(df)\n",
    "}\n",
    "\n",
    "# Function to load Fst for habitat comparisons\n",
    "load_fst <- function(habitat_combination){\n",
    "    path <- paste0(results_prefix, sprintf('angsd/summary_stats/hudson_fst/byHabitat/4fold_%s_readable.fst', habitat_combination))\n",
    "    colnames <- c('chrom', 'pos', 'num', 'denom')\n",
    "    df <- suppressMessages(read_delim(path, delim = '\\t', col_names = colnames)) %>%\n",
    "        # Cap numerators at 0 if negative \n",
    "        # https://github.com/ANGSD/angsd/issues/309\n",
    "        # Does not affect overall pattern\n",
    "        mutate(num = ifelse(num < 0, 0, num)) %>% \n",
    "        \n",
    "        group_by(chrom) %>%\n",
    "        \n",
    "        # Estimate weighted Fst as ratio of averages\n",
    "        # https://github.com/ANGSD/angsd/issues/61\n",
    "        summarise(num_sum = sum(num),\n",
    "                  denom_sum = sum(denom),\n",
    "                  fst = num_sum / denom_sum,\n",
    "                  nSites = n()) %>% \n",
    "        mutate(hab_comb = habitat_combination)\n",
    "    return(df)\n",
    "}\n",
    "\n",
    "# Function to load chromosomal NGSrelate results\n",
    "load_relatedness <- function(path){\n",
    "    chrom <- str_extract(basename(path), '^(.+)(?=_4fold)')\n",
    "    df <- suppressMessages(read_delim(path, delim = '\\t')) %>%\n",
    "        mutate(chrom = chrom) %>%\n",
    "        dplyr::select(-starts_with('J')) %>%\n",
    "        dplyr::select(chrom, everything())\n",
    "    return(df)\n",
    "}"
   ]
  },
  {
   "cell_type": "markdown",
   "metadata": {},
   "source": [
    "## Population structure\n",
    "\n",
    "All population structure analyses were performed using 199,624 4fold SNPs from across the genome. SNPs had MAF > 0.05 and were pruned for LD such that no pairwise $r^2$ was greater than 0.2\n",
    "\n",
    "### Pricipal Components Analysis (PCA)\n",
    "\n",
    "- Results from a PCA performed in `pcangsd` using genotype likelihoods estimated across all samples in `ANGSD`"
   ]
  },
  {
   "cell_type": "code",
   "execution_count": 8,
   "metadata": {},
   "outputs": [],
   "source": [
    "# Load covariance matrix\n",
    "covMat_path <- paste0(results_prefix, 'population_structure/pcangsd/allSamples_allChroms_4fold_maf0.05_pcangsd.cov')\n",
    "covMat <- suppressMessages(\n",
    "        read_delim(covMat_path, col_names = FALSE, delim = ' ')\n",
    ")"
   ]
  },
  {
   "cell_type": "code",
   "execution_count": 9,
   "metadata": {},
   "outputs": [],
   "source": [
    "# Perform eigen decomposition of covariance matrix\n",
    "# Extract eigenvectors and bind with sample sheet for plotting and coloring by habitat\n",
    "eigenvectors <- eigen(covMat)\n",
    "eigen_df <- eigenvectors$vectors %>%\n",
    "        as.data.frame() %>%\n",
    "        dplyr::select(V1, V2, V3, V4) %>%\n",
    "        rename('PC1' = 'V1',\n",
    "               'PC2' = 'V2',\n",
    "               'PC3' = 'V3',\n",
    "               'PC4' = 'V4') %>%\n",
    "    bind_cols(., samples)"
   ]
  },
  {
   "cell_type": "code",
   "execution_count": 10,
   "metadata": {},
   "outputs": [
    {
     "data": {
      "text/html": [
       "<table class=\"dataframe\">\n",
       "<caption>A data.frame: 3 × 5</caption>\n",
       "<thead>\n",
       "\t<tr><th scope=col>var</th><th scope=col>Comp.1</th><th scope=col>Comp.2</th><th scope=col>Comp.3</th><th scope=col>Comp.4</th></tr>\n",
       "\t<tr><th scope=col>&lt;chr&gt;</th><th scope=col>&lt;dbl&gt;</th><th scope=col>&lt;dbl&gt;</th><th scope=col>&lt;dbl&gt;</th><th scope=col>&lt;dbl&gt;</th></tr>\n",
       "</thead>\n",
       "<tbody>\n",
       "\t<tr><td>Standard deviation    </td><td>0.17305297</td><td>0.13123385</td><td>0.12829328</td><td>0.11584970</td></tr>\n",
       "\t<tr><td>Proportion of Variance</td><td>0.03453693</td><td>0.01986174</td><td>0.01898162</td><td>0.01547802</td></tr>\n",
       "\t<tr><td>Cumulative Proportion </td><td>0.03453693</td><td>0.05439866</td><td>0.07338029</td><td>0.08885831</td></tr>\n",
       "</tbody>\n",
       "</table>\n"
      ],
      "text/latex": [
       "A data.frame: 3 × 5\n",
       "\\begin{tabular}{lllll}\n",
       " var & Comp.1 & Comp.2 & Comp.3 & Comp.4\\\\\n",
       " <chr> & <dbl> & <dbl> & <dbl> & <dbl>\\\\\n",
       "\\hline\n",
       "\t Standard deviation     & 0.17305297 & 0.13123385 & 0.12829328 & 0.11584970\\\\\n",
       "\t Proportion of Variance & 0.03453693 & 0.01986174 & 0.01898162 & 0.01547802\\\\\n",
       "\t Cumulative Proportion  & 0.03453693 & 0.05439866 & 0.07338029 & 0.08885831\\\\\n",
       "\\end{tabular}\n"
      ],
      "text/markdown": [
       "\n",
       "A data.frame: 3 × 5\n",
       "\n",
       "| var &lt;chr&gt; | Comp.1 &lt;dbl&gt; | Comp.2 &lt;dbl&gt; | Comp.3 &lt;dbl&gt; | Comp.4 &lt;dbl&gt; |\n",
       "|---|---|---|---|---|\n",
       "| Standard deviation     | 0.17305297 | 0.13123385 | 0.12829328 | 0.11584970 |\n",
       "| Proportion of Variance | 0.03453693 | 0.01986174 | 0.01898162 | 0.01547802 |\n",
       "| Cumulative Proportion  | 0.03453693 | 0.05439866 | 0.07338029 | 0.08885831 |\n",
       "\n"
      ],
      "text/plain": [
       "  var                    Comp.1     Comp.2     Comp.3     Comp.4    \n",
       "1 Standard deviation     0.17305297 0.13123385 0.12829328 0.11584970\n",
       "2 Proportion of Variance 0.03453693 0.01986174 0.01898162 0.01547802\n",
       "3 Cumulative Proportion  0.03453693 0.05439866 0.07338029 0.08885831"
      ]
     },
     "metadata": {},
     "output_type": "display_data"
    }
   ],
   "source": [
    "# Percent Variance explained by first 4 PCs\n",
    "pca_importance(summary(princomp(covMat))) %>% \n",
    "    as.data.frame() %>% \n",
    "    rownames_to_column('var') %>% \n",
    "    dplyr::select(var, Comp.1:Comp.4)"
   ]
  },
  {
   "cell_type": "code",
   "execution_count": 12,
   "metadata": {},
   "outputs": [
    {
     "data": {
      "image/png": "[encoded data removed]",
      "text/plain": [
       "plot without title"
      ]
     },
     "metadata": {
      "image/png": {
       "height": 420,
       "width": 420
      }
     },
     "output_type": "display_data"
    }
   ],
   "source": [
    "cols_hab <- wes_palette(\"FantasticFox1\", n = 3, type = 'discrete')\n",
    "pca_plot <- eigen_df %>%\n",
    "    ggplot(., aes(x = PC1, y = PC2, color = Habitat, shape = Habitat)) +\n",
    "        geom_point(size = 4.5) +\n",
    "        scale_color_manual(values = cols_hab) +\n",
    "        theme_classic() +\n",
    "        xlab('PC1 (3.4%)') + ylab('PC2 (2.0%)') +\n",
    "#         scale_x_continuous(breaks = seq(-0.10, 0.10, 0.10)) +\n",
    "        theme(axis.text = element_text(size = 16),\n",
    "              axis.title = element_text(size = 20),\n",
    "              legend.position = 'top')\n",
    "pca_plot"
   ]
  },
  {
   "cell_type": "code",
   "execution_count": 13,
   "metadata": {},
   "outputs": [],
   "source": [
    "figures_path <- '/scratch/projects/trifolium/gwsd/figures/'\n",
    "dir.create(figures_path, showWarnings = FALSE)\n",
    "ggsave(filename = paste0(figures_path, 'pca.pdf'), plot = pca_plot, device = 'pdf', \n",
    "       width = 8, height = 8, units = 'in', dpi = 600, )"
   ]
  },
  {
   "cell_type": "code",
   "execution_count": 14,
   "metadata": {},
   "outputs": [
    {
     "data": {
      "text/html": [
       "<table class=\"dataframe\">\n",
       "<caption>A data.frame: 11 × 11</caption>\n",
       "<thead>\n",
       "\t<tr><th scope=col>PC1</th><th scope=col>PC2</th><th scope=col>PC3</th><th scope=col>PC4</th><th scope=col>Sample</th><th scope=col>Habitat</th><th scope=col>Population</th><th scope=col>Plant</th><th scope=col>HCN_Result</th><th scope=col>Locus.Li</th><th scope=col>Locus.Ac</th></tr>\n",
       "\t<tr><th scope=col>&lt;dbl&gt;</th><th scope=col>&lt;dbl&gt;</th><th scope=col>&lt;dbl&gt;</th><th scope=col>&lt;dbl&gt;</th><th scope=col>&lt;chr&gt;</th><th scope=col>&lt;chr&gt;</th><th scope=col>&lt;dbl&gt;</th><th scope=col>&lt;dbl&gt;</th><th scope=col>&lt;dbl&gt;</th><th scope=col>&lt;dbl&gt;</th><th scope=col>&lt;dbl&gt;</th></tr>\n",
       "</thead>\n",
       "<tbody>\n",
       "\t<tr><td>-0.2052079</td><td>-0.2590398</td><td>-0.34449763</td><td>-0.044257195</td><td>s_40_6 </td><td>Urban</td><td>40</td><td> 6</td><td>0</td><td>NA</td><td> 0</td></tr>\n",
       "\t<tr><td>-0.1092062</td><td>-0.1560143</td><td>-0.23554044</td><td>-0.113726377</td><td>s_40_7 </td><td>Urban</td><td>40</td><td> 7</td><td>0</td><td>NA</td><td> 0</td></tr>\n",
       "\t<tr><td>-0.1532197</td><td>-0.1578148</td><td>-0.24652380</td><td>-0.132821508</td><td>s_40_10</td><td>Urban</td><td>40</td><td>10</td><td>0</td><td>NA</td><td> 0</td></tr>\n",
       "\t<tr><td>-0.2171102</td><td>-0.2598931</td><td>-0.25536254</td><td> 0.047818681</td><td>s_40_17</td><td>Urban</td><td>40</td><td>17</td><td>0</td><td>NA</td><td> 1</td></tr>\n",
       "\t<tr><td>-0.1566943</td><td>-0.1713343</td><td>-0.19321991</td><td>-0.079199482</td><td>s_40_19</td><td>Urban</td><td>40</td><td>19</td><td>0</td><td>NA</td><td> 0</td></tr>\n",
       "\t<tr><td> 0.1847984</td><td>-0.1266080</td><td> 0.01447376</td><td>-0.122007494</td><td>s_7_4  </td><td>Rural</td><td> 7</td><td> 4</td><td>1</td><td> 1</td><td>NA</td></tr>\n",
       "\t<tr><td> 0.2950361</td><td>-0.2685175</td><td> 0.05752705</td><td> 0.043332572</td><td>s_7_6  </td><td>Rural</td><td> 7</td><td> 6</td><td>1</td><td> 1</td><td>NA</td></tr>\n",
       "\t<tr><td> 0.2605849</td><td>-0.2733267</td><td> 0.07037410</td><td>-0.031164991</td><td>s_7_7  </td><td>Rural</td><td> 7</td><td> 7</td><td>1</td><td> 1</td><td>NA</td></tr>\n",
       "\t<tr><td> 0.3321644</td><td>-0.2792067</td><td> 0.06331880</td><td> 0.001404353</td><td>s_7_13 </td><td>Rural</td><td> 7</td><td>13</td><td>1</td><td> 1</td><td>NA</td></tr>\n",
       "\t<tr><td> 0.3201811</td><td>-0.3350326</td><td> 0.09910141</td><td>-0.123479702</td><td>s_7_16 </td><td>Rural</td><td> 7</td><td>16</td><td>1</td><td> 1</td><td>NA</td></tr>\n",
       "\t<tr><td> 0.2578515</td><td>-0.2575805</td><td> 0.09056425</td><td> 0.042012218</td><td>s_7_19 </td><td>Rural</td><td> 7</td><td>19</td><td>0</td><td> 1</td><td>NA</td></tr>\n",
       "</tbody>\n",
       "</table>\n"
      ],
      "text/latex": [
       "A data.frame: 11 × 11\n",
       "\\begin{tabular}{lllllllllll}\n",
       " PC1 & PC2 & PC3 & PC4 & Sample & Habitat & Population & Plant & HCN\\_Result & Locus.Li & Locus.Ac\\\\\n",
       " <dbl> & <dbl> & <dbl> & <dbl> & <chr> & <chr> & <dbl> & <dbl> & <dbl> & <dbl> & <dbl>\\\\\n",
       "\\hline\n",
       "\t -0.2052079 & -0.2590398 & -0.34449763 & -0.044257195 & s\\_40\\_6  & Urban & 40 &  6 & 0 & NA &  0\\\\\n",
       "\t -0.1092062 & -0.1560143 & -0.23554044 & -0.113726377 & s\\_40\\_7  & Urban & 40 &  7 & 0 & NA &  0\\\\\n",
       "\t -0.1532197 & -0.1578148 & -0.24652380 & -0.132821508 & s\\_40\\_10 & Urban & 40 & 10 & 0 & NA &  0\\\\\n",
       "\t -0.2171102 & -0.2598931 & -0.25536254 &  0.047818681 & s\\_40\\_17 & Urban & 40 & 17 & 0 & NA &  1\\\\\n",
       "\t -0.1566943 & -0.1713343 & -0.19321991 & -0.079199482 & s\\_40\\_19 & Urban & 40 & 19 & 0 & NA &  0\\\\\n",
       "\t  0.1847984 & -0.1266080 &  0.01447376 & -0.122007494 & s\\_7\\_4   & Rural &  7 &  4 & 1 &  1 & NA\\\\\n",
       "\t  0.2950361 & -0.2685175 &  0.05752705 &  0.043332572 & s\\_7\\_6   & Rural &  7 &  6 & 1 &  1 & NA\\\\\n",
       "\t  0.2605849 & -0.2733267 &  0.07037410 & -0.031164991 & s\\_7\\_7   & Rural &  7 &  7 & 1 &  1 & NA\\\\\n",
       "\t  0.3321644 & -0.2792067 &  0.06331880 &  0.001404353 & s\\_7\\_13  & Rural &  7 & 13 & 1 &  1 & NA\\\\\n",
       "\t  0.3201811 & -0.3350326 &  0.09910141 & -0.123479702 & s\\_7\\_16  & Rural &  7 & 16 & 1 &  1 & NA\\\\\n",
       "\t  0.2578515 & -0.2575805 &  0.09056425 &  0.042012218 & s\\_7\\_19  & Rural &  7 & 19 & 0 &  1 & NA\\\\\n",
       "\\end{tabular}\n"
      ],
      "text/markdown": [
       "\n",
       "A data.frame: 11 × 11\n",
       "\n",
       "| PC1 &lt;dbl&gt; | PC2 &lt;dbl&gt; | PC3 &lt;dbl&gt; | PC4 &lt;dbl&gt; | Sample &lt;chr&gt; | Habitat &lt;chr&gt; | Population &lt;dbl&gt; | Plant &lt;dbl&gt; | HCN_Result &lt;dbl&gt; | Locus.Li &lt;dbl&gt; | Locus.Ac &lt;dbl&gt; |\n",
       "|---|---|---|---|---|---|---|---|---|---|---|\n",
       "| -0.2052079 | -0.2590398 | -0.34449763 | -0.044257195 | s_40_6  | Urban | 40 |  6 | 0 | NA |  0 |\n",
       "| -0.1092062 | -0.1560143 | -0.23554044 | -0.113726377 | s_40_7  | Urban | 40 |  7 | 0 | NA |  0 |\n",
       "| -0.1532197 | -0.1578148 | -0.24652380 | -0.132821508 | s_40_10 | Urban | 40 | 10 | 0 | NA |  0 |\n",
       "| -0.2171102 | -0.2598931 | -0.25536254 |  0.047818681 | s_40_17 | Urban | 40 | 17 | 0 | NA |  1 |\n",
       "| -0.1566943 | -0.1713343 | -0.19321991 | -0.079199482 | s_40_19 | Urban | 40 | 19 | 0 | NA |  0 |\n",
       "|  0.1847984 | -0.1266080 |  0.01447376 | -0.122007494 | s_7_4   | Rural |  7 |  4 | 1 |  1 | NA |\n",
       "|  0.2950361 | -0.2685175 |  0.05752705 |  0.043332572 | s_7_6   | Rural |  7 |  6 | 1 |  1 | NA |\n",
       "|  0.2605849 | -0.2733267 |  0.07037410 | -0.031164991 | s_7_7   | Rural |  7 |  7 | 1 |  1 | NA |\n",
       "|  0.3321644 | -0.2792067 |  0.06331880 |  0.001404353 | s_7_13  | Rural |  7 | 13 | 1 |  1 | NA |\n",
       "|  0.3201811 | -0.3350326 |  0.09910141 | -0.123479702 | s_7_16  | Rural |  7 | 16 | 1 |  1 | NA |\n",
       "|  0.2578515 | -0.2575805 |  0.09056425 |  0.042012218 | s_7_19  | Rural |  7 | 19 | 0 |  1 | NA |\n",
       "\n"
      ],
      "text/plain": [
       "   PC1        PC2        PC3         PC4          Sample  Habitat Population\n",
       "1  -0.2052079 -0.2590398 -0.34449763 -0.044257195 s_40_6  Urban   40        \n",
       "2  -0.1092062 -0.1560143 -0.23554044 -0.113726377 s_40_7  Urban   40        \n",
       "3  -0.1532197 -0.1578148 -0.24652380 -0.132821508 s_40_10 Urban   40        \n",
       "4  -0.2171102 -0.2598931 -0.25536254  0.047818681 s_40_17 Urban   40        \n",
       "5  -0.1566943 -0.1713343 -0.19321991 -0.079199482 s_40_19 Urban   40        \n",
       "6   0.1847984 -0.1266080  0.01447376 -0.122007494 s_7_4   Rural    7        \n",
       "7   0.2950361 -0.2685175  0.05752705  0.043332572 s_7_6   Rural    7        \n",
       "8   0.2605849 -0.2733267  0.07037410 -0.031164991 s_7_7   Rural    7        \n",
       "9   0.3321644 -0.2792067  0.06331880  0.001404353 s_7_13  Rural    7        \n",
       "10  0.3201811 -0.3350326  0.09910141 -0.123479702 s_7_16  Rural    7        \n",
       "11  0.2578515 -0.2575805  0.09056425  0.042012218 s_7_19  Rural    7        \n",
       "   Plant HCN_Result Locus.Li Locus.Ac\n",
       "1   6    0          NA        0      \n",
       "2   7    0          NA        0      \n",
       "3  10    0          NA        0      \n",
       "4  17    0          NA        1      \n",
       "5  19    0          NA        0      \n",
       "6   4    1           1       NA      \n",
       "7   6    1           1       NA      \n",
       "8   7    1           1       NA      \n",
       "9  13    1           1       NA      \n",
       "10 16    1           1       NA      \n",
       "11 19    0           1       NA      "
      ]
     },
     "metadata": {},
     "output_type": "display_data"
    }
   ],
   "source": [
    "# What are those outlier cluster?\n",
    "eigen_df %>% filter((PC1 > 0.1 & PC2 < -0.1) | (PC1 < 0 & PC2 < -0.15))"
   ]
  },
  {
   "cell_type": "markdown",
   "metadata": {},
   "source": [
    "### Uniform Manifold Approximation Projection (UMAP)\n",
    "\n",
    "- UMAP for same set of samples\n",
    "- Uses number of UMAP components equal to the number of significant PCs from the PCA aboe, assessed using the broken stick model\n",
    "- Takes as input a distance matrix derived from the covariance matrix of sample allele frequencies"
   ]
  },
  {
   "cell_type": "code",
   "execution_count": 15,
   "metadata": {},
   "outputs": [
    {
     "data": {
      "image/png": "[encoded data removed]",
      "text/plain": [
       "Plot with title “princomp(covMat)”"
      ]
     },
     "metadata": {
      "image/png": {
       "height": 420,
       "width": 420
      }
     },
     "output_type": "display_data"
    }
   ],
   "source": [
    "screeplot(princomp(covMat), bstick = TRUE, npcs = 41)"
   ]
  },
  {
   "cell_type": "code",
   "execution_count": 19,
   "metadata": {},
   "outputs": [],
   "source": [
    "distMat <- as.matrix(dist(covMat))\n",
    "gwsd_umap <- umap(distMat, random_state = 42, input=\"dist\", n_neighbors = 15, min_dist = 0.1, n_components = 41)\n",
    "gwsd_umap_layout <- gwsd_umap$layout %>% \n",
    "    as_tibble() %>% \n",
    "    bind_cols(., samples)"
   ]
  },
  {
   "cell_type": "code",
   "execution_count": 20,
   "metadata": {},
   "outputs": [
    {
     "data": {
      "image/png": "[encoded data removed]",
      "text/plain": [
       "plot without title"
      ]
     },
     "metadata": {
      "image/png": {
       "height": 420,
       "width": 420
      }
     },
     "output_type": "display_data"
    }
   ],
   "source": [
    "umap_plot <- gwsd_umap_layout %>%\n",
    "    ggplot(., aes(x = V1, y = V2, color = Habitat, shape = Habitat)) +\n",
    "        geom_point(size = 4.5, alpha = 1) +\n",
    "        scale_color_manual(values = cols_hab) +\n",
    "        theme_classic() +\n",
    "        xlab('UMAP1') + ylab('UMAP2') +\n",
    "        theme(axis.text = element_text(size = 16),\n",
    "              axis.title = element_text(size = 20),\n",
    "              legend.position = 'top')\n",
    "umap_plot"
   ]
  },
  {
   "cell_type": "code",
   "execution_count": 21,
   "metadata": {},
   "outputs": [],
   "source": [
    "ggsave(filename = paste0(figures_path, 'umap.pdf'), plot = umap_plot, device = 'pdf', \n",
    "       width = 8, height = 8, units = 'in', dpi = 600, )"
   ]
  },
  {
   "cell_type": "code",
   "execution_count": 22,
   "metadata": {
    "scrolled": true
   },
   "outputs": [
    {
     "data": {
      "text/html": [
       "<table class=\"dataframe\">\n",
       "<caption>A tibble: 25 × 48</caption>\n",
       "<thead>\n",
       "\t<tr><th scope=col>V1</th><th scope=col>V2</th><th scope=col>V3</th><th scope=col>V4</th><th scope=col>V5</th><th scope=col>V6</th><th scope=col>V7</th><th scope=col>V8</th><th scope=col>V9</th><th scope=col>V10</th><th scope=col>⋯</th><th scope=col>V39</th><th scope=col>V40</th><th scope=col>V41</th><th scope=col>Sample</th><th scope=col>Habitat</th><th scope=col>Population</th><th scope=col>Plant</th><th scope=col>HCN_Result</th><th scope=col>Locus.Li</th><th scope=col>Locus.Ac</th></tr>\n",
       "\t<tr><th scope=col>&lt;dbl&gt;</th><th scope=col>&lt;dbl&gt;</th><th scope=col>&lt;dbl&gt;</th><th scope=col>&lt;dbl&gt;</th><th scope=col>&lt;dbl&gt;</th><th scope=col>&lt;dbl&gt;</th><th scope=col>&lt;dbl&gt;</th><th scope=col>&lt;dbl&gt;</th><th scope=col>&lt;dbl&gt;</th><th scope=col>&lt;dbl&gt;</th><th scope=col>⋯</th><th scope=col>&lt;dbl&gt;</th><th scope=col>&lt;dbl&gt;</th><th scope=col>&lt;dbl&gt;</th><th scope=col>&lt;chr&gt;</th><th scope=col>&lt;chr&gt;</th><th scope=col>&lt;dbl&gt;</th><th scope=col>&lt;dbl&gt;</th><th scope=col>&lt;dbl&gt;</th><th scope=col>&lt;dbl&gt;</th><th scope=col>&lt;dbl&gt;</th></tr>\n",
       "</thead>\n",
       "<tbody>\n",
       "\t<tr><td>-0.36995028</td><td> 0.8778698</td><td> 0.388424976</td><td> 0.4758312</td><td>-0.42674515</td><td> 0.042552659</td><td> 0.3025904</td><td> 0.37585284</td><td>-0.320960977</td><td> 0.4886174</td><td>⋯</td><td> 0.09907610</td><td> 0.06678804</td><td>-0.4158778</td><td>s_40_1 </td><td>Urban   </td><td> 40</td><td> 1</td><td>0</td><td>NA</td><td> 0</td></tr>\n",
       "\t<tr><td>-0.34527632</td><td> 0.9463306</td><td> 0.439506947</td><td> 0.4854384</td><td>-0.41791039</td><td> 0.020900872</td><td> 0.3010252</td><td> 0.37609510</td><td>-0.352148356</td><td> 0.5020397</td><td>⋯</td><td> 0.16267938</td><td> 0.05883471</td><td>-0.4242081</td><td>s_40_3 </td><td>Urban   </td><td> 40</td><td> 3</td><td>0</td><td>NA</td><td> 0</td></tr>\n",
       "\t<tr><td>-0.41765972</td><td> 0.9584279</td><td> 0.460523927</td><td> 0.5494947</td><td>-0.48963179</td><td> 0.064178650</td><td> 0.2893502</td><td> 0.44881966</td><td>-0.346473919</td><td> 0.5379431</td><td>⋯</td><td> 0.12685560</td><td> 0.05863937</td><td>-0.4237857</td><td>s_40_6 </td><td>Urban   </td><td> 40</td><td> 6</td><td>0</td><td>NA</td><td> 0</td></tr>\n",
       "\t<tr><td>-0.42322078</td><td> 0.9460614</td><td> 0.455167376</td><td> 0.5105153</td><td>-0.46751104</td><td> 0.080110402</td><td> 0.2695977</td><td> 0.44111822</td><td>-0.343692551</td><td> 0.5234844</td><td>⋯</td><td> 0.08621285</td><td> 0.02822978</td><td>-0.4207884</td><td>s_40_7 </td><td>Urban   </td><td> 40</td><td> 7</td><td>0</td><td>NA</td><td> 0</td></tr>\n",
       "\t<tr><td>-0.31720893</td><td> 0.6832965</td><td> 0.312878491</td><td> 0.4592497</td><td>-0.41659962</td><td> 0.041580800</td><td> 0.2711708</td><td> 0.32541409</td><td>-0.251748526</td><td> 0.4210524</td><td>⋯</td><td> 0.09944935</td><td> 0.08165884</td><td>-0.3410715</td><td>s_40_8 </td><td>Urban   </td><td> 40</td><td> 8</td><td>0</td><td>NA</td><td> 1</td></tr>\n",
       "\t<tr><td>-0.39059119</td><td> 0.8975378</td><td> 0.406791898</td><td> 0.5973381</td><td>-0.56090340</td><td> 0.059678976</td><td> 0.2898495</td><td> 0.44696887</td><td>-0.310798091</td><td> 0.5290871</td><td>⋯</td><td> 0.12168624</td><td> 0.05688391</td><td>-0.3846664</td><td>s_40_10</td><td>Urban   </td><td> 40</td><td>10</td><td>0</td><td>NA</td><td> 0</td></tr>\n",
       "\t<tr><td>-0.32361123</td><td> 0.8310704</td><td> 0.362120605</td><td> 0.5522875</td><td>-0.51029817</td><td> 0.009738259</td><td> 0.3223230</td><td> 0.36788250</td><td>-0.292607777</td><td> 0.4856096</td><td>⋯</td><td> 0.16137787</td><td> 0.10398772</td><td>-0.3625997</td><td>s_40_12</td><td>Urban   </td><td> 40</td><td>12</td><td>1</td><td>NA</td><td> 1</td></tr>\n",
       "\t<tr><td>-0.38066162</td><td> 0.8145269</td><td> 0.367670746</td><td> 0.5453113</td><td>-0.52402596</td><td> 0.083887799</td><td> 0.2540236</td><td> 0.42000218</td><td>-0.283425937</td><td> 0.4830465</td><td>⋯</td><td> 0.06741267</td><td> 0.03900092</td><td>-0.3463953</td><td>s_40_17</td><td>Urban   </td><td> 40</td><td>17</td><td>0</td><td>NA</td><td> 1</td></tr>\n",
       "\t<tr><td>-0.46607293</td><td> 0.9485223</td><td> 0.428498007</td><td> 0.6071137</td><td>-0.58084880</td><td> 0.055987707</td><td> 0.3555821</td><td> 0.48177609</td><td>-0.334069580</td><td> 0.5861357</td><td>⋯</td><td> 0.09214271</td><td> 0.09146536</td><td>-0.4645377</td><td>s_40_19</td><td>Urban   </td><td> 40</td><td>19</td><td>0</td><td>NA</td><td> 0</td></tr>\n",
       "\t<tr><td>-0.18237473</td><td> 0.6567335</td><td> 0.196708168</td><td> 0.4174502</td><td>-0.17093613</td><td>-0.022199113</td><td> 0.3396509</td><td> 0.18843793</td><td>-0.269015057</td><td> 0.3556323</td><td>⋯</td><td> 0.24219358</td><td> 0.22780955</td><td>-0.4289261</td><td>s_97_3 </td><td>Rural   </td><td> 97</td><td> 3</td><td>0</td><td> 0</td><td>NA</td></tr>\n",
       "\t<tr><td>-0.22823635</td><td> 0.6157259</td><td> 0.236391164</td><td> 0.4678795</td><td>-0.20489522</td><td>-0.025773058</td><td> 0.3155998</td><td> 0.17784615</td><td>-0.212251671</td><td> 0.3392907</td><td>⋯</td><td> 0.26550996</td><td> 0.20916015</td><td>-0.4057677</td><td>s_97_6 </td><td>Rural   </td><td> 97</td><td> 6</td><td>1</td><td> 1</td><td>NA</td></tr>\n",
       "\t<tr><td>-0.17334444</td><td> 0.6668445</td><td> 0.186845136</td><td> 0.4991447</td><td>-0.12284377</td><td>-0.063541750</td><td> 0.3218176</td><td> 0.15489473</td><td>-0.218605383</td><td> 0.3401704</td><td>⋯</td><td> 0.36435741</td><td> 0.25433092</td><td>-0.4651858</td><td>s_97_7 </td><td>Rural   </td><td> 97</td><td> 7</td><td>1</td><td> 1</td><td>NA</td></tr>\n",
       "\t<tr><td>-0.12836690</td><td> 0.6449739</td><td> 0.172656544</td><td> 0.4111508</td><td>-0.03096383</td><td>-0.067341066</td><td> 0.3445657</td><td> 0.11954483</td><td>-0.276170927</td><td> 0.3294439</td><td>⋯</td><td> 0.36741440</td><td> 0.30447000</td><td>-0.4682844</td><td>s_97_13</td><td>Rural   </td><td> 97</td><td>13</td><td>1</td><td> 1</td><td>NA</td></tr>\n",
       "\t<tr><td> 0.01114049</td><td> 0.7866580</td><td> 0.005376891</td><td> 0.4257302</td><td> 0.06795391</td><td>-0.089701049</td><td> 0.2803206</td><td> 0.16484555</td><td>-0.309952929</td><td> 0.3432713</td><td>⋯</td><td> 0.34559597</td><td> 0.26705115</td><td>-0.5296111</td><td>s_97_14</td><td>Rural   </td><td> 97</td><td>14</td><td>1</td><td> 1</td><td>NA</td></tr>\n",
       "\t<tr><td>-0.03066407</td><td> 0.6608290</td><td> 0.079798879</td><td> 0.4347101</td><td> 0.08400536</td><td>-0.066186146</td><td> 0.2714852</td><td> 0.10138932</td><td>-0.230846175</td><td> 0.2577756</td><td>⋯</td><td> 0.45705203</td><td> 0.29509183</td><td>-0.4479573</td><td>s_98_1 </td><td>Rural   </td><td> 98</td><td> 1</td><td>0</td><td>NA</td><td> 0</td></tr>\n",
       "\t<tr><td>-0.13191549</td><td> 0.6908814</td><td> 0.168036275</td><td> 0.5356348</td><td>-0.04429367</td><td>-0.070142901</td><td> 0.3338322</td><td> 0.12353249</td><td>-0.230615781</td><td> 0.3247952</td><td>⋯</td><td> 0.47320601</td><td> 0.32754813</td><td>-0.5029899</td><td>s_99_5 </td><td>Rural   </td><td> 99</td><td> 5</td><td>1</td><td> 1</td><td>NA</td></tr>\n",
       "\t<tr><td> 0.41184483</td><td>-0.4246592</td><td>-0.198855617</td><td>-0.5553420</td><td> 0.63952289</td><td>-0.089091124</td><td>-0.3920051</td><td>-0.02045469</td><td> 0.048767815</td><td>-0.1588475</td><td>⋯</td><td>-0.44884647</td><td>-0.18047943</td><td> 0.3799106</td><td>s_7_6  </td><td>Rural   </td><td>  7</td><td> 6</td><td>1</td><td> 1</td><td>NA</td></tr>\n",
       "\t<tr><td> 0.43545293</td><td>-0.4318750</td><td>-0.226762742</td><td>-0.6071480</td><td> 0.69129073</td><td>-0.122082813</td><td>-0.4135601</td><td>-0.03218384</td><td> 0.031691867</td><td>-0.1609847</td><td>⋯</td><td>-0.48787230</td><td>-0.18018652</td><td> 0.4205014</td><td>s_7_13 </td><td>Rural   </td><td>  7</td><td>13</td><td>1</td><td> 1</td><td>NA</td></tr>\n",
       "\t<tr><td> 0.45768335</td><td>-0.4006504</td><td>-0.272617243</td><td>-0.6411109</td><td> 0.75847379</td><td>-0.188652787</td><td>-0.4291861</td><td>-0.07557922</td><td>-0.006729637</td><td>-0.1701961</td><td>⋯</td><td>-0.50822465</td><td>-0.15449251</td><td> 0.4876972</td><td>s_7_16 </td><td>Rural   </td><td>  7</td><td>16</td><td>1</td><td> 1</td><td>NA</td></tr>\n",
       "\t<tr><td> 0.39255506</td><td>-0.5006204</td><td>-0.209399211</td><td>-0.6569735</td><td> 0.65794124</td><td>-0.128400316</td><td>-0.3751240</td><td>-0.05253987</td><td> 0.048333033</td><td>-0.1358353</td><td>⋯</td><td>-0.50310529</td><td>-0.19579290</td><td> 0.4386361</td><td>s_7_19 </td><td>Rural   </td><td>  7</td><td>19</td><td>0</td><td> 1</td><td>NA</td></tr>\n",
       "\t<tr><td>-0.20141177</td><td> 0.6166814</td><td> 0.259932716</td><td> 0.4086810</td><td>-0.08146738</td><td> 0.009312845</td><td> 0.3460799</td><td> 0.13115013</td><td>-0.265638368</td><td> 0.3068447</td><td>⋯</td><td> 0.33171418</td><td> 0.29898139</td><td>-0.4247426</td><td>s_21_18</td><td>Suburban</td><td> 21</td><td>18</td><td>0</td><td> 0</td><td>NA</td></tr>\n",
       "\t<tr><td>-0.07839991</td><td> 0.5360759</td><td> 0.110070432</td><td> 0.2472400</td><td>-0.03419062</td><td>-0.046558259</td><td> 0.2211007</td><td> 0.06997829</td><td>-0.206383926</td><td> 0.2160755</td><td>⋯</td><td> 0.20174618</td><td> 0.18934473</td><td>-0.2856832</td><td>s_79_17</td><td>Rural   </td><td> 79</td><td>17</td><td>0</td><td> 1</td><td>NA</td></tr>\n",
       "\t<tr><td>-0.02841120</td><td> 0.6935884</td><td> 0.097139618</td><td> 0.3926638</td><td> 0.05438103</td><td>-0.032872162</td><td> 0.2573434</td><td> 0.12309252</td><td>-0.262034395</td><td> 0.2700702</td><td>⋯</td><td> 0.36965035</td><td> 0.27620734</td><td>-0.4253423</td><td>s_96_5 </td><td>Rural   </td><td> 96</td><td> 5</td><td>0</td><td>NA</td><td> 1</td></tr>\n",
       "\t<tr><td>-0.02410511</td><td> 0.5115946</td><td> 0.030600849</td><td> 0.4719611</td><td>-0.08663392</td><td>-0.030627370</td><td> 0.1268129</td><td> 0.11823607</td><td>-0.116135290</td><td> 0.1929463</td><td>⋯</td><td> 0.30791745</td><td> 0.15859163</td><td>-0.3067482</td><td>s_115_6</td><td>Suburban</td><td>115</td><td> 6</td><td>1</td><td> 1</td><td> 1</td></tr>\n",
       "\t<tr><td> 0.06827807</td><td> 0.5939379</td><td>-0.009187831</td><td> 0.3557283</td><td> 0.17361750</td><td>-0.059763903</td><td> 0.1372547</td><td> 0.06516621</td><td>-0.154373355</td><td> 0.1788889</td><td>⋯</td><td> 0.44748618</td><td> 0.22028390</td><td>-0.3513390</td><td>s_116_1</td><td>Suburban</td><td>116</td><td> 1</td><td>0</td><td>NA</td><td> 0</td></tr>\n",
       "</tbody>\n",
       "</table>\n"
      ],
      "text/latex": [
       "A tibble: 25 × 48\n",
       "\\begin{tabular}{lllllllllllllllllllll}\n",
       " V1 & V2 & V3 & V4 & V5 & V6 & V7 & V8 & V9 & V10 & ⋯ & V39 & V40 & V41 & Sample & Habitat & Population & Plant & HCN\\_Result & Locus.Li & Locus.Ac\\\\\n",
       " <dbl> & <dbl> & <dbl> & <dbl> & <dbl> & <dbl> & <dbl> & <dbl> & <dbl> & <dbl> & ⋯ & <dbl> & <dbl> & <dbl> & <chr> & <chr> & <dbl> & <dbl> & <dbl> & <dbl> & <dbl>\\\\\n",
       "\\hline\n",
       "\t -0.36995028 &  0.8778698 &  0.388424976 &  0.4758312 & -0.42674515 &  0.042552659 &  0.3025904 &  0.37585284 & -0.320960977 &  0.4886174 & ⋯ &  0.09907610 &  0.06678804 & -0.4158778 & s\\_40\\_1  & Urban    &  40 &  1 & 0 & NA &  0\\\\\n",
       "\t -0.34527632 &  0.9463306 &  0.439506947 &  0.4854384 & -0.41791039 &  0.020900872 &  0.3010252 &  0.37609510 & -0.352148356 &  0.5020397 & ⋯ &  0.16267938 &  0.05883471 & -0.4242081 & s\\_40\\_3  & Urban    &  40 &  3 & 0 & NA &  0\\\\\n",
       "\t -0.41765972 &  0.9584279 &  0.460523927 &  0.5494947 & -0.48963179 &  0.064178650 &  0.2893502 &  0.44881966 & -0.346473919 &  0.5379431 & ⋯ &  0.12685560 &  0.05863937 & -0.4237857 & s\\_40\\_6  & Urban    &  40 &  6 & 0 & NA &  0\\\\\n",
       "\t -0.42322078 &  0.9460614 &  0.455167376 &  0.5105153 & -0.46751104 &  0.080110402 &  0.2695977 &  0.44111822 & -0.343692551 &  0.5234844 & ⋯ &  0.08621285 &  0.02822978 & -0.4207884 & s\\_40\\_7  & Urban    &  40 &  7 & 0 & NA &  0\\\\\n",
       "\t -0.31720893 &  0.6832965 &  0.312878491 &  0.4592497 & -0.41659962 &  0.041580800 &  0.2711708 &  0.32541409 & -0.251748526 &  0.4210524 & ⋯ &  0.09944935 &  0.08165884 & -0.3410715 & s\\_40\\_8  & Urban    &  40 &  8 & 0 & NA &  1\\\\\n",
       "\t -0.39059119 &  0.8975378 &  0.406791898 &  0.5973381 & -0.56090340 &  0.059678976 &  0.2898495 &  0.44696887 & -0.310798091 &  0.5290871 & ⋯ &  0.12168624 &  0.05688391 & -0.3846664 & s\\_40\\_10 & Urban    &  40 & 10 & 0 & NA &  0\\\\\n",
       "\t -0.32361123 &  0.8310704 &  0.362120605 &  0.5522875 & -0.51029817 &  0.009738259 &  0.3223230 &  0.36788250 & -0.292607777 &  0.4856096 & ⋯ &  0.16137787 &  0.10398772 & -0.3625997 & s\\_40\\_12 & Urban    &  40 & 12 & 1 & NA &  1\\\\\n",
       "\t -0.38066162 &  0.8145269 &  0.367670746 &  0.5453113 & -0.52402596 &  0.083887799 &  0.2540236 &  0.42000218 & -0.283425937 &  0.4830465 & ⋯ &  0.06741267 &  0.03900092 & -0.3463953 & s\\_40\\_17 & Urban    &  40 & 17 & 0 & NA &  1\\\\\n",
       "\t -0.46607293 &  0.9485223 &  0.428498007 &  0.6071137 & -0.58084880 &  0.055987707 &  0.3555821 &  0.48177609 & -0.334069580 &  0.5861357 & ⋯ &  0.09214271 &  0.09146536 & -0.4645377 & s\\_40\\_19 & Urban    &  40 & 19 & 0 & NA &  0\\\\\n",
       "\t -0.18237473 &  0.6567335 &  0.196708168 &  0.4174502 & -0.17093613 & -0.022199113 &  0.3396509 &  0.18843793 & -0.269015057 &  0.3556323 & ⋯ &  0.24219358 &  0.22780955 & -0.4289261 & s\\_97\\_3  & Rural    &  97 &  3 & 0 &  0 & NA\\\\\n",
       "\t -0.22823635 &  0.6157259 &  0.236391164 &  0.4678795 & -0.20489522 & -0.025773058 &  0.3155998 &  0.17784615 & -0.212251671 &  0.3392907 & ⋯ &  0.26550996 &  0.20916015 & -0.4057677 & s\\_97\\_6  & Rural    &  97 &  6 & 1 &  1 & NA\\\\\n",
       "\t -0.17334444 &  0.6668445 &  0.186845136 &  0.4991447 & -0.12284377 & -0.063541750 &  0.3218176 &  0.15489473 & -0.218605383 &  0.3401704 & ⋯ &  0.36435741 &  0.25433092 & -0.4651858 & s\\_97\\_7  & Rural    &  97 &  7 & 1 &  1 & NA\\\\\n",
       "\t -0.12836690 &  0.6449739 &  0.172656544 &  0.4111508 & -0.03096383 & -0.067341066 &  0.3445657 &  0.11954483 & -0.276170927 &  0.3294439 & ⋯ &  0.36741440 &  0.30447000 & -0.4682844 & s\\_97\\_13 & Rural    &  97 & 13 & 1 &  1 & NA\\\\\n",
       "\t  0.01114049 &  0.7866580 &  0.005376891 &  0.4257302 &  0.06795391 & -0.089701049 &  0.2803206 &  0.16484555 & -0.309952929 &  0.3432713 & ⋯ &  0.34559597 &  0.26705115 & -0.5296111 & s\\_97\\_14 & Rural    &  97 & 14 & 1 &  1 & NA\\\\\n",
       "\t -0.03066407 &  0.6608290 &  0.079798879 &  0.4347101 &  0.08400536 & -0.066186146 &  0.2714852 &  0.10138932 & -0.230846175 &  0.2577756 & ⋯ &  0.45705203 &  0.29509183 & -0.4479573 & s\\_98\\_1  & Rural    &  98 &  1 & 0 & NA &  0\\\\\n",
       "\t -0.13191549 &  0.6908814 &  0.168036275 &  0.5356348 & -0.04429367 & -0.070142901 &  0.3338322 &  0.12353249 & -0.230615781 &  0.3247952 & ⋯ &  0.47320601 &  0.32754813 & -0.5029899 & s\\_99\\_5  & Rural    &  99 &  5 & 1 &  1 & NA\\\\\n",
       "\t  0.41184483 & -0.4246592 & -0.198855617 & -0.5553420 &  0.63952289 & -0.089091124 & -0.3920051 & -0.02045469 &  0.048767815 & -0.1588475 & ⋯ & -0.44884647 & -0.18047943 &  0.3799106 & s\\_7\\_6   & Rural    &   7 &  6 & 1 &  1 & NA\\\\\n",
       "\t  0.43545293 & -0.4318750 & -0.226762742 & -0.6071480 &  0.69129073 & -0.122082813 & -0.4135601 & -0.03218384 &  0.031691867 & -0.1609847 & ⋯ & -0.48787230 & -0.18018652 &  0.4205014 & s\\_7\\_13  & Rural    &   7 & 13 & 1 &  1 & NA\\\\\n",
       "\t  0.45768335 & -0.4006504 & -0.272617243 & -0.6411109 &  0.75847379 & -0.188652787 & -0.4291861 & -0.07557922 & -0.006729637 & -0.1701961 & ⋯ & -0.50822465 & -0.15449251 &  0.4876972 & s\\_7\\_16  & Rural    &   7 & 16 & 1 &  1 & NA\\\\\n",
       "\t  0.39255506 & -0.5006204 & -0.209399211 & -0.6569735 &  0.65794124 & -0.128400316 & -0.3751240 & -0.05253987 &  0.048333033 & -0.1358353 & ⋯ & -0.50310529 & -0.19579290 &  0.4386361 & s\\_7\\_19  & Rural    &   7 & 19 & 0 &  1 & NA\\\\\n",
       "\t -0.20141177 &  0.6166814 &  0.259932716 &  0.4086810 & -0.08146738 &  0.009312845 &  0.3460799 &  0.13115013 & -0.265638368 &  0.3068447 & ⋯ &  0.33171418 &  0.29898139 & -0.4247426 & s\\_21\\_18 & Suburban &  21 & 18 & 0 &  0 & NA\\\\\n",
       "\t -0.07839991 &  0.5360759 &  0.110070432 &  0.2472400 & -0.03419062 & -0.046558259 &  0.2211007 &  0.06997829 & -0.206383926 &  0.2160755 & ⋯ &  0.20174618 &  0.18934473 & -0.2856832 & s\\_79\\_17 & Rural    &  79 & 17 & 0 &  1 & NA\\\\\n",
       "\t -0.02841120 &  0.6935884 &  0.097139618 &  0.3926638 &  0.05438103 & -0.032872162 &  0.2573434 &  0.12309252 & -0.262034395 &  0.2700702 & ⋯ &  0.36965035 &  0.27620734 & -0.4253423 & s\\_96\\_5  & Rural    &  96 &  5 & 0 & NA &  1\\\\\n",
       "\t -0.02410511 &  0.5115946 &  0.030600849 &  0.4719611 & -0.08663392 & -0.030627370 &  0.1268129 &  0.11823607 & -0.116135290 &  0.1929463 & ⋯ &  0.30791745 &  0.15859163 & -0.3067482 & s\\_115\\_6 & Suburban & 115 &  6 & 1 &  1 &  1\\\\\n",
       "\t  0.06827807 &  0.5939379 & -0.009187831 &  0.3557283 &  0.17361750 & -0.059763903 &  0.1372547 &  0.06516621 & -0.154373355 &  0.1788889 & ⋯ &  0.44748618 &  0.22028390 & -0.3513390 & s\\_116\\_1 & Suburban & 116 &  1 & 0 & NA &  0\\\\\n",
       "\\end{tabular}\n"
      ],
      "text/markdown": [
       "\n",
       "A tibble: 25 × 48\n",
       "\n",
       "| V1 &lt;dbl&gt; | V2 &lt;dbl&gt; | V3 &lt;dbl&gt; | V4 &lt;dbl&gt; | V5 &lt;dbl&gt; | V6 &lt;dbl&gt; | V7 &lt;dbl&gt; | V8 &lt;dbl&gt; | V9 &lt;dbl&gt; | V10 &lt;dbl&gt; | ⋯ ⋯ | V39 &lt;dbl&gt; | V40 &lt;dbl&gt; | V41 &lt;dbl&gt; | Sample &lt;chr&gt; | Habitat &lt;chr&gt; | Population &lt;dbl&gt; | Plant &lt;dbl&gt; | HCN_Result &lt;dbl&gt; | Locus.Li &lt;dbl&gt; | Locus.Ac &lt;dbl&gt; |\n",
       "|---|---|---|---|---|---|---|---|---|---|---|---|---|---|---|---|---|---|---|---|---|\n",
       "| -0.36995028 |  0.8778698 |  0.388424976 |  0.4758312 | -0.42674515 |  0.042552659 |  0.3025904 |  0.37585284 | -0.320960977 |  0.4886174 | ⋯ |  0.09907610 |  0.06678804 | -0.4158778 | s_40_1  | Urban    |  40 |  1 | 0 | NA |  0 |\n",
       "| -0.34527632 |  0.9463306 |  0.439506947 |  0.4854384 | -0.41791039 |  0.020900872 |  0.3010252 |  0.37609510 | -0.352148356 |  0.5020397 | ⋯ |  0.16267938 |  0.05883471 | -0.4242081 | s_40_3  | Urban    |  40 |  3 | 0 | NA |  0 |\n",
       "| -0.41765972 |  0.9584279 |  0.460523927 |  0.5494947 | -0.48963179 |  0.064178650 |  0.2893502 |  0.44881966 | -0.346473919 |  0.5379431 | ⋯ |  0.12685560 |  0.05863937 | -0.4237857 | s_40_6  | Urban    |  40 |  6 | 0 | NA |  0 |\n",
       "| -0.42322078 |  0.9460614 |  0.455167376 |  0.5105153 | -0.46751104 |  0.080110402 |  0.2695977 |  0.44111822 | -0.343692551 |  0.5234844 | ⋯ |  0.08621285 |  0.02822978 | -0.4207884 | s_40_7  | Urban    |  40 |  7 | 0 | NA |  0 |\n",
       "| -0.31720893 |  0.6832965 |  0.312878491 |  0.4592497 | -0.41659962 |  0.041580800 |  0.2711708 |  0.32541409 | -0.251748526 |  0.4210524 | ⋯ |  0.09944935 |  0.08165884 | -0.3410715 | s_40_8  | Urban    |  40 |  8 | 0 | NA |  1 |\n",
       "| -0.39059119 |  0.8975378 |  0.406791898 |  0.5973381 | -0.56090340 |  0.059678976 |  0.2898495 |  0.44696887 | -0.310798091 |  0.5290871 | ⋯ |  0.12168624 |  0.05688391 | -0.3846664 | s_40_10 | Urban    |  40 | 10 | 0 | NA |  0 |\n",
       "| -0.32361123 |  0.8310704 |  0.362120605 |  0.5522875 | -0.51029817 |  0.009738259 |  0.3223230 |  0.36788250 | -0.292607777 |  0.4856096 | ⋯ |  0.16137787 |  0.10398772 | -0.3625997 | s_40_12 | Urban    |  40 | 12 | 1 | NA |  1 |\n",
       "| -0.38066162 |  0.8145269 |  0.367670746 |  0.5453113 | -0.52402596 |  0.083887799 |  0.2540236 |  0.42000218 | -0.283425937 |  0.4830465 | ⋯ |  0.06741267 |  0.03900092 | -0.3463953 | s_40_17 | Urban    |  40 | 17 | 0 | NA |  1 |\n",
       "| -0.46607293 |  0.9485223 |  0.428498007 |  0.6071137 | -0.58084880 |  0.055987707 |  0.3555821 |  0.48177609 | -0.334069580 |  0.5861357 | ⋯ |  0.09214271 |  0.09146536 | -0.4645377 | s_40_19 | Urban    |  40 | 19 | 0 | NA |  0 |\n",
       "| -0.18237473 |  0.6567335 |  0.196708168 |  0.4174502 | -0.17093613 | -0.022199113 |  0.3396509 |  0.18843793 | -0.269015057 |  0.3556323 | ⋯ |  0.24219358 |  0.22780955 | -0.4289261 | s_97_3  | Rural    |  97 |  3 | 0 |  0 | NA |\n",
       "| -0.22823635 |  0.6157259 |  0.236391164 |  0.4678795 | -0.20489522 | -0.025773058 |  0.3155998 |  0.17784615 | -0.212251671 |  0.3392907 | ⋯ |  0.26550996 |  0.20916015 | -0.4057677 | s_97_6  | Rural    |  97 |  6 | 1 |  1 | NA |\n",
       "| -0.17334444 |  0.6668445 |  0.186845136 |  0.4991447 | -0.12284377 | -0.063541750 |  0.3218176 |  0.15489473 | -0.218605383 |  0.3401704 | ⋯ |  0.36435741 |  0.25433092 | -0.4651858 | s_97_7  | Rural    |  97 |  7 | 1 |  1 | NA |\n",
       "| -0.12836690 |  0.6449739 |  0.172656544 |  0.4111508 | -0.03096383 | -0.067341066 |  0.3445657 |  0.11954483 | -0.276170927 |  0.3294439 | ⋯ |  0.36741440 |  0.30447000 | -0.4682844 | s_97_13 | Rural    |  97 | 13 | 1 |  1 | NA |\n",
       "|  0.01114049 |  0.7866580 |  0.005376891 |  0.4257302 |  0.06795391 | -0.089701049 |  0.2803206 |  0.16484555 | -0.309952929 |  0.3432713 | ⋯ |  0.34559597 |  0.26705115 | -0.5296111 | s_97_14 | Rural    |  97 | 14 | 1 |  1 | NA |\n",
       "| -0.03066407 |  0.6608290 |  0.079798879 |  0.4347101 |  0.08400536 | -0.066186146 |  0.2714852 |  0.10138932 | -0.230846175 |  0.2577756 | ⋯ |  0.45705203 |  0.29509183 | -0.4479573 | s_98_1  | Rural    |  98 |  1 | 0 | NA |  0 |\n",
       "| -0.13191549 |  0.6908814 |  0.168036275 |  0.5356348 | -0.04429367 | -0.070142901 |  0.3338322 |  0.12353249 | -0.230615781 |  0.3247952 | ⋯ |  0.47320601 |  0.32754813 | -0.5029899 | s_99_5  | Rural    |  99 |  5 | 1 |  1 | NA |\n",
       "|  0.41184483 | -0.4246592 | -0.198855617 | -0.5553420 |  0.63952289 | -0.089091124 | -0.3920051 | -0.02045469 |  0.048767815 | -0.1588475 | ⋯ | -0.44884647 | -0.18047943 |  0.3799106 | s_7_6   | Rural    |   7 |  6 | 1 |  1 | NA |\n",
       "|  0.43545293 | -0.4318750 | -0.226762742 | -0.6071480 |  0.69129073 | -0.122082813 | -0.4135601 | -0.03218384 |  0.031691867 | -0.1609847 | ⋯ | -0.48787230 | -0.18018652 |  0.4205014 | s_7_13  | Rural    |   7 | 13 | 1 |  1 | NA |\n",
       "|  0.45768335 | -0.4006504 | -0.272617243 | -0.6411109 |  0.75847379 | -0.188652787 | -0.4291861 | -0.07557922 | -0.006729637 | -0.1701961 | ⋯ | -0.50822465 | -0.15449251 |  0.4876972 | s_7_16  | Rural    |   7 | 16 | 1 |  1 | NA |\n",
       "|  0.39255506 | -0.5006204 | -0.209399211 | -0.6569735 |  0.65794124 | -0.128400316 | -0.3751240 | -0.05253987 |  0.048333033 | -0.1358353 | ⋯ | -0.50310529 | -0.19579290 |  0.4386361 | s_7_19  | Rural    |   7 | 19 | 0 |  1 | NA |\n",
       "| -0.20141177 |  0.6166814 |  0.259932716 |  0.4086810 | -0.08146738 |  0.009312845 |  0.3460799 |  0.13115013 | -0.265638368 |  0.3068447 | ⋯ |  0.33171418 |  0.29898139 | -0.4247426 | s_21_18 | Suburban |  21 | 18 | 0 |  0 | NA |\n",
       "| -0.07839991 |  0.5360759 |  0.110070432 |  0.2472400 | -0.03419062 | -0.046558259 |  0.2211007 |  0.06997829 | -0.206383926 |  0.2160755 | ⋯ |  0.20174618 |  0.18934473 | -0.2856832 | s_79_17 | Rural    |  79 | 17 | 0 |  1 | NA |\n",
       "| -0.02841120 |  0.6935884 |  0.097139618 |  0.3926638 |  0.05438103 | -0.032872162 |  0.2573434 |  0.12309252 | -0.262034395 |  0.2700702 | ⋯ |  0.36965035 |  0.27620734 | -0.4253423 | s_96_5  | Rural    |  96 |  5 | 0 | NA |  1 |\n",
       "| -0.02410511 |  0.5115946 |  0.030600849 |  0.4719611 | -0.08663392 | -0.030627370 |  0.1268129 |  0.11823607 | -0.116135290 |  0.1929463 | ⋯ |  0.30791745 |  0.15859163 | -0.3067482 | s_115_6 | Suburban | 115 |  6 | 1 |  1 |  1 |\n",
       "|  0.06827807 |  0.5939379 | -0.009187831 |  0.3557283 |  0.17361750 | -0.059763903 |  0.1372547 |  0.06516621 | -0.154373355 |  0.1788889 | ⋯ |  0.44748618 |  0.22028390 | -0.3513390 | s_116_1 | Suburban | 116 |  1 | 0 | NA |  0 |\n",
       "\n"
      ],
      "text/plain": [
       "   V1          V2         V3           V4         V5          V6          \n",
       "1  -0.36995028  0.8778698  0.388424976  0.4758312 -0.42674515  0.042552659\n",
       "2  -0.34527632  0.9463306  0.439506947  0.4854384 -0.41791039  0.020900872\n",
       "3  -0.41765972  0.9584279  0.460523927  0.5494947 -0.48963179  0.064178650\n",
       "4  -0.42322078  0.9460614  0.455167376  0.5105153 -0.46751104  0.080110402\n",
       "5  -0.31720893  0.6832965  0.312878491  0.4592497 -0.41659962  0.041580800\n",
       "6  -0.39059119  0.8975378  0.406791898  0.5973381 -0.56090340  0.059678976\n",
       "7  -0.32361123  0.8310704  0.362120605  0.5522875 -0.51029817  0.009738259\n",
       "8  -0.38066162  0.8145269  0.367670746  0.5453113 -0.52402596  0.083887799\n",
       "9  -0.46607293  0.9485223  0.428498007  0.6071137 -0.58084880  0.055987707\n",
       "10 -0.18237473  0.6567335  0.196708168  0.4174502 -0.17093613 -0.022199113\n",
       "11 -0.22823635  0.6157259  0.236391164  0.4678795 -0.20489522 -0.025773058\n",
       "12 -0.17334444  0.6668445  0.186845136  0.4991447 -0.12284377 -0.063541750\n",
       "13 -0.12836690  0.6449739  0.172656544  0.4111508 -0.03096383 -0.067341066\n",
       "14  0.01114049  0.7866580  0.005376891  0.4257302  0.06795391 -0.089701049\n",
       "15 -0.03066407  0.6608290  0.079798879  0.4347101  0.08400536 -0.066186146\n",
       "16 -0.13191549  0.6908814  0.168036275  0.5356348 -0.04429367 -0.070142901\n",
       "17  0.41184483 -0.4246592 -0.198855617 -0.5553420  0.63952289 -0.089091124\n",
       "18  0.43545293 -0.4318750 -0.226762742 -0.6071480  0.69129073 -0.122082813\n",
       "19  0.45768335 -0.4006504 -0.272617243 -0.6411109  0.75847379 -0.188652787\n",
       "20  0.39255506 -0.5006204 -0.209399211 -0.6569735  0.65794124 -0.128400316\n",
       "21 -0.20141177  0.6166814  0.259932716  0.4086810 -0.08146738  0.009312845\n",
       "22 -0.07839991  0.5360759  0.110070432  0.2472400 -0.03419062 -0.046558259\n",
       "23 -0.02841120  0.6935884  0.097139618  0.3926638  0.05438103 -0.032872162\n",
       "24 -0.02410511  0.5115946  0.030600849  0.4719611 -0.08663392 -0.030627370\n",
       "25  0.06827807  0.5939379 -0.009187831  0.3557283  0.17361750 -0.059763903\n",
       "   V7         V8          V9           V10        ⋯ V39         V40        \n",
       "1   0.3025904  0.37585284 -0.320960977  0.4886174 ⋯  0.09907610  0.06678804\n",
       "2   0.3010252  0.37609510 -0.352148356  0.5020397 ⋯  0.16267938  0.05883471\n",
       "3   0.2893502  0.44881966 -0.346473919  0.5379431 ⋯  0.12685560  0.05863937\n",
       "4   0.2695977  0.44111822 -0.343692551  0.5234844 ⋯  0.08621285  0.02822978\n",
       "5   0.2711708  0.32541409 -0.251748526  0.4210524 ⋯  0.09944935  0.08165884\n",
       "6   0.2898495  0.44696887 -0.310798091  0.5290871 ⋯  0.12168624  0.05688391\n",
       "7   0.3223230  0.36788250 -0.292607777  0.4856096 ⋯  0.16137787  0.10398772\n",
       "8   0.2540236  0.42000218 -0.283425937  0.4830465 ⋯  0.06741267  0.03900092\n",
       "9   0.3555821  0.48177609 -0.334069580  0.5861357 ⋯  0.09214271  0.09146536\n",
       "10  0.3396509  0.18843793 -0.269015057  0.3556323 ⋯  0.24219358  0.22780955\n",
       "11  0.3155998  0.17784615 -0.212251671  0.3392907 ⋯  0.26550996  0.20916015\n",
       "12  0.3218176  0.15489473 -0.218605383  0.3401704 ⋯  0.36435741  0.25433092\n",
       "13  0.3445657  0.11954483 -0.276170927  0.3294439 ⋯  0.36741440  0.30447000\n",
       "14  0.2803206  0.16484555 -0.309952929  0.3432713 ⋯  0.34559597  0.26705115\n",
       "15  0.2714852  0.10138932 -0.230846175  0.2577756 ⋯  0.45705203  0.29509183\n",
       "16  0.3338322  0.12353249 -0.230615781  0.3247952 ⋯  0.47320601  0.32754813\n",
       "17 -0.3920051 -0.02045469  0.048767815 -0.1588475 ⋯ -0.44884647 -0.18047943\n",
       "18 -0.4135601 -0.03218384  0.031691867 -0.1609847 ⋯ -0.48787230 -0.18018652\n",
       "19 -0.4291861 -0.07557922 -0.006729637 -0.1701961 ⋯ -0.50822465 -0.15449251\n",
       "20 -0.3751240 -0.05253987  0.048333033 -0.1358353 ⋯ -0.50310529 -0.19579290\n",
       "21  0.3460799  0.13115013 -0.265638368  0.3068447 ⋯  0.33171418  0.29898139\n",
       "22  0.2211007  0.06997829 -0.206383926  0.2160755 ⋯  0.20174618  0.18934473\n",
       "23  0.2573434  0.12309252 -0.262034395  0.2700702 ⋯  0.36965035  0.27620734\n",
       "24  0.1268129  0.11823607 -0.116135290  0.1929463 ⋯  0.30791745  0.15859163\n",
       "25  0.1372547  0.06516621 -0.154373355  0.1788889 ⋯  0.44748618  0.22028390\n",
       "   V41        Sample  Habitat  Population Plant HCN_Result Locus.Li Locus.Ac\n",
       "1  -0.4158778 s_40_1  Urban     40         1    0          NA        0      \n",
       "2  -0.4242081 s_40_3  Urban     40         3    0          NA        0      \n",
       "3  -0.4237857 s_40_6  Urban     40         6    0          NA        0      \n",
       "4  -0.4207884 s_40_7  Urban     40         7    0          NA        0      \n",
       "5  -0.3410715 s_40_8  Urban     40         8    0          NA        1      \n",
       "6  -0.3846664 s_40_10 Urban     40        10    0          NA        0      \n",
       "7  -0.3625997 s_40_12 Urban     40        12    1          NA        1      \n",
       "8  -0.3463953 s_40_17 Urban     40        17    0          NA        1      \n",
       "9  -0.4645377 s_40_19 Urban     40        19    0          NA        0      \n",
       "10 -0.4289261 s_97_3  Rural     97         3    0           0       NA      \n",
       "11 -0.4057677 s_97_6  Rural     97         6    1           1       NA      \n",
       "12 -0.4651858 s_97_7  Rural     97         7    1           1       NA      \n",
       "13 -0.4682844 s_97_13 Rural     97        13    1           1       NA      \n",
       "14 -0.5296111 s_97_14 Rural     97        14    1           1       NA      \n",
       "15 -0.4479573 s_98_1  Rural     98         1    0          NA        0      \n",
       "16 -0.5029899 s_99_5  Rural     99         5    1           1       NA      \n",
       "17  0.3799106 s_7_6   Rural      7         6    1           1       NA      \n",
       "18  0.4205014 s_7_13  Rural      7        13    1           1       NA      \n",
       "19  0.4876972 s_7_16  Rural      7        16    1           1       NA      \n",
       "20  0.4386361 s_7_19  Rural      7        19    0           1       NA      \n",
       "21 -0.4247426 s_21_18 Suburban  21        18    0           0       NA      \n",
       "22 -0.2856832 s_79_17 Rural     79        17    0           1       NA      \n",
       "23 -0.4253423 s_96_5  Rural     96         5    0          NA        1      \n",
       "24 -0.3067482 s_115_6 Suburban 115         6    1           1        1      \n",
       "25 -0.3513390 s_116_1 Suburban 116         1    0          NA        0      "
      ]
     },
     "metadata": {},
     "output_type": "display_data"
    }
   ],
   "source": [
    "# What are those outlier cluster?\n",
    "gwsd_umap_layout %>% filter((V1 > 0.3 & V2 < -0.4) | ( V1 < 0.25 & V2 > 0.5))"
   ]
  },
  {
   "cell_type": "markdown",
   "metadata": {},
   "source": [
    "### Admixture\n",
    "\n",
    "- I estimated admixture proportions using `NGSadmix` with genotype likelihoods across all samples estimated in `ANGSD`\n",
    "    - I ran all K values from 2 to 10 10 times, each with a different random seed\n",
    "    - Uses same 4fold SNPs as above\n",
    "- I used Evanno's delta-K method implemented in `CLUMPAK` to estimate the upper-most level of structure (i.e., \"optimal\" K)"
   ]
  },
  {
   "cell_type": "code",
   "execution_count": 23,
   "metadata": {},
   "outputs": [
    {
     "data": {
      "text/html": [
       "'Thu May 25 03:15:40 2023: Optimal K by Evanno is: 5'"
      ],
      "text/latex": [
       "'Thu May 25 03:15:40 2023: Optimal K by Evanno is: 5'"
      ],
      "text/markdown": [
       "'Thu May 25 03:15:40 2023: Optimal K by Evanno is: 5'"
      ],
      "text/plain": [
       "[1] \"Thu May 25 03:15:40 2023: Optimal K by Evanno is: 5\""
      ]
     },
     "metadata": {},
     "output_type": "display_data"
    }
   ],
   "source": [
    "# Best K by Evanno is 4. Load logs for K = 4\n",
    "clumpak_log_path <- paste0(results_prefix, 'population_structure/bestKbyEvanno/output.log')\n",
    "clumpak_log <- readLines(clumpak_log_path)\n",
    "optimal_K <- clumpak_log[grep('Optimal K', clumpak_log)]\n",
    "optimal_K"
   ]
  },
  {
   "cell_type": "code",
   "execution_count": 24,
   "metadata": {},
   "outputs": [
    {
     "data": {
      "image/png": "[encoded data removed]"
     },
     "metadata": {},
     "output_type": "display_data"
    }
   ],
   "source": [
    "# Peak in Delta K looks good\n",
    "library(\"IRdisplay\")\n",
    "display_png(file=\"/scratch/projects/trifolium/gwsd/results/population_structure/bestKbyEvanno/Best_K_By_Evanno-DeltaKByKGraph.png\") "
   ]
  },
  {
   "cell_type": "markdown",
   "metadata": {},
   "source": [
    "#### K = 5 (Best K)"
   ]
  },
  {
   "cell_type": "code",
   "execution_count": 25,
   "metadata": {},
   "outputs": [],
   "source": [
    "ngsadmix_inpath <- paste0(results_prefix, 'population_structure/ngsadmix/K5/')\n",
    "like_df <- list.files(ngsadmix_inpath, pattern = '*.log', full.names = TRUE) %>%\n",
    "    map_dfr(., load_ngsadmix_log)"
   ]
  },
  {
   "cell_type": "code",
   "execution_count": 26,
   "metadata": {},
   "outputs": [
    {
     "data": {
      "text/html": [
       "<table class=\"dataframe\">\n",
       "<caption>A data.frame: 10 × 2</caption>\n",
       "<thead>\n",
       "\t<tr><th scope=col>seed</th><th scope=col>like</th></tr>\n",
       "\t<tr><th scope=col>&lt;dbl&gt;</th><th scope=col>&lt;dbl&gt;</th></tr>\n",
       "</thead>\n",
       "<tbody>\n",
       "\t<tr><td> 1</td><td>-14253537</td></tr>\n",
       "\t<tr><td>10</td><td>-14251574</td></tr>\n",
       "\t<tr><td> 2</td><td>-14252772</td></tr>\n",
       "\t<tr><td> 3</td><td>-14252517</td></tr>\n",
       "\t<tr><td> 4</td><td>-14252776</td></tr>\n",
       "\t<tr><td> 5</td><td>-14250572</td></tr>\n",
       "\t<tr><td> 6</td><td>-14251420</td></tr>\n",
       "\t<tr><td> 7</td><td>-14251152</td></tr>\n",
       "\t<tr><td> 8</td><td>-14251800</td></tr>\n",
       "\t<tr><td> 9</td><td>-14251896</td></tr>\n",
       "</tbody>\n",
       "</table>\n"
      ],
      "text/latex": [
       "A data.frame: 10 × 2\n",
       "\\begin{tabular}{ll}\n",
       " seed & like\\\\\n",
       " <dbl> & <dbl>\\\\\n",
       "\\hline\n",
       "\t  1 & -14253537\\\\\n",
       "\t 10 & -14251574\\\\\n",
       "\t  2 & -14252772\\\\\n",
       "\t  3 & -14252517\\\\\n",
       "\t  4 & -14252776\\\\\n",
       "\t  5 & -14250572\\\\\n",
       "\t  6 & -14251420\\\\\n",
       "\t  7 & -14251152\\\\\n",
       "\t  8 & -14251800\\\\\n",
       "\t  9 & -14251896\\\\\n",
       "\\end{tabular}\n"
      ],
      "text/markdown": [
       "\n",
       "A data.frame: 10 × 2\n",
       "\n",
       "| seed &lt;dbl&gt; | like &lt;dbl&gt; |\n",
       "|---|---|\n",
       "|  1 | -14253537 |\n",
       "| 10 | -14251574 |\n",
       "|  2 | -14252772 |\n",
       "|  3 | -14252517 |\n",
       "|  4 | -14252776 |\n",
       "|  5 | -14250572 |\n",
       "|  6 | -14251420 |\n",
       "|  7 | -14251152 |\n",
       "|  8 | -14251800 |\n",
       "|  9 | -14251896 |\n",
       "\n"
      ],
      "text/plain": [
       "   seed like     \n",
       "1   1   -14253537\n",
       "2  10   -14251574\n",
       "3   2   -14252772\n",
       "4   3   -14252517\n",
       "5   4   -14252776\n",
       "6   5   -14250572\n",
       "7   6   -14251420\n",
       "8   7   -14251152\n",
       "9   8   -14251800\n",
       "10  9   -14251896"
      ]
     },
     "metadata": {},
     "output_type": "display_data"
    }
   ],
   "source": [
    "like_df"
   ]
  },
  {
   "cell_type": "code",
   "execution_count": 27,
   "metadata": {
    "scrolled": true
   },
   "outputs": [
    {
     "data": {
      "text/html": [
       "<table class=\"dataframe\">\n",
       "<caption>A data.frame: 1 × 2</caption>\n",
       "<thead>\n",
       "\t<tr><th scope=col>seed</th><th scope=col>like</th></tr>\n",
       "\t<tr><th scope=col>&lt;dbl&gt;</th><th scope=col>&lt;dbl&gt;</th></tr>\n",
       "</thead>\n",
       "<tbody>\n",
       "\t<tr><td>1</td><td>-14253537</td></tr>\n",
       "</tbody>\n",
       "</table>\n"
      ],
      "text/latex": [
       "A data.frame: 1 × 2\n",
       "\\begin{tabular}{ll}\n",
       " seed & like\\\\\n",
       " <dbl> & <dbl>\\\\\n",
       "\\hline\n",
       "\t 1 & -14253537\\\\\n",
       "\\end{tabular}\n"
      ],
      "text/markdown": [
       "\n",
       "A data.frame: 1 × 2\n",
       "\n",
       "| seed &lt;dbl&gt; | like &lt;dbl&gt; |\n",
       "|---|---|\n",
       "| 1 | -14253537 |\n",
       "\n"
      ],
      "text/plain": [
       "  seed like     \n",
       "1 1    -14253537"
      ]
     },
     "metadata": {},
     "output_type": "display_data"
    }
   ],
   "source": [
    "# Get lowest likelihood for plotting\n",
    "like_df %>%\n",
    "    filter(like == min(like))"
   ]
  },
  {
   "cell_type": "code",
   "execution_count": 28,
   "metadata": {
    "scrolled": true
   },
   "outputs": [
    {
     "data": {
      "text/html": [
       "<table class=\"dataframe\">\n",
       "<caption>A tibble: 6 × 9</caption>\n",
       "<thead>\n",
       "\t<tr><th scope=col>Sample</th><th scope=col>Habitat</th><th scope=col>Population</th><th scope=col>Plant</th><th scope=col>HCN_Result</th><th scope=col>Locus.Li</th><th scope=col>Locus.Ac</th><th scope=col>name</th><th scope=col>Probs</th></tr>\n",
       "\t<tr><th scope=col>&lt;chr&gt;</th><th scope=col>&lt;chr&gt;</th><th scope=col>&lt;dbl&gt;</th><th scope=col>&lt;dbl&gt;</th><th scope=col>&lt;dbl&gt;</th><th scope=col>&lt;dbl&gt;</th><th scope=col>&lt;dbl&gt;</th><th scope=col>&lt;chr&gt;</th><th scope=col>&lt;dbl&gt;</th></tr>\n",
       "</thead>\n",
       "<tbody>\n",
       "\t<tr><td>s_40_1</td><td>Urban</td><td>40</td><td>1</td><td>0</td><td>NA</td><td>0</td><td>X1</td><td>1</td></tr>\n",
       "\t<tr><td>s_40_1</td><td>Urban</td><td>40</td><td>1</td><td>0</td><td>NA</td><td>0</td><td>X2</td><td>0</td></tr>\n",
       "\t<tr><td>s_40_1</td><td>Urban</td><td>40</td><td>1</td><td>0</td><td>NA</td><td>0</td><td>X3</td><td>0</td></tr>\n",
       "\t<tr><td>s_40_1</td><td>Urban</td><td>40</td><td>1</td><td>0</td><td>NA</td><td>0</td><td>X4</td><td>0</td></tr>\n",
       "\t<tr><td>s_40_1</td><td>Urban</td><td>40</td><td>1</td><td>0</td><td>NA</td><td>0</td><td>X5</td><td>0</td></tr>\n",
       "\t<tr><td>s_40_3</td><td>Urban</td><td>40</td><td>3</td><td>0</td><td>NA</td><td>0</td><td>X1</td><td>1</td></tr>\n",
       "</tbody>\n",
       "</table>\n"
      ],
      "text/latex": [
       "A tibble: 6 × 9\n",
       "\\begin{tabular}{lllllllll}\n",
       " Sample & Habitat & Population & Plant & HCN\\_Result & Locus.Li & Locus.Ac & name & Probs\\\\\n",
       " <chr> & <chr> & <dbl> & <dbl> & <dbl> & <dbl> & <dbl> & <chr> & <dbl>\\\\\n",
       "\\hline\n",
       "\t s\\_40\\_1 & Urban & 40 & 1 & 0 & NA & 0 & X1 & 1\\\\\n",
       "\t s\\_40\\_1 & Urban & 40 & 1 & 0 & NA & 0 & X2 & 0\\\\\n",
       "\t s\\_40\\_1 & Urban & 40 & 1 & 0 & NA & 0 & X3 & 0\\\\\n",
       "\t s\\_40\\_1 & Urban & 40 & 1 & 0 & NA & 0 & X4 & 0\\\\\n",
       "\t s\\_40\\_1 & Urban & 40 & 1 & 0 & NA & 0 & X5 & 0\\\\\n",
       "\t s\\_40\\_3 & Urban & 40 & 3 & 0 & NA & 0 & X1 & 1\\\\\n",
       "\\end{tabular}\n"
      ],
      "text/markdown": [
       "\n",
       "A tibble: 6 × 9\n",
       "\n",
       "| Sample &lt;chr&gt; | Habitat &lt;chr&gt; | Population &lt;dbl&gt; | Plant &lt;dbl&gt; | HCN_Result &lt;dbl&gt; | Locus.Li &lt;dbl&gt; | Locus.Ac &lt;dbl&gt; | name &lt;chr&gt; | Probs &lt;dbl&gt; |\n",
       "|---|---|---|---|---|---|---|---|---|\n",
       "| s_40_1 | Urban | 40 | 1 | 0 | NA | 0 | X1 | 1 |\n",
       "| s_40_1 | Urban | 40 | 1 | 0 | NA | 0 | X2 | 0 |\n",
       "| s_40_1 | Urban | 40 | 1 | 0 | NA | 0 | X3 | 0 |\n",
       "| s_40_1 | Urban | 40 | 1 | 0 | NA | 0 | X4 | 0 |\n",
       "| s_40_1 | Urban | 40 | 1 | 0 | NA | 0 | X5 | 0 |\n",
       "| s_40_3 | Urban | 40 | 3 | 0 | NA | 0 | X1 | 1 |\n",
       "\n"
      ],
      "text/plain": [
       "  Sample Habitat Population Plant HCN_Result Locus.Li Locus.Ac name Probs\n",
       "1 s_40_1 Urban   40         1     0          NA       0        X1   1    \n",
       "2 s_40_1 Urban   40         1     0          NA       0        X2   0    \n",
       "3 s_40_1 Urban   40         1     0          NA       0        X3   0    \n",
       "4 s_40_1 Urban   40         1     0          NA       0        X4   0    \n",
       "5 s_40_1 Urban   40         1     0          NA       0        X5   0    \n",
       "6 s_40_3 Urban   40         3     0          NA       0        X1   1    "
      ]
     },
     "metadata": {},
     "output_type": "display_data"
    }
   ],
   "source": [
    "# Load admixture results for seed with lowest log likelihood\n",
    "admix_results <- paste0(results_prefix, 'population_structure/ngsadmix/K5/ngsadmix_4fold_maf0.05_K5_seed1.qopt')\n",
    "admix <- suppressMessages(read_delim(admix_results, col_names = FALSE, delim = \" \")) %>%\n",
    "    dplyr::select(-X6) %>%\n",
    "    bind_cols(., samples) %>% \n",
    "    pivot_longer(X1:X5, values_to = 'Probs') %>% \n",
    "    mutate(Probs = round(Probs, 5))\n",
    "head(admix)"
   ]
  },
  {
   "cell_type": "code",
   "execution_count": 30,
   "metadata": {},
   "outputs": [
    {
     "data": {
      "image/png": "[encoded data removed]",
      "text/plain": [
       "plot without title"
      ]
     },
     "metadata": {
      "image/png": {
       "height": 420,
       "width": 420
      }
     },
     "output_type": "display_data"
    }
   ],
   "source": [
    "cols_admix <- wes_palette(\"Darjeeling1\", n = 5, type = 'continuous')\n",
    "admix_plot_K5 <- \n",
    "  ggplot(admix, aes(factor(Sample), Probs, fill = factor(name), color = factor(name))) +\n",
    "  geom_col(width=1) +\n",
    "  facet_grid(~fct_relevel(Habitat,'Rural', 'Suburban', 'Urban'), switch = \"x\", scales = \"free\", space = \"free\") +\n",
    "  theme_minimal() + labs(x = \"\", title = \"K=5 (Best K)\", y = \"Ancestry\") +\n",
    "  scale_y_continuous(expand = c(0, 0)) +\n",
    "  scale_x_discrete(expand = expansion(add = 1)) +\n",
    "  scale_fill_manual(values = cols_admix) + \n",
    "  scale_color_manual(values = cols_admix) +\n",
    "  theme(\n",
    "    legend.position = 'none',\n",
    "    panel.spacing.x = unit(0.1, \"lines\"),\n",
    "    axis.text.x = element_blank(),\n",
    "    panel.grid = element_blank(),\n",
    "    axis.text = element_text(size=16),\n",
    "    axis.title = element_text(size=20),\n",
    "    strip.text.x = element_text(size = 16),\n",
    "    plot.title = element_text(size = 23, face = 'bold'),\n",
    "    axis.text.y = element_blank()\n",
    "  ) \n",
    "admix_plot_K5"
   ]
  },
  {
   "cell_type": "code",
   "execution_count": 32,
   "metadata": {},
   "outputs": [],
   "source": [
    "ggsave(filename = paste0(figures_path, 'admix_K5.pdf'), plot = admix_plot_K5, device = 'pdf', \n",
    "       width = 20, height = 3, units = 'in', dpi = 600)"
   ]
  },
  {
   "cell_type": "markdown",
   "metadata": {},
   "source": [
    "#### K = 4"
   ]
  },
  {
   "cell_type": "code",
   "execution_count": 33,
   "metadata": {},
   "outputs": [
    {
     "data": {
      "text/html": [
       "<table class=\"dataframe\">\n",
       "<caption>A data.frame: 1 × 2</caption>\n",
       "<thead>\n",
       "\t<tr><th scope=col>seed</th><th scope=col>like</th></tr>\n",
       "\t<tr><th scope=col>&lt;dbl&gt;</th><th scope=col>&lt;dbl&gt;</th></tr>\n",
       "</thead>\n",
       "<tbody>\n",
       "\t<tr><td>2</td><td>-14389790</td></tr>\n",
       "</tbody>\n",
       "</table>\n"
      ],
      "text/latex": [
       "A data.frame: 1 × 2\n",
       "\\begin{tabular}{ll}\n",
       " seed & like\\\\\n",
       " <dbl> & <dbl>\\\\\n",
       "\\hline\n",
       "\t 2 & -14389790\\\\\n",
       "\\end{tabular}\n"
      ],
      "text/markdown": [
       "\n",
       "A data.frame: 1 × 2\n",
       "\n",
       "| seed &lt;dbl&gt; | like &lt;dbl&gt; |\n",
       "|---|---|\n",
       "| 2 | -14389790 |\n",
       "\n"
      ],
      "text/plain": [
       "  seed like     \n",
       "1 2    -14389790"
      ]
     },
     "metadata": {},
     "output_type": "display_data"
    }
   ],
   "source": [
    "ngsadmix_inpath <- paste0(results_prefix, 'population_structure/ngsadmix/K4/')\n",
    "like_df <- list.files(ngsadmix_inpath, pattern = '*.log', full.names = TRUE) %>%\n",
    "    map_dfr(., load_ngsadmix_log)\n",
    "# Get lowest likelihood for plotting\n",
    "like_df %>%\n",
    "    filter(like == min(like))"
   ]
  },
  {
   "cell_type": "code",
   "execution_count": 42,
   "metadata": {},
   "outputs": [
    {
     "data": {
      "text/html": [
       "<table class=\"dataframe\">\n",
       "<caption>A tibble: 6 × 9</caption>\n",
       "<thead>\n",
       "\t<tr><th scope=col>Sample</th><th scope=col>Habitat</th><th scope=col>Population</th><th scope=col>Plant</th><th scope=col>HCN_Result</th><th scope=col>Locus.Li</th><th scope=col>Locus.Ac</th><th scope=col>name</th><th scope=col>Probs</th></tr>\n",
       "\t<tr><th scope=col>&lt;chr&gt;</th><th scope=col>&lt;chr&gt;</th><th scope=col>&lt;dbl&gt;</th><th scope=col>&lt;dbl&gt;</th><th scope=col>&lt;dbl&gt;</th><th scope=col>&lt;dbl&gt;</th><th scope=col>&lt;dbl&gt;</th><th scope=col>&lt;chr&gt;</th><th scope=col>&lt;dbl&gt;</th></tr>\n",
       "</thead>\n",
       "<tbody>\n",
       "\t<tr><td>s_40_1</td><td>Urban</td><td>40</td><td>1</td><td>0</td><td>NA</td><td>0</td><td>X1</td><td>0.37848</td></tr>\n",
       "\t<tr><td>s_40_1</td><td>Urban</td><td>40</td><td>1</td><td>0</td><td>NA</td><td>0</td><td>X2</td><td>0.59793</td></tr>\n",
       "\t<tr><td>s_40_1</td><td>Urban</td><td>40</td><td>1</td><td>0</td><td>NA</td><td>0</td><td>X3</td><td>0.00000</td></tr>\n",
       "\t<tr><td>s_40_1</td><td>Urban</td><td>40</td><td>1</td><td>0</td><td>NA</td><td>0</td><td>X4</td><td>0.02358</td></tr>\n",
       "\t<tr><td>s_40_3</td><td>Urban</td><td>40</td><td>3</td><td>0</td><td>NA</td><td>0</td><td>X1</td><td>0.00000</td></tr>\n",
       "\t<tr><td>s_40_3</td><td>Urban</td><td>40</td><td>3</td><td>0</td><td>NA</td><td>0</td><td>X2</td><td>0.67488</td></tr>\n",
       "</tbody>\n",
       "</table>\n"
      ],
      "text/latex": [
       "A tibble: 6 × 9\n",
       "\\begin{tabular}{lllllllll}\n",
       " Sample & Habitat & Population & Plant & HCN\\_Result & Locus.Li & Locus.Ac & name & Probs\\\\\n",
       " <chr> & <chr> & <dbl> & <dbl> & <dbl> & <dbl> & <dbl> & <chr> & <dbl>\\\\\n",
       "\\hline\n",
       "\t s\\_40\\_1 & Urban & 40 & 1 & 0 & NA & 0 & X1 & 0.37848\\\\\n",
       "\t s\\_40\\_1 & Urban & 40 & 1 & 0 & NA & 0 & X2 & 0.59793\\\\\n",
       "\t s\\_40\\_1 & Urban & 40 & 1 & 0 & NA & 0 & X3 & 0.00000\\\\\n",
       "\t s\\_40\\_1 & Urban & 40 & 1 & 0 & NA & 0 & X4 & 0.02358\\\\\n",
       "\t s\\_40\\_3 & Urban & 40 & 3 & 0 & NA & 0 & X1 & 0.00000\\\\\n",
       "\t s\\_40\\_3 & Urban & 40 & 3 & 0 & NA & 0 & X2 & 0.67488\\\\\n",
       "\\end{tabular}\n"
      ],
      "text/markdown": [
       "\n",
       "A tibble: 6 × 9\n",
       "\n",
       "| Sample &lt;chr&gt; | Habitat &lt;chr&gt; | Population &lt;dbl&gt; | Plant &lt;dbl&gt; | HCN_Result &lt;dbl&gt; | Locus.Li &lt;dbl&gt; | Locus.Ac &lt;dbl&gt; | name &lt;chr&gt; | Probs &lt;dbl&gt; |\n",
       "|---|---|---|---|---|---|---|---|---|\n",
       "| s_40_1 | Urban | 40 | 1 | 0 | NA | 0 | X1 | 0.37848 |\n",
       "| s_40_1 | Urban | 40 | 1 | 0 | NA | 0 | X2 | 0.59793 |\n",
       "| s_40_1 | Urban | 40 | 1 | 0 | NA | 0 | X3 | 0.00000 |\n",
       "| s_40_1 | Urban | 40 | 1 | 0 | NA | 0 | X4 | 0.02358 |\n",
       "| s_40_3 | Urban | 40 | 3 | 0 | NA | 0 | X1 | 0.00000 |\n",
       "| s_40_3 | Urban | 40 | 3 | 0 | NA | 0 | X2 | 0.67488 |\n",
       "\n"
      ],
      "text/plain": [
       "  Sample Habitat Population Plant HCN_Result Locus.Li Locus.Ac name Probs  \n",
       "1 s_40_1 Urban   40         1     0          NA       0        X1   0.37848\n",
       "2 s_40_1 Urban   40         1     0          NA       0        X2   0.59793\n",
       "3 s_40_1 Urban   40         1     0          NA       0        X3   0.00000\n",
       "4 s_40_1 Urban   40         1     0          NA       0        X4   0.02358\n",
       "5 s_40_3 Urban   40         3     0          NA       0        X1   0.00000\n",
       "6 s_40_3 Urban   40         3     0          NA       0        X2   0.67488"
      ]
     },
     "metadata": {},
     "output_type": "display_data"
    }
   ],
   "source": [
    "# Load admixture results for seed with lowest log likelihood\n",
    "admix_results <- paste0(results_prefix, 'population_structure/ngsadmix/K4/ngsadmix_4fold_maf0.05_K4_seed2.qopt')\n",
    "admix <- suppressMessages(read_delim(admix_results, col_names = FALSE, delim = \" \")) %>%\n",
    "    dplyr::select(-X5) %>%\n",
    "    bind_cols(., samples) %>% \n",
    "    pivot_longer(X1:X4, values_to = 'Probs') %>% \n",
    "    mutate(Probs = round(Probs, 5))\n",
    "head(admix)"
   ]
  },
  {
   "cell_type": "code",
   "execution_count": 43,
   "metadata": {},
   "outputs": [
    {
     "data": {
      "image/png": "[encoded data removed]",
      "text/plain": [
       "plot without title"
      ]
     },
     "metadata": {
      "image/png": {
       "height": 420,
       "width": 420
      }
     },
     "output_type": "display_data"
    }
   ],
   "source": [
    "cols_admix <- wes_palette(\"Darjeeling1\", n = 4, type = 'continuous')\n",
    "admix_plot_K4 <- \n",
    "  ggplot(admix, aes(factor(Sample), Probs, fill = factor(name), color = factor(name))) +\n",
    "  geom_col(width=1) +\n",
    "  facet_grid(~fct_relevel(Habitat,'Rural', 'Suburban', 'Urban'), switch = \"x\", scales = \"free\", space = \"free\") +\n",
    "  theme_minimal() + labs(x = \"\", title = \"K=4\", y = \"Ancestry\") +\n",
    "  scale_y_continuous(expand = c(0, 0)) +\n",
    "  scale_x_discrete(expand = expansion(add = 1)) +\n",
    "  scale_fill_manual(values = cols_admix) + \n",
    "  scale_color_manual(values = cols_admix) +\n",
    "  theme(\n",
    "    legend.position = 'none',\n",
    "    panel.spacing.x = unit(0.1, \"lines\"),\n",
    "    axis.text.x = element_blank(),\n",
    "    panel.grid = element_blank(),\n",
    "    axis.text = element_text(size=16),\n",
    "    axis.title = element_text(size=20),\n",
    "    strip.text.x = element_text(size = 16),\n",
    "    plot.title = element_text(size = 23, face = 'bold'),\n",
    "    axis.text.y = element_blank()\n",
    "  ) \n",
    "admix_plot_K4"
   ]
  },
  {
   "cell_type": "code",
   "execution_count": 44,
   "metadata": {},
   "outputs": [],
   "source": [
    "ggsave(filename = paste0(figures_path, 'admix_K4.pdf'), plot = admix_plot_K4, device = 'pdf', \n",
    "       width = 20, height = 3, units = 'in', dpi = 600, )"
   ]
  },
  {
   "cell_type": "markdown",
   "metadata": {},
   "source": [
    "#### K = 6"
   ]
  },
  {
   "cell_type": "code",
   "execution_count": 47,
   "metadata": {},
   "outputs": [
    {
     "data": {
      "text/html": [
       "<table class=\"dataframe\">\n",
       "<caption>A data.frame: 1 × 2</caption>\n",
       "<thead>\n",
       "\t<tr><th scope=col>seed</th><th scope=col>like</th></tr>\n",
       "\t<tr><th scope=col>&lt;dbl&gt;</th><th scope=col>&lt;dbl&gt;</th></tr>\n",
       "</thead>\n",
       "<tbody>\n",
       "\t<tr><td>2</td><td>-14144421</td></tr>\n",
       "</tbody>\n",
       "</table>\n"
      ],
      "text/latex": [
       "A data.frame: 1 × 2\n",
       "\\begin{tabular}{ll}\n",
       " seed & like\\\\\n",
       " <dbl> & <dbl>\\\\\n",
       "\\hline\n",
       "\t 2 & -14144421\\\\\n",
       "\\end{tabular}\n"
      ],
      "text/markdown": [
       "\n",
       "A data.frame: 1 × 2\n",
       "\n",
       "| seed &lt;dbl&gt; | like &lt;dbl&gt; |\n",
       "|---|---|\n",
       "| 2 | -14144421 |\n",
       "\n"
      ],
      "text/plain": [
       "  seed like     \n",
       "1 2    -14144421"
      ]
     },
     "metadata": {},
     "output_type": "display_data"
    }
   ],
   "source": [
    "ngsadmix_inpath <- paste0(results_prefix, 'population_structure/ngsadmix/K6/')\n",
    "like_df <- list.files(ngsadmix_inpath, pattern = '*.log', full.names = TRUE) %>%\n",
    "    map_dfr(., load_ngsadmix_log)\n",
    "# Get lowest likelihood for plotting\n",
    "like_df %>%\n",
    "    filter(like == min(like))"
   ]
  },
  {
   "cell_type": "code",
   "execution_count": 48,
   "metadata": {},
   "outputs": [
    {
     "data": {
      "text/html": [
       "<table class=\"dataframe\">\n",
       "<caption>A tibble: 6 × 9</caption>\n",
       "<thead>\n",
       "\t<tr><th scope=col>Sample</th><th scope=col>Habitat</th><th scope=col>Population</th><th scope=col>Plant</th><th scope=col>HCN_Result</th><th scope=col>Locus.Li</th><th scope=col>Locus.Ac</th><th scope=col>name</th><th scope=col>Probs</th></tr>\n",
       "\t<tr><th scope=col>&lt;chr&gt;</th><th scope=col>&lt;chr&gt;</th><th scope=col>&lt;dbl&gt;</th><th scope=col>&lt;dbl&gt;</th><th scope=col>&lt;dbl&gt;</th><th scope=col>&lt;dbl&gt;</th><th scope=col>&lt;dbl&gt;</th><th scope=col>&lt;chr&gt;</th><th scope=col>&lt;dbl&gt;</th></tr>\n",
       "</thead>\n",
       "<tbody>\n",
       "\t<tr><td>s_40_1</td><td>Urban</td><td>40</td><td>1</td><td>0</td><td>NA</td><td>0</td><td>X1</td><td>0.14795</td></tr>\n",
       "\t<tr><td>s_40_1</td><td>Urban</td><td>40</td><td>1</td><td>0</td><td>NA</td><td>0</td><td>X2</td><td>0.00000</td></tr>\n",
       "\t<tr><td>s_40_1</td><td>Urban</td><td>40</td><td>1</td><td>0</td><td>NA</td><td>0</td><td>X3</td><td>0.00000</td></tr>\n",
       "\t<tr><td>s_40_1</td><td>Urban</td><td>40</td><td>1</td><td>0</td><td>NA</td><td>0</td><td>X4</td><td>0.49959</td></tr>\n",
       "\t<tr><td>s_40_1</td><td>Urban</td><td>40</td><td>1</td><td>0</td><td>NA</td><td>0</td><td>X5</td><td>0.35246</td></tr>\n",
       "\t<tr><td>s_40_1</td><td>Urban</td><td>40</td><td>1</td><td>0</td><td>NA</td><td>0</td><td>X6</td><td>0.00000</td></tr>\n",
       "</tbody>\n",
       "</table>\n"
      ],
      "text/latex": [
       "A tibble: 6 × 9\n",
       "\\begin{tabular}{lllllllll}\n",
       " Sample & Habitat & Population & Plant & HCN\\_Result & Locus.Li & Locus.Ac & name & Probs\\\\\n",
       " <chr> & <chr> & <dbl> & <dbl> & <dbl> & <dbl> & <dbl> & <chr> & <dbl>\\\\\n",
       "\\hline\n",
       "\t s\\_40\\_1 & Urban & 40 & 1 & 0 & NA & 0 & X1 & 0.14795\\\\\n",
       "\t s\\_40\\_1 & Urban & 40 & 1 & 0 & NA & 0 & X2 & 0.00000\\\\\n",
       "\t s\\_40\\_1 & Urban & 40 & 1 & 0 & NA & 0 & X3 & 0.00000\\\\\n",
       "\t s\\_40\\_1 & Urban & 40 & 1 & 0 & NA & 0 & X4 & 0.49959\\\\\n",
       "\t s\\_40\\_1 & Urban & 40 & 1 & 0 & NA & 0 & X5 & 0.35246\\\\\n",
       "\t s\\_40\\_1 & Urban & 40 & 1 & 0 & NA & 0 & X6 & 0.00000\\\\\n",
       "\\end{tabular}\n"
      ],
      "text/markdown": [
       "\n",
       "A tibble: 6 × 9\n",
       "\n",
       "| Sample &lt;chr&gt; | Habitat &lt;chr&gt; | Population &lt;dbl&gt; | Plant &lt;dbl&gt; | HCN_Result &lt;dbl&gt; | Locus.Li &lt;dbl&gt; | Locus.Ac &lt;dbl&gt; | name &lt;chr&gt; | Probs &lt;dbl&gt; |\n",
       "|---|---|---|---|---|---|---|---|---|\n",
       "| s_40_1 | Urban | 40 | 1 | 0 | NA | 0 | X1 | 0.14795 |\n",
       "| s_40_1 | Urban | 40 | 1 | 0 | NA | 0 | X2 | 0.00000 |\n",
       "| s_40_1 | Urban | 40 | 1 | 0 | NA | 0 | X3 | 0.00000 |\n",
       "| s_40_1 | Urban | 40 | 1 | 0 | NA | 0 | X4 | 0.49959 |\n",
       "| s_40_1 | Urban | 40 | 1 | 0 | NA | 0 | X5 | 0.35246 |\n",
       "| s_40_1 | Urban | 40 | 1 | 0 | NA | 0 | X6 | 0.00000 |\n",
       "\n"
      ],
      "text/plain": [
       "  Sample Habitat Population Plant HCN_Result Locus.Li Locus.Ac name Probs  \n",
       "1 s_40_1 Urban   40         1     0          NA       0        X1   0.14795\n",
       "2 s_40_1 Urban   40         1     0          NA       0        X2   0.00000\n",
       "3 s_40_1 Urban   40         1     0          NA       0        X3   0.00000\n",
       "4 s_40_1 Urban   40         1     0          NA       0        X4   0.49959\n",
       "5 s_40_1 Urban   40         1     0          NA       0        X5   0.35246\n",
       "6 s_40_1 Urban   40         1     0          NA       0        X6   0.00000"
      ]
     },
     "metadata": {},
     "output_type": "display_data"
    }
   ],
   "source": [
    "# Load admixture results for seed with lowest log likelihood\n",
    "admix_results <- paste0(results_prefix, 'population_structure/ngsadmix/K6/ngsadmix_4fold_maf0.05_K6_seed8.qopt')\n",
    "admix <- suppressMessages(read_delim(admix_results, col_names = FALSE, delim = \" \")) %>%\n",
    "    dplyr::select(-X7) %>%\n",
    "    bind_cols(., samples) %>% \n",
    "    pivot_longer(X1:X6, values_to = 'Probs') %>% \n",
    "    mutate(Probs = round(Probs, 5))\n",
    "head(admix)"
   ]
  },
  {
   "cell_type": "code",
   "execution_count": 49,
   "metadata": {},
   "outputs": [
    {
     "data": {
      "image/png": "[encoded data removed]",
      "text/plain": [
       "plot without title"
      ]
     },
     "metadata": {
      "image/png": {
       "height": 420,
       "width": 420
      }
     },
     "output_type": "display_data"
    }
   ],
   "source": [
    "cols_admix <- wes_palette(\"Darjeeling1\", n = 6, type = 'continuous')\n",
    "admix_plot_K6 <- \n",
    "  ggplot(admix, aes(factor(Sample), Probs, fill = factor(name), color = factor(name))) +\n",
    "  geom_col(width=1) +\n",
    "  facet_grid(~fct_relevel(Habitat,'Rural', 'Suburban', 'Urban'), switch = \"x\", scales = \"free\", space = \"free\") +\n",
    "  theme_minimal() + labs(x = \"\", title = \"K=6\", y = \"Ancestry\") +\n",
    "  scale_y_continuous(expand = c(0, 0)) +\n",
    "  scale_x_discrete(expand = expansion(add = 1)) +\n",
    "  scale_fill_manual(values = cols_admix) + \n",
    "  scale_color_manual(values = cols_admix) +\n",
    "  theme(\n",
    "    legend.position = 'none',\n",
    "    panel.spacing.x = unit(0.1, \"lines\"),\n",
    "    axis.text.x = element_blank(),\n",
    "    panel.grid = element_blank(),\n",
    "    axis.text = element_text(size=16),\n",
    "    axis.title = element_text(size=20),\n",
    "    strip.text.x = element_text(size = 16),\n",
    "    plot.title = element_text(size = 23, face = 'bold'),\n",
    "    axis.text.y = element_blank()\n",
    "  ) \n",
    "admix_plot_K6"
   ]
  },
  {
   "cell_type": "code",
   "execution_count": 50,
   "metadata": {},
   "outputs": [],
   "source": [
    "ggsave(filename = paste0(figures_path, 'admix_K6.pdf'), plot = admix_plot_K6, device = 'pdf', \n",
    "       width = 20, height = 3, units = 'in', dpi = 600, )"
   ]
  },
  {
   "cell_type": "markdown",
   "metadata": {},
   "source": [
    "### Pi and Fst\n",
    "\n",
    "- Pi and Fst were estimated in `ANGSD` using approximately 9.7 million 4fold sites across the genome\n",
    "\n",
    "#### By Habitat\n",
    "\n",
    "- Pi in each of 3 habitats\n",
    "- Pairwise Fst across all 3 habitat types\n",
    "- TODO: Consider ammending this to estimate all 3 pairwise comparison at once so that `ANGSD` also estimates the population branch statistic"
   ]
  },
  {
   "cell_type": "code",
   "execution_count": 51,
   "metadata": {},
   "outputs": [],
   "source": [
    "# Load in thetas for all habitats and merge into single dataframe\n",
    "pi_stats <- purrr::map_dfr(c('Urban', 'Suburban', 'Rural'), load_pi)"
   ]
  },
  {
   "cell_type": "code",
   "execution_count": 52,
   "metadata": {},
   "outputs": [
    {
     "data": {
      "text/html": [
       "<table class=\"dataframe\">\n",
       "<caption>A tibble: 3 × 2</caption>\n",
       "<thead>\n",
       "\t<tr><th scope=col>habitat</th><th scope=col>mean(tp_scaled)</th></tr>\n",
       "\t<tr><th scope=col>&lt;chr&gt;</th><th scope=col>&lt;dbl&gt;</th></tr>\n",
       "</thead>\n",
       "<tbody>\n",
       "\t<tr><td>Rural   </td><td>0.01875606</td></tr>\n",
       "\t<tr><td>Suburban</td><td>0.01879879</td></tr>\n",
       "\t<tr><td>Urban   </td><td>0.01877678</td></tr>\n",
       "</tbody>\n",
       "</table>\n"
      ],
      "text/latex": [
       "A tibble: 3 × 2\n",
       "\\begin{tabular}{ll}\n",
       " habitat & mean(tp\\_scaled)\\\\\n",
       " <chr> & <dbl>\\\\\n",
       "\\hline\n",
       "\t Rural    & 0.01875606\\\\\n",
       "\t Suburban & 0.01879879\\\\\n",
       "\t Urban    & 0.01877678\\\\\n",
       "\\end{tabular}\n"
      ],
      "text/markdown": [
       "\n",
       "A tibble: 3 × 2\n",
       "\n",
       "| habitat &lt;chr&gt; | mean(tp_scaled) &lt;dbl&gt; |\n",
       "|---|---|\n",
       "| Rural    | 0.01875606 |\n",
       "| Suburban | 0.01879879 |\n",
       "| Urban    | 0.01877678 |\n",
       "\n"
      ],
      "text/plain": [
       "  habitat  mean(tp_scaled)\n",
       "1 Rural    0.01875606     \n",
       "2 Suburban 0.01879879     \n",
       "3 Urban    0.01877678     "
      ]
     },
     "metadata": {},
     "output_type": "display_data"
    }
   ],
   "source": [
    "pi_stats %>% \n",
    "    group_by(habitat) %>% \n",
    "    summarize(mean(tp_scaled))"
   ]
  },
  {
   "cell_type": "code",
   "execution_count": 54,
   "metadata": {},
   "outputs": [
    {
     "data": {
      "image/png": "[encoded data removed]",
      "text/plain": [
       "plot without title"
      ]
     },
     "metadata": {
      "image/png": {
       "height": 420,
       "width": 420
      }
     },
     "output_type": "display_data"
    }
   ],
   "source": [
    "pi_stats %>%\n",
    "    group_by(habitat) %>%\n",
    "    summarise(mean_tp = mean(tp_scaled),\n",
    "              sd_tp = sd(tp_scaled),\n",
    "              se_tp = sd_tp / sqrt(n())) %>%\n",
    "    ggplot(., aes(x = habitat, y = mean_tp)) +\n",
    "        geom_errorbar(aes(ymin = mean_tp - se_tp, ymax = mean_tp + se_tp), width = 0.15) +\n",
    "        geom_point(size = 10, shape = 21, aes(fill = habitat)) +\n",
    "        xlab('Habitat') + ylab(expression(Pairwise~nucleotide~diversity~('\\u03B8'['\\u03C0']))) +\n",
    "        scale_fill_manual(values = cols_hab) +\n",
    "#         coord_cartesian(ylim = c(0.02215, 0.02280)) +\n",
    "        theme_classic()"
   ]
  },
  {
   "cell_type": "code",
   "execution_count": 55,
   "metadata": {},
   "outputs": [],
   "source": [
    "# Load in fst for all habitat comparisons and merge into single dataframe\n",
    "fst_stats <- purrr::map_dfr(c('Rural_Suburban', 'Urban_Rural', 'Urban_Suburban'), load_fst)"
   ]
  },
  {
   "cell_type": "code",
   "execution_count": 56,
   "metadata": {},
   "outputs": [
    {
     "data": {
      "text/html": [
       "<table class=\"dataframe\">\n",
       "<caption>A tibble: 48 × 6</caption>\n",
       "<thead>\n",
       "\t<tr><th scope=col>chrom</th><th scope=col>num_sum</th><th scope=col>denom_sum</th><th scope=col>fst</th><th scope=col>nSites</th><th scope=col>hab_comb</th></tr>\n",
       "\t<tr><th scope=col>&lt;chr&gt;</th><th scope=col>&lt;dbl&gt;</th><th scope=col>&lt;dbl&gt;</th><th scope=col>&lt;dbl&gt;</th><th scope=col>&lt;int&gt;</th><th scope=col>&lt;chr&gt;</th></tr>\n",
       "</thead>\n",
       "<tbody>\n",
       "\t<tr><td>Chr01_Occ </td><td> 91.50563</td><td>14722.047</td><td>0.006215551</td><td>799953</td><td>Rural_Suburban</td></tr>\n",
       "\t<tr><td>Chr01_Pall</td><td> 81.91693</td><td>13814.860</td><td>0.005929624</td><td>789664</td><td>Rural_Suburban</td></tr>\n",
       "\t<tr><td>Chr02_Occ </td><td> 53.68691</td><td> 9140.997</td><td>0.005873200</td><td>453414</td><td>Rural_Suburban</td></tr>\n",
       "\t<tr><td>Chr02_Pall</td><td> 48.21671</td><td> 8156.634</td><td>0.005911349</td><td>448643</td><td>Rural_Suburban</td></tr>\n",
       "\t<tr><td>Chr03_Occ </td><td> 96.00967</td><td>15124.689</td><td>0.006347877</td><td>753594</td><td>Rural_Suburban</td></tr>\n",
       "\t<tr><td>Chr03_Pall</td><td> 84.82880</td><td>13752.866</td><td>0.006168082</td><td>737439</td><td>Rural_Suburban</td></tr>\n",
       "\t<tr><td>Chr04_Occ </td><td>120.14581</td><td>15291.044</td><td>0.007857266</td><td>746466</td><td>Rural_Suburban</td></tr>\n",
       "\t<tr><td>Chr04_Pall</td><td> 85.08602</td><td>13912.008</td><td>0.006116012</td><td>764043</td><td>Rural_Suburban</td></tr>\n",
       "\t<tr><td>Chr05_Occ </td><td> 76.88015</td><td>13239.340</td><td>0.005806947</td><td>610975</td><td>Rural_Suburban</td></tr>\n",
       "\t<tr><td>Chr05_Pall</td><td> 67.17268</td><td>12071.135</td><td>0.005564736</td><td>624394</td><td>Rural_Suburban</td></tr>\n",
       "\t<tr><td>Chr06_Occ </td><td> 60.12550</td><td>11240.506</td><td>0.005349003</td><td>557190</td><td>Rural_Suburban</td></tr>\n",
       "\t<tr><td>Chr06_Pall</td><td> 52.71016</td><td> 9759.805</td><td>0.005400739</td><td>539569</td><td>Rural_Suburban</td></tr>\n",
       "\t<tr><td>Chr07_Occ </td><td> 72.09989</td><td>12176.666</td><td>0.005921152</td><td>651073</td><td>Rural_Suburban</td></tr>\n",
       "\t<tr><td>Chr07_Pall</td><td> 58.65187</td><td>10952.491</td><td>0.005355117</td><td>636238</td><td>Rural_Suburban</td></tr>\n",
       "\t<tr><td>Chr08_Occ </td><td> 74.52747</td><td>12683.063</td><td>0.005876142</td><td>722052</td><td>Rural_Suburban</td></tr>\n",
       "\t<tr><td>Chr08_Pall</td><td> 67.34308</td><td>12436.180</td><td>0.005415094</td><td>722239</td><td>Rural_Suburban</td></tr>\n",
       "\t<tr><td>Chr01_Occ </td><td> 91.74431</td><td>14698.935</td><td>0.006241562</td><td>800066</td><td>Urban_Rural   </td></tr>\n",
       "\t<tr><td>Chr01_Pall</td><td> 94.10194</td><td>13820.186</td><td>0.006809022</td><td>788221</td><td>Urban_Rural   </td></tr>\n",
       "\t<tr><td>Chr02_Occ </td><td> 58.09090</td><td> 9127.927</td><td>0.006364084</td><td>452245</td><td>Urban_Rural   </td></tr>\n",
       "\t<tr><td>Chr02_Pall</td><td> 48.28769</td><td> 8168.724</td><td>0.005911289</td><td>448060</td><td>Urban_Rural   </td></tr>\n",
       "\t<tr><td>Chr03_Occ </td><td> 92.57303</td><td>15094.218</td><td>0.006133013</td><td>751908</td><td>Urban_Rural   </td></tr>\n",
       "\t<tr><td>Chr03_Pall</td><td> 88.62622</td><td>13781.622</td><td>0.006430754</td><td>737561</td><td>Urban_Rural   </td></tr>\n",
       "\t<tr><td>Chr04_Occ </td><td>106.52381</td><td>15284.104</td><td>0.006969582</td><td>746820</td><td>Urban_Rural   </td></tr>\n",
       "\t<tr><td>Chr04_Pall</td><td> 94.48009</td><td>13916.643</td><td>0.006789000</td><td>763101</td><td>Urban_Rural   </td></tr>\n",
       "\t<tr><td>Chr05_Occ </td><td> 77.50874</td><td>13210.376</td><td>0.005867262</td><td>609446</td><td>Urban_Rural   </td></tr>\n",
       "\t<tr><td>Chr05_Pall</td><td> 72.62543</td><td>12060.541</td><td>0.006021739</td><td>623763</td><td>Urban_Rural   </td></tr>\n",
       "\t<tr><td>Chr06_Occ </td><td> 60.36274</td><td>11203.078</td><td>0.005388049</td><td>554824</td><td>Urban_Rural   </td></tr>\n",
       "\t<tr><td>Chr06_Pall</td><td> 52.33705</td><td> 9733.882</td><td>0.005376791</td><td>538902</td><td>Urban_Rural   </td></tr>\n",
       "\t<tr><td>Chr07_Occ </td><td> 80.42592</td><td>12149.887</td><td>0.006619479</td><td>650396</td><td>Urban_Rural   </td></tr>\n",
       "\t<tr><td>Chr07_Pall</td><td> 64.16488</td><td>10939.911</td><td>0.005865210</td><td>636317</td><td>Urban_Rural   </td></tr>\n",
       "\t<tr><td>Chr08_Occ </td><td> 81.22856</td><td>12695.660</td><td>0.006398136</td><td>720948</td><td>Urban_Rural   </td></tr>\n",
       "\t<tr><td>Chr08_Pall</td><td> 77.24588</td><td>12494.037</td><td>0.006182620</td><td>721290</td><td>Urban_Rural   </td></tr>\n",
       "\t<tr><td>Chr01_Occ </td><td> 96.05114</td><td>14721.337</td><td>0.006524621</td><td>801133</td><td>Urban_Suburban</td></tr>\n",
       "\t<tr><td>Chr01_Pall</td><td> 95.23769</td><td>13890.388</td><td>0.006856374</td><td>790656</td><td>Urban_Suburban</td></tr>\n",
       "\t<tr><td>Chr02_Occ </td><td> 63.29549</td><td> 9221.548</td><td>0.006863868</td><td>454211</td><td>Urban_Suburban</td></tr>\n",
       "\t<tr><td>Chr02_Pall</td><td> 51.09954</td><td> 8191.052</td><td>0.006238459</td><td>449941</td><td>Urban_Suburban</td></tr>\n",
       "\t<tr><td>Chr03_Occ </td><td> 96.02711</td><td>14997.142</td><td>0.006403027</td><td>754295</td><td>Urban_Suburban</td></tr>\n",
       "\t<tr><td>Chr03_Pall</td><td> 83.14733</td><td>13769.320</td><td>0.006038594</td><td>739248</td><td>Urban_Suburban</td></tr>\n",
       "\t<tr><td>Chr04_Occ </td><td> 99.54752</td><td>15211.314</td><td>0.006544308</td><td>748952</td><td>Urban_Suburban</td></tr>\n",
       "\t<tr><td>Chr04_Pall</td><td> 85.48367</td><td>13905.499</td><td>0.006147472</td><td>764120</td><td>Urban_Suburban</td></tr>\n",
       "\t<tr><td>Chr05_Occ </td><td> 78.43038</td><td>13293.610</td><td>0.005899856</td><td>611384</td><td>Urban_Suburban</td></tr>\n",
       "\t<tr><td>Chr05_Pall</td><td> 73.77308</td><td>12149.659</td><td>0.006072028</td><td>625607</td><td>Urban_Suburban</td></tr>\n",
       "\t<tr><td>Chr06_Occ </td><td> 62.62435</td><td>11239.408</td><td>0.005571855</td><td>557212</td><td>Urban_Suburban</td></tr>\n",
       "\t<tr><td>Chr06_Pall</td><td> 59.67664</td><td> 9782.635</td><td>0.006100263</td><td>540533</td><td>Urban_Suburban</td></tr>\n",
       "\t<tr><td>Chr07_Occ </td><td> 76.08603</td><td>12286.925</td><td>0.006192439</td><td>652368</td><td>Urban_Suburban</td></tr>\n",
       "\t<tr><td>Chr07_Pall</td><td> 63.99482</td><td>10975.798</td><td>0.005830539</td><td>637589</td><td>Urban_Suburban</td></tr>\n",
       "\t<tr><td>Chr08_Occ </td><td> 81.33684</td><td>12718.742</td><td>0.006395038</td><td>723151</td><td>Urban_Suburban</td></tr>\n",
       "\t<tr><td>Chr08_Pall</td><td> 75.06271</td><td>12514.035</td><td>0.005998282</td><td>723734</td><td>Urban_Suburban</td></tr>\n",
       "</tbody>\n",
       "</table>\n"
      ],
      "text/latex": [
       "A tibble: 48 × 6\n",
       "\\begin{tabular}{llllll}\n",
       " chrom & num\\_sum & denom\\_sum & fst & nSites & hab\\_comb\\\\\n",
       " <chr> & <dbl> & <dbl> & <dbl> & <int> & <chr>\\\\\n",
       "\\hline\n",
       "\t Chr01\\_Occ  &  91.50563 & 14722.047 & 0.006215551 & 799953 & Rural\\_Suburban\\\\\n",
       "\t Chr01\\_Pall &  81.91693 & 13814.860 & 0.005929624 & 789664 & Rural\\_Suburban\\\\\n",
       "\t Chr02\\_Occ  &  53.68691 &  9140.997 & 0.005873200 & 453414 & Rural\\_Suburban\\\\\n",
       "\t Chr02\\_Pall &  48.21671 &  8156.634 & 0.005911349 & 448643 & Rural\\_Suburban\\\\\n",
       "\t Chr03\\_Occ  &  96.00967 & 15124.689 & 0.006347877 & 753594 & Rural\\_Suburban\\\\\n",
       "\t Chr03\\_Pall &  84.82880 & 13752.866 & 0.006168082 & 737439 & Rural\\_Suburban\\\\\n",
       "\t Chr04\\_Occ  & 120.14581 & 15291.044 & 0.007857266 & 746466 & Rural\\_Suburban\\\\\n",
       "\t Chr04\\_Pall &  85.08602 & 13912.008 & 0.006116012 & 764043 & Rural\\_Suburban\\\\\n",
       "\t Chr05\\_Occ  &  76.88015 & 13239.340 & 0.005806947 & 610975 & Rural\\_Suburban\\\\\n",
       "\t Chr05\\_Pall &  67.17268 & 12071.135 & 0.005564736 & 624394 & Rural\\_Suburban\\\\\n",
       "\t Chr06\\_Occ  &  60.12550 & 11240.506 & 0.005349003 & 557190 & Rural\\_Suburban\\\\\n",
       "\t Chr06\\_Pall &  52.71016 &  9759.805 & 0.005400739 & 539569 & Rural\\_Suburban\\\\\n",
       "\t Chr07\\_Occ  &  72.09989 & 12176.666 & 0.005921152 & 651073 & Rural\\_Suburban\\\\\n",
       "\t Chr07\\_Pall &  58.65187 & 10952.491 & 0.005355117 & 636238 & Rural\\_Suburban\\\\\n",
       "\t Chr08\\_Occ  &  74.52747 & 12683.063 & 0.005876142 & 722052 & Rural\\_Suburban\\\\\n",
       "\t Chr08\\_Pall &  67.34308 & 12436.180 & 0.005415094 & 722239 & Rural\\_Suburban\\\\\n",
       "\t Chr01\\_Occ  &  91.74431 & 14698.935 & 0.006241562 & 800066 & Urban\\_Rural   \\\\\n",
       "\t Chr01\\_Pall &  94.10194 & 13820.186 & 0.006809022 & 788221 & Urban\\_Rural   \\\\\n",
       "\t Chr02\\_Occ  &  58.09090 &  9127.927 & 0.006364084 & 452245 & Urban\\_Rural   \\\\\n",
       "\t Chr02\\_Pall &  48.28769 &  8168.724 & 0.005911289 & 448060 & Urban\\_Rural   \\\\\n",
       "\t Chr03\\_Occ  &  92.57303 & 15094.218 & 0.006133013 & 751908 & Urban\\_Rural   \\\\\n",
       "\t Chr03\\_Pall &  88.62622 & 13781.622 & 0.006430754 & 737561 & Urban\\_Rural   \\\\\n",
       "\t Chr04\\_Occ  & 106.52381 & 15284.104 & 0.006969582 & 746820 & Urban\\_Rural   \\\\\n",
       "\t Chr04\\_Pall &  94.48009 & 13916.643 & 0.006789000 & 763101 & Urban\\_Rural   \\\\\n",
       "\t Chr05\\_Occ  &  77.50874 & 13210.376 & 0.005867262 & 609446 & Urban\\_Rural   \\\\\n",
       "\t Chr05\\_Pall &  72.62543 & 12060.541 & 0.006021739 & 623763 & Urban\\_Rural   \\\\\n",
       "\t Chr06\\_Occ  &  60.36274 & 11203.078 & 0.005388049 & 554824 & Urban\\_Rural   \\\\\n",
       "\t Chr06\\_Pall &  52.33705 &  9733.882 & 0.005376791 & 538902 & Urban\\_Rural   \\\\\n",
       "\t Chr07\\_Occ  &  80.42592 & 12149.887 & 0.006619479 & 650396 & Urban\\_Rural   \\\\\n",
       "\t Chr07\\_Pall &  64.16488 & 10939.911 & 0.005865210 & 636317 & Urban\\_Rural   \\\\\n",
       "\t Chr08\\_Occ  &  81.22856 & 12695.660 & 0.006398136 & 720948 & Urban\\_Rural   \\\\\n",
       "\t Chr08\\_Pall &  77.24588 & 12494.037 & 0.006182620 & 721290 & Urban\\_Rural   \\\\\n",
       "\t Chr01\\_Occ  &  96.05114 & 14721.337 & 0.006524621 & 801133 & Urban\\_Suburban\\\\\n",
       "\t Chr01\\_Pall &  95.23769 & 13890.388 & 0.006856374 & 790656 & Urban\\_Suburban\\\\\n",
       "\t Chr02\\_Occ  &  63.29549 &  9221.548 & 0.006863868 & 454211 & Urban\\_Suburban\\\\\n",
       "\t Chr02\\_Pall &  51.09954 &  8191.052 & 0.006238459 & 449941 & Urban\\_Suburban\\\\\n",
       "\t Chr03\\_Occ  &  96.02711 & 14997.142 & 0.006403027 & 754295 & Urban\\_Suburban\\\\\n",
       "\t Chr03\\_Pall &  83.14733 & 13769.320 & 0.006038594 & 739248 & Urban\\_Suburban\\\\\n",
       "\t Chr04\\_Occ  &  99.54752 & 15211.314 & 0.006544308 & 748952 & Urban\\_Suburban\\\\\n",
       "\t Chr04\\_Pall &  85.48367 & 13905.499 & 0.006147472 & 764120 & Urban\\_Suburban\\\\\n",
       "\t Chr05\\_Occ  &  78.43038 & 13293.610 & 0.005899856 & 611384 & Urban\\_Suburban\\\\\n",
       "\t Chr05\\_Pall &  73.77308 & 12149.659 & 0.006072028 & 625607 & Urban\\_Suburban\\\\\n",
       "\t Chr06\\_Occ  &  62.62435 & 11239.408 & 0.005571855 & 557212 & Urban\\_Suburban\\\\\n",
       "\t Chr06\\_Pall &  59.67664 &  9782.635 & 0.006100263 & 540533 & Urban\\_Suburban\\\\\n",
       "\t Chr07\\_Occ  &  76.08603 & 12286.925 & 0.006192439 & 652368 & Urban\\_Suburban\\\\\n",
       "\t Chr07\\_Pall &  63.99482 & 10975.798 & 0.005830539 & 637589 & Urban\\_Suburban\\\\\n",
       "\t Chr08\\_Occ  &  81.33684 & 12718.742 & 0.006395038 & 723151 & Urban\\_Suburban\\\\\n",
       "\t Chr08\\_Pall &  75.06271 & 12514.035 & 0.005998282 & 723734 & Urban\\_Suburban\\\\\n",
       "\\end{tabular}\n"
      ],
      "text/markdown": [
       "\n",
       "A tibble: 48 × 6\n",
       "\n",
       "| chrom &lt;chr&gt; | num_sum &lt;dbl&gt; | denom_sum &lt;dbl&gt; | fst &lt;dbl&gt; | nSites &lt;int&gt; | hab_comb &lt;chr&gt; |\n",
       "|---|---|---|---|---|---|\n",
       "| Chr01_Occ  |  91.50563 | 14722.047 | 0.006215551 | 799953 | Rural_Suburban |\n",
       "| Chr01_Pall |  81.91693 | 13814.860 | 0.005929624 | 789664 | Rural_Suburban |\n",
       "| Chr02_Occ  |  53.68691 |  9140.997 | 0.005873200 | 453414 | Rural_Suburban |\n",
       "| Chr02_Pall |  48.21671 |  8156.634 | 0.005911349 | 448643 | Rural_Suburban |\n",
       "| Chr03_Occ  |  96.00967 | 15124.689 | 0.006347877 | 753594 | Rural_Suburban |\n",
       "| Chr03_Pall |  84.82880 | 13752.866 | 0.006168082 | 737439 | Rural_Suburban |\n",
       "| Chr04_Occ  | 120.14581 | 15291.044 | 0.007857266 | 746466 | Rural_Suburban |\n",
       "| Chr04_Pall |  85.08602 | 13912.008 | 0.006116012 | 764043 | Rural_Suburban |\n",
       "| Chr05_Occ  |  76.88015 | 13239.340 | 0.005806947 | 610975 | Rural_Suburban |\n",
       "| Chr05_Pall |  67.17268 | 12071.135 | 0.005564736 | 624394 | Rural_Suburban |\n",
       "| Chr06_Occ  |  60.12550 | 11240.506 | 0.005349003 | 557190 | Rural_Suburban |\n",
       "| Chr06_Pall |  52.71016 |  9759.805 | 0.005400739 | 539569 | Rural_Suburban |\n",
       "| Chr07_Occ  |  72.09989 | 12176.666 | 0.005921152 | 651073 | Rural_Suburban |\n",
       "| Chr07_Pall |  58.65187 | 10952.491 | 0.005355117 | 636238 | Rural_Suburban |\n",
       "| Chr08_Occ  |  74.52747 | 12683.063 | 0.005876142 | 722052 | Rural_Suburban |\n",
       "| Chr08_Pall |  67.34308 | 12436.180 | 0.005415094 | 722239 | Rural_Suburban |\n",
       "| Chr01_Occ  |  91.74431 | 14698.935 | 0.006241562 | 800066 | Urban_Rural    |\n",
       "| Chr01_Pall |  94.10194 | 13820.186 | 0.006809022 | 788221 | Urban_Rural    |\n",
       "| Chr02_Occ  |  58.09090 |  9127.927 | 0.006364084 | 452245 | Urban_Rural    |\n",
       "| Chr02_Pall |  48.28769 |  8168.724 | 0.005911289 | 448060 | Urban_Rural    |\n",
       "| Chr03_Occ  |  92.57303 | 15094.218 | 0.006133013 | 751908 | Urban_Rural    |\n",
       "| Chr03_Pall |  88.62622 | 13781.622 | 0.006430754 | 737561 | Urban_Rural    |\n",
       "| Chr04_Occ  | 106.52381 | 15284.104 | 0.006969582 | 746820 | Urban_Rural    |\n",
       "| Chr04_Pall |  94.48009 | 13916.643 | 0.006789000 | 763101 | Urban_Rural    |\n",
       "| Chr05_Occ  |  77.50874 | 13210.376 | 0.005867262 | 609446 | Urban_Rural    |\n",
       "| Chr05_Pall |  72.62543 | 12060.541 | 0.006021739 | 623763 | Urban_Rural    |\n",
       "| Chr06_Occ  |  60.36274 | 11203.078 | 0.005388049 | 554824 | Urban_Rural    |\n",
       "| Chr06_Pall |  52.33705 |  9733.882 | 0.005376791 | 538902 | Urban_Rural    |\n",
       "| Chr07_Occ  |  80.42592 | 12149.887 | 0.006619479 | 650396 | Urban_Rural    |\n",
       "| Chr07_Pall |  64.16488 | 10939.911 | 0.005865210 | 636317 | Urban_Rural    |\n",
       "| Chr08_Occ  |  81.22856 | 12695.660 | 0.006398136 | 720948 | Urban_Rural    |\n",
       "| Chr08_Pall |  77.24588 | 12494.037 | 0.006182620 | 721290 | Urban_Rural    |\n",
       "| Chr01_Occ  |  96.05114 | 14721.337 | 0.006524621 | 801133 | Urban_Suburban |\n",
       "| Chr01_Pall |  95.23769 | 13890.388 | 0.006856374 | 790656 | Urban_Suburban |\n",
       "| Chr02_Occ  |  63.29549 |  9221.548 | 0.006863868 | 454211 | Urban_Suburban |\n",
       "| Chr02_Pall |  51.09954 |  8191.052 | 0.006238459 | 449941 | Urban_Suburban |\n",
       "| Chr03_Occ  |  96.02711 | 14997.142 | 0.006403027 | 754295 | Urban_Suburban |\n",
       "| Chr03_Pall |  83.14733 | 13769.320 | 0.006038594 | 739248 | Urban_Suburban |\n",
       "| Chr04_Occ  |  99.54752 | 15211.314 | 0.006544308 | 748952 | Urban_Suburban |\n",
       "| Chr04_Pall |  85.48367 | 13905.499 | 0.006147472 | 764120 | Urban_Suburban |\n",
       "| Chr05_Occ  |  78.43038 | 13293.610 | 0.005899856 | 611384 | Urban_Suburban |\n",
       "| Chr05_Pall |  73.77308 | 12149.659 | 0.006072028 | 625607 | Urban_Suburban |\n",
       "| Chr06_Occ  |  62.62435 | 11239.408 | 0.005571855 | 557212 | Urban_Suburban |\n",
       "| Chr06_Pall |  59.67664 |  9782.635 | 0.006100263 | 540533 | Urban_Suburban |\n",
       "| Chr07_Occ  |  76.08603 | 12286.925 | 0.006192439 | 652368 | Urban_Suburban |\n",
       "| Chr07_Pall |  63.99482 | 10975.798 | 0.005830539 | 637589 | Urban_Suburban |\n",
       "| Chr08_Occ  |  81.33684 | 12718.742 | 0.006395038 | 723151 | Urban_Suburban |\n",
       "| Chr08_Pall |  75.06271 | 12514.035 | 0.005998282 | 723734 | Urban_Suburban |\n",
       "\n"
      ],
      "text/plain": [
       "   chrom      num_sum   denom_sum fst         nSites hab_comb      \n",
       "1  Chr01_Occ   91.50563 14722.047 0.006215551 799953 Rural_Suburban\n",
       "2  Chr01_Pall  81.91693 13814.860 0.005929624 789664 Rural_Suburban\n",
       "3  Chr02_Occ   53.68691  9140.997 0.005873200 453414 Rural_Suburban\n",
       "4  Chr02_Pall  48.21671  8156.634 0.005911349 448643 Rural_Suburban\n",
       "5  Chr03_Occ   96.00967 15124.689 0.006347877 753594 Rural_Suburban\n",
       "6  Chr03_Pall  84.82880 13752.866 0.006168082 737439 Rural_Suburban\n",
       "7  Chr04_Occ  120.14581 15291.044 0.007857266 746466 Rural_Suburban\n",
       "8  Chr04_Pall  85.08602 13912.008 0.006116012 764043 Rural_Suburban\n",
       "9  Chr05_Occ   76.88015 13239.340 0.005806947 610975 Rural_Suburban\n",
       "10 Chr05_Pall  67.17268 12071.135 0.005564736 624394 Rural_Suburban\n",
       "11 Chr06_Occ   60.12550 11240.506 0.005349003 557190 Rural_Suburban\n",
       "12 Chr06_Pall  52.71016  9759.805 0.005400739 539569 Rural_Suburban\n",
       "13 Chr07_Occ   72.09989 12176.666 0.005921152 651073 Rural_Suburban\n",
       "14 Chr07_Pall  58.65187 10952.491 0.005355117 636238 Rural_Suburban\n",
       "15 Chr08_Occ   74.52747 12683.063 0.005876142 722052 Rural_Suburban\n",
       "16 Chr08_Pall  67.34308 12436.180 0.005415094 722239 Rural_Suburban\n",
       "17 Chr01_Occ   91.74431 14698.935 0.006241562 800066 Urban_Rural   \n",
       "18 Chr01_Pall  94.10194 13820.186 0.006809022 788221 Urban_Rural   \n",
       "19 Chr02_Occ   58.09090  9127.927 0.006364084 452245 Urban_Rural   \n",
       "20 Chr02_Pall  48.28769  8168.724 0.005911289 448060 Urban_Rural   \n",
       "21 Chr03_Occ   92.57303 15094.218 0.006133013 751908 Urban_Rural   \n",
       "22 Chr03_Pall  88.62622 13781.622 0.006430754 737561 Urban_Rural   \n",
       "23 Chr04_Occ  106.52381 15284.104 0.006969582 746820 Urban_Rural   \n",
       "24 Chr04_Pall  94.48009 13916.643 0.006789000 763101 Urban_Rural   \n",
       "25 Chr05_Occ   77.50874 13210.376 0.005867262 609446 Urban_Rural   \n",
       "26 Chr05_Pall  72.62543 12060.541 0.006021739 623763 Urban_Rural   \n",
       "27 Chr06_Occ   60.36274 11203.078 0.005388049 554824 Urban_Rural   \n",
       "28 Chr06_Pall  52.33705  9733.882 0.005376791 538902 Urban_Rural   \n",
       "29 Chr07_Occ   80.42592 12149.887 0.006619479 650396 Urban_Rural   \n",
       "30 Chr07_Pall  64.16488 10939.911 0.005865210 636317 Urban_Rural   \n",
       "31 Chr08_Occ   81.22856 12695.660 0.006398136 720948 Urban_Rural   \n",
       "32 Chr08_Pall  77.24588 12494.037 0.006182620 721290 Urban_Rural   \n",
       "33 Chr01_Occ   96.05114 14721.337 0.006524621 801133 Urban_Suburban\n",
       "34 Chr01_Pall  95.23769 13890.388 0.006856374 790656 Urban_Suburban\n",
       "35 Chr02_Occ   63.29549  9221.548 0.006863868 454211 Urban_Suburban\n",
       "36 Chr02_Pall  51.09954  8191.052 0.006238459 449941 Urban_Suburban\n",
       "37 Chr03_Occ   96.02711 14997.142 0.006403027 754295 Urban_Suburban\n",
       "38 Chr03_Pall  83.14733 13769.320 0.006038594 739248 Urban_Suburban\n",
       "39 Chr04_Occ   99.54752 15211.314 0.006544308 748952 Urban_Suburban\n",
       "40 Chr04_Pall  85.48367 13905.499 0.006147472 764120 Urban_Suburban\n",
       "41 Chr05_Occ   78.43038 13293.610 0.005899856 611384 Urban_Suburban\n",
       "42 Chr05_Pall  73.77308 12149.659 0.006072028 625607 Urban_Suburban\n",
       "43 Chr06_Occ   62.62435 11239.408 0.005571855 557212 Urban_Suburban\n",
       "44 Chr06_Pall  59.67664  9782.635 0.006100263 540533 Urban_Suburban\n",
       "45 Chr07_Occ   76.08603 12286.925 0.006192439 652368 Urban_Suburban\n",
       "46 Chr07_Pall  63.99482 10975.798 0.005830539 637589 Urban_Suburban\n",
       "47 Chr08_Occ   81.33684 12718.742 0.006395038 723151 Urban_Suburban\n",
       "48 Chr08_Pall  75.06271 12514.035 0.005998282 723734 Urban_Suburban"
      ]
     },
     "metadata": {},
     "output_type": "display_data"
    }
   ],
   "source": [
    "fst_stats"
   ]
  },
  {
   "cell_type": "code",
   "execution_count": 57,
   "metadata": {},
   "outputs": [
    {
     "data": {
      "text/html": [
       "<table class=\"dataframe\">\n",
       "<caption>A tibble: 3 × 2</caption>\n",
       "<thead>\n",
       "\t<tr><th scope=col>hab_comb</th><th scope=col>mean(fst)</th></tr>\n",
       "\t<tr><th scope=col>&lt;chr&gt;</th><th scope=col>&lt;dbl&gt;</th></tr>\n",
       "</thead>\n",
       "<tbody>\n",
       "\t<tr><td>Rural_Suburban</td><td>0.005944243</td></tr>\n",
       "\t<tr><td>Urban_Rural   </td><td>0.006210474</td></tr>\n",
       "\t<tr><td>Urban_Suburban</td><td>0.006229814</td></tr>\n",
       "</tbody>\n",
       "</table>\n"
      ],
      "text/latex": [
       "A tibble: 3 × 2\n",
       "\\begin{tabular}{ll}\n",
       " hab\\_comb & mean(fst)\\\\\n",
       " <chr> & <dbl>\\\\\n",
       "\\hline\n",
       "\t Rural\\_Suburban & 0.005944243\\\\\n",
       "\t Urban\\_Rural    & 0.006210474\\\\\n",
       "\t Urban\\_Suburban & 0.006229814\\\\\n",
       "\\end{tabular}\n"
      ],
      "text/markdown": [
       "\n",
       "A tibble: 3 × 2\n",
       "\n",
       "| hab_comb &lt;chr&gt; | mean(fst) &lt;dbl&gt; |\n",
       "|---|---|\n",
       "| Rural_Suburban | 0.005944243 |\n",
       "| Urban_Rural    | 0.006210474 |\n",
       "| Urban_Suburban | 0.006229814 |\n",
       "\n"
      ],
      "text/plain": [
       "  hab_comb       mean(fst)  \n",
       "1 Rural_Suburban 0.005944243\n",
       "2 Urban_Rural    0.006210474\n",
       "3 Urban_Suburban 0.006229814"
      ]
     },
     "metadata": {},
     "output_type": "display_data"
    }
   ],
   "source": [
    "fst_stats %>% \n",
    "    group_by(hab_comb) %>% \n",
    "    summarise(mean(fst))"
   ]
  },
  {
   "cell_type": "code",
   "execution_count": 59,
   "metadata": {},
   "outputs": [
    {
     "data": {
      "image/png": "[encoded data removed]",
      "text/plain": [
       "plot without title"
      ]
     },
     "metadata": {
      "image/png": {
       "height": 420,
       "width": 420
      }
     },
     "output_type": "display_data"
    }
   ],
   "source": [
    "fst_cols <- wes_palette(\"Darjeeling2\", n = 3)\n",
    "fst_stats %>%\n",
    "    group_by(hab_comb) %>%\n",
    "    summarise(mean_fst = mean(fst),\n",
    "              sd_fst = sd(fst),\n",
    "              se_fst = sd_fst / sqrt(n())) %>%\n",
    "    ggplot(., aes(x = hab_comb, y = mean_fst)) +\n",
    "        geom_errorbar(aes(ymin = mean_fst - se_fst, ymax = mean_fst + se_fst), width = 0.15) +\n",
    "        geom_point(size = 10, shape = 21, aes(fill = hab_comb)) +\n",
    "        xlab('Habitat') + ylab(\"Fst\") +\n",
    "        scale_fill_manual(values = fst_cols) +\n",
    "#         coord_cartesian(ylim = c(0.02210, 0.0230)) +\n",
    "        theme_classic()"
   ]
  },
  {
   "cell_type": "markdown",
   "metadata": {},
   "source": [
    "### Relatedness\n",
    "\n",
    "- I estimated pairwise relatedness across all samples using genotype likelihoods estimated in `ANGSD`\n",
    "- Uses same LD-pruned 4fold SNPs as above as for population structure"
   ]
  },
  {
   "cell_type": "code",
   "execution_count": 60,
   "metadata": {},
   "outputs": [],
   "source": [
    "# Load all chromosomal NGSrelate results and combine into single DF\n",
    "ngsrelate_output_path <- paste0(results_prefix, 'population_structure/ngsrelate')\n",
    "relate_df <- list.files(ngsrelate_output_path, pattern = '*.out', full.names = TRUE) %>%\n",
    "    purrr::map_dfr(., load_relatedness)"
   ]
  },
  {
   "cell_type": "code",
   "execution_count": 61,
   "metadata": {},
   "outputs": [],
   "source": [
    "# Get order of samples that were used as input to NGSrelate\n",
    "# Uses all high quality samples (N = 115)\n",
    "bam_list_path <- paste0(results_prefix, 'program_resources/bam_lists/highQualSamples_4fold_bams.list')\n",
    "relate_sample_list <- suppressMessages(read_table(bam_list_path, col_names = 'bam')) %>%\n",
    "    mutate(sample = str_extract(basename(bam), '(s_\\\\d+_\\\\d+)(?=_4fold)')) %>%\n",
    "    separate(sample, into = c('tmp', 'pop', 'ind'), sep = '_', remove = FALSE) %>%\n",
    "    dplyr::select(-tmp, -bam) %>%\n",
    "    mutate(idx = seq(from = 0, to = n() - 1))"
   ]
  },
  {
   "cell_type": "code",
   "execution_count": 62,
   "metadata": {},
   "outputs": [],
   "source": [
    "# Bind sample names to NGSrelate sample IDs\n",
    "# Add population and habitat info for later comparisons of relatedness among habitats\n",
    "pops_habitat <- samples %>% \n",
    "    rename('pop' = 'Population') %>% \n",
    "    dplyr::select(pop, Habitat) %>%\n",
    "    mutate(pop = as.character(pop)) %>%\n",
    "    distinct()\n",
    "relate_df_withHab <- relate_df %>%\n",
    "    pivot_longer(cols = c('a', 'b'), values_to = 'idx') %>%\n",
    "    left_join(., relate_sample_list, by = 'idx') %>%\n",
    "    dplyr::select(-idx) %>%\n",
    "    left_join(., pops_habitat, by = 'pop') %>%\n",
    "    pivot_wider(values_from = c('sample', 'pop', 'ind', 'Habitat'))"
   ]
  },
  {
   "cell_type": "code",
   "execution_count": 63,
   "metadata": {},
   "outputs": [
    {
     "name": "stderr",
     "output_type": "stream",
     "text": [
      "\u001b[1m\u001b[22m`summarise()` has grouped output by 'sample_a'. You can override using the `.groups`\n",
      "argument.\n"
     ]
    }
   ],
   "source": [
    "# Calculate mean relatedness across chromosomes for each sample comparison\n",
    "mean_relate_acrossChroms <- relate_df_withHab %>%\n",
    "    group_by(sample_a, sample_b) %>%\n",
    "    summarise(mean_rab_acrossChroms = mean(rab),\n",
    "              n = n()) %>%\n",
    "    left_join(., relate_df_withHab %>%\n",
    "              dplyr::select(sample_a, sample_b, pop_a, pop_b, Habitat_a, Habitat_b) %>%\n",
    "              distinct(),\n",
    "             by = c('sample_a', 'sample_b')) %>%\n",
    "    ungroup()"
   ]
  },
  {
   "cell_type": "code",
   "execution_count": 64,
   "metadata": {},
   "outputs": [],
   "source": [
    "# Calculate mean relatedness across samples for specific habitat comparisons\n",
    "mean_relate_acrossHabs <- mean_relate_acrossChroms %>%\n",
    "    mutate(comparison = case_when(Habitat_a == 'Urban' & Habitat_b == 'Urban' ~ 'Within Urban',\n",
    "                                  Habitat_a == 'Suburban' & Habitat_b == 'Suburban' ~ 'Within Suburban',\n",
    "                                  Habitat_a == 'Rural' & Habitat_b == 'Rural' ~ 'Within Rural',\n",
    "                                  \n",
    "                                  Habitat_a == 'Urban' & Habitat_b == 'Suburban' ~ 'Urban-Suburban',\n",
    "                                  Habitat_a == 'Suburban' & Habitat_b == 'Urban' ~ 'Urban-Suburban',\n",
    "                                  \n",
    "                                  Habitat_a == 'Urban' & Habitat_b == 'Rural' ~ 'Urban-Rural',\n",
    "                                  Habitat_a == 'Rural' & Habitat_b == 'Urban' ~ 'Urban-Rural',\n",
    "                                  \n",
    "                                  Habitat_a == 'Suburban' & Habitat_b == 'Rural' ~ 'Suburban-Rural',\n",
    "                                  Habitat_a == 'Rural' & Habitat_b == 'Suburban' ~ 'Suburban-Rural')) %>%\n",
    "    group_by(comparison) %>%\n",
    "    summarise(mean_rab = mean(mean_rab_acrossChroms),\n",
    "              sd_rab = sd(mean_rab_acrossChroms),\n",
    "              se_rab = sd_rab / sqrt(n()))"
   ]
  },
  {
   "cell_type": "code",
   "execution_count": 65,
   "metadata": {},
   "outputs": [
    {
     "data": {
      "image/png": "[encoded data removed]",
      "text/plain": [
       "plot without title"
      ]
     },
     "metadata": {
      "image/png": {
       "height": 420,
       "width": 420
      }
     },
     "output_type": "display_data"
    }
   ],
   "source": [
    "# Plot relatedness comparisons\n",
    "mean_relate_acrossHabs %>%\n",
    "    ggplot(., aes(x = comparison, y = mean_rab)) +\n",
    "    geom_errorbar(aes(ymin = mean_rab - se_rab, ymax = mean_rab + se_rab), width = 0.15) +\n",
    "    geom_point(size = 5) +\n",
    "    xlab('Comparison') + ylab('Mean relatedness') +\n",
    "    scale_fill_manual(values = cols_hab) +\n",
    "    theme_classic()"
   ]
  },
  {
   "cell_type": "code",
   "execution_count": 66,
   "metadata": {
    "scrolled": true
   },
   "outputs": [
    {
     "data": {
      "text/html": [
       "<table class=\"dataframe\">\n",
       "<caption>A tibble: 10 × 8</caption>\n",
       "<thead>\n",
       "\t<tr><th scope=col>sample_a</th><th scope=col>sample_b</th><th scope=col>mean_rab_acrossChroms</th><th scope=col>n</th><th scope=col>pop_a</th><th scope=col>pop_b</th><th scope=col>Habitat_a</th><th scope=col>Habitat_b</th></tr>\n",
       "\t<tr><th scope=col>&lt;chr&gt;</th><th scope=col>&lt;chr&gt;</th><th scope=col>&lt;dbl&gt;</th><th scope=col>&lt;int&gt;</th><th scope=col>&lt;chr&gt;</th><th scope=col>&lt;chr&gt;</th><th scope=col>&lt;chr&gt;</th><th scope=col>&lt;chr&gt;</th></tr>\n",
       "</thead>\n",
       "<tbody>\n",
       "\t<tr><td>s_97_9 </td><td>s_97_14</td><td>0.7928899</td><td>16</td><td>97</td><td>97</td><td>Rural</td><td>Rural</td></tr>\n",
       "\t<tr><td>s_37_6 </td><td>s_37_18</td><td>0.7919010</td><td>16</td><td>37</td><td>37</td><td>Urban</td><td>Urban</td></tr>\n",
       "\t<tr><td>s_42_3 </td><td>s_42_9 </td><td>0.7760183</td><td>16</td><td>42</td><td>42</td><td>Urban</td><td>Urban</td></tr>\n",
       "\t<tr><td>s_83_5 </td><td>s_83_11</td><td>0.7508915</td><td>16</td><td>83</td><td>83</td><td>Rural</td><td>Rural</td></tr>\n",
       "\t<tr><td>s_42_1 </td><td>s_42_20</td><td>0.7404613</td><td>16</td><td>42</td><td>42</td><td>Urban</td><td>Urban</td></tr>\n",
       "\t<tr><td>s_37_11</td><td>s_37_18</td><td>0.4207409</td><td>16</td><td>37</td><td>37</td><td>Urban</td><td>Urban</td></tr>\n",
       "\t<tr><td>s_37_6 </td><td>s_37_11</td><td>0.4147834</td><td>16</td><td>37</td><td>37</td><td>Urban</td><td>Urban</td></tr>\n",
       "\t<tr><td>s_37_8 </td><td>s_37_12</td><td>0.2821022</td><td>16</td><td>37</td><td>37</td><td>Urban</td><td>Urban</td></tr>\n",
       "\t<tr><td>s_7_6  </td><td>s_7_13 </td><td>0.2327082</td><td>16</td><td>7 </td><td>7 </td><td>Rural</td><td>Rural</td></tr>\n",
       "\t<tr><td>s_37_13</td><td>s_37_15</td><td>0.1916153</td><td>16</td><td>37</td><td>37</td><td>Urban</td><td>Urban</td></tr>\n",
       "</tbody>\n",
       "</table>\n"
      ],
      "text/latex": [
       "A tibble: 10 × 8\n",
       "\\begin{tabular}{llllllll}\n",
       " sample\\_a & sample\\_b & mean\\_rab\\_acrossChroms & n & pop\\_a & pop\\_b & Habitat\\_a & Habitat\\_b\\\\\n",
       " <chr> & <chr> & <dbl> & <int> & <chr> & <chr> & <chr> & <chr>\\\\\n",
       "\\hline\n",
       "\t s\\_97\\_9  & s\\_97\\_14 & 0.7928899 & 16 & 97 & 97 & Rural & Rural\\\\\n",
       "\t s\\_37\\_6  & s\\_37\\_18 & 0.7919010 & 16 & 37 & 37 & Urban & Urban\\\\\n",
       "\t s\\_42\\_3  & s\\_42\\_9  & 0.7760183 & 16 & 42 & 42 & Urban & Urban\\\\\n",
       "\t s\\_83\\_5  & s\\_83\\_11 & 0.7508915 & 16 & 83 & 83 & Rural & Rural\\\\\n",
       "\t s\\_42\\_1  & s\\_42\\_20 & 0.7404613 & 16 & 42 & 42 & Urban & Urban\\\\\n",
       "\t s\\_37\\_11 & s\\_37\\_18 & 0.4207409 & 16 & 37 & 37 & Urban & Urban\\\\\n",
       "\t s\\_37\\_6  & s\\_37\\_11 & 0.4147834 & 16 & 37 & 37 & Urban & Urban\\\\\n",
       "\t s\\_37\\_8  & s\\_37\\_12 & 0.2821022 & 16 & 37 & 37 & Urban & Urban\\\\\n",
       "\t s\\_7\\_6   & s\\_7\\_13  & 0.2327082 & 16 & 7  & 7  & Rural & Rural\\\\\n",
       "\t s\\_37\\_13 & s\\_37\\_15 & 0.1916153 & 16 & 37 & 37 & Urban & Urban\\\\\n",
       "\\end{tabular}\n"
      ],
      "text/markdown": [
       "\n",
       "A tibble: 10 × 8\n",
       "\n",
       "| sample_a &lt;chr&gt; | sample_b &lt;chr&gt; | mean_rab_acrossChroms &lt;dbl&gt; | n &lt;int&gt; | pop_a &lt;chr&gt; | pop_b &lt;chr&gt; | Habitat_a &lt;chr&gt; | Habitat_b &lt;chr&gt; |\n",
       "|---|---|---|---|---|---|---|---|\n",
       "| s_97_9  | s_97_14 | 0.7928899 | 16 | 97 | 97 | Rural | Rural |\n",
       "| s_37_6  | s_37_18 | 0.7919010 | 16 | 37 | 37 | Urban | Urban |\n",
       "| s_42_3  | s_42_9  | 0.7760183 | 16 | 42 | 42 | Urban | Urban |\n",
       "| s_83_5  | s_83_11 | 0.7508915 | 16 | 83 | 83 | Rural | Rural |\n",
       "| s_42_1  | s_42_20 | 0.7404613 | 16 | 42 | 42 | Urban | Urban |\n",
       "| s_37_11 | s_37_18 | 0.4207409 | 16 | 37 | 37 | Urban | Urban |\n",
       "| s_37_6  | s_37_11 | 0.4147834 | 16 | 37 | 37 | Urban | Urban |\n",
       "| s_37_8  | s_37_12 | 0.2821022 | 16 | 37 | 37 | Urban | Urban |\n",
       "| s_7_6   | s_7_13  | 0.2327082 | 16 | 7  | 7  | Rural | Rural |\n",
       "| s_37_13 | s_37_15 | 0.1916153 | 16 | 37 | 37 | Urban | Urban |\n",
       "\n"
      ],
      "text/plain": [
       "   sample_a sample_b mean_rab_acrossChroms n  pop_a pop_b Habitat_a Habitat_b\n",
       "1  s_97_9   s_97_14  0.7928899             16 97    97    Rural     Rural    \n",
       "2  s_37_6   s_37_18  0.7919010             16 37    37    Urban     Urban    \n",
       "3  s_42_3   s_42_9   0.7760183             16 42    42    Urban     Urban    \n",
       "4  s_83_5   s_83_11  0.7508915             16 83    83    Rural     Rural    \n",
       "5  s_42_1   s_42_20  0.7404613             16 42    42    Urban     Urban    \n",
       "6  s_37_11  s_37_18  0.4207409             16 37    37    Urban     Urban    \n",
       "7  s_37_6   s_37_11  0.4147834             16 37    37    Urban     Urban    \n",
       "8  s_37_8   s_37_12  0.2821022             16 37    37    Urban     Urban    \n",
       "9  s_7_6    s_7_13   0.2327082             16 7     7     Rural     Rural    \n",
       "10 s_37_13  s_37_15  0.1916153             16 37    37    Urban     Urban    "
      ]
     },
     "metadata": {},
     "output_type": "display_data"
    }
   ],
   "source": [
    "mean_relate_acrossChroms %>%\n",
    "    arrange(desc(mean_rab_acrossChroms)) %>%\n",
    "    head(n = 10)"
   ]
  },
  {
   "cell_type": "markdown",
   "metadata": {},
   "source": [
    "### Population stats"
   ]
  },
  {
   "cell_type": "code",
   "execution_count": 69,
   "metadata": {},
   "outputs": [],
   "source": [
    "load_population_fst <- function(path){\n",
    "    pop_a <- str_split(basename(path), '_', simplify = T)[1]\n",
    "    pop_b <- str_split(basename(path), '_', simplify = T)[2]\n",
    "    colnames <- c('chrom', 'pos', 'num', 'denom')\n",
    "    df <- suppressMessages(read_delim(path, delim = '\\t', col_names = colnames)) %>%\n",
    "        # Cap numerators at 0 if negative \n",
    "        # https://github.com/ANGSD/angsd/issues/309\n",
    "        # Does not affect overall pattern\n",
    "        mutate(num = ifelse(num < 0, 0, num)) %>% \n",
    "        \n",
    "#         group_by(chrom) %>%\n",
    "        \n",
    "        # Estimate weighted Fst as ratio of averages\n",
    "        # https://github.com/ANGSD/angsd/issues/61\n",
    "        summarise(num_sum = sum(num),\n",
    "                  denom_sum = sum(denom),\n",
    "                  fst = num_sum / denom_sum,\n",
    "                  nSites = n()) %>% \n",
    "        mutate(pop_a = pop_a, pop_b = pop_b)\n",
    "    return(df)\n",
    "}\n",
    "\n",
    "path <- paste0(results_prefix, 'angsd/summary_stats/hudson_fst/byPopulation')\n",
    "pop_fst_df <- list.files(path, pattern = '*_readable.fst', full.names = T) %>% \n",
    "    purrr::map_dfr(., load_population_fst)"
   ]
  },
  {
   "cell_type": "code",
   "execution_count": 70,
   "metadata": {},
   "outputs": [],
   "source": [
    "pop_fst_df_withHabs <- pop_fst_df %>% \n",
    "    left_join(mean_relate_acrossChroms %>% dplyr::select(pop_a, pop_b, Habitat_a, Habitat_b) %>% distinct(),\n",
    "              by = c('pop_a', 'pop_b'))"
   ]
  },
  {
   "cell_type": "code",
   "execution_count": 71,
   "metadata": {},
   "outputs": [
    {
     "data": {
      "image/png": "[encoded data removed]",
      "text/plain": [
       "plot without title"
      ]
     },
     "metadata": {
      "image/png": {
       "height": 420,
       "width": 420
      }
     },
     "output_type": "display_data"
    }
   ],
   "source": [
    "# Calculate mean fst across populations for specific habitat comparisons\n",
    "mean_fst_acrossHabs <- pop_fst_df_withHabs %>%\n",
    "    mutate(comparison = case_when(Habitat_a == 'Urban' & Habitat_b == 'Urban' ~ 'Within Urban',\n",
    "                                  Habitat_a == 'Suburban' & Habitat_b == 'Suburban' ~ 'Within Suburban',\n",
    "                                  Habitat_a == 'Rural' & Habitat_b == 'Rural' ~ 'Within Rural',\n",
    "                                  \n",
    "                                  Habitat_a == 'Urban' & Habitat_b == 'Suburban' ~ 'Urban-Suburban',\n",
    "                                  Habitat_a == 'Suburban' & Habitat_b == 'Urban' ~ 'Urban-Suburban',\n",
    "                                  \n",
    "                                  Habitat_a == 'Urban' & Habitat_b == 'Rural' ~ 'Urban-Rural',\n",
    "                                  Habitat_a == 'Rural' & Habitat_b == 'Urban' ~ 'Urban-Rural',\n",
    "                                  \n",
    "                                  Habitat_a == 'Suburban' & Habitat_b == 'Rural' ~ 'Suburban-Rural',\n",
    "                                  Habitat_a == 'Rural' & Habitat_b == 'Suburban' ~ 'Suburban-Rural')) %>%\n",
    "    group_by(comparison) %>%\n",
    "    summarise(mean_fst = mean(fst),\n",
    "              sd_fst = sd(fst),\n",
    "              se_fst = sd_fst / sqrt(n()))\n",
    "\n",
    "# Plot fst comparisons\n",
    "mean_fst_acrossHabs %>%\n",
    "    ggplot(., aes(x = comparison, y = mean_fst)) +\n",
    "    geom_errorbar(aes(ymin = mean_fst - se_fst, ymax = mean_fst + se_fst), width = 0.15) +\n",
    "    geom_point(size = 5) +\n",
    "    xlab('Comparison') + ylab('Mean Fst') +\n",
    "    scale_fill_manual(values = cols_hab) +\n",
    "    theme_classic()"
   ]
  },
  {
   "cell_type": "code",
   "execution_count": 72,
   "metadata": {},
   "outputs": [
    {
     "data": {
      "image/png": "[encoded data removed]",
      "text/plain": [
       "plot without title"
      ]
     },
     "metadata": {
      "image/png": {
       "height": 420,
       "width": 420
      }
     },
     "output_type": "display_data"
    }
   ],
   "source": [
    "pop_fst_df_withHabs %>%\n",
    "    complete(pop_a, pop_b) %>% \n",
    "    ggplot(., aes(x = factor(pop_a), y = factor(pop_b), fill = fst)) +\n",
    "    geom_tile() +\n",
    "    theme_classic()"
   ]
  },
  {
   "cell_type": "code",
   "execution_count": 73,
   "metadata": {},
   "outputs": [
    {
     "data": {
      "text/html": [
       "<table class=\"dataframe\">\n",
       "<caption>A tibble: 55 × 8</caption>\n",
       "<thead>\n",
       "\t<tr><th scope=col>num_sum</th><th scope=col>denom_sum</th><th scope=col>fst</th><th scope=col>nSites</th><th scope=col>pop_a</th><th scope=col>pop_b</th><th scope=col>Habitat_a</th><th scope=col>Habitat_b</th></tr>\n",
       "\t<tr><th scope=col>&lt;dbl&gt;</th><th scope=col>&lt;dbl&gt;</th><th scope=col>&lt;dbl&gt;</th><th scope=col>&lt;int&gt;</th><th scope=col>&lt;chr&gt;</th><th scope=col>&lt;chr&gt;</th><th scope=col>&lt;chr&gt;</th><th scope=col>&lt;chr&gt;</th></tr>\n",
       "</thead>\n",
       "<tbody>\n",
       "\t<tr><td>5674.866</td><td>192811.7</td><td>0.02943217</td><td>10497250</td><td>23</td><td>116</td><td>Suburban</td><td>Suburban</td></tr>\n",
       "\t<tr><td>6345.854</td><td>185295.9</td><td>0.03424714</td><td>10294143</td><td>23</td><td>37 </td><td>Suburban</td><td>Urban   </td></tr>\n",
       "\t<tr><td>5690.049</td><td>192238.9</td><td>0.02959885</td><td>10530755</td><td>23</td><td>54 </td><td>Suburban</td><td>Suburban</td></tr>\n",
       "\t<tr><td>5589.754</td><td>193407.2</td><td>0.02890147</td><td>10523728</td><td>23</td><td>83 </td><td>Suburban</td><td>Rural   </td></tr>\n",
       "\t<tr><td>6135.147</td><td>190713.1</td><td>0.03216950</td><td>10419082</td><td>37</td><td>116</td><td>Urban   </td><td>Suburban</td></tr>\n",
       "\t<tr><td>6176.573</td><td>190217.2</td><td>0.03247116</td><td>10451206</td><td>37</td><td>54 </td><td>Urban   </td><td>Suburban</td></tr>\n",
       "\t<tr><td>5993.530</td><td>191372.3</td><td>0.03131869</td><td>10445995</td><td>37</td><td>83 </td><td>Urban   </td><td>Rural   </td></tr>\n",
       "\t<tr><td>6830.641</td><td>198901.5</td><td>0.03434183</td><td>10650471</td><td>40</td><td>116</td><td>Urban   </td><td>Suburban</td></tr>\n",
       "\t<tr><td>7396.554</td><td>193349.6</td><td>0.03825482</td><td>10485793</td><td>40</td><td>23 </td><td>Urban   </td><td>Suburban</td></tr>\n",
       "\t<tr><td>7642.397</td><td>190890.1</td><td>0.04003559</td><td>10406781</td><td>40</td><td>37 </td><td>Urban   </td><td>Urban   </td></tr>\n",
       "\t<tr><td>6380.580</td><td>199303.9</td><td>0.03201433</td><td>10632116</td><td>40</td><td>41 </td><td>Urban   </td><td>Urban   </td></tr>\n",
       "\t<tr><td>6784.639</td><td>194796.5</td><td>0.03482936</td><td>10563613</td><td>40</td><td>42 </td><td>Urban   </td><td>Urban   </td></tr>\n",
       "\t<tr><td>6973.511</td><td>199923.1</td><td>0.03488096</td><td>10653796</td><td>40</td><td>43 </td><td>Urban   </td><td>Urban   </td></tr>\n",
       "\t<tr><td>7281.702</td><td>199144.3</td><td>0.03656495</td><td>10687925</td><td>40</td><td>54 </td><td>Urban   </td><td>Suburban</td></tr>\n",
       "\t<tr><td>9184.204</td><td>197320.9</td><td>0.04654451</td><td>10631435</td><td>40</td><td>7  </td><td>Urban   </td><td>Rural   </td></tr>\n",
       "\t<tr><td>6950.279</td><td>199905.2</td><td>0.03476787</td><td>10677157</td><td>40</td><td>83 </td><td>Urban   </td><td>Rural   </td></tr>\n",
       "\t<tr><td>7560.493</td><td>199587.7</td><td>0.03788056</td><td>10598285</td><td>40</td><td>97 </td><td>Urban   </td><td>Rural   </td></tr>\n",
       "\t<tr><td>5004.793</td><td>199303.7</td><td>0.02511139</td><td>10644934</td><td>41</td><td>116</td><td>Urban   </td><td>Suburban</td></tr>\n",
       "\t<tr><td>5127.299</td><td>193172.3</td><td>0.02654262</td><td>10491009</td><td>41</td><td>23 </td><td>Urban   </td><td>Suburban</td></tr>\n",
       "\t<tr><td>5586.435</td><td>191176.0</td><td>0.02922143</td><td>10411178</td><td>41</td><td>37 </td><td>Urban   </td><td>Urban   </td></tr>\n",
       "\t<tr><td>4647.945</td><td>194860.2</td><td>0.02385272</td><td>10570287</td><td>41</td><td>42 </td><td>Urban   </td><td>Urban   </td></tr>\n",
       "\t<tr><td>4475.362</td><td>199806.1</td><td>0.02239853</td><td>10653935</td><td>41</td><td>43 </td><td>Urban   </td><td>Urban   </td></tr>\n",
       "\t<tr><td>4979.223</td><td>199022.1</td><td>0.02501845</td><td>10686431</td><td>41</td><td>54 </td><td>Urban   </td><td>Suburban</td></tr>\n",
       "\t<tr><td>6793.904</td><td>197342.3</td><td>0.03442700</td><td>10636204</td><td>41</td><td>7  </td><td>Urban   </td><td>Rural   </td></tr>\n",
       "\t<tr><td>4330.041</td><td>199515.0</td><td>0.02170284</td><td>10682434</td><td>41</td><td>83 </td><td>Urban   </td><td>Rural   </td></tr>\n",
       "\t<tr><td>6191.086</td><td>200533.8</td><td>0.03087303</td><td>10597496</td><td>41</td><td>97 </td><td>Urban   </td><td>Rural   </td></tr>\n",
       "\t<tr><td>5201.941</td><td>194601.1</td><td>0.02673130</td><td>10586205</td><td>42</td><td>116</td><td>Urban   </td><td>Suburban</td></tr>\n",
       "\t<tr><td>5746.449</td><td>188943.6</td><td>0.03041357</td><td>10429331</td><td>42</td><td>23 </td><td>Urban   </td><td>Suburban</td></tr>\n",
       "\t<tr><td>5795.534</td><td>186652.4</td><td>0.03104988</td><td>10363006</td><td>42</td><td>37 </td><td>Urban   </td><td>Urban   </td></tr>\n",
       "\t<tr><td>4923.953</td><td>195330.9</td><td>0.02520827</td><td>10594658</td><td>42</td><td>43 </td><td>Urban   </td><td>Urban   </td></tr>\n",
       "\t<tr><td>5255.440</td><td>194296.7</td><td>0.02704853</td><td>10623383</td><td>42</td><td>54 </td><td>Urban   </td><td>Suburban</td></tr>\n",
       "\t<tr><td>7279.652</td><td>192863.1</td><td>0.03774518</td><td>10574280</td><td>42</td><td>7  </td><td>Urban   </td><td>Rural   </td></tr>\n",
       "\t<tr><td>5218.083</td><td>195420.5</td><td>0.02670182</td><td>10610834</td><td>42</td><td>83 </td><td>Urban   </td><td>Rural   </td></tr>\n",
       "\t<tr><td>6879.297</td><td>196207.9</td><td>0.03506126</td><td>10528771</td><td>42</td><td>97 </td><td>Urban   </td><td>Rural   </td></tr>\n",
       "\t<tr><td>4455.225</td><td>198827.1</td><td>0.02240753</td><td>10680413</td><td>43</td><td>116</td><td>Urban   </td><td>Suburban</td></tr>\n",
       "\t<tr><td>5325.507</td><td>193430.6</td><td>0.02753187</td><td>10501389</td><td>43</td><td>23 </td><td>Urban   </td><td>Suburban</td></tr>\n",
       "\t<tr><td>5838.915</td><td>191440.5</td><td>0.03049990</td><td>10427668</td><td>43</td><td>37 </td><td>Urban   </td><td>Urban   </td></tr>\n",
       "\t<tr><td>5033.314</td><td>199287.2</td><td>0.02525658</td><td>10719151</td><td>43</td><td>54 </td><td>Urban   </td><td>Suburban</td></tr>\n",
       "\t<tr><td>6969.237</td><td>197595.2</td><td>0.03527027</td><td>10660674</td><td>43</td><td>7  </td><td>Urban   </td><td>Rural   </td></tr>\n",
       "\t<tr><td>4854.332</td><td>200267.6</td><td>0.02423923</td><td>10705459</td><td>43</td><td>83 </td><td>Urban   </td><td>Rural   </td></tr>\n",
       "\t<tr><td>5817.459</td><td>200121.8</td><td>0.02906958</td><td>10616353</td><td>43</td><td>97 </td><td>Urban   </td><td>Rural   </td></tr>\n",
       "\t<tr><td>5431.040</td><td>198706.4</td><td>0.02733198</td><td>10711265</td><td>54</td><td>116</td><td>Suburban</td><td>Suburban</td></tr>\n",
       "\t<tr><td>5098.426</td><td>199272.1</td><td>0.02558525</td><td>10745679</td><td>54</td><td>83 </td><td>Suburban</td><td>Rural   </td></tr>\n",
       "\t<tr><td>7308.830</td><td>196970.2</td><td>0.03710627</td><td>10654287</td><td>7 </td><td>116</td><td>Rural   </td><td>Suburban</td></tr>\n",
       "\t<tr><td>7741.494</td><td>191136.1</td><td>0.04050251</td><td>10487765</td><td>7 </td><td>23 </td><td>Rural   </td><td>Suburban</td></tr>\n",
       "\t<tr><td>8274.784</td><td>189068.3</td><td>0.04376611</td><td>10407123</td><td>7 </td><td>37 </td><td>Rural   </td><td>Urban   </td></tr>\n",
       "\t<tr><td>7594.436</td><td>196976.5</td><td>0.03855503</td><td>10695841</td><td>7 </td><td>54 </td><td>Rural   </td><td>Suburban</td></tr>\n",
       "\t<tr><td>6898.567</td><td>197353.5</td><td>0.03495538</td><td>10684668</td><td>7 </td><td>83 </td><td>Rural   </td><td>Rural   </td></tr>\n",
       "\t<tr><td>5255.633</td><td>199612.7</td><td>0.02632915</td><td>10699388</td><td>83</td><td>116</td><td>Rural   </td><td>Suburban</td></tr>\n",
       "\t<tr><td>5779.927</td><td>199111.1</td><td>0.02902865</td><td>10613639</td><td>97</td><td>116</td><td>Rural   </td><td>Suburban</td></tr>\n",
       "\t<tr><td>6824.488</td><td>194115.4</td><td>0.03515686</td><td>10456951</td><td>97</td><td>23 </td><td>Rural   </td><td>Suburban</td></tr>\n",
       "\t<tr><td>7545.629</td><td>192271.6</td><td>0.03924463</td><td>10379022</td><td>97</td><td>37 </td><td>Rural   </td><td>Urban   </td></tr>\n",
       "\t<tr><td>6750.457</td><td>199914.0</td><td>0.03376681</td><td>10650302</td><td>97</td><td>54 </td><td>Rural   </td><td>Suburban</td></tr>\n",
       "\t<tr><td>8538.754</td><td>198099.1</td><td>0.04310344</td><td>10597786</td><td>97</td><td>7  </td><td>Rural   </td><td>Rural   </td></tr>\n",
       "\t<tr><td>6235.311</td><td>200552.3</td><td>0.03109070</td><td>10643658</td><td>97</td><td>83 </td><td>Rural   </td><td>Rural   </td></tr>\n",
       "</tbody>\n",
       "</table>\n"
      ],
      "text/latex": [
       "A tibble: 55 × 8\n",
       "\\begin{tabular}{llllllll}\n",
       " num\\_sum & denom\\_sum & fst & nSites & pop\\_a & pop\\_b & Habitat\\_a & Habitat\\_b\\\\\n",
       " <dbl> & <dbl> & <dbl> & <int> & <chr> & <chr> & <chr> & <chr>\\\\\n",
       "\\hline\n",
       "\t 5674.866 & 192811.7 & 0.02943217 & 10497250 & 23 & 116 & Suburban & Suburban\\\\\n",
       "\t 6345.854 & 185295.9 & 0.03424714 & 10294143 & 23 & 37  & Suburban & Urban   \\\\\n",
       "\t 5690.049 & 192238.9 & 0.02959885 & 10530755 & 23 & 54  & Suburban & Suburban\\\\\n",
       "\t 5589.754 & 193407.2 & 0.02890147 & 10523728 & 23 & 83  & Suburban & Rural   \\\\\n",
       "\t 6135.147 & 190713.1 & 0.03216950 & 10419082 & 37 & 116 & Urban    & Suburban\\\\\n",
       "\t 6176.573 & 190217.2 & 0.03247116 & 10451206 & 37 & 54  & Urban    & Suburban\\\\\n",
       "\t 5993.530 & 191372.3 & 0.03131869 & 10445995 & 37 & 83  & Urban    & Rural   \\\\\n",
       "\t 6830.641 & 198901.5 & 0.03434183 & 10650471 & 40 & 116 & Urban    & Suburban\\\\\n",
       "\t 7396.554 & 193349.6 & 0.03825482 & 10485793 & 40 & 23  & Urban    & Suburban\\\\\n",
       "\t 7642.397 & 190890.1 & 0.04003559 & 10406781 & 40 & 37  & Urban    & Urban   \\\\\n",
       "\t 6380.580 & 199303.9 & 0.03201433 & 10632116 & 40 & 41  & Urban    & Urban   \\\\\n",
       "\t 6784.639 & 194796.5 & 0.03482936 & 10563613 & 40 & 42  & Urban    & Urban   \\\\\n",
       "\t 6973.511 & 199923.1 & 0.03488096 & 10653796 & 40 & 43  & Urban    & Urban   \\\\\n",
       "\t 7281.702 & 199144.3 & 0.03656495 & 10687925 & 40 & 54  & Urban    & Suburban\\\\\n",
       "\t 9184.204 & 197320.9 & 0.04654451 & 10631435 & 40 & 7   & Urban    & Rural   \\\\\n",
       "\t 6950.279 & 199905.2 & 0.03476787 & 10677157 & 40 & 83  & Urban    & Rural   \\\\\n",
       "\t 7560.493 & 199587.7 & 0.03788056 & 10598285 & 40 & 97  & Urban    & Rural   \\\\\n",
       "\t 5004.793 & 199303.7 & 0.02511139 & 10644934 & 41 & 116 & Urban    & Suburban\\\\\n",
       "\t 5127.299 & 193172.3 & 0.02654262 & 10491009 & 41 & 23  & Urban    & Suburban\\\\\n",
       "\t 5586.435 & 191176.0 & 0.02922143 & 10411178 & 41 & 37  & Urban    & Urban   \\\\\n",
       "\t 4647.945 & 194860.2 & 0.02385272 & 10570287 & 41 & 42  & Urban    & Urban   \\\\\n",
       "\t 4475.362 & 199806.1 & 0.02239853 & 10653935 & 41 & 43  & Urban    & Urban   \\\\\n",
       "\t 4979.223 & 199022.1 & 0.02501845 & 10686431 & 41 & 54  & Urban    & Suburban\\\\\n",
       "\t 6793.904 & 197342.3 & 0.03442700 & 10636204 & 41 & 7   & Urban    & Rural   \\\\\n",
       "\t 4330.041 & 199515.0 & 0.02170284 & 10682434 & 41 & 83  & Urban    & Rural   \\\\\n",
       "\t 6191.086 & 200533.8 & 0.03087303 & 10597496 & 41 & 97  & Urban    & Rural   \\\\\n",
       "\t 5201.941 & 194601.1 & 0.02673130 & 10586205 & 42 & 116 & Urban    & Suburban\\\\\n",
       "\t 5746.449 & 188943.6 & 0.03041357 & 10429331 & 42 & 23  & Urban    & Suburban\\\\\n",
       "\t 5795.534 & 186652.4 & 0.03104988 & 10363006 & 42 & 37  & Urban    & Urban   \\\\\n",
       "\t 4923.953 & 195330.9 & 0.02520827 & 10594658 & 42 & 43  & Urban    & Urban   \\\\\n",
       "\t 5255.440 & 194296.7 & 0.02704853 & 10623383 & 42 & 54  & Urban    & Suburban\\\\\n",
       "\t 7279.652 & 192863.1 & 0.03774518 & 10574280 & 42 & 7   & Urban    & Rural   \\\\\n",
       "\t 5218.083 & 195420.5 & 0.02670182 & 10610834 & 42 & 83  & Urban    & Rural   \\\\\n",
       "\t 6879.297 & 196207.9 & 0.03506126 & 10528771 & 42 & 97  & Urban    & Rural   \\\\\n",
       "\t 4455.225 & 198827.1 & 0.02240753 & 10680413 & 43 & 116 & Urban    & Suburban\\\\\n",
       "\t 5325.507 & 193430.6 & 0.02753187 & 10501389 & 43 & 23  & Urban    & Suburban\\\\\n",
       "\t 5838.915 & 191440.5 & 0.03049990 & 10427668 & 43 & 37  & Urban    & Urban   \\\\\n",
       "\t 5033.314 & 199287.2 & 0.02525658 & 10719151 & 43 & 54  & Urban    & Suburban\\\\\n",
       "\t 6969.237 & 197595.2 & 0.03527027 & 10660674 & 43 & 7   & Urban    & Rural   \\\\\n",
       "\t 4854.332 & 200267.6 & 0.02423923 & 10705459 & 43 & 83  & Urban    & Rural   \\\\\n",
       "\t 5817.459 & 200121.8 & 0.02906958 & 10616353 & 43 & 97  & Urban    & Rural   \\\\\n",
       "\t 5431.040 & 198706.4 & 0.02733198 & 10711265 & 54 & 116 & Suburban & Suburban\\\\\n",
       "\t 5098.426 & 199272.1 & 0.02558525 & 10745679 & 54 & 83  & Suburban & Rural   \\\\\n",
       "\t 7308.830 & 196970.2 & 0.03710627 & 10654287 & 7  & 116 & Rural    & Suburban\\\\\n",
       "\t 7741.494 & 191136.1 & 0.04050251 & 10487765 & 7  & 23  & Rural    & Suburban\\\\\n",
       "\t 8274.784 & 189068.3 & 0.04376611 & 10407123 & 7  & 37  & Rural    & Urban   \\\\\n",
       "\t 7594.436 & 196976.5 & 0.03855503 & 10695841 & 7  & 54  & Rural    & Suburban\\\\\n",
       "\t 6898.567 & 197353.5 & 0.03495538 & 10684668 & 7  & 83  & Rural    & Rural   \\\\\n",
       "\t 5255.633 & 199612.7 & 0.02632915 & 10699388 & 83 & 116 & Rural    & Suburban\\\\\n",
       "\t 5779.927 & 199111.1 & 0.02902865 & 10613639 & 97 & 116 & Rural    & Suburban\\\\\n",
       "\t 6824.488 & 194115.4 & 0.03515686 & 10456951 & 97 & 23  & Rural    & Suburban\\\\\n",
       "\t 7545.629 & 192271.6 & 0.03924463 & 10379022 & 97 & 37  & Rural    & Urban   \\\\\n",
       "\t 6750.457 & 199914.0 & 0.03376681 & 10650302 & 97 & 54  & Rural    & Suburban\\\\\n",
       "\t 8538.754 & 198099.1 & 0.04310344 & 10597786 & 97 & 7   & Rural    & Rural   \\\\\n",
       "\t 6235.311 & 200552.3 & 0.03109070 & 10643658 & 97 & 83  & Rural    & Rural   \\\\\n",
       "\\end{tabular}\n"
      ],
      "text/markdown": [
       "\n",
       "A tibble: 55 × 8\n",
       "\n",
       "| num_sum &lt;dbl&gt; | denom_sum &lt;dbl&gt; | fst &lt;dbl&gt; | nSites &lt;int&gt; | pop_a &lt;chr&gt; | pop_b &lt;chr&gt; | Habitat_a &lt;chr&gt; | Habitat_b &lt;chr&gt; |\n",
       "|---|---|---|---|---|---|---|---|\n",
       "| 5674.866 | 192811.7 | 0.02943217 | 10497250 | 23 | 116 | Suburban | Suburban |\n",
       "| 6345.854 | 185295.9 | 0.03424714 | 10294143 | 23 | 37  | Suburban | Urban    |\n",
       "| 5690.049 | 192238.9 | 0.02959885 | 10530755 | 23 | 54  | Suburban | Suburban |\n",
       "| 5589.754 | 193407.2 | 0.02890147 | 10523728 | 23 | 83  | Suburban | Rural    |\n",
       "| 6135.147 | 190713.1 | 0.03216950 | 10419082 | 37 | 116 | Urban    | Suburban |\n",
       "| 6176.573 | 190217.2 | 0.03247116 | 10451206 | 37 | 54  | Urban    | Suburban |\n",
       "| 5993.530 | 191372.3 | 0.03131869 | 10445995 | 37 | 83  | Urban    | Rural    |\n",
       "| 6830.641 | 198901.5 | 0.03434183 | 10650471 | 40 | 116 | Urban    | Suburban |\n",
       "| 7396.554 | 193349.6 | 0.03825482 | 10485793 | 40 | 23  | Urban    | Suburban |\n",
       "| 7642.397 | 190890.1 | 0.04003559 | 10406781 | 40 | 37  | Urban    | Urban    |\n",
       "| 6380.580 | 199303.9 | 0.03201433 | 10632116 | 40 | 41  | Urban    | Urban    |\n",
       "| 6784.639 | 194796.5 | 0.03482936 | 10563613 | 40 | 42  | Urban    | Urban    |\n",
       "| 6973.511 | 199923.1 | 0.03488096 | 10653796 | 40 | 43  | Urban    | Urban    |\n",
       "| 7281.702 | 199144.3 | 0.03656495 | 10687925 | 40 | 54  | Urban    | Suburban |\n",
       "| 9184.204 | 197320.9 | 0.04654451 | 10631435 | 40 | 7   | Urban    | Rural    |\n",
       "| 6950.279 | 199905.2 | 0.03476787 | 10677157 | 40 | 83  | Urban    | Rural    |\n",
       "| 7560.493 | 199587.7 | 0.03788056 | 10598285 | 40 | 97  | Urban    | Rural    |\n",
       "| 5004.793 | 199303.7 | 0.02511139 | 10644934 | 41 | 116 | Urban    | Suburban |\n",
       "| 5127.299 | 193172.3 | 0.02654262 | 10491009 | 41 | 23  | Urban    | Suburban |\n",
       "| 5586.435 | 191176.0 | 0.02922143 | 10411178 | 41 | 37  | Urban    | Urban    |\n",
       "| 4647.945 | 194860.2 | 0.02385272 | 10570287 | 41 | 42  | Urban    | Urban    |\n",
       "| 4475.362 | 199806.1 | 0.02239853 | 10653935 | 41 | 43  | Urban    | Urban    |\n",
       "| 4979.223 | 199022.1 | 0.02501845 | 10686431 | 41 | 54  | Urban    | Suburban |\n",
       "| 6793.904 | 197342.3 | 0.03442700 | 10636204 | 41 | 7   | Urban    | Rural    |\n",
       "| 4330.041 | 199515.0 | 0.02170284 | 10682434 | 41 | 83  | Urban    | Rural    |\n",
       "| 6191.086 | 200533.8 | 0.03087303 | 10597496 | 41 | 97  | Urban    | Rural    |\n",
       "| 5201.941 | 194601.1 | 0.02673130 | 10586205 | 42 | 116 | Urban    | Suburban |\n",
       "| 5746.449 | 188943.6 | 0.03041357 | 10429331 | 42 | 23  | Urban    | Suburban |\n",
       "| 5795.534 | 186652.4 | 0.03104988 | 10363006 | 42 | 37  | Urban    | Urban    |\n",
       "| 4923.953 | 195330.9 | 0.02520827 | 10594658 | 42 | 43  | Urban    | Urban    |\n",
       "| 5255.440 | 194296.7 | 0.02704853 | 10623383 | 42 | 54  | Urban    | Suburban |\n",
       "| 7279.652 | 192863.1 | 0.03774518 | 10574280 | 42 | 7   | Urban    | Rural    |\n",
       "| 5218.083 | 195420.5 | 0.02670182 | 10610834 | 42 | 83  | Urban    | Rural    |\n",
       "| 6879.297 | 196207.9 | 0.03506126 | 10528771 | 42 | 97  | Urban    | Rural    |\n",
       "| 4455.225 | 198827.1 | 0.02240753 | 10680413 | 43 | 116 | Urban    | Suburban |\n",
       "| 5325.507 | 193430.6 | 0.02753187 | 10501389 | 43 | 23  | Urban    | Suburban |\n",
       "| 5838.915 | 191440.5 | 0.03049990 | 10427668 | 43 | 37  | Urban    | Urban    |\n",
       "| 5033.314 | 199287.2 | 0.02525658 | 10719151 | 43 | 54  | Urban    | Suburban |\n",
       "| 6969.237 | 197595.2 | 0.03527027 | 10660674 | 43 | 7   | Urban    | Rural    |\n",
       "| 4854.332 | 200267.6 | 0.02423923 | 10705459 | 43 | 83  | Urban    | Rural    |\n",
       "| 5817.459 | 200121.8 | 0.02906958 | 10616353 | 43 | 97  | Urban    | Rural    |\n",
       "| 5431.040 | 198706.4 | 0.02733198 | 10711265 | 54 | 116 | Suburban | Suburban |\n",
       "| 5098.426 | 199272.1 | 0.02558525 | 10745679 | 54 | 83  | Suburban | Rural    |\n",
       "| 7308.830 | 196970.2 | 0.03710627 | 10654287 | 7  | 116 | Rural    | Suburban |\n",
       "| 7741.494 | 191136.1 | 0.04050251 | 10487765 | 7  | 23  | Rural    | Suburban |\n",
       "| 8274.784 | 189068.3 | 0.04376611 | 10407123 | 7  | 37  | Rural    | Urban    |\n",
       "| 7594.436 | 196976.5 | 0.03855503 | 10695841 | 7  | 54  | Rural    | Suburban |\n",
       "| 6898.567 | 197353.5 | 0.03495538 | 10684668 | 7  | 83  | Rural    | Rural    |\n",
       "| 5255.633 | 199612.7 | 0.02632915 | 10699388 | 83 | 116 | Rural    | Suburban |\n",
       "| 5779.927 | 199111.1 | 0.02902865 | 10613639 | 97 | 116 | Rural    | Suburban |\n",
       "| 6824.488 | 194115.4 | 0.03515686 | 10456951 | 97 | 23  | Rural    | Suburban |\n",
       "| 7545.629 | 192271.6 | 0.03924463 | 10379022 | 97 | 37  | Rural    | Urban    |\n",
       "| 6750.457 | 199914.0 | 0.03376681 | 10650302 | 97 | 54  | Rural    | Suburban |\n",
       "| 8538.754 | 198099.1 | 0.04310344 | 10597786 | 97 | 7   | Rural    | Rural    |\n",
       "| 6235.311 | 200552.3 | 0.03109070 | 10643658 | 97 | 83  | Rural    | Rural    |\n",
       "\n"
      ],
      "text/plain": [
       "   num_sum  denom_sum fst        nSites   pop_a pop_b Habitat_a Habitat_b\n",
       "1  5674.866 192811.7  0.02943217 10497250 23    116   Suburban  Suburban \n",
       "2  6345.854 185295.9  0.03424714 10294143 23    37    Suburban  Urban    \n",
       "3  5690.049 192238.9  0.02959885 10530755 23    54    Suburban  Suburban \n",
       "4  5589.754 193407.2  0.02890147 10523728 23    83    Suburban  Rural    \n",
       "5  6135.147 190713.1  0.03216950 10419082 37    116   Urban     Suburban \n",
       "6  6176.573 190217.2  0.03247116 10451206 37    54    Urban     Suburban \n",
       "7  5993.530 191372.3  0.03131869 10445995 37    83    Urban     Rural    \n",
       "8  6830.641 198901.5  0.03434183 10650471 40    116   Urban     Suburban \n",
       "9  7396.554 193349.6  0.03825482 10485793 40    23    Urban     Suburban \n",
       "10 7642.397 190890.1  0.04003559 10406781 40    37    Urban     Urban    \n",
       "11 6380.580 199303.9  0.03201433 10632116 40    41    Urban     Urban    \n",
       "12 6784.639 194796.5  0.03482936 10563613 40    42    Urban     Urban    \n",
       "13 6973.511 199923.1  0.03488096 10653796 40    43    Urban     Urban    \n",
       "14 7281.702 199144.3  0.03656495 10687925 40    54    Urban     Suburban \n",
       "15 9184.204 197320.9  0.04654451 10631435 40    7     Urban     Rural    \n",
       "16 6950.279 199905.2  0.03476787 10677157 40    83    Urban     Rural    \n",
       "17 7560.493 199587.7  0.03788056 10598285 40    97    Urban     Rural    \n",
       "18 5004.793 199303.7  0.02511139 10644934 41    116   Urban     Suburban \n",
       "19 5127.299 193172.3  0.02654262 10491009 41    23    Urban     Suburban \n",
       "20 5586.435 191176.0  0.02922143 10411178 41    37    Urban     Urban    \n",
       "21 4647.945 194860.2  0.02385272 10570287 41    42    Urban     Urban    \n",
       "22 4475.362 199806.1  0.02239853 10653935 41    43    Urban     Urban    \n",
       "23 4979.223 199022.1  0.02501845 10686431 41    54    Urban     Suburban \n",
       "24 6793.904 197342.3  0.03442700 10636204 41    7     Urban     Rural    \n",
       "25 4330.041 199515.0  0.02170284 10682434 41    83    Urban     Rural    \n",
       "26 6191.086 200533.8  0.03087303 10597496 41    97    Urban     Rural    \n",
       "27 5201.941 194601.1  0.02673130 10586205 42    116   Urban     Suburban \n",
       "28 5746.449 188943.6  0.03041357 10429331 42    23    Urban     Suburban \n",
       "29 5795.534 186652.4  0.03104988 10363006 42    37    Urban     Urban    \n",
       "30 4923.953 195330.9  0.02520827 10594658 42    43    Urban     Urban    \n",
       "31 5255.440 194296.7  0.02704853 10623383 42    54    Urban     Suburban \n",
       "32 7279.652 192863.1  0.03774518 10574280 42    7     Urban     Rural    \n",
       "33 5218.083 195420.5  0.02670182 10610834 42    83    Urban     Rural    \n",
       "34 6879.297 196207.9  0.03506126 10528771 42    97    Urban     Rural    \n",
       "35 4455.225 198827.1  0.02240753 10680413 43    116   Urban     Suburban \n",
       "36 5325.507 193430.6  0.02753187 10501389 43    23    Urban     Suburban \n",
       "37 5838.915 191440.5  0.03049990 10427668 43    37    Urban     Urban    \n",
       "38 5033.314 199287.2  0.02525658 10719151 43    54    Urban     Suburban \n",
       "39 6969.237 197595.2  0.03527027 10660674 43    7     Urban     Rural    \n",
       "40 4854.332 200267.6  0.02423923 10705459 43    83    Urban     Rural    \n",
       "41 5817.459 200121.8  0.02906958 10616353 43    97    Urban     Rural    \n",
       "42 5431.040 198706.4  0.02733198 10711265 54    116   Suburban  Suburban \n",
       "43 5098.426 199272.1  0.02558525 10745679 54    83    Suburban  Rural    \n",
       "44 7308.830 196970.2  0.03710627 10654287 7     116   Rural     Suburban \n",
       "45 7741.494 191136.1  0.04050251 10487765 7     23    Rural     Suburban \n",
       "46 8274.784 189068.3  0.04376611 10407123 7     37    Rural     Urban    \n",
       "47 7594.436 196976.5  0.03855503 10695841 7     54    Rural     Suburban \n",
       "48 6898.567 197353.5  0.03495538 10684668 7     83    Rural     Rural    \n",
       "49 5255.633 199612.7  0.02632915 10699388 83    116   Rural     Suburban \n",
       "50 5779.927 199111.1  0.02902865 10613639 97    116   Rural     Suburban \n",
       "51 6824.488 194115.4  0.03515686 10456951 97    23    Rural     Suburban \n",
       "52 7545.629 192271.6  0.03924463 10379022 97    37    Rural     Urban    \n",
       "53 6750.457 199914.0  0.03376681 10650302 97    54    Rural     Suburban \n",
       "54 8538.754 198099.1  0.04310344 10597786 97    7     Rural     Rural    \n",
       "55 6235.311 200552.3  0.03109070 10643658 97    83    Rural     Rural    "
      ]
     },
     "metadata": {},
     "output_type": "display_data"
    }
   ],
   "source": [
    "pop_fst_df_withHabs"
   ]
  },
  {
   "cell_type": "code",
   "execution_count": 76,
   "metadata": {},
   "outputs": [],
   "source": [
    "# Function to load thetas for a given habitat\n",
    "load_population_pi <- function(path){\n",
    "    pop <- str_split(basename(path), '_', simplify = T)[1]\n",
    "    df <- suppressMessages(read_delim(path, delim = '\\t')) %>%\n",
    "        mutate(tp_scaled = tP / nSites,\n",
    "               tw_scaled = tW / nSites) %>% \n",
    "        summarize(pi = mean(tp_scaled)) %>% \n",
    "        mutate(pop = pop)\n",
    "    return(df)\n",
    "}\n",
    "\n",
    "\n",
    "path <- paste0(results_prefix, 'angsd/summary_stats/thetas/byPopulation')\n",
    "pop_pi_df <- list.files(path, pattern = '*.pestPG', full.names = T, recursive = T) %>% \n",
    "    purrr::map_dfr(., load_population_pi)"
   ]
  },
  {
   "cell_type": "code",
   "execution_count": 77,
   "metadata": {},
   "outputs": [
    {
     "data": {
      "text/html": [
       "<table class=\"dataframe\">\n",
       "<caption>A tibble: 11 × 3</caption>\n",
       "<thead>\n",
       "\t<tr><th scope=col>pi</th><th scope=col>pop</th><th scope=col>Habitat</th></tr>\n",
       "\t<tr><th scope=col>&lt;dbl&gt;</th><th scope=col>&lt;chr&gt;</th><th scope=col>&lt;chr&gt;</th></tr>\n",
       "</thead>\n",
       "<tbody>\n",
       "\t<tr><td>0.01854563</td><td>116</td><td>Suburban</td></tr>\n",
       "\t<tr><td>0.01802873</td><td>23 </td><td>Suburban</td></tr>\n",
       "\t<tr><td>0.01755101</td><td>37 </td><td>Urban   </td></tr>\n",
       "\t<tr><td>0.01815804</td><td>40 </td><td>Urban   </td></tr>\n",
       "\t<tr><td>0.01863811</td><td>41 </td><td>Urban   </td></tr>\n",
       "\t<tr><td>0.01796459</td><td>42 </td><td>Urban   </td></tr>\n",
       "\t<tr><td>0.01857617</td><td>43 </td><td>Urban   </td></tr>\n",
       "\t<tr><td>0.01839798</td><td>54 </td><td>Suburban</td></tr>\n",
       "\t<tr><td>0.01759451</td><td>7  </td><td>Rural   </td></tr>\n",
       "\t<tr><td>0.01847705</td><td>83 </td><td>Rural   </td></tr>\n",
       "\t<tr><td>0.01866187</td><td>97 </td><td>Rural   </td></tr>\n",
       "</tbody>\n",
       "</table>\n"
      ],
      "text/latex": [
       "A tibble: 11 × 3\n",
       "\\begin{tabular}{lll}\n",
       " pi & pop & Habitat\\\\\n",
       " <dbl> & <chr> & <chr>\\\\\n",
       "\\hline\n",
       "\t 0.01854563 & 116 & Suburban\\\\\n",
       "\t 0.01802873 & 23  & Suburban\\\\\n",
       "\t 0.01755101 & 37  & Urban   \\\\\n",
       "\t 0.01815804 & 40  & Urban   \\\\\n",
       "\t 0.01863811 & 41  & Urban   \\\\\n",
       "\t 0.01796459 & 42  & Urban   \\\\\n",
       "\t 0.01857617 & 43  & Urban   \\\\\n",
       "\t 0.01839798 & 54  & Suburban\\\\\n",
       "\t 0.01759451 & 7   & Rural   \\\\\n",
       "\t 0.01847705 & 83  & Rural   \\\\\n",
       "\t 0.01866187 & 97  & Rural   \\\\\n",
       "\\end{tabular}\n"
      ],
      "text/markdown": [
       "\n",
       "A tibble: 11 × 3\n",
       "\n",
       "| pi &lt;dbl&gt; | pop &lt;chr&gt; | Habitat &lt;chr&gt; |\n",
       "|---|---|---|\n",
       "| 0.01854563 | 116 | Suburban |\n",
       "| 0.01802873 | 23  | Suburban |\n",
       "| 0.01755101 | 37  | Urban    |\n",
       "| 0.01815804 | 40  | Urban    |\n",
       "| 0.01863811 | 41  | Urban    |\n",
       "| 0.01796459 | 42  | Urban    |\n",
       "| 0.01857617 | 43  | Urban    |\n",
       "| 0.01839798 | 54  | Suburban |\n",
       "| 0.01759451 | 7   | Rural    |\n",
       "| 0.01847705 | 83  | Rural    |\n",
       "| 0.01866187 | 97  | Rural    |\n",
       "\n"
      ],
      "text/plain": [
       "   pi         pop Habitat \n",
       "1  0.01854563 116 Suburban\n",
       "2  0.01802873 23  Suburban\n",
       "3  0.01755101 37  Urban   \n",
       "4  0.01815804 40  Urban   \n",
       "5  0.01863811 41  Urban   \n",
       "6  0.01796459 42  Urban   \n",
       "7  0.01857617 43  Urban   \n",
       "8  0.01839798 54  Suburban\n",
       "9  0.01759451 7   Rural   \n",
       "10 0.01847705 83  Rural   \n",
       "11 0.01866187 97  Rural   "
      ]
     },
     "metadata": {},
     "output_type": "display_data"
    }
   ],
   "source": [
    "pop_pi_df %>% \n",
    "    left_join(samples %>% \n",
    "                  dplyr::select(Population, Habitat) %>% \n",
    "                  distinct() %>% \n",
    "                  mutate(Population = as.character(Population)) %>% \n",
    "                  rename('pop' = Population), by = 'pop') \n",
    "# %>% \n",
    "#     ggplot(., aes(x = pop, y = pi)) +\n",
    "#         geom_bar(stat = 'identity', color = 'black', fill = 'black') +\n",
    "#         facet_grid(~Habitat) +\n",
    "#         theme_classic()"
   ]
  },
  {
   "cell_type": "code",
   "execution_count": 107,
   "metadata": {},
   "outputs": [],
   "source": [
    "fst.hudson <-function(p1, p2, n1, n2){\n",
    "\n",
    "    N = (p1 - p2)^2 - p1*(1-p1)/(n1-1) - p2*(1-p2)/(n2-1)\n",
    "    D = p1*(1-p2) + p2*(1-p1)\n",
    "\n",
    "    return(N / D)\n",
    "  }"
   ]
  },
  {
   "cell_type": "code",
   "execution_count": 130,
   "metadata": {},
   "outputs": [
    {
     "data": {
      "text/html": [
       "-0.0555978674790556"
      ],
      "text/latex": [
       "-0.0555978674790556"
      ],
      "text/markdown": [
       "-0.0555978674790556"
      ],
      "text/plain": [
       "[1] -0.05559787"
      ]
     },
     "metadata": {},
     "output_type": "display_data"
    }
   ],
   "source": [
    "p1 <- 0.45\n",
    "p2 <- 0.55\n",
    "n1 <- 14\n",
    "n2 <- 14\n",
    "\n",
    "fst.hudson(p1, p2, n1, n2)"
   ]
  },
  {
   "cell_type": "code",
   "execution_count": null,
   "metadata": {},
   "outputs": [],
   "source": []
  }
 ],
 "metadata": {
  "kernelspec": {
   "display_name": "R",
   "language": "R",
   "name": "ir"
  },
  "language_info": {
   "codemirror_mode": "r",
   "file_extension": ".r",
   "mimetype": "text/x-r-source",
   "name": "R",
   "pygments_lexer": "r",
   "version": "3.6.3"
  }
 },
 "nbformat": 4,
 "nbformat_minor": 4
}
