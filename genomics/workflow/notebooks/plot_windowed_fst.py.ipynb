{
 "cells": [
  {
   "cell_type": "code",
   "execution_count": null,
   "id": "c4cfb31c",
   "metadata": {},
   "outputs": [],
   "source": [
    "import tskit\n",
    "import pandas as pd\n",
    "import numpy as np\n",
    "import matplotlib.pyplot as plt\n",
    "from IPython.display import display"
   ]
  },
  {
   "cell_type": "code",
   "execution_count": null,
   "id": "9a36564c-6759-466c-b9ad-9a6f0d073d43",
   "metadata": {},
   "outputs": [],
   "source": [
    "sample_df = pd.read_table(snakemake.config[\"samples\"], sep=\"\\t\")\n",
    "sample_df = sample_df[[\"Sample\", \"Habitat\"]]\n",
    "\n",
    "bams = pd.read_table(snakemake.input[\"bams\"][0], names=[\"bam\"])\n",
    "bams[\"Sample\"] = bams[\"bam\"].str.extract(\"(s_\\\\d+_\\\\d+)\")\n",
    "bams = bams.merge(sample_df, on = \"Sample\", how = \"left\")[[\"Sample\", \"Habitat\"]]\n",
    "\n",
    "urban_sample_indices = bams.index[bams[\"Habitat\"] == \"Urban\"].tolist()\n",
    "rural_sample_indices = bams.index[bams[\"Habitat\"] == \"Rural\"].tolist()\n",
    "suburban_sample_indices = bams.index[bams[\"Habitat\"] == \"Suburban\"].tolist()\n",
    "\n",
    "habitat_pop_map = {\"Urban\": 0, \"Suburban\": 1, \"Rural\": 2}\n",
    "sample_indices = {k: {} for k in range(len(bams) * 2)}\n",
    "for i, r in bams.iterrows():\n",
    "    sample_indices[i*2][\"population\"] = habitat_pop_map[r[\"Habitat\"]]\n",
    "    sample_indices[(i*2) + 1][\"population\"] = habitat_pop_map[r[\"Habitat\"]]"
   ]
  },
  {
   "cell_type": "code",
   "execution_count": null,
   "id": "d3c4180a-fcf5-4ebb-ad8e-621d45a5c22b",
   "metadata": {},
   "outputs": [],
   "source": [
    "regions_df = pd.read_table(snakemake.input[\"regions\"][0])\n",
    "region_ids = regions_df[\"regionID\"].tolist()"
   ]
  },
  {
   "cell_type": "code",
   "execution_count": null,
   "id": "f1e359f0-abba-4a08-b846-66e505b24a9d",
   "metadata": {},
   "outputs": [],
   "source": [
    "rural_region_ids = regions_df[regions_df[\"direction\"] == \"Rural sel\"][\"regionID\"].tolist()\n",
    "urban_region_ids = regions_df[regions_df[\"direction\"] == \"Urban sel\"][\"regionID\"].tolist()\n",
    "unsel_region_ids = regions_df[regions_df[\"direction\"] == \"Not outlier\"][\"regionID\"].tolist()"
   ]
  },
  {
   "cell_type": "code",
   "execution_count": null,
   "id": "a34a86da-41a4-4c08-b975-366ebab0460f",
   "metadata": {},
   "outputs": [],
   "source": [
    "arg_path = \"/scratch/projects/trifolium/gwsd/results/args\"\n",
    "plt.rcParams['figure.figsize'] = [15, 5]\n",
    "for id in region_ids:\n",
    "    ts = tskit.load(f\"{arg_path}/trees/region{id}/region{id}_199.trees\")\n",
    "    \n",
    "    window_size = ts.sequence_length / 40\n",
    "    step = ts.sequence_length / 200\n",
    "    win_starts = np.linspace(0, ts.sequence_length, int((ts.sequence_length + step) / step))\n",
    "    windows = []\n",
    "    for i in range(len(win_starts)):\n",
    "        start = win_starts[i]\n",
    "        end = start + window_size\n",
    "        win = [start, end]\n",
    "        if max(win) <= ts.sequence_length:\n",
    "            windows.append(win)\n",
    "            \n",
    "    fsts = []\n",
    "    win_centers = []\n",
    "    for win in windows:\n",
    "        new_ts = ts.keep_intervals([win], simplify=False)\n",
    "        fst = new_ts.Fst([urban_sample_indices, rural_sample_indices],/mode = \"branch\")\n",
    "        fsts.append(fst)\n",
    "        win_center = win[0] + ((win[1] - win[0]) / 2)\n",
    "        win_centers.append(win_center)\n",
    "    if id in rural_region_ids:\n",
    "        col = \"blue\"\n",
    "    elif id in urban_region_ids:\n",
    "        col = \"blue\"\n",
    "    else:\n",
    "        col = \"black\"\n",
    "    plt.scatter(win_centers, fsts, color = col, s = 4)\n",
    "    plt.xlabel(\"Genome position (kb)\")\n",
    "    plt.ylabel(\"Fst\")\n",
    "# plt.vlines(x = 475000, ymin = 0, ymax = 0.07, linewidth = 2, color = 'red', linestyles = \"dashed\")\n",
    "# plt.vlines(x = 525000, ymin = 0, ymax = 0.07, linewidth = 2, color = 'red', linestyles = \"dashed\")\n",
    "plt.show()"
   ]
  },
  {
   "cell_type": "code",
   "execution_count": null,
   "id": "78fd9bdf-7e8d-44b0-a8f9-f46a15832a76",
   "metadata": {},
   "outputs": [],
   "source": []
  }
 ],
 "metadata": {
  "kernelspec": {
   "display_name": "Python 3 (ipykernel)",
   "language": "python",
   "name": "python3"
  },
  "language_info": {
   "codemirror_mode": {
    "name": "ipython",
    "version": 3
   },
   "file_extension": ".py",
   "mimetype": "text/x-python",
   "name": "python",
   "nbconvert_exporter": "python",
   "pygments_lexer": "ipython3",
   "version": "3.11.6"
  }
 },
 "nbformat": 4,
 "nbformat_minor": 5
}
