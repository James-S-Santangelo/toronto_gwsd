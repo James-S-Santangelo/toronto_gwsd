{
 "cells": [
  {
   "cell_type": "code",
   "execution_count": null,
   "id": "c4cfb31c",
   "metadata": {},
   "outputs": [],
   "source": [
    "import tskit\n",
    "import pandas as pd\n",
    "import numpy as np\n",
    "import matplotlib.pyplot as plt\n",
    "from IPython.display import display"
   ]
  },
  {
   "cell_type": "code",
   "execution_count": null,
   "id": "9a36564c-6759-466c-b9ad-9a6f0d073d43",
   "metadata": {},
   "outputs": [],
   "source": [
    "sample_df = pd.read_table(snakemake.config[\"samples\"], sep=\"\\t\")\n",
    "sample_df = sample_df[[\"Sample\", \"Habitat\"]]\n",
    "\n",
    "bams = pd.read_table(snakemake.input[\"bams\"][0], names=[\"bam\"])\n",
    "bams[\"Sample\"] = bams[\"bam\"].str.extract(\"(s_\\\\d+_\\\\d+)\")\n",
    "bams = bams.merge(sample_df, on = \"Sample\", how = \"left\")[[\"Sample\", \"Habitat\"]]\n",
    "\n",
    "urban_sample_indices = bams.index[bams[\"Habitat\"] == \"Urban\"].tolist()\n",
    "rural_sample_indices = bams.index[bams[\"Habitat\"] == \"Rural\"].tolist()\n",
    "suburban_sample_indices = bams.index[bams[\"Habitat\"] == \"Suburban\"].tolist()\n",
    "\n",
    "habitat_pop_map = {\"Urban\": 0, \"Suburban\": 1, \"Rural\": 2}\n",
    "sample_indices = {k: {} for k in range(len(bams) * 2)}\n",
    "for i, r in bams.iterrows():\n",
    "    sample_indices[i*2][\"population\"] = habitat_pop_map[r[\"Habitat\"]]\n",
    "    sample_indices[(i*2) + 1][\"population\"] = habitat_pop_map[r[\"Habitat\"]]\n",
    "\n",
    "urban_hap_indices = [k for k,v in sample_indices.items() if v[\"population\"] == 0]\n",
    "rural_hap_indices = [k for k,v in sample_indices.items() if v[\"population\"] == 2]"
   ]
  },
  {
   "cell_type": "code",
   "execution_count": null,
   "id": "6eb8a8c2-8319-469b-8ce9-d4a2d3475a39",
   "metadata": {},
   "outputs": [],
   "source": [
    "results = {\"win_id\": [], \"gt_fst\": [], \"arg_fst\": [], \"n_sites\": []}\n",
    "region = f\"region{snakemake.wildcards['n']}\"\n",
    "\n",
    "\n",
    "vcf_site_fst = {}\n",
    "with open(snakemake.input[\"win_gt_fst\"][0], \"r\") as win_gt_fst_in:\n",
    "    lines = [l.split(\"\\t\") for l in win_gt_fst_in.readlines() if not l.startswith(\"CHROM\")]\n",
    "    for line in lines:\n",
    "        pos = line[1]\n",
    "        fst = float(line[2].strip())\n",
    "        vcf_site_fst[pos] = fst\n",
    "\n",
    "ts = tskit.load(f\"{snakemake.params['arg_path']}/trees/{region}/{region}_0.trees\")\n",
    "sl = int(ts.sequence_length)\n",
    "window_size = int(snakemake.params[\"win_size\"])\n",
    "ts_snp_ids = {site.position: site.id for site in ts.sites()}\n",
    "windows = [[val, val + window_size] for val in range(0, sl, window_size)]\n",
    "for i, win in enumerate(windows):\n",
    "    if max(win) <= sl:\n",
    "        filt_ts = ts.keep_intervals([win], simplify=False)\n",
    "        if filt_ts.num_sites > 0:\n",
    "            filt_ts_positions = filt_ts.tables.sites.position\n",
    "            filt_ts_site_indices = [v for k, v in ts_snp_ids.items() if k in filt_ts_positions]\n",
    "            filt_vcf_site_fst = {k:v for i, (k,v) in enumerate(vcf_site_fst.items()) if i in filt_ts_site_indices}\n",
    "            gt_fst = np.nanmean(list(filt_vcf_site_fst.values()))\n",
    "            results[\"win_id\"].append(i)\n",
    "            results[\"gt_fst\"].append(gt_fst)\n",
    "            results[\"n_sites\"].append(filt_ts.num_sites)\n",
    "        else:\n",
    "            pass\n",
    "    \n",
    "        arg_fst_vals = []\n",
    "        n_samples = int(snakemake.params[\"n_samples\"])\n",
    "        for s in range(n_samples):\n",
    "            ts = tskit.load(f\"{snakemake.params['arg_path']}/trees/{region}/{region}_{s}.trees\")\n",
    "            filt_ts = ts.keep_intervals([win], simplify=False)\n",
    "            arg_fst = filt_ts.Fst([urban_hap_indices, rural_hap_indices], mode = \"branch\")\n",
    "            arg_fst_vals.append(arg_fst)\n",
    "        mean_arg_fst = np.nanmean(arg_fst_vals)\n",
    "        if filt_ts.num_sites > 0:\n",
    "            results[\"arg_fst\"].append(mean_arg_fst)"
   ]
  },
  {
   "cell_type": "code",
   "execution_count": null,
   "id": "c5900de3-3956-4a99-83fc-2d69d8f82d54",
   "metadata": {},
   "outputs": [],
   "source": [
    "df_out = pd.DataFrame(results)\n",
    "df_out[\"regionID\"] = snakemake.wildcards[\"n\"]\n",
    "df_out.to_csv(snakemake.output[0], index = False)"
   ]
  }
 ],
 "metadata": {
  "kernelspec": {
   "display_name": "Python 3 (ipykernel)",
   "language": "python",
   "name": "python3"
  },
  "language_info": {
   "codemirror_mode": {
    "name": "ipython",
    "version": 3
   },
   "file_extension": ".py",
   "mimetype": "text/x-python",
   "name": "python",
   "nbconvert_exporter": "python",
   "pygments_lexer": "ipython3",
   "version": "3.11.6"
  }
 },
 "nbformat": 4,
 "nbformat_minor": 5
}
