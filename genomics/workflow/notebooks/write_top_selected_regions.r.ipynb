{
 "cells": [
  {
   "cell_type": "markdown",
   "id": "281fad93-79fb-44a7-832d-ea8510fb68a4",
   "metadata": {},
   "source": [
    "# Setup"
   ]
  },
  {
   "cell_type": "code",
   "execution_count": null,
   "id": "b15c49cf-aab5-4871-88bf-553b9d70d25a",
   "metadata": {},
   "outputs": [],
   "source": [
    "# Load required packages\n",
    "library(tidyverse)\n",
    "library(bedtoolsr)"
   ]
  },
  {
   "cell_type": "code",
   "execution_count": null,
   "id": "09e1e182-c617-464f-b1e1-7c2a3b383ba7",
   "metadata": {},
   "outputs": [],
   "source": [
    "# Load dataframes with windowed sweep statistics\n",
    "win_sfs_df <- read_delim(snakemake@input[['fst']], delim = '\\t')\n",
    "win_xpnsl_df <- read_delim(snakemake@input[['xpnsl']], delim = '\\t')\n",
    "\n",
    "# Load dataframes with windows percentiles from permuted distributions\n",
    "urb_perc <- read_delim(snakemake@input[['urb_perc']], delim = '\\t')\n",
    "rur_perc <- read_delim(snakemake@input[['rur_perc']], delim = '\\t')\n",
    "\n",
    "# Load GFF\n",
    "gff <- ape::read.gff(snakemake@input[['gff']], GFF3 = TRUE) %>% \n",
    "    dplyr::select(seqid, start, end, everything())"
   ]
  },
  {
   "cell_type": "code",
   "execution_count": null,
   "id": "7ea624b6-58e0-4bf9-8bd9-532738917aab",
   "metadata": {},
   "outputs": [],
   "source": [
    "# Add window percentiles to dataframe with window stats\n",
    "win_xpnsl_df <- win_xpnsl_df %>% \n",
    "    left_join(., bind_rows(urb_perc, rur_perc), by = c(\"Chr\", \"winID\", \"start\", \"end\", \"winCenter\"))"
   ]
  },
  {
   "cell_type": "code",
   "execution_count": null,
   "id": "2719bcdd-68f3-4c01-87e6-7e1a941ae32a",
   "metadata": {},
   "outputs": [],
   "source": [
    "head(win_sfs_df)"
   ]
  },
  {
   "cell_type": "code",
   "execution_count": null,
   "id": "2ba1baad-61d0-4cb6-bf0b-9db702a61013",
   "metadata": {},
   "outputs": [],
   "source": [
    "head(win_xpnsl_df)"
   ]
  },
  {
   "cell_type": "markdown",
   "id": "27010823-5cea-490b-a4c0-2f960af5975e",
   "metadata": {},
   "source": [
    "# Analysis of selective sweeps \n",
    "\n",
    "## XP-nSL\n",
    "\n",
    "- I'll start by looking at genome-wide XP-xSL values, estimated in 50 kb windows\n",
    "- In each window, I estimated the mean XP-nSL score and the proportion of scores that are either above 2 or less than -2.\n",
    "- Positive outlier windows are those that are in the top 1% of the genome-wide mean XP-nSL distribution AND the top 1% of distribution of scores > 2. There windows represent positive selection in urban habitats\n",
    "- Negative outlier windows are those that are in the bottom 1% of the genome-wide XP-xSL distribution AND the top 1% of distribution of scores < -2. There windows represent positive selection in rural habitats.\n",
    "- I'll look at the top 10 windows under selection for urban and rural habitats separately.\n",
    "- I'll merge outlier windows within 50Kb of one another into larger outlier regions"
   ]
  },
  {
   "cell_type": "code",
   "execution_count": null,
   "id": "363150c6-7c09-4b0d-9f90-f5cd1fa9ad2d",
   "metadata": {},
   "outputs": [],
   "source": [
    "# Function to add ranks to XP-nSL windows based on the proportion of outlier scores\n",
    "add_xpnsl_ranks <- function(df){\n",
    "        \n",
    "    df_out <- df %>% \n",
    "        arrange(desc(prop_outlier)) %>% \n",
    "        mutate(xpnsl_rank = 1:n())\n",
    "    return(df_out)\n",
    "}\n",
    "\n",
    "win_xpnsl_df_outliers_with_ranks <- win_xpnsl_df %>% \n",
    "    filter(direction %in% c('Urban sel', 'Rural sel')) %>% \n",
    "    group_split(direction) %>% \n",
    "    purrr::map_dfr(., add_xpnsl_ranks)"
   ]
  },
  {
   "cell_type": "code",
   "execution_count": null,
   "id": "ef5b26ad-1e81-452d-a5cf-d6904b56faff",
   "metadata": {},
   "outputs": [],
   "source": [
    "names(win_xpnsl_df_outliers_with_ranks)"
   ]
  },
  {
   "cell_type": "code",
   "execution_count": null,
   "id": "69c5538d-cb52-4b4c-aa3c-00bdba6ebc5d",
   "metadata": {},
   "outputs": [],
   "source": [
    "# Function to merge consecutive outlier windows\n",
    "merge_xpnsl_windows <- function(df, win_dist = 0){\n",
    "\n",
    "    dir <- df %>% pull(direction) %>% unique()\n",
    "    df_sorted <- df %>% \n",
    "        dplyr::select(Chr, start, end, everything()) %>% \n",
    "        arrange(Chr, start) %>% \n",
    "        mutate(prop_outlier = round(prop_outlier, 3),\n",
    "               mean_perm_perc = round(mean_perm_perc, 3),\n",
    "               prop_perm_perc = round(prop_outlier, 3))\n",
    "\n",
    "    col_names <- c('Chr', 'start', 'end', 'mean_xpnsl', 'min_max', 'direction', 'mean_prop_outlier', 'all_prop_outlier', 'mean_percentile_permuted', 'prop_percentile_permuted','min_xpnsl_rank', 'all_xpnsl_ranks')\n",
    "    if(dir == 'Urban sel'){\n",
    "        cols <- c('6,7,17,18,18,19,20,21,21')\n",
    "        operation <- c('mean,max,distinct,mean,collapse,collapse,collapse,min,collapse')\n",
    "    }else if(dir == 'Rural sel'){\n",
    "        cols <- c('6,8,17,18,18,19,20,21,21')\n",
    "        operation <- c('mean,min,distinct,mean,collapse,collapse,collapse,min,collapse')\n",
    "    }\n",
    "    \n",
    "    df_merged  <- bt.merge(i = df_sorted, c = cols, o = operation, d = win_dist)\n",
    "    names(df_merged) <- col_names\n",
    "    df_merged <- df_merged %>% \n",
    "        mutate(win_size = end - start)\n",
    "\n",
    "    print(sprintf('%s: There were %s XP-nSL outlier windows prior to merging. There are %s outlier regions after merging consecutive outlier windows', dir, nrow(df_sorted), nrow(df_merged)))\n",
    "    return(df_merged)\n",
    "}\n",
    "\n",
    "win_xpnsl_df_outliers_with_ranks_merged <- win_xpnsl_df_outliers_with_ranks %>% \n",
    "    group_split(direction) %>% \n",
    "    purrr::map_dfr(., merge_xpnsl_windows)"
   ]
  },
  {
   "cell_type": "code",
   "execution_count": null,
   "id": "d5719b2f-2199-481e-a91e-bc9ed71fc900",
   "metadata": {},
   "outputs": [],
   "source": [
    "xpnsl_top10_urban_rural <- win_xpnsl_df_outliers_with_ranks_merged %>% \n",
    "    filter(min_xpnsl_rank <= 10) %>% \n",
    "    group_by(direction) %>% \n",
    "    arrange(min_xpnsl_rank, .by_group = TRUE) %>% \n",
    "    dplyr::select(Chr, start, end, win_size, direction, mean_xpnsl, min_max, all_prop_outlier, mean_prop_outlier, mean_percentile_permuted, prop_percentile_permuted, all_xpnsl_ranks, min_xpnsl_rank) %>% \n",
    "    ungroup()\n",
    "xpnsl_top10_urban_rural"
   ]
  },
  {
   "cell_type": "markdown",
   "id": "837cda8f-9385-4220-bf43-d9a30cf62cc1",
   "metadata": {},
   "source": [
    "## Fst\n",
    "\n",
    "- I estimated Fst and the urban-rural difference in pi and Tajima's D in 50 kb windows across the genome\n",
    "- I'll consider windows in the top 1% of the genome-wide empirical Fst distributions as outliers, and further support these outliers if these windows are also in the top 1% of the genome-wide difference in pi and Td distributions\n",
    "- I'll look at overlap between the Fst and XP-nSL outlier windows"
   ]
  },
  {
   "cell_type": "code",
   "execution_count": null,
   "id": "baaa8ec7-216f-4114-9090-1fea7ac89403",
   "metadata": {},
   "outputs": [],
   "source": [
    "win_sfs_df %>% \n",
    "    group_by(fst_outlier, tp_outlier, td_outlier) %>%\n",
    "    summarise(n = n())"
   ]
  },
  {
   "cell_type": "code",
   "execution_count": null,
   "id": "bf5fb0e8-bf14-446b-a573-00a3d59bc53c",
   "metadata": {},
   "outputs": [],
   "source": [
    "win_sfs_df %>% filter(all_outlier == 1) %>% group_by(direction) %>% summarise(n = n())"
   ]
  },
  {
   "cell_type": "code",
   "execution_count": null,
   "id": "ce09145b-4c4a-4585-92af-ffa8a6abe3f6",
   "metadata": {},
   "outputs": [],
   "source": [
    "win_sfs_df"
   ]
  },
  {
   "cell_type": "code",
   "execution_count": null,
   "id": "5b680337-5252-495c-91cb-cbf30c2144cb",
   "metadata": {},
   "outputs": [],
   "source": [
    "get_positions <- function(df){\n",
    "    df_out <- df %>% \n",
    "        dplyr::select(Chr, start, end)\n",
    "    return(df_out)\n",
    "}\n",
    "\n",
    "xpnsl_top10_regions_pos <- get_positions(xpnsl_top10_urban_rural) \n",
    "fst_outliers_windows_pos <- get_positions(win_sfs_df %>% filter(fst_outlier == 1))\n",
    "fst_pi_td_outliers_windows_pos <- get_positions(win_sfs_df %>% filter(all_outlier == 1))"
   ]
  },
  {
   "cell_type": "code",
   "execution_count": null,
   "id": "f115b30c-8adc-4b5b-aa42-0ad7eb7d4b06",
   "metadata": {},
   "outputs": [],
   "source": [
    "get_overlapping_fst_windows <- function(xpnsl_pos, fst_pos){\n",
    "    \n",
    "    # Count number of overlapping Fst outlier windows in each XP-nSL window\n",
    "    df_out <- bt.intersect(xpnsl_pos, fst_pos, c = T)\n",
    "    names(df_out) <- c('Chr', 'xpnsl_win_start', 'xpnsl_win_end', 'num_fst_outliers')\n",
    "    return(df_out)\n",
    "} \n",
    "\n",
    "get_overlapping_fst_windows(xpnsl_top10_regions_pos, fst_pi_td_outliers_windows_pos)"
   ]
  },
  {
   "cell_type": "code",
   "execution_count": null,
   "id": "1b610f3c-12b8-4837-97f6-e56f12dcd203",
   "metadata": {},
   "outputs": [],
   "source": [
    "xpnsl_fst_overlap <- bt.intersect(xpnsl_top10_urban_rural %>% dplyr::select(Chr, start, end), \n",
    "                                  win_sfs_df %>% dplyr::select(-chrom_pos) %>% filter(fst_outlier == 1), \n",
    "                                  c = T)\n",
    "names(xpnsl_fst_overlap) <- c('Chr', 'start', 'end', 'num_fst_outliers')\n",
    "xpnsl_top10_urban_rural <- left_join(xpnsl_top10_urban_rural, xpnsl_fst_overlap, by = c('Chr', 'start', 'end'))\n",
    "xpnsl_top10_urban_rural"
   ]
  },
  {
   "cell_type": "code",
   "execution_count": null,
   "id": "8d4cb959-917a-4f60-bfbe-6ab60fefbf92",
   "metadata": {},
   "outputs": [],
   "source": [
    "urban_tmp <- bt.intersect(xpnsl_top10_urban_rural %>% filter(direction == 'Urban sel') %>% dplyr::select(Chr, start, end), \n",
    "                                        win_sfs_df %>% dplyr::select(-chrom_pos) %>% filter(all_outlier == 1 & direction == 'Urban sel'), \n",
    "                                        c = T)\n",
    "rural_tmp <- bt.intersect(xpnsl_top10_urban_rural %>% filter(direction == 'Rural sel') %>% dplyr::select(Chr, start, end), \n",
    "                                        win_sfs_df %>% dplyr::select(-chrom_pos) %>% filter(all_outlier == 1 & direction == 'Rural sel'), \n",
    "                                        c = T)\n",
    "xpnsl_fst_pi_td_overlap <- bind_rows(urban_tmp, rural_tmp)\n",
    "names(xpnsl_fst_pi_td_overlap) <- c('Chr', 'start', 'end', 'num_fst_pi_td_outliers')\n",
    "xpnsl_top10_urban_rural <- left_join(xpnsl_top10_urban_rural, xpnsl_fst_pi_td_overlap, by = c('Chr', 'start', 'end')) %>% \n",
    "    arrange(direction, Chr, start)\n",
    "xpnsl_top10_urban_rural"
   ]
  },
  {
   "cell_type": "markdown",
   "id": "98027e5b-ac52-4b9b-ab1e-0e9489acab11",
   "metadata": {},
   "source": [
    "# Create output tables\n",
    "\n",
    "## Dataframe with gene ID in top 10 selected regions"
   ]
  },
  {
   "cell_type": "code",
   "execution_count": null,
   "id": "8333d774-1157-428c-b76b-bb781466387e",
   "metadata": {},
   "outputs": [],
   "source": [
    "# Get gene names dataframe\n",
    "gene_names <- gff %>% \n",
    "    filter(type == 'gene') %>% \n",
    "    mutate(gene = str_extract(attributes, pattern = '(?<=gene=)\\\\w+(?=;)'),\n",
    "           gene_id = str_extract(attributes, pattern = '(?<=ID\\\\=)ACLI19_g\\\\d+(?=;)')) %>% \n",
    "    dplyr::select(seqid, start, end, gene_id, gene)\n",
    "\n",
    "# Get gene products and GO annotations dataframe\n",
    "prod_go_annot <- gff %>% \n",
    "    filter(type == 'mRNA') %>% \n",
    "    mutate(id = str_extract(attributes, pattern = '(?<=ID\\\\=)ACLI19_g\\\\d+\\\\.t\\\\d+(?=;)'),\n",
    "           func = str_extract(attributes, pattern = '(?<=product=)[^;]*'),\n",
    "           go = str_extract_all(attributes, pattern = 'GO:\\\\d+(?=(,|;))')) %>% \n",
    "    separate(id, into = c('gene_id', 'trans'), sep = '\\\\.') %>% \n",
    "    filter(trans == 't1') %>% \n",
    "    dplyr::select(seqid, gene_id, func, go)\n",
    "\n",
    "# Combine genes, functions, and GO annotations into single dataframe\n",
    "genes_prods_go_df <- left_join(gene_names, prod_go_annot, by = c('seqid', 'gene_id')) %>% \n",
    "    rename('Chr' = 'seqid')"
   ]
  },
  {
   "cell_type": "code",
   "execution_count": null,
   "id": "72aab1a8-4ca1-4ee3-88e0-16dcc6ca55dd",
   "metadata": {},
   "outputs": [],
   "source": [
    "xpnsl_top10_urban_rural_with_genes_long <- bt.intersect(xpnsl_top10_urban_rural, genes_prods_go_df %>% dplyr::select(-go), wa=T, wb=T) %>% \n",
    "    dplyr::select(V1, V2, V3, V5, V17, V18, V19)\n",
    "names(xpnsl_top10_urban_rural_with_genes_long) <- c('Chr', 'start', 'end', 'direction', 'gene_id', 'gene_symbol', 'product')\n",
    "xpnsl_top10_urban_rural_with_genes_long"
   ]
  },
  {
   "cell_type": "code",
   "execution_count": null,
   "id": "c8aee512-2323-45d7-a792-ab47b9b65813",
   "metadata": {},
   "outputs": [],
   "source": [
    "# Write dataframe with gene IDs for top ten selected urban and rural regions\n",
    "write_delim(xpnsl_top10_urban_rural_with_genes_long, snakemake@output[['top_ten_genes']], delim = '\\t')"
   ]
  },
  {
   "cell_type": "markdown",
   "id": "dcb15685-0117-4ec3-8ffb-8e403e8d1185",
   "metadata": {},
   "source": [
    "## Table with gene symbols, products, and Fst for top selected regions"
   ]
  },
  {
   "cell_type": "code",
   "execution_count": null,
   "id": "368543e8-a300-4c46-83bd-f9a769d3b5f1",
   "metadata": {},
   "outputs": [],
   "source": [
    "# Concatenate gene symbols for top 10 selected regions\n",
    "symbols <- xpnsl_top10_urban_rural_with_genes_long %>% \n",
    "    dplyr::select(-gene_id, -product) %>% \n",
    "    filter(!is.na(gene_symbol)) %>% \n",
    "    group_by(Chr, start, end, direction) %>% \n",
    "    summarise(gene_symbols = toString(gene_symbol))\n",
    "\n",
    "# Concatenate products for top 10 selected regions\n",
    "prods <- xpnsl_top10_urban_rural_with_genes_long %>% \n",
    "    dplyr::select(-gene_id, -gene_symbol) %>% \n",
    "    filter(product != 'hypothetical protein') %>% \n",
    "    group_by(Chr, start, end, direction) %>% \n",
    "    summarise(products = toString(product))\n",
    "\n",
    "# Add symbols and products to table\n",
    "xpnsl_top10_urban_rural_with_genes <- xpnsl_top10_urban_rural %>% \n",
    "    left_join(., symbols) %>% \n",
    "    left_join(., prods)\n",
    "\n",
    "xpnsl_top10_urban_rural_with_genes"
   ]
  },
  {
   "cell_type": "code",
   "execution_count": null,
   "id": "7856b4ec-3f94-4c74-b3a4-c9fd9fc8f74d",
   "metadata": {},
   "outputs": [],
   "source": [
    "# Write table with gene symbols, products, and Fst overlaps for top ten selected yrban and rural regions\n",
    "write_delim(xpnsl_top10_urban_rural_with_genes, snakemake@output[['top_ten_tbl']], delim = '\\t')"
   ]
  },
  {
   "cell_type": "markdown",
   "id": "857f62fa-1a89-40d2-931b-c2e6acbbdbed",
   "metadata": {},
   "source": [
    "## Dataframe with gene IDs in all selected regions based on XP-nSL"
   ]
  },
  {
   "cell_type": "code",
   "execution_count": null,
   "id": "639498a1-37a3-4baa-9f57-cc239e16dbd7",
   "metadata": {},
   "outputs": [],
   "source": [
    "xpnsl_outliers <- win_xpnsl_df %>% \n",
    "    filter(direction != 'Not outlier') %>% \n",
    "    dplyr::select(Chr, start, end, direction)\n",
    "\n",
    "xpnsl_outliers_with_genes <- bt.intersect(xpnsl_outliers, gene_names, wa = T, wb = T) %>% \n",
    "    dplyr::select(V1, V2, V3, V4, V8)\n",
    "names(xpnsl_outliers_with_genes) <- c('Chr', 'start', 'end', 'direction', 'gene_id')\n",
    "write_delim(xpnsl_outliers_with_genes, snakemake@output[['all_xpnsl_sel']], delim = '\\t')"
   ]
  },
  {
   "cell_type": "code",
   "execution_count": null,
   "id": "3515b97b-2c15-4520-884e-ded61261077c",
   "metadata": {},
   "outputs": [],
   "source": [
    "xpnsl_outliers_with_genes"
   ]
  },
  {
   "cell_type": "code",
   "execution_count": null,
   "id": "c0a8ef70-53a9-413a-be89-61bb12e217a8",
   "metadata": {},
   "outputs": [],
   "source": []
  }
 ],
 "metadata": {
  "kernelspec": {
   "display_name": "R",
   "language": "R",
   "name": "ir"
  },
  "language_info": {
   "codemirror_mode": "r",
   "file_extension": ".r",
   "mimetype": "text/x-r-source",
   "name": "R",
   "pygments_lexer": "r",
   "version": "4.1.3"
  }
 },
 "nbformat": 4,
 "nbformat_minor": 5
}
