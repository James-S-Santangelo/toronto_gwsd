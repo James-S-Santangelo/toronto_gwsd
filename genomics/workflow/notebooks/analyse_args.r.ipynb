{
 "cells": [
  {
   "cell_type": "code",
   "execution_count": null,
   "id": "cd1c6809",
   "metadata": {},
   "outputs": [],
   "source": [
    "# Load required Packages\n",
    "library(tidyverse)"
   ]
  },
  {
   "cell_type": "code",
   "execution_count": null,
   "id": "7c4b3569-fd8b-44c9-aa52-2634d68ad647",
   "metadata": {},
   "outputs": [],
   "source": [
    "# Load file with selected and unselected XP-nSL regions\n",
    "regions <- read_delim(snakemake@input[[\"regions\"]], delim='\\t')\n",
    "head(regions)"
   ]
  },
  {
   "cell_type": "code",
   "execution_count": null,
   "id": "75a65ce3-b1a4-4f7b-b927-f98ee9a9c1f3",
   "metadata": {},
   "outputs": [],
   "source": [
    "# Load ARG-based estimates of Fst across entire regions\n",
    "# I.e. mean Fst across region, averaged across all posterior ARG samples\n",
    "arg_fst_df <- snakemake@input[[\"arg_fst\"]] %>% \n",
    "    purrr::map_dfr(., read_delim, delim = '\\t')\n",
    "head(arg_fst_df)"
   ]
  },
  {
   "cell_type": "code",
   "execution_count": null,
   "id": "e9b16e12-ceaf-4ff6-88ba-ffb1055f0add",
   "metadata": {},
   "outputs": [],
   "source": [
    "# Add branch and site based Fst estimates to regions DF\n",
    "mean_arg_fst_df <- arg_fst_df %>% \n",
    "    group_by(regionID, type) %>% \n",
    "    summarise(mean = mean(fst))  %>% \n",
    "    pivot_wider(., names_from = \"type\", values_from = \"mean\", names_prefix = \"fst_\") %>% \n",
    "    left_join(., regions, by = \"regionID\")\n",
    "head(mean_arg_fst_df)"
   ]
  },
  {
   "cell_type": "code",
   "execution_count": null,
   "id": "3233891d-6d8e-4763-ba80-68197e3daaa4",
   "metadata": {},
   "outputs": [],
   "source": [
    "# Plot site and branch-based Fst estimates\n",
    "ggplot(mean_arg_fst_df, aes(x = fst_site, y = fst_branch)) +\n",
    "    geom_point(size = 3, color = 'black', fill = 'black') +\n",
    "    geom_smooth(method = 'lm', color = 'blue') +\n",
    "    xlab('Site Fst') + ylab(\"Branch Fst\") +\n",
    "    theme_classic() +\n",
    "    theme(axis.text = element_text(size = 15),\n",
    "          axis.title = element_text(size = 18))"
   ]
  },
  {
   "cell_type": "code",
   "execution_count": null,
   "id": "568e7d96-9b84-4e6a-8176-6c10214ba047",
   "metadata": {},
   "outputs": [],
   "source": [
    "# Load in Fst estimated from genotypes in the VCF. Add to regions DF\n",
    "gt_fst <- read_delim(snakemake@input[[\"gt_fst\"]], delim = \"\\t\")\n",
    "mean_arg_fst_df <- mean_arg_fst_df %>% \n",
    "    left_join(., gt_fst, by = \"regionID\")"
   ]
  },
  {
   "cell_type": "code",
   "execution_count": null,
   "id": "a05882ca-c93b-4915-bb12-04c2ae21081d",
   "metadata": {},
   "outputs": [],
   "source": [
    "# Plot genotype Fst against ARG branch-based Fst\n",
    "mean_arg_fst_df %>% \n",
    "    ggplot(., aes(x = fst_branch, y = gt_fst_weighted)) +\n",
    "    geom_point(size = 3, aes(color = direction)) +\n",
    "    geom_smooth(method = 'lm', color = 'blue') +\n",
    "    xlab('ARG Branch Fst') + ylab(\"VCFtools GT Fst\") +\n",
    "    theme_classic() +\n",
    "    theme(axis.text = element_text(size = 15),\n",
    "          axis.title = element_text(size = 18))"
   ]
  },
  {
   "cell_type": "code",
   "execution_count": null,
   "id": "d53007a0-13f9-4ad5-927e-6cbc77e5a330",
   "metadata": {},
   "outputs": [],
   "source": [
    "# Correlation between GT and ARG Fst\n",
    "cor.test(mean_arg_fst_df$gt_fst_weighted, mean_arg_fst_df$fst_branch)"
   ]
  },
  {
   "cell_type": "code",
   "execution_count": null,
   "id": "63c5aa5d-710c-483c-8851-f02cec489c90",
   "metadata": {
    "scrolled": true
   },
   "outputs": [],
   "source": [
    "# Same as above but without regions in putative inversions\n",
    "inversion_regions <- c(83:94, 97:111, 130:139)\n",
    "mean_arg_fst_df %>% \n",
    "    filter(!regionID %in% inversion_regions) %>% \n",
    "    ggplot(., aes(x = fst_branch, y = gt_fst_weighted)) +\n",
    "    geom_point(size = 3, aes(color = direction)) +\n",
    "    geom_smooth(method = 'lm', color = 'blue') +\n",
    "    xlab('ARG Branch Fst') + ylab(\"VCFtools GT Fst\") +\n",
    "    theme_classic() +\n",
    "    theme(axis.text = element_text(size = 15),\n",
    "          axis.title = element_text(size = 18))"
   ]
  },
  {
   "cell_type": "code",
   "execution_count": null,
   "id": "f985ef65-4070-4091-98bd-4cd26e7687de",
   "metadata": {},
   "outputs": [],
   "source": [
    "# Correlation excluding putative inversions\n",
    "cor.test(filter(mean_arg_fst_df, !regionID %in% inversion_regions)$gt_fst_weighted, \n",
    "         filter(mean_arg_fst_df, !regionID %in% inversion_regions)$fst_branch)"
   ]
  },
  {
   "cell_type": "code",
   "execution_count": null,
   "id": "0fd99dd0-fad9-43c0-9d56-34a2048c7cb9",
   "metadata": {},
   "outputs": [],
   "source": [
    "# Calculate mean windowed Fst from SFS in same regions as above ARG based estimates\n",
    "calculate_mean_sfs_fst <- function(path, mean_arg_fst_df){\n",
    "    get_region_fst <- function(arg_region_df, sfs_fst_df){\n",
    "        region <- arg_region_df[[\"regionID\"]]\n",
    "        chr <- arg_region_df[[\"Chr\"]]\n",
    "        start <- arg_region_df[[\"start\"]]\n",
    "        end <- arg_region_df[[\"end\"]]\n",
    "        sfs_fst_df_filt <- sfs_fst_df %>% \n",
    "            filter(Pos >= start & Pos <= end) %>% \n",
    "\n",
    "            # Cap numerators at 0 if negative \n",
    "            # https://github.com/ANGSD/angsd/issues/309\n",
    "            mutate(num = ifelse(num < 0, 0, num)) %>% \n",
    "            \n",
    "            # Estimate weighted Fst as ratio of averages\n",
    "            # https://github.com/ANGSD/angsd/issues/61\n",
    "            summarise(num_sum = sum(num),\n",
    "                      denom_sum = sum(denom),\n",
    "                      fst = num_sum / denom_sum) %>% \n",
    "        mutate(regionID = region)\n",
    "        return(sfs_fst_df_filt)     \n",
    "    }\n",
    "    \n",
    "    sfs_fst_df <- read_delim(path, delim = '\\t', col_names = c(\"Chr\",\"Pos\",\"num\",\"denom\")) \n",
    "    chr <- sfs_fst_df %>% pull(Chr) %>% unique()\n",
    "    print(chr)\n",
    "    flush.console()\n",
    "    mean_sfs_fst_df <- mean_arg_fst_df %>% \n",
    "        ungroup() %>% \n",
    "        filter(Chr == chr) %>% \n",
    "        group_split(regionID) %>% \n",
    "        purrr::map(., get_region_fst, sfs_fst_df = sfs_fst_df)\n",
    "    return(mean_sfs_fst_df)\n",
    "}\n",
    "\n",
    "sfs_fst_df <- snakemake@input[[\"sfs_fst\"]] %>% \n",
    "    purrr::map_dfr(., calculate_mean_sfs_fst, mean_arg_fst_df = mean_arg_fst_df)"
   ]
  },
  {
   "cell_type": "code",
   "execution_count": null,
   "id": "754a2812-d8f6-4703-bdcc-508f30100928",
   "metadata": {},
   "outputs": [],
   "source": [
    "# Plot ARG-based Fst against SFS-based Fst\n",
    "mean_arg_fst_df %>% \n",
    "    left_join(., sfs_fst_df, by = \"regionID\") %>% \n",
    "    ggplot(., aes(x = fst, y = fst_branch)) +\n",
    "        geom_point(size = 3, aes(color = direction, fill = direction)) +\n",
    "        geom_smooth(method = 'lm', color = 'blue') +\n",
    "        xlab('SFS Fst') + ylab(\"ARG Branch Fst\") +\n",
    "        theme_classic() +\n",
    "        theme(axis.text = element_text(size = 15),\n",
    "              axis.title = element_text(size = 18))"
   ]
  },
  {
   "cell_type": "code",
   "execution_count": null,
   "id": "b33a6713-492a-4f45-af33-3ab6a2ffa1dd",
   "metadata": {},
   "outputs": [],
   "source": [
    "# Same as above but without regions in putative inversions\n",
    "mean_arg_fst_df %>% \n",
    "    filter(!regionID %in% inversion_regions) %>% \n",
    "    left_join(., sfs_fst_df, by = \"regionID\") %>% \n",
    "    ggplot(., aes(x = fst, y = fst_branch)) +\n",
    "        geom_point(size = 3, aes(color = direction, fill = direction)) +\n",
    "        geom_smooth(method = 'lm', color = 'blue') +\n",
    "        xlab('SFS Fst') + ylab(\"ARG Branch Fst\") +\n",
    "        theme_classic() +\n",
    "        theme(axis.text = element_text(size = 15),\n",
    "              axis.title = element_text(size = 18))"
   ]
  },
  {
   "cell_type": "code",
   "execution_count": null,
   "id": "b3ecc016-9ff8-42da-a79c-c21dbac6bd60",
   "metadata": {},
   "outputs": [],
   "source": [
    "# Plot ARG-based Fst against SFS-based Fst\n",
    "mean_arg_fst_df %>% \n",
    "    left_join(., sfs_fst_df, by = \"regionID\") %>% \n",
    "    ggplot(., aes(x = fst, y = gt_fst_weighted)) +\n",
    "        geom_point(size = 3, aes(color = direction, fill = direction)) +\n",
    "        geom_smooth(method = 'lm', color = 'blue') +\n",
    "        xlab('SFS Fst') + ylab(\"VCFtools Fst\") +\n",
    "        theme_classic() +\n",
    "        theme(axis.text = element_text(size = 15),\n",
    "              axis.title = element_text(size = 18))"
   ]
  },
  {
   "cell_type": "code",
   "execution_count": null,
   "id": "9bc6b69e-3049-431e-8566-4c9ea85cac1f",
   "metadata": {},
   "outputs": [],
   "source": [
    "win_fst_df <- snakemake@input[[\"win_fst\"]] %>% \n",
    "    purrr::map_dfr(read_csv)"
   ]
  },
  {
   "cell_type": "code",
   "execution_count": null,
   "id": "5c82dfca-e62b-4427-8476-e4a8b3abe330",
   "metadata": {},
   "outputs": [],
   "source": [
    "num_sites_trees_df <- snakemake@input[[\"nsites\"]] %>% \n",
    "    purrr::map_dfr(read_csv)"
   ]
  },
  {
   "cell_type": "code",
   "execution_count": null,
   "id": "1c39df97-1b00-443c-9411-9ef9069852bd",
   "metadata": {},
   "outputs": [],
   "source": [
    "num_sites_trees_df %>%\n",
    "    mutate(r_mu_ratio = num_trees / num_sites) %>% \n",
    "    filter(regionID == 1) %>% \n",
    "    ggplot(aes(x = r_mu_ratio)) +\n",
    "        geom_histogram(bins = 50, color = 'black', fill = 'red') +\n",
    "        ylab(\"Number of iterations\") + xlab(\"Recombination rate to mutation rate ratio\") +\n",
    "        theme_classic() +\n",
    "        theme(axis.title = element_text(size = 15),\n",
    "              axis.text = element_text(size = 13))"
   ]
  },
  {
   "cell_type": "code",
   "execution_count": null,
   "id": "bf615842-efe9-4a83-bad6-46e4b10191c2",
   "metadata": {},
   "outputs": [],
   "source": [
    "mean_r_mu_ratio_df <- num_sites_trees_df %>%\n",
    "    mutate(r_mu_ratio = num_trees / num_sites) %>% \n",
    "    group_by(regionID) %>% \n",
    "    summarise(r_mu_ratio = mean(r_mu_ratio))"
   ]
  },
  {
   "cell_type": "code",
   "execution_count": null,
   "id": "9650a625-f005-44e7-84e7-54f147651ea7",
   "metadata": {},
   "outputs": [],
   "source": [
    "mean_r_mu_ratio_df %>% \n",
    "    ggplot(aes(x = r_mu_ratio)) +\n",
    "        geom_histogram(bins = 50, color = 'black', fill = 'red') +\n",
    "        ylab(\"Number of regions\") + xlab(\"Mean recombination rate to mutation rate ratio\") +\n",
    "        theme_classic() +\n",
    "        theme(axis.title = element_text(size = 15),\n",
    "              axis.text = element_text(size = 13))    "
   ]
  },
  {
   "cell_type": "code",
   "execution_count": null,
   "id": "d88bdbbf-02a3-4b2d-9290-be7473a070e0",
   "metadata": {},
   "outputs": [],
   "source": [
    "win_fst_df %>% \n",
    "    group_by(regionID) %>% \n",
    "    summarize(cor = cor(gt_fst, arg_fst, use = \"complete.obs\")) %>% \n",
    "    ggplot(aes(x = cor)) +\n",
    "        geom_histogram(bins = 50, color = 'black', fill = 'red') +\n",
    "        ylab(\"Number of regions\") + xlab(\"ARG vs. GT Fst correlation\") +\n",
    "        theme_classic() +\n",
    "        theme(axis.title = element_text(size = 15),\n",
    "              axis.text = element_text(size = 13))"
   ]
  },
  {
   "cell_type": "code",
   "execution_count": null,
   "id": "319e9904-d57b-43e5-acb7-6f191c6074e2",
   "metadata": {},
   "outputs": [],
   "source": [
    "win_fst_df %>% \n",
    "    group_by(regionID) %>% \n",
    "    summarize(cor = cor(gt_fst, arg_fst, use = \"complete.obs\")) %>% \n",
    "    filter(cor > -0.01 & cor < 0.01) %>% \n",
    "    arrange(desc(cor))"
   ]
  },
  {
   "cell_type": "code",
   "execution_count": null,
   "id": "81a9372e-ec18-4ed7-92b2-b8f4b27e491f",
   "metadata": {},
   "outputs": [],
   "source": [
    "win_fst_df %>% \n",
    "    group_by(regionID) %>% \n",
    "    summarize(cor = cor(gt_fst, arg_fst, use = \"complete.obs\")) %>% \n",
    "    left_join(mean_r_mu_ratio_df, by=\"regionID\") %>% \n",
    "    ggplot(., aes(x = r_mu_ratio, y = cor)) +\n",
    "        geom_point(size = 3) +\n",
    "        geom_smooth(method = 'lm', color = 'blue') +\n",
    "        ylab('ARG vs. GT Fst correlation') + xlab(\"Mean recombination rate to mutation rate ratio\") +\n",
    "        theme_classic() +\n",
    "        theme(axis.text = element_text(size = 15),\n",
    "              axis.title = element_text(size = 18))"
   ]
  },
  {
   "cell_type": "code",
   "execution_count": null,
   "id": "78900ef4-3547-465d-924b-eaebe5f134be",
   "metadata": {},
   "outputs": [],
   "source": [
    "win_fst_df %>% \n",
    "    group_by(regionID) %>% \n",
    "    summarize(cor = cor(gt_fst, arg_fst, use = \"complete.obs\")) %>% \n",
    "    filter(regionID %in% inversion_regions) %>% \n",
    "    ggplot(aes(x = cor)) +\n",
    "        geom_histogram(bins = 20, color = 'black', fill = 'red') +\n",
    "        ylab(\"Number of regions\") + xlab(\"ARG vs. GT Fst correlation\") +\n",
    "        theme_classic() +\n",
    "        theme(axis.title = element_text(size = 15),\n",
    "              axis.text = element_text(size = 13))"
   ]
  },
  {
   "cell_type": "code",
   "execution_count": null,
   "id": "11c02ce8-4a84-4622-b762-5eac579a1645",
   "metadata": {},
   "outputs": [],
   "source": [
    "options(repr.plot.width = 12, repr.plot.height = 5, repr.plot.res = 100)\n",
    "win_fst_df %>% \n",
    "    filter(regionID == 357) %>% \n",
    "    dplyr::select(-n_sites, -regionID) %>% \n",
    "    pivot_longer(names_to = \"type\", values_to = \"fst\", -win_id) %>% \n",
    "    ggplot(aes(y = fst, x = win_id)) +\n",
    "        xlab(\"Window ID\") + ylab(\"Fst\") +\n",
    "        geom_line(aes(color = type), linewidth = 1.5) +\n",
    "        theme_classic() +\n",
    "        theme(axis.title = element_text(size = 15),\n",
    "              axis.text = element_text(size = 13),\n",
    "              legend.title = element_text(size = 13),\n",
    "              legend.text = element_text(size = 11))"
   ]
  },
  {
   "cell_type": "code",
   "execution_count": null,
   "id": "c1f5ca96-35d0-49de-9212-2de5045de8bb",
   "metadata": {},
   "outputs": [],
   "source": [
    "win_fst_df %>% \n",
    "    filter(regionID == 234) %>% \n",
    "    dplyr::select(-n_sites, -regionID) %>% \n",
    "    pivot_longer(names_to = \"type\", values_to = \"fst\", -win_id) %>% \n",
    "    ggplot(aes(y = fst, x = win_id)) +\n",
    "        xlab(\"Window ID\") + ylab(\"Fst\") +\n",
    "        geom_line(aes(color = type), linewidth = 1.5) +\n",
    "        theme_classic() +\n",
    "        theme(axis.title = element_text(size = 15),\n",
    "              axis.text = element_text(size = 13),\n",
    "              legend.title = element_text(size = 13),\n",
    "              legend.text = element_text(size = 11))"
   ]
  },
  {
   "cell_type": "code",
   "execution_count": null,
   "id": "215c095a-e883-4f02-aa9a-3db96e1998f4",
   "metadata": {},
   "outputs": [],
   "source": [
    "win_fst_df %>% \n",
    "    filter(regionID == 184) %>% \n",
    "    dplyr::select(-n_sites, -regionID) %>% \n",
    "    pivot_longer(names_to = \"type\", values_to = \"fst\", -win_id) %>% \n",
    "    ggplot(aes(y = fst, x = win_id)) +\n",
    "        xlab(\"Window ID\") + ylab(\"Fst\") +\n",
    "        geom_line(aes(color = type), linewidth = 1.5) +\n",
    "        theme_classic() +\n",
    "        theme(axis.title = element_text(size = 15),\n",
    "              axis.text = element_text(size = 13),\n",
    "              legend.title = element_text(size = 13),\n",
    "              legend.text = element_text(size = 11))"
   ]
  },
  {
   "cell_type": "code",
   "execution_count": null,
   "id": "f41a5218-2f87-43d7-961c-614373230375",
   "metadata": {},
   "outputs": [],
   "source": []
  }
 ],
 "metadata": {
  "kernelspec": {
   "display_name": "R",
   "language": "R",
   "name": "ir"
  },
  "language_info": {
   "codemirror_mode": "r",
   "file_extension": ".r",
   "mimetype": "text/x-r-source",
   "name": "R",
   "pygments_lexer": "r",
   "version": "4.1.3"
  }
 },
 "nbformat": 4,
 "nbformat_minor": 5
}
