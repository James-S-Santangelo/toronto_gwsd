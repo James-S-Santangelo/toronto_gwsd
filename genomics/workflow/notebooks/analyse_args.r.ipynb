{
 "cells": [
  {
   "cell_type": "code",
   "execution_count": null,
   "id": "cd1c6809",
   "metadata": {},
   "outputs": [],
   "source": [
    "library(tidyverse)"
   ]
  },
  {
   "cell_type": "code",
   "execution_count": null,
   "id": "7c4b3569-fd8b-44c9-aa52-2634d68ad647",
   "metadata": {},
   "outputs": [],
   "source": [
    "regions <- read_delim(snakemake@input[[\"regions\"]], delim='\\t')\n",
    "head(regions)"
   ]
  },
  {
   "cell_type": "code",
   "execution_count": null,
   "id": "75a65ce3-b1a4-4f7b-b927-f98ee9a9c1f3",
   "metadata": {},
   "outputs": [],
   "source": [
    "arg_fst_df <- snakemake@input[[\"arg_fst\"]] %>% \n",
    "    purrr::map_dfr(., read_delim, delim = '\\t')"
   ]
  },
  {
   "cell_type": "code",
   "execution_count": null,
   "id": "09aa88f7-06ed-4922-b426-db2fa506874e",
   "metadata": {},
   "outputs": [],
   "source": [
    "head(arg_fst_df)"
   ]
  },
  {
   "cell_type": "code",
   "execution_count": null,
   "id": "e9b16e12-ceaf-4ff6-88ba-ffb1055f0add",
   "metadata": {},
   "outputs": [],
   "source": [
    "mean_arg_fst_df <- arg_fst_df %>% \n",
    "    group_by(regionID, type) %>% \n",
    "    summarise(mean = mean(fst))  %>% \n",
    "    pivot_wider(., names_from = \"type\", values_from = \"mean\", names_prefix = \"fst_\") %>% \n",
    "    left_join(., regions, by = \"regionID\")\n",
    "head(mean_arg_fst_df)"
   ]
  },
  {
   "cell_type": "code",
   "execution_count": null,
   "id": "3233891d-6d8e-4763-ba80-68197e3daaa4",
   "metadata": {},
   "outputs": [],
   "source": [
    "ggplot(mean_arg_fst_df, aes(x = fst_site, y = fst_branch)) +\n",
    "    geom_point(size = 3, color = 'black', fill = 'black') +\n",
    "    geom_smooth(method = 'lm', color = 'blue') +\n",
    "    xlab('Site Fst') + ylab(\"Branch Fst\") +\n",
    "    theme_classic() +\n",
    "    theme(axis.text = element_text(size = 15),\n",
    "          axis.title = element_text(size = 18))"
   ]
  },
  {
   "cell_type": "code",
   "execution_count": null,
   "id": "568e7d96-9b84-4e6a-8176-6c10214ba047",
   "metadata": {},
   "outputs": [],
   "source": [
    "gt_fst <- read_delim(snakemake@input[[\"gt_fst\"]], delim = \"\\t\")\n",
    "mean_arg_fst_df <- mean_arg_fst_df %>% \n",
    "    left_join(., gt_fst, by = \"regionID\")"
   ]
  },
  {
   "cell_type": "code",
   "execution_count": null,
   "id": "a05882ca-c93b-4915-bb12-04c2ae21081d",
   "metadata": {},
   "outputs": [],
   "source": [
    "ggplot(mean_arg_fst_df, aes(x = fst_branch, y = gt_fst_weighted)) +\n",
    "    geom_point(size = 3, color = 'black', fill = 'black') +\n",
    "    geom_smooth(method = 'lm', color = 'blue') +\n",
    "    xlab('ARG Branch Fst') + ylab(\"VCFtools GT Fst\") +\n",
    "    theme_classic() +\n",
    "    theme(axis.text = element_text(size = 15),\n",
    "          axis.title = element_text(size = 18))"
   ]
  },
  {
   "cell_type": "code",
   "execution_count": null,
   "id": "d53007a0-13f9-4ad5-927e-6cbc77e5a330",
   "metadata": {},
   "outputs": [],
   "source": [
    "cor.test(mean_arg_fst_df$gt_fst_mean, mean_arg_fst_df$fst_branch)"
   ]
  },
  {
   "cell_type": "code",
   "execution_count": null,
   "id": "ef0ebf1b-f702-4d6b-b078-e0f320343d00",
   "metadata": {},
   "outputs": [],
   "source": [
    "sfs_fst <- read_delim(snakemake@input[[\"sfs_fst\"]][1], delim = '\\t', col_names = c(\"Chr\",\"Pos\",\"x\",\"Fst\")) %>% \n",
    "    dplyr::select(-x)\n",
    "head(sfs_fst)"
   ]
  },
  {
   "cell_type": "code",
   "execution_count": null,
   "id": "0fd99dd0-fad9-43c0-9d56-34a2048c7cb9",
   "metadata": {},
   "outputs": [],
   "source": [
    "calculate_mean_sfs_fst <- function(path, mean_arg_fst_df){\n",
    "    get_region_fst <- function(arg_region_df, sfs_fst_df){\n",
    "        region <- arg_region_df[[\"regionID\"]]\n",
    "        chr <- arg_region_df[[\"Chr\"]]\n",
    "        start <- arg_region_df[[\"start\"]]\n",
    "        end <- arg_region_df[[\"end\"]]\n",
    "        sfs_fst_df_filt <- sfs_fst_df %>% \n",
    "            filter(Pos >= start & Pos <= end) %>% \n",
    "            summarise(Fst = mean(Fst)) %>% \n",
    "            mutate(regionID = region)\n",
    "        return(sfs_fst_df_filt)     \n",
    "    }\n",
    "    \n",
    "    sfs_fst_df <- read_delim(path, delim = '\\t', col_names = c(\"Chr\",\"Pos\",\"x\",\"Fst\")) %>% \n",
    "        dplyr::select(-x)\n",
    "    chr <- sfs_fst_df %>% pull(Chr) %>% unique()\n",
    "    print(chr)\n",
    "    flush.console()\n",
    "    mean_sfs_fst_df <- mean_arg_fst_df %>% \n",
    "        ungroup() %>% \n",
    "        filter(Chr == chr) %>% \n",
    "        group_split(regionID) %>% \n",
    "        purrr::map(., get_region_fst, sfs_fst_df = sfs_fst_df)\n",
    "    return(mean_sfs_fst_df)\n",
    "}\n",
    "\n",
    "sfs_fst_df <- snakemake@input[[\"sfs_fst\"]] %>% \n",
    "    purrr::map_dfr(., calculate_mean_sfs_fst, mean_arg_fst_df = mean_arg_fst_df)"
   ]
  },
  {
   "cell_type": "code",
   "execution_count": null,
   "id": "754a2812-d8f6-4703-bdcc-508f30100928",
   "metadata": {},
   "outputs": [],
   "source": [
    "# sfs_fst_df <- sfs_fst_df %>% rename(\"regionID\" = \"region\")\n",
    "mean_arg_fst_df %>% \n",
    "    left_join(., sfs_fst_df, by = \"regionID\") %>% \n",
    "    ggplot(., aes(x = Fst, y = fst_branch)) +\n",
    "        geom_point(size = 3, aes(color = direction, fill = direction)) +\n",
    "        geom_smooth(method = 'lm', color = 'blue') +\n",
    "        xlab('SFS Fst') + ylab(\"ARG Branch Fst\") +\n",
    "        theme_classic() +\n",
    "        theme(axis.text = element_text(size = 15),\n",
    "              axis.title = element_text(size = 18))"
   ]
  },
  {
   "cell_type": "code",
   "execution_count": null,
   "id": "b33a6713-492a-4f45-af33-3ab6a2ffa1dd",
   "metadata": {},
   "outputs": [],
   "source": [
    "mean_arg_fst_df %>% ungroup() %>% filter(fst_branch == max(fst_branch))"
   ]
  },
  {
   "cell_type": "code",
   "execution_count": null,
   "id": "ace1130f-f716-41d1-b9d1-db52cd3958bf",
   "metadata": {},
   "outputs": [],
   "source": []
  }
 ],
 "metadata": {
  "kernelspec": {
   "display_name": "R",
   "language": "R",
   "name": "ir"
  },
  "language_info": {
   "codemirror_mode": "r",
   "file_extension": ".r",
   "mimetype": "text/x-r-source",
   "name": "R",
   "pygments_lexer": "r",
   "version": "4.1.3"
  }
 },
 "nbformat": 4,
 "nbformat_minor": 5
}
