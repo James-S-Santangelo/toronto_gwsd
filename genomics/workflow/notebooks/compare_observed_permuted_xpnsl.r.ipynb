{
 "cells": [
  {
   "cell_type": "code",
   "execution_count": null,
   "id": "d34369da-4c9d-4808-ba2a-ca44c46b31b7",
   "metadata": {},
   "outputs": [],
   "source": []
  },
  {
   "cell_type": "markdown",
   "id": "ceebedf0-7ad0-42cc-882d-949990af6152",
   "metadata": {},
   "source": [
    "# Setup"
   ]
  },
  {
   "cell_type": "code",
   "execution_count": null,
   "id": "768edc08",
   "metadata": {},
   "outputs": [],
   "source": [
    "# Load packages\n",
    "library(tidyverse)"
   ]
  },
  {
   "cell_type": "code",
   "execution_count": null,
   "id": "a21beeb8-3485-415a-84b4-1afc313d06fb",
   "metadata": {},
   "outputs": [],
   "source": [
    "# Load observed and permuted data\n",
    "observed <- read_delim(snakemake@input[[\"obs\"]], delim = '\\t')\n",
    "permuted <- purrr::map_dfr(snakemake@input[[\"perm\"]], read_delim, delim ='\\t')"
   ]
  },
  {
   "cell_type": "markdown",
   "id": "b3952867-4d72-4468-b7e1-4edf98156bac",
   "metadata": {},
   "source": [
    "# Analyses\n",
    "\n",
    "## Observed and permuted score correlations"
   ]
  },
  {
   "cell_type": "code",
   "execution_count": null,
   "id": "c3e92f99-ed17-44b7-be1e-49cad549cb31",
   "metadata": {},
   "outputs": [],
   "source": [
    "calc_cor <- function(df){\n",
    "    val <- cor(df$mean, observed$mean, method = \"pearson\")\n",
    "    return(data.frame(cor = val))\n",
    "}\n",
    "cor_plot <- permuted %>% \n",
    "    group_split(iter) %>% \n",
    "    purrr::map_dfr(., calc_cor) %>% \n",
    "    ggplot(aes(x = cor)) +\n",
    "        geom_histogram(bins = 50, color = \"black\", fill = \"white\") +\n",
    "        ylab(\"Number of iterations\") + xlab(\"Permuted vs. observed XP-nSL Pearson's correlation coefficient\") +\n",
    "        theme_classic() +\n",
    "        theme(axis.title = element_text(size = 17),\n",
    "              axis.text = element_text(size = 15))\n",
    "\n",
    "ggsave(filename = snakemake@output[[\"cor_plot\"]], plot = cor_plot, width = 8, \n",
    "       height = 8, units = \"in\", device = \"pdf\", dpi = 600)"
   ]
  },
  {
   "cell_type": "markdown",
   "id": "9a3d14d6-af09-414a-9a85-1e2287a42029",
   "metadata": {},
   "source": [
    "## Comparing observed vs. permuted selected windows\n",
    "\n",
    "### Positive selection in urban habitats"
   ]
  },
  {
   "cell_type": "code",
   "execution_count": null,
   "id": "d03c5f5b-5540-42d0-81c6-7e67edd9837a",
   "metadata": {},
   "outputs": [],
   "source": [
    "urban_sel_permuted <- permuted %>% filter(direction == \"Urban sel\")\n",
    "urban_sel_observed <- observed %>% filter(direction == \"Urban sel\")\n",
    "\n",
    "urb_mean_plot <- ggplot() +\n",
    "    geom_density(data = urban_sel_permuted, aes(x = mean, fill = \"Permuted\", color = \"Permuted\"), alpha = 0.5) + \n",
    "    geom_density(data = urban_sel_observed, aes(x = mean, fill = \"Observed\", color = \"Observed\"), alpha = 0.5) +\n",
    "    ylab(\"Density\") + xlab(\"Mean windowed XP-nSL score\") +\n",
    "    scale_fill_manual(name = \"Distribution\", values = c(\"Permuted\" = \"#0070ec\", \"Observed\" = \"#003876\")) +\n",
    "    scale_color_manual(name = \"Distribution\", values = c(\"Permuted\" = \"#0070ec\", \"Observed\" = \"#003876\")) +\n",
    "    theme_classic() +\n",
    "    theme(axis.title = element_text(size = 20),\n",
    ")\n",
    "urb_mean_plot\n",
    "ggsave(filename = snakemake@output[[\"urb_mean_plot\"]], plot = urb_mean_plot, width = 8, \n",
    "       height = 8, units = \"in\", device = \"pdf\", dpi = 600)"
   ]
  },
  {
   "cell_type": "code",
   "execution_count": null,
   "id": "69920d97-6e20-470f-aeac-d20293064ca5",
   "metadata": {},
   "outputs": [],
   "source": [
    "urb_prop_plot <- ggplot() +\n",
    "    geom_density(data = urban_sel_permuted, aes(x = prop_outlier, fill = \"Permuted\", color = \"Permuted\"), alpha = 0.5) + \n",
    "    geom_density(data = urban_sel_observed, aes(x = prop_outlier, fill = \"Observed\", color = \"Observed\"), alpha = 0.5) +\n",
    "    ylab(\"Density\") + xlab(\"Proportion of XP-nSL scores in window > 2\") +\n",
    "    scale_fill_manual(name = \"Distribution\", values = c(\"Permuted\" = \"#0070ec\", \"Observed\" = \"#003876\")) +\n",
    "    scale_color_manual(name = \"Distribution\", values = c(\"Permuted\" = \"#0070ec\", \"Observed\" = \"#003876\")) +\n",
    "    theme_classic() +\n",
    "    theme(axis.title = element_text(size = 20),\n",
    "          axis.text = element_text(size = 18))\n",
    "urb_prop_plot\n",
    "ggsave(filename = snakemake@output[[\"urb_prop_plot\"]], plot = urb_prop_plot, width = 8, \n",
    "       height = 8, units = \"in\", device = \"pdf\", dpi = 600)"
   ]
  },
  {
   "cell_type": "code",
   "execution_count": null,
   "id": "dc774ddd-ef2c-44f1-8cc1-072039d44bbb",
   "metadata": {},
   "outputs": [],
   "source": [
    "urban_percentile <- urban_sel_observed %>% \n",
    "    rowwise() %>% \n",
    "    mutate(mean_perm_perc = sum(mean >= urban_sel_permuted$mean) / nrow(urban_sel_permuted),\n",
    "           prop_perm_perc = sum(prop_outlier >= urban_sel_permuted$prop_outlier) / nrow(urban_sel_permuted)) %>% \n",
    "    arrange(desc(mean_perm_perc)) %>% \n",
    "    dplyr::select(Chr, winID, start, end, winCenter, mean_perm_perc, prop_perm_perc)\n",
    "\n",
    "write_delim(urban_percentile, snakemake@output[[\"urb_perc\"]], delim = \"\\t\")"
   ]
  },
  {
   "cell_type": "markdown",
   "id": "059b531a-aa72-4334-978e-70c4f2d1e2f9",
   "metadata": {},
   "source": [
    "## Positive selection in rural habitat"
   ]
  },
  {
   "cell_type": "code",
   "execution_count": null,
   "id": "533d9b2d-3ae0-40f4-a8e6-e7c2a0a360e6",
   "metadata": {},
   "outputs": [],
   "source": [
    "rural_sel_permuted <- permuted %>% filter(direction == \"Rural sel\")\n",
    "rural_sel_observed <- observed %>% filter(direction == \"Rural sel\")\n",
    "\n",
    "rur_mean_plot <- ggplot() +\n",
    "    geom_density(data = rural_sel_permuted, aes(x = mean, fill = \"Permuted\", color = \"Permuted\"), alpha = 0.5) + \n",
    "    geom_density(data = rural_sel_observed, aes(x = mean, fill = \"Observed\", color = \"Observed\"), alpha = 0.5) +\n",
    "    ylab(\"Density\") + xlab(\"Mean windowed XP-nSL score\") +\n",
    "    scale_fill_manual(name = \"Distribution\", values = c(\"Permuted\" = \"#00e989\", \"Observed\" = \"#007243\")) +\n",
    "    scale_color_manual(name = \"Distribution\", values = c(\"Permuted\" = \"#00e989\", \"Observed\" = \"#007243\")) +\n",
    "    theme_classic() +\n",
    "    theme(axis.title = element_text(size = 20),\n",
    "          axis.text = element_text(size = 18))\n",
    "rur_mean_plot\n",
    "ggsave(filename = snakemake@output[[\"rur_mean_plot\"]], plot = rur_mean_plot, width = 8, \n",
    "       height = 8, units = \"in\", device = \"pdf\", dpi = 600)"
   ]
  },
  {
   "cell_type": "code",
   "execution_count": null,
   "id": "4346f2ad-afaf-4225-b335-7886087f5d98",
   "metadata": {},
   "outputs": [],
   "source": [
    "rur_prop_plot <- ggplot() +\n",
    "    geom_density(data = rural_sel_permuted, aes(x = prop_outlier, fill = \"Permuted\", color = \"Permuted\"), alpha = 0.5) + \n",
    "    geom_density(data = rural_sel_observed, aes(x = prop_outlier, fill = \"Observed\", color = \"Observed\"), alpha = 0.5) +\n",
    "    ylab(\"Density\") + xlab(\"Mean windowed XP-nSL score\") +\n",
    "    scale_fill_manual(name = \"Distribution\", values = c(\"Permuted\" = \"#00e989\", \"Observed\" = \"#007243\")) +\n",
    "    scale_color_manual(name = \"Distribution\", values = c(\"Permuted\" = \"#00e989\", \"Observed\" = \"#007243\")) +\n",
    "    theme_classic() +\n",
    "    theme(axis.title = element_text(size = 20),\n",
    "          axis.text = element_text(size = 18))\n",
    "rur_prop_plot\n",
    "ggsave(filename = snakemake@output[[\"rur_prop_plot\"]], plot = rur_prop_plot, width = 8, \n",
    "       height = 8, units = \"in\", device = \"pdf\", dpi = 600)"
   ]
  },
  {
   "cell_type": "code",
   "execution_count": null,
   "id": "e97702be-bafd-4243-ac6c-724961ea0b68",
   "metadata": {},
   "outputs": [],
   "source": [
    "rural_percentile <- rural_sel_observed %>% \n",
    "    rowwise() %>% \n",
    "    mutate(mean_perm_perc = sum(mean <= rural_sel_permuted$mean) / nrow(rural_sel_permuted),\n",
    "           prop_perm_perc = sum(prop_outlier >= rural_sel_permuted$prop_outlier) / nrow(rural_sel_permuted)) %>% \n",
    "    arrange(desc(mean_perm_perc)) %>% \n",
    "    dplyr::select(Chr, winID, start, end, winCenter, mean_perm_perc, prop_perm_perc)\n",
    "\n",
    "write_delim(rural_percentile, snakemake@output[[\"rur_perc\"]], delim = \"\\t\")"
   ]
  },
  {
   "cell_type": "code",
   "execution_count": null,
   "id": "96982150-ce04-4fb5-97eb-ea2926844018",
   "metadata": {},
   "outputs": [],
   "source": []
  }
 ],
 "metadata": {
  "kernelspec": {
   "display_name": "R",
   "language": "R",
   "name": "ir"
  },
  "language_info": {
   "codemirror_mode": "r",
   "file_extension": ".r",
   "mimetype": "text/x-r-source",
   "name": "R",
   "pygments_lexer": "r",
   "version": "4.1.3"
  }
 },
 "nbformat": 4,
 "nbformat_minor": 5
}
