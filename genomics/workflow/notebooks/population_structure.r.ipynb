{
 "cells": [
  {
   "cell_type": "markdown",
   "metadata": {},
   "source": [
    "# Population structure and diversity\n",
    "\n",
    "## Setup"
   ]
  },
  {
   "cell_type": "code",
   "execution_count": null,
   "metadata": {},
   "outputs": [],
   "source": [
    "# Load required packages\n",
    "library(tidyverse)\n",
    "library(wesanderson)\n",
    "library(vegan)\n",
    "library(umap)"
   ]
  },
  {
   "cell_type": "code",
   "execution_count": null,
   "metadata": {},
   "outputs": [],
   "source": [
    "# Sample order from ANGSD\n",
    "sample_order <- suppressMessages(\n",
    "        read_delim(snakemake@input[[\"order\"]], col_names = FALSE, delim = '\\t')\n",
    ")\n",
    "head(sample_order)"
   ]
  },
  {
   "cell_type": "code",
   "execution_count": null,
   "metadata": {},
   "outputs": [],
   "source": [
    "# Load sample sheet\n",
    "samples <- suppressMessages(\n",
    "        read_delim(snakemake@config[[\"samples\"]], col_names = TRUE, delim = '\\t') %>%\n",
    "        filter(Sample %in% sample_order$X1)\n",
    ")\n",
    "head(samples)"
   ]
  },
  {
   "cell_type": "markdown",
   "metadata": {},
   "source": [
    "### Functions"
   ]
  },
  {
   "cell_type": "markdown",
   "metadata": {},
   "source": [
    "## Population structure\n",
    "\n",
    "All population structure analyses were performed using 199,624 4fold SNPs from across the genome. SNPs had MAF > 0.05 and were pruned for LD such that no pairwise $r^2$ was greater than 0.2\n",
    "\n",
    "### Pricipal Components Analysis (PCA)\n",
    "\n",
    "- Results from a PCA performed in `pcangsd` using genotype likelihoods estimated across all samples in `ANGSD`"
   ]
  },
  {
   "cell_type": "code",
   "execution_count": null,
   "metadata": {},
   "outputs": [],
   "source": [
    "# Load covariance matrix\n",
    "covMat <- suppressMessages(\n",
    "        read_delim(snakemake@input[[\"cov\"]], col_names = FALSE, delim = ' ')\n",
    ")\n",
    "head(covMat)"
   ]
  },
  {
   "cell_type": "code",
   "execution_count": null,
   "metadata": {},
   "outputs": [],
   "source": [
    "# Perform eigen decomposition of covariance matrix\n",
    "# Extract eigenvectors and bind with sample sheet for plotting and coloring by habitat\n",
    "eigenvectors <- eigen(covMat)\n",
    "eigen_df <- eigenvectors$vectors %>%\n",
    "        as.data.frame() %>%\n",
    "        dplyr::select(V1, V2, V3, V4) %>%\n",
    "        rename('PC1' = 'V1',\n",
    "               'PC2' = 'V2',\n",
    "               'PC3' = 'V3',\n",
    "               'PC4' = 'V4') %>%\n",
    "    bind_cols(., samples)"
   ]
  },
  {
   "cell_type": "code",
   "execution_count": null,
   "metadata": {},
   "outputs": [],
   "source": [
    "# Function to calculate % variance and cummulative variance from PC\n",
    "# Used to generate summary table rather than printing the lengthy `princomp()` summary\n",
    "pca_importance <- function(x) {\n",
    "  vars <- x$sdev^2\n",
    "  vars <- vars/sum(vars)\n",
    "  rbind(`Standard deviation` = x$sdev, `Proportion of Variance` = vars, \n",
    "      `Cumulative Proportion` = cumsum(vars))\n",
    "}\n",
    "\n",
    "# Percent Variance explained by first 4 PCs\n",
    "pca_importance(summary(princomp(covMat))) %>% \n",
    "    as.data.frame() %>% \n",
    "    rownames_to_column('var') %>% \n",
    "    dplyr::select(var, Comp.1:Comp.4)"
   ]
  },
  {
   "cell_type": "code",
   "execution_count": null,
   "metadata": {},
   "outputs": [],
   "source": [
    "cols_hab <- c(\"#007243\", \"#914205\", \"#003876\")\n",
    "pca_plot <- eigen_df %>%\n",
    "    ggplot(., aes(x = PC1, y = PC2)) +\n",
    "        geom_point(aes(color = Habitat, shape = Habitat), size = 7, alpha = 0.75) +\n",
    "        scale_color_manual(values = cols_hab) +\n",
    "        theme_classic() +\n",
    "        xlab('PC1 (3.4%)') + ylab('PC2 (2.0%)') +\n",
    "#         scale_x_continuous(breaks = seq(-0.10, 0.10, 0.10)) +\n",
    "        theme(axis.text = element_text(size = 18),\n",
    "              axis.title = element_text(size = 20),\n",
    "              legend.position = 'top',\n",
    "              legend.title = element_text(size = 16),\n",
    "              legend.text = element_text(size = 14))\n",
    "options(repr.plot.width = 8, repr.plot.height = 8)\n",
    "pca_plot"
   ]
  },
  {
   "cell_type": "code",
   "execution_count": null,
   "metadata": {},
   "outputs": [],
   "source": [
    "ggsave(filename = snakemake@output[[\"pca\"]], plot = pca_plot, device = 'pdf', \n",
    "       width = 8, height = 8, units = 'in', dpi = 600, )"
   ]
  },
  {
   "cell_type": "code",
   "execution_count": null,
   "metadata": {},
   "outputs": [],
   "source": [
    "# What are those outlier cluster?\n",
    "eigen_df %>% filter((PC1 > 0.1 & PC2 < -0.1) | (PC1 < 0 & PC2 < -0.15))"
   ]
  },
  {
   "cell_type": "markdown",
   "metadata": {},
   "source": [
    "### Uniform Manifold Approximation Projection (UMAP)\n",
    "\n",
    "- UMAP for same set of samples\n",
    "- Uses number of UMAP components equal to the number of significant PCs from the PCA aboe, assessed using the broken stick model\n",
    "- Takes as input a distance matrix derived from the covariance matrix of sample allele frequencies"
   ]
  },
  {
   "cell_type": "code",
   "execution_count": null,
   "metadata": {
    "scrolled": true
   },
   "outputs": [],
   "source": [
    "scree <- screeplot(princomp(covMat), bstick = TRUE, npcs = 41)"
   ]
  },
  {
   "cell_type": "code",
   "execution_count": null,
   "metadata": {},
   "outputs": [],
   "source": [
    "distMat <- as.matrix(dist(covMat))\n",
    "gwsd_umap <- umap(distMat, random_state = 42, input=\"dist\", n_neighbors = 15, min_dist = 0.1, n_components = 41)\n",
    "gwsd_umap_layout <- gwsd_umap$layout %>% \n",
    "    as_tibble() %>% \n",
    "    bind_cols(., samples)"
   ]
  },
  {
   "cell_type": "code",
   "execution_count": null,
   "metadata": {},
   "outputs": [],
   "source": [
    "umap_plot <- gwsd_umap_layout %>%\n",
    "    ggplot(., aes(x = V1, y = V2)) +\n",
    "        geom_point(aes(color = Habitat, shape = Habitat), size = 7, alpha = 0.75) +\n",
    "        scale_color_manual(values = cols_hab) +\n",
    "        theme_classic() +\n",
    "        xlab('UMAP1') + ylab('UMAP2') +\n",
    "        theme(axis.text = element_text(size = 18),\n",
    "              axis.title = element_text(size = 20),\n",
    "              legend.position = 'top',\n",
    "              legend.title = element_text(size = 16),\n",
    "              legend.text = element_text(size = 14))\n",
    "umap_plot"
   ]
  },
  {
   "cell_type": "code",
   "execution_count": null,
   "metadata": {},
   "outputs": [],
   "source": [
    "ggsave(filename = snakemake@output[[\"umap\"]], plot = umap_plot, device = 'pdf', \n",
    "       width = 8, height = 8, units = 'in', dpi = 600, )"
   ]
  },
  {
   "cell_type": "code",
   "execution_count": null,
   "metadata": {
    "scrolled": true
   },
   "outputs": [],
   "source": [
    "# What are those outlier cluster?\n",
    "gwsd_umap_layout %>% filter((V1 > 0.3 & V2 < -0.4) | ( V1 < 0.25 & V2 > 0.5))"
   ]
  },
  {
   "cell_type": "markdown",
   "metadata": {},
   "source": [
    "### Admixture\n",
    "\n",
    "- I estimated admixture proportions using `NGSadmix` with genotype likelihoods across all samples estimated in `ANGSD`\n",
    "    - I ran all K values from 2 to 10 10 times, each with a different random seed\n",
    "    - Uses same 4fold SNPs as above\n",
    "- I used Evanno's delta-K method implemented in `CLUMPAK` to estimate the upper-most level of structure (i.e., \"optimal\" K)"
   ]
  },
  {
   "cell_type": "code",
   "execution_count": null,
   "metadata": {},
   "outputs": [],
   "source": [
    "# Best K by Evanno is 5. Load logs for K = 5\n",
    "clumpak_log_path <- paste0(snakemake@input[[\"evanno\"]], '/output.log')\n",
    "clumpak_log <- readLines(clumpak_log_path)\n",
    "optimal_K <- as.numeric(str_sub(clumpak_log[grep('Optimal K', clumpak_log)],-1,-1))\n",
    "optimal_K"
   ]
  },
  {
   "cell_type": "code",
   "execution_count": null,
   "metadata": {},
   "outputs": [],
   "source": [
    "# Peak in Delta K looks good\n",
    "library(\"IRdisplay\")\n",
    "display_png(file=paste0(snakemake@input[[\"evanno\"]], '/Best_K_By_Evanno-DeltaKByKGraph.png'))"
   ]
  },
  {
   "cell_type": "markdown",
   "metadata": {},
   "source": [
    "#### Optimal K"
   ]
  },
  {
   "cell_type": "code",
   "execution_count": null,
   "metadata": {},
   "outputs": [],
   "source": [
    "# Function to load NGSadmix log files\n",
    "load_ngsadmix_log <- function(path){\n",
    "    seed <- as.numeric(str_extract(basename(path), pattern = '(?<=seed)[0-9]+(?=\\\\.log)'))\n",
    "    k <- as.numeric(str_extract(basename(path), pattern = '(?<=_K)[0-9]+(?=_seed)'))\n",
    "    logfile <- readLines(path)[9]  ## 9 index is for line with likelihood\n",
    "    like <- as.numeric(str_extract(logfile, pattern = '(?<=like=)-[0-9]+\\\\.[0-9]+'))\n",
    "    \n",
    "    df_out <- data.frame(seed = seed, k = k, like = like)\n",
    "    return(df_out)\n",
    "}\n",
    "\n",
    "like_df <- map_dfr(snakemake@input[[\"admix_log\"]], load_ngsadmix_log)\n",
    "head(like_df)"
   ]
  },
  {
   "cell_type": "code",
   "execution_count": null,
   "metadata": {
    "scrolled": true
   },
   "outputs": [],
   "source": [
    "# Get lowest likelihood for plotting\n",
    "optim_k_min_seed <- like_df %>%\n",
    "    filter(k == optimal_K) %>% \n",
    "    filter(like == min(like)) %>% \n",
    "    pull(seed)\n",
    "optim_k_min_seed"
   ]
  },
  {
   "cell_type": "code",
   "execution_count": null,
   "metadata": {
    "scrolled": true
   },
   "outputs": [],
   "source": [
    "load_ngsadmix_qopt <- function(path, K, s){\n",
    "    seed <- as.numeric(str_extract(basename(path), pattern = '(?<=seed)[0-9]+(?=\\\\.qopt)'))\n",
    "    k <- as.numeric(str_extract(basename(path), pattern = '(?<=_K)[0-9]+(?=_seed)'))\n",
    "    if(seed == s & k == K){\n",
    "        df <- suppressMessages(read_delim(path, col_names = FALSE, delim = \" \")) %>%\n",
    "            dplyr::select(-sprintf(\"X%s\", K + 1)) %>%\n",
    "            bind_cols(., samples) %>% \n",
    "            pivot_longer(X1:sprintf(\"X%s\", K), values_to = 'Probs') %>% \n",
    "            mutate(Probs = round(Probs, 5))\n",
    "        return(df)\n",
    "    }\n",
    "}\n",
    "\n",
    "# Load admixture results for seed with lowest log likelihood\n",
    "admix_optimal <- purrr::map_dfr(snakemake@input[[\"admix_qopt\"]], load_ngsadmix_qopt, K = optimal_K ,s = optim_k_min_seed)\n",
    "admix_optimal"
   ]
  },
  {
   "cell_type": "code",
   "execution_count": null,
   "metadata": {},
   "outputs": [],
   "source": [
    "cols_admix <- wes_palette(\"Darjeeling1\", n = optimal_K, type = 'continuous')\n",
    "admix_plot_optimal <- \n",
    "  ggplot(admix_optimal, aes(factor(Sample), Probs, fill = factor(name), color = factor(name))) +\n",
    "  geom_col(width=1) +\n",
    "  facet_grid(~fct_relevel(Habitat,'Rural', 'Suburban', 'Urban'), switch = \"x\", scales = \"free\", space = \"free\") +\n",
    "  theme_minimal() + labs(x = \"\", title = sprintf(\"K=%s (Best K)\", optimal_K), y = \"Ancestry\") +\n",
    "  scale_y_continuous(expand = c(0, 0)) +\n",
    "  scale_x_discrete(expand = expansion(add = 1)) +\n",
    "  scale_fill_manual(values = cols_admix) + \n",
    "  scale_color_manual(values = cols_admix) +\n",
    "  theme(\n",
    "    legend.position = 'none',\n",
    "    panel.spacing.x = unit(0.1, \"lines\"),\n",
    "    axis.text.x = element_blank(),\n",
    "    panel.grid = element_blank(),\n",
    "    axis.text = element_text(size=16),\n",
    "    axis.title = element_text(size=20),\n",
    "    strip.text.x = element_text(size = 16),\n",
    "    plot.title = element_text(size = 23, face = 'bold'),\n",
    "    axis.text.y = element_blank()\n",
    "  ) \n",
    "admix_plot_optimal"
   ]
  },
  {
   "cell_type": "code",
   "execution_count": null,
   "metadata": {},
   "outputs": [],
   "source": [
    "ggsave(filename = snakemake@output[[\"admix_optimal\"]], plot = admix_plot_optimal, device = 'pdf', \n",
    "       width = 20, height = 3, units = 'in', dpi = 600)"
   ]
  },
  {
   "cell_type": "markdown",
   "metadata": {},
   "source": [
    "#### Optimal K minus 1"
   ]
  },
  {
   "cell_type": "code",
   "execution_count": null,
   "metadata": {},
   "outputs": [],
   "source": [
    "# Get lowest likelihood for plotting\n",
    "optim__minus_k_min_seed <- like_df %>%\n",
    "    filter(k == optimal_K - 1) %>% \n",
    "    filter(like == min(like)) %>% \n",
    "    pull(seed)\n",
    "optim__minus_k_min_seed"
   ]
  },
  {
   "cell_type": "code",
   "execution_count": null,
   "metadata": {},
   "outputs": [],
   "source": [
    "# Load admixture results for seed with lowest log likelihood\n",
    "admix_optimal_minus <- purrr::map_dfr(snakemake@input[[\"admix_qopt\"]], load_ngsadmix_qopt, K = optimal_K - 1 ,s = optim__minus_k_min_seed)\n",
    "admix_optimal_minus"
   ]
  },
  {
   "cell_type": "code",
   "execution_count": null,
   "metadata": {},
   "outputs": [],
   "source": [
    "cols_admix <- wes_palette(\"Darjeeling1\", n = optimal_K - 1, type = 'continuous')\n",
    "admix_plot_optimal_minus <- \n",
    "  ggplot(admix_optimal_minus, aes(factor(Sample), Probs, fill = factor(name), color = factor(name))) +\n",
    "  geom_col(width=1) +\n",
    "  facet_grid(~fct_relevel(Habitat,'Rural', 'Suburban', 'Urban'), switch = \"x\", scales = \"free\", space = \"free\") +\n",
    "  theme_minimal() + labs(x = \"\", title = sprintf(\"K=%s\", optimal_K - 1), y = \"Ancestry\") +\n",
    "  scale_y_continuous(expand = c(0, 0)) +\n",
    "  scale_x_discrete(expand = expansion(add = 1)) +\n",
    "  scale_fill_manual(values = cols_admix) + \n",
    "  scale_color_manual(values = cols_admix) +\n",
    "  theme(\n",
    "    legend.position = 'none',\n",
    "    panel.spacing.x = unit(0.1, \"lines\"),\n",
    "    axis.text.x = element_blank(),\n",
    "    panel.grid = element_blank(),\n",
    "    axis.text = element_text(size=16),\n",
    "    axis.title = element_text(size=20),\n",
    "    strip.text.x = element_text(size = 16),\n",
    "    plot.title = element_text(size = 23, face = 'bold'),\n",
    "    axis.text.y = element_blank()\n",
    "  ) \n",
    "admix_plot_optimal_minus"
   ]
  },
  {
   "cell_type": "code",
   "execution_count": null,
   "metadata": {},
   "outputs": [],
   "source": [
    "ggsave(filename = snakemake@output[[\"admix_optimal_minus\"]], plot = admix_plot_optimal_minus, device = 'pdf', \n",
    "       width = 20, height = 3, units = 'in', dpi = 600, )"
   ]
  },
  {
   "cell_type": "markdown",
   "metadata": {},
   "source": [
    "#### Optimal K plus 1"
   ]
  },
  {
   "cell_type": "code",
   "execution_count": null,
   "metadata": {},
   "outputs": [],
   "source": [
    "# Get lowest likelihood for plotting\n",
    "optim_plus_k_min_seed <- like_df %>%\n",
    "    filter(k == optimal_K + 1) %>% \n",
    "    filter(like == min(like)) %>% \n",
    "    pull(seed)\n",
    "optim_plus_k_min_seed"
   ]
  },
  {
   "cell_type": "code",
   "execution_count": null,
   "metadata": {},
   "outputs": [],
   "source": [
    "# Load admixture results for seed with lowest log likelihood\n",
    "admix_optimal_plus <- purrr::map_dfr(snakemake@input[[\"admix_qopt\"]], load_ngsadmix_qopt, K = optimal_K + 1 ,s = optim_plus_k_min_seed)\n",
    "admix_optimal_plus"
   ]
  },
  {
   "cell_type": "code",
   "execution_count": null,
   "metadata": {},
   "outputs": [],
   "source": [
    "cols_admix <- wes_palette(\"Darjeeling1\", n = optimal_K + 1, type = 'continuous')\n",
    "admix_plot_optimal_plus <- \n",
    "  ggplot(admix_optimal_plus, aes(factor(Sample), Probs, fill = factor(name), color = factor(name))) +\n",
    "  geom_col(width=1) +\n",
    "  facet_grid(~fct_relevel(Habitat,'Rural', 'Suburban', 'Urban'), switch = \"x\", scales = \"free\", space = \"free\") +\n",
    "  theme_minimal() + labs(x = \"\", title = sprintf(\"K=%s\", optimal_K + 1), y = \"Ancestry\") +\n",
    "  scale_y_continuous(expand = c(0, 0)) +\n",
    "  scale_x_discrete(expand = expansion(add = 1)) +\n",
    "  scale_fill_manual(values = cols_admix) + \n",
    "  scale_color_manual(values = cols_admix) +\n",
    "  theme(\n",
    "    legend.position = 'none',\n",
    "    panel.spacing.x = unit(0.1, \"lines\"),\n",
    "    axis.text.x = element_blank(),\n",
    "    panel.grid = element_blank(),\n",
    "    axis.text = element_text(size=16),\n",
    "    axis.title = element_text(size=20),\n",
    "    strip.text.x = element_text(size = 16),\n",
    "    plot.title = element_text(size = 23, face = 'bold'),\n",
    "    axis.text.y = element_blank()\n",
    "  ) \n",
    "admix_plot_optimal_plus"
   ]
  },
  {
   "cell_type": "code",
   "execution_count": null,
   "metadata": {},
   "outputs": [],
   "source": [
    "ggsave(filename = snakemake@output[[\"admix_optimal_plus\"]], plot = admix_plot_optimal_plus, device = 'pdf', \n",
    "       width = 20, height = 3, units = 'in', dpi = 600, )"
   ]
  },
  {
   "cell_type": "markdown",
   "metadata": {},
   "source": [
    "### Pi and Fst\n",
    "\n",
    "- Pi and Fst were estimated in `ANGSD` using approximately 9.7 million 4fold sites across the genome\n",
    "\n",
    "#### By Habitat\n",
    "\n",
    "- Pi in each of 3 habitats\n",
    "- Pairwise Fst across all 3 habitat types\n",
    "- TODO: Consider ammending this to estimate all 3 pairwise comparison at once so that `ANGSD` also estimates the population branch statistic"
   ]
  },
  {
   "cell_type": "code",
   "execution_count": null,
   "metadata": {},
   "outputs": [],
   "source": [
    "# Function to load thetas for a given habitat\n",
    "load_pi <- function(path){\n",
    "    habitat <- as.character(str_extract(basename(path), pattern = \"(?<=4fold_)\\\\w+(?=\\\\.thetas)\"))\n",
    "    df <- suppressMessages(read_delim(path, delim = '\\t')) %>%\n",
    "        mutate(habitat = habitat)\n",
    "    return(df)\n",
    "}\n",
    "\n",
    "# Load in thetas for all habitats and merge into single dataframe\n",
    "pi_byHab <-  purrr::map_dfr(snakemake@input[[\"pi_byHab\"]], load_pi)\n",
    "head(pi_byHab)"
   ]
  },
  {
   "cell_type": "code",
   "execution_count": null,
   "metadata": {},
   "outputs": [],
   "source": [
    "pi_byHab %>% \n",
    "    group_by(habitat) %>% \n",
    "    summarize(tp_scaled = sum(tP) / sum(nSites)) %>% \n",
    "    write_csv(snakemake@output[[\"pi_byHab_df\"]], delim = \"\\t\")"
   ]
  },
  {
   "cell_type": "code",
   "execution_count": null,
   "metadata": {},
   "outputs": [],
   "source": [
    "# Function to load Fst for habitat comparisons\n",
    "load_fst <- function(path){\n",
    "    print(path)\n",
    "    hab_comb <- as.character(str_extract(basename(path), pattern = \"(?<=4fold_)\\\\w+(?=\\\\_readable)\"))\n",
    "    colnames <- c('chrom', 'pos', 'num', 'denom')\n",
    "    df <- suppressMessages(read_delim(path, delim = '\\t', col_names = colnames)) %>%\n",
    "        # Cap numerators at 0 if negative \n",
    "        # https://github.com/ANGSD/angsd/issues/309\n",
    "        # Does not affect overall pattern\n",
    "        mutate(num = ifelse(num < 0, 0, num)) %>%         \n",
    "        # Estimate weighted Fst as ratio of averages\n",
    "        # https://github.com/ANGSD/angsd/issues/61\n",
    "        summarise(num_sum = sum(num),\n",
    "                  denom_sum = sum(denom),\n",
    "                  fst = num_sum / denom_sum,\n",
    "                  nSites = n()) %>% \n",
    "        mutate(hab_comb = hab_comb)\n",
    "    return(df)\n",
    "}\n",
    "fst_byHab <- purrr::map_dfr(snakemake@input[[\"fst_byHab\"]], load_fst)"
   ]
  },
  {
   "cell_type": "code",
   "execution_count": null,
   "metadata": {},
   "outputs": [],
   "source": [
    "write_csv(fst_byHab, snakemake@output[[\"fst_byHab_df\"]], delim = \"\\t\")"
   ]
  },
  {
   "cell_type": "markdown",
   "metadata": {},
   "source": [
    "### Relatedness\n",
    "\n",
    "- I estimated pairwise relatedness across all samples using genotype likelihoods estimated in `ANGSD`\n",
    "- Uses same LD-pruned 4fold SNPs as above as for population structure"
   ]
  },
  {
   "cell_type": "code",
   "execution_count": null,
   "metadata": {},
   "outputs": [],
   "source": [
    "# Function to load chromosomal NGSrelate results\n",
    "load_relatedness <- function(path){\n",
    "    \n",
    "    chrom <- str_extract(basename(path), '^(.+)(?=_4fold)')\n",
    "    df <- suppressMessages(read_delim(path, delim = '\\t')) %>%\n",
    "        mutate(chrom = chrom) %>%\n",
    "        dplyr::select(-starts_with('J')) %>%\n",
    "        dplyr::select(chrom, everything())\n",
    "    return(df)\n",
    "}\n",
    "\n",
    "# Load all chromosomal NGSrelate results and combine into single DF\n",
    "relate_df <- purrr::map_dfr(snakemake@input[[\"relate\"]], load_relatedness)\n",
    "head(relate_df)"
   ]
  },
  {
   "cell_type": "code",
   "execution_count": null,
   "metadata": {},
   "outputs": [],
   "source": [
    "# Get order of samples that were used as input to NGSrelate\n",
    "# Uses all high quality samples (N = 115)\n",
    "relate_sample_list <- suppressMessages(read_table(snakemake@input[[\"bl\"]], col_names = 'bam')) %>%\n",
    "    mutate(sample = str_extract(basename(bam), '(s_\\\\d+_\\\\d+)(?=_4fold)')) %>%\n",
    "    separate(sample, into = c('tmp', 'pop', 'ind'), sep = '_', remove = FALSE) %>%\n",
    "    dplyr::select(-tmp, -bam) %>%\n",
    "    mutate(idx = seq(from = 0, to = n() - 1))\n",
    "head(relate_sample_list)"
   ]
  },
  {
   "cell_type": "code",
   "execution_count": null,
   "metadata": {},
   "outputs": [],
   "source": [
    "# Bind sample names to NGSrelate sample IDs\n",
    "# Add population and habitat info for later comparisons of relatedness among habitats\n",
    "pops_habitat <- samples %>% \n",
    "    rename('pop' = 'Population') %>% \n",
    "    dplyr::select(pop, Habitat) %>%\n",
    "    mutate(pop = as.character(pop)) %>%\n",
    "    distinct()\n",
    "relate_df_withHab <- relate_df %>%\n",
    "    pivot_longer(cols = c('a', 'b'), values_to = 'idx') %>%\n",
    "    left_join(., relate_sample_list, by = 'idx') %>%\n",
    "    dplyr::select(-idx) %>%\n",
    "    left_join(., pops_habitat, by = 'pop') %>%\n",
    "    pivot_wider(values_from = c('sample', 'pop', 'ind', 'Habitat'))\n",
    "head(relate_df_withHab)"
   ]
  },
  {
   "cell_type": "code",
   "execution_count": null,
   "metadata": {},
   "outputs": [],
   "source": [
    "# Calculate mean relatedness across chromosomes for each sample comparison\n",
    "mean_relate_acrossChroms <- relate_df_withHab %>%\n",
    "    group_by(sample_a, sample_b) %>%\n",
    "    summarise(mean_rab_acrossChroms = mean(rab),\n",
    "              n = n()) %>%\n",
    "    left_join(., relate_df_withHab %>%\n",
    "              dplyr::select(sample_a, sample_b, pop_a, pop_b, Habitat_a, Habitat_b) %>%\n",
    "              distinct(),\n",
    "             by = c('sample_a', 'sample_b')) %>%\n",
    "    ungroup()\n",
    "head(mean_relate_acrossChroms)"
   ]
  },
  {
   "cell_type": "code",
   "execution_count": null,
   "metadata": {},
   "outputs": [],
   "source": [
    "# Calculate mean relatedness across samples for specific habitat comparisons\n",
    "mean_relate_acrossHabs <- mean_relate_acrossChroms %>%\n",
    "    mutate(comparison = case_when(Habitat_a == 'Urban' & Habitat_b == 'Urban' ~ 'Within Urban',\n",
    "                                  Habitat_a == 'Suburban' & Habitat_b == 'Suburban' ~ 'Within Suburban',\n",
    "                                  Habitat_a == 'Rural' & Habitat_b == 'Rural' ~ 'Within Rural',\n",
    "                                  \n",
    "                                  Habitat_a == 'Urban' & Habitat_b == 'Suburban' ~ 'Urban-Suburban',\n",
    "                                  Habitat_a == 'Suburban' & Habitat_b == 'Urban' ~ 'Urban-Suburban',\n",
    "                                  \n",
    "                                  Habitat_a == 'Urban' & Habitat_b == 'Rural' ~ 'Urban-Rural',\n",
    "                                  Habitat_a == 'Rural' & Habitat_b == 'Urban' ~ 'Urban-Rural',\n",
    "                                  \n",
    "                                  Habitat_a == 'Suburban' & Habitat_b == 'Rural' ~ 'Suburban-Rural',\n",
    "                                  Habitat_a == 'Rural' & Habitat_b == 'Suburban' ~ 'Suburban-Rural')) %>%\n",
    "    group_by(comparison) %>%\n",
    "    summarise(mean_rab = mean(mean_rab_acrossChroms),\n",
    "              sd_rab = sd(mean_rab_acrossChroms),\n",
    "              se_rab = sd_rab / sqrt(n()))\n",
    "head(mean_relate_acrossHabs)\n",
    "write_csv(mean_relate_acrossHabs, snakemake@output[[\"relate_byHabComb_df\"]], delim = \"\\t\")"
   ]
  },
  {
   "cell_type": "code",
   "execution_count": null,
   "metadata": {},
   "outputs": [],
   "source": [
    "# Plot relatedness comparisons\n",
    "mean_relate_acrossHabs_plot <- mean_relate_acrossHabs %>%\n",
    "    ggplot(., aes(x = comparison, y = mean_rab)) +\n",
    "    geom_errorbar(aes(ymin = mean_rab - se_rab, ymax = mean_rab + se_rab), width = 0.15) +\n",
    "    geom_point(size = 6) +\n",
    "    xlab('Comparison') + ylab('Mean relatedness') +\n",
    "    scale_fill_manual(values = cols_hab) +\n",
    "    theme_classic() +\n",
    "    theme(axis.text = element_text(size = 18),\n",
    "          axis.text.x = element_text(angle = 45, hjust = 1),\n",
    "          axis.title = element_text(size = 20))\n",
    "\n",
    "ggsave(filename = snakemake@output[[\"relate_byHabComb\"]], plot = mean_relate_acrossHabs_plot, device = 'pdf', \n",
    "       width = 8, height = 8, units = 'in', dpi = 600, )"
   ]
  },
  {
   "cell_type": "code",
   "execution_count": null,
   "metadata": {
    "scrolled": true
   },
   "outputs": [],
   "source": [
    "mean_relate_acrossChroms %>%\n",
    "    arrange(desc(mean_rab_acrossChroms)) %>%\n",
    "    head(n = 10) %>% \n",
    "    write_csv(., snakemake@output[[\"relate_bySampleComb\"]], delim = '\\t')"
   ]
  }
 ],
 "metadata": {
  "kernelspec": {
   "display_name": "R",
   "language": "R",
   "name": "ir"
  },
  "language_info": {
   "codemirror_mode": "r",
   "file_extension": ".r",
   "mimetype": "text/x-r-source",
   "name": "R",
   "pygments_lexer": "r",
   "version": "4.1.3"
  }
 },
 "nbformat": 4,
 "nbformat_minor": 4
}
