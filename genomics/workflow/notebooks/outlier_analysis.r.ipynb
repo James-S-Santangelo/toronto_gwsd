{
 "cells": [
  {
   "cell_type": "markdown",
   "id": "281fad93-79fb-44a7-832d-ea8510fb68a4",
   "metadata": {},
   "source": [
    "# Setup"
   ]
  },
  {
   "cell_type": "code",
   "execution_count": null,
   "id": "b15c49cf-aab5-4871-88bf-553b9d70d25a",
   "metadata": {},
   "outputs": [],
   "source": [
    "# Load required packages\n",
    "library(tidyverse)\n",
    "library(bedtoolsr)"
   ]
  },
  {
   "cell_type": "code",
   "execution_count": null,
   "id": "09e1e182-c617-464f-b1e1-7c2a3b383ba7",
   "metadata": {},
   "outputs": [],
   "source": [
    "# Load dataframes with windowed sweep statistics\n",
    "# win_sfs_df <- read_delim(snakemake@input[['fst']], delim = '\\t')\n",
    "# win_xpnsl_df <- read_delim(snakemake@input[['xpnsl']], delim = '\\t')\n",
    "\n",
    "# # Load dataframes with windowed percentiles from permuted distributions\n",
    "# urb_perc <- read_delim(snakemake@input[['urb_perc']], delim = '\\t')\n",
    "# rur_perc <- read_delim(snakemake@input[['rur_perc']], delim = '\\t')\n",
    "\n",
    "# # Load per-site ARG Fst values\n",
    "# load_arg_stats <- function(path){\n",
    "#     base <- basename(path)\n",
    "#     chrom <- str_extract(base, \"(^.*)(?=_region)\")\n",
    "#     df <- suppressMessages(read_csv(path)) %>% \n",
    "#         mutate(chromosome = chrom)\n",
    "#     return(df)\n",
    "# }\n",
    "# arg_stats_df <- snakemake@input[[\"arg_stats\"]] %>% purrr::map_dfr(load_arg_stats)\n",
    "\n",
    "# # Load GFF\n",
    "# gff <- ape::read.gff(snakemake@input[['gff']], GFF3 = TRUE) %>% \n",
    "#     dplyr::select(seqid, start, end, everything())"
   ]
  },
  {
   "cell_type": "markdown",
   "id": "27010823-5cea-490b-a4c0-2f960af5975e",
   "metadata": {},
   "source": [
    "# Analysis of selective sweeps \n",
    "\n",
    "## XP-nSL\n",
    "\n",
    "- I'll start by looking at genome-wide XP-xSL values, estimated in 50 kb windows\n",
    "- In each window, I estimated the mean XP-nSL score and the proportion of scores that are either above 2 or less than -2.\n",
    "- Positive outlier windows are those that are in the top 1% of the genome-wide mean XP-nSL distribution AND the top 1% of distribution of scores > 2. These windows represent positive selection in urban habitats\n",
    "- Negative outlier windows are those that are in the bottom 1% of the genome-wide XP-xSL distribution AND the top 1% of distribution of scores < -2. These windows represent positive selection in rural habitats.\n",
    "- I'll look at the top 10 windows under selection for urban and rural habitats separately.\n",
    "- I'll merge outlier windows within 50Kb of one another into larger outlier regions"
   ]
  },
  {
   "cell_type": "code",
   "execution_count": null,
   "id": "01573d02-3201-4118-9553-9e279591a8f2",
   "metadata": {},
   "outputs": [],
   "source": [
    "# Load observed XP-nSL data\n",
    "obs_xpnsl_df <- read_delim(snakemake@input[[\"win_xpnsl\"]])\n",
    "head(obs_xpnsl_df)"
   ]
  },
  {
   "cell_type": "code",
   "execution_count": null,
   "id": "58176512-7bf2-47df-b085-07b1a01d14f8",
   "metadata": {},
   "outputs": [],
   "source": [
    "# Distribution of the number of sites per window\n",
    "xpnsl_nsites_thresh <- 50\n",
    "xpnsl_nSites_hist <- obs_xpnsl_df %>% \n",
    "    ggplot(aes(x = n)) +\n",
    "        geom_histogram(bins = 50, color = \"black\", fill = \"white\") +\n",
    "        ylab(\"Number of windows\") + xlab(\"Number of sites\") +\n",
    "        geom_vline(xintercept = xpnsl_nsites_thresh, color = \"red\", linetype = \"dashed\", linewidth = 1) +\n",
    "        theme_classic() +\n",
    "        theme(axis.text = element_text(size = 15),\n",
    "              axis.title = element_text(size = 17))\n",
    "\n",
    "xpnsl_nSites_hist\n",
    "ggsave(filename = snakemake@output[[\"xpnsl_nSites_hist\"]], plot = xpnsl_nSites_hist, \n",
    "       height = 8, width = 8, device = \"pdf\", dpi = 600, units = \"in\")"
   ]
  },
  {
   "cell_type": "markdown",
   "id": "bd38ec20-f7ae-4d9b-874c-c6aac81c777d",
   "metadata": {},
   "source": [
    "### Filter and identify outlier windows"
   ]
  },
  {
   "cell_type": "code",
   "execution_count": null,
   "id": "1f9130fb-b3d8-4d7c-9c8f-7e55f3ddd3db",
   "metadata": {},
   "outputs": [],
   "source": [
    "# Function to assign outliers to XP-nSL windows\n",
    "assign_xpnsl_outliers <- function(df){\n",
    "\n",
    "    df_filt <- df %>%\n",
    "        filter(n >= xpnsl_nsites_thresh)\n",
    "\n",
    "    # Get critical values for mean XP-nSL score and proportions greater or lesser than 2 and -2, respectively\n",
    "    xpnsl_score_quant <- quantile(df_filt %>% pull(mean), probs = c(0.01, 0.99))\n",
    "    xpnsl_gtprop_quant <- quantile(df_filt %>% pull(gt_frac), probs = 0.99)\n",
    "    xpnsl_ltprop_quant <- quantile(df_filt %>% pull(lt_frac), probs = 0.99)\n",
    "\n",
    "    # Identify outliers and add as categorical variable to windows dataframe\n",
    "    df_filt <- df_filt %>%\n",
    "        mutate(xpnsl_score_outlier = ifelse(mean <= xpnsl_score_quant[1] | mean >= xpnsl_score_quant[2], 1, 0),\n",
    "               xpnsl_gtprop_outlier = ifelse(gt_frac >= xpnsl_gtprop_quant, 1, 0),\n",
    "               xpnsl_ltprop_outlier = ifelse(lt_frac >= xpnsl_ltprop_quant, 1, 0),\n",
    "               direction = case_when(xpnsl_score_outlier == 1 & mean > 0 & xpnsl_gtprop_outlier == 1 ~ 'Urban',\n",
    "                                     xpnsl_score_outlier == 1 & mean < 0 & xpnsl_ltprop_outlier == 1 ~ 'Rural',\n",
    "                                     TRUE ~ 'None')) %>% \n",
    "    mutate(prop_outlier = case_when(direction == 'Urban' ~ gt_frac,\n",
    "                                    direction == 'Rural' ~ lt_frac,\n",
    "                                    TRUE ~ NA))\n",
    "\n",
    "    return(df_filt)\n",
    "}\n",
    "\n",
    "obs_xpnsl_df_filt <- assign_xpnsl_outliers(obs_xpnsl_df)\n",
    "\n",
    "sprintf(\"%s of %s XP-nSL windows remaining after removing those with less than %s sites\", nrow(obs_xpnsl_df_filt), nrow(obs_xpnsl_df), xpnsl_nsites_thresh)\n",
    "\n",
    "head(obs_xpnsl_df_filt)"
   ]
  },
  {
   "cell_type": "markdown",
   "id": "3dcdcf73-092a-4cfc-86eb-d7a691d34492",
   "metadata": {},
   "source": [
    "### Generate Manhattan plot"
   ]
  },
  {
   "cell_type": "code",
   "execution_count": null,
   "id": "37b81e5f-1c23-4476-b476-262303808ebd",
   "metadata": {},
   "outputs": [],
   "source": [
    "# Setting up cummulative genome-wide x-axis\n",
    "data_cum <- obs_xpnsl_df_filt %>% \n",
    "    group_by(Chr) %>% \n",
    "    summarise(max_winCenter = max(winCenter)) %>% \n",
    "    mutate(winCenter_add = lag(cumsum(max_winCenter), default = 0)) %>% \n",
    "    dplyr::select(Chr, winCenter_add)\n",
    "\n",
    "obs_xpnsl_df_filt_mod <- obs_xpnsl_df_filt %>%\n",
    "    inner_join(data_cum, by = \"Chr\") %>% \n",
    "    mutate(winCenter_cum = winCenter + winCenter_add) \n",
    "\n",
    "axis_set <- obs_xpnsl_df_filt_mod %>% \n",
    "  group_by(Chr) %>% \n",
    "  summarize(center = mean(winCenter_cum))\n",
    "\n",
    "# Get XP-nSL outliers for plotting as separate layers\n",
    "xpnsl_not_outlier <- obs_xpnsl_df_filt_mod %>% filter(direction == 'None')\n",
    "urban_xpnsl_outliers <- obs_xpnsl_df_filt_mod %>% filter(direction == 'Urban')\n",
    "rural_xpnsl_outliers <- obs_xpnsl_df_filt_mod %>% filter(direction == 'Rural')\n",
    "\n",
    "# Get XP-nSL score quantile for plotting\n",
    "xpnsl_score_quant <- quantile(obs_xpnsl_df_filt_mod %>% pull(mean), probs = c(0.01, 0.99))\n",
    "\n",
    "xpnsl_not_outlier <- xpnsl_not_outlier %>%\n",
    "    mutate(chrom_cat = case_when(Chr == 'Chr01_Occ' ~ 'One',\n",
    "                                 Chr == 'Chr01_Pall' ~ 'Two',\n",
    "                                 Chr == 'Chr02_Occ' ~ 'One',\n",
    "                                 Chr == 'Chr02_Pall' ~ 'Two',\n",
    "                                 Chr == 'Chr03_Occ' ~ 'One',\n",
    "                                 Chr == 'Chr03_Pall' ~ 'Two',\n",
    "                                 Chr == 'Chr04_Occ' ~ 'One',\n",
    "                                 Chr == 'Chr04_Pall' ~ 'Two',\n",
    "                                 Chr == 'Chr05_Occ' ~ 'One',\n",
    "                                 Chr == 'Chr05_Pall' ~ 'Two',\n",
    "                                 Chr == 'Chr06_Occ' ~ 'One',\n",
    "                                 Chr == 'Chr06_Pall' ~ 'Two',\n",
    "                                 Chr == 'Chr07_Occ' ~ 'One',\n",
    "                                 Chr == 'Chr07_Pall' ~ 'Two',\n",
    "                                 Chr == 'Chr08_Occ' ~ 'One',\n",
    "                                 Chr == 'Chr08_Pall' ~ 'Two'))\n",
    "\n",
    "xpnsl_manhat <- ggplot() +\n",
    "        geom_point(data = xpnsl_not_outlier, shape = 21, alpha = 0.4, size = 3, \n",
    "                   aes(x = winCenter_cum, y = mean, fill = chrom_cat, color = chrom_cat)) +\n",
    "        geom_point(data = urban_xpnsl_outliers, shape = 21, alpha = 1, size = 3, color = '#003876', fill = '#003876',\n",
    "                   aes(x = winCenter_cum, y = mean)) +\n",
    "        geom_point(data = rural_xpnsl_outliers, shape = 21, alpha = 1, size = 3, color = '#007243', fill = '#007243',\n",
    "                   aes(x = winCenter_cum, y = mean)) +\n",
    "        geom_hline(yintercept = xpnsl_score_quant, color = \"grey40\", linetype = \"dashed\") +\n",
    "        scale_x_continuous(label = axis_set$Chr, breaks = axis_set$center) +\n",
    "        scale_y_continuous(expand = c(0,0)) +\n",
    "        coord_cartesian(ylim = c(-6, 5)) +\n",
    "        scale_fill_manual(values = c(\"black\", \"grey40\")) + \n",
    "        scale_color_manual(values = c(\"black\", \"grey40\")) + \n",
    "        ylab('Normalized XP-nSL') + xlab('Chromosomes') +\n",
    "        ggtitle('Urban-Rural XP-nSL') +\n",
    "        theme_classic() +\n",
    "        theme(\n",
    "            legend.position = \"none\",\n",
    "            panel.border = element_blank(),\n",
    "            panel.grid.major.x = element_blank(),\n",
    "            panel.grid.minor.x = element_blank(),\n",
    "            axis.text = element_text(size=16),\n",
    "            axis.title = element_text(size=20),\n",
    "            axis.text.x = element_text(angle = 45, hjust = 1),\n",
    "            plot.title = element_text(size=20, face=\"bold\")\n",
    "          )\n",
    "\n",
    "options(repr.plot.width = 20, repr.plot.height = 6)\n",
    "xpnsl_manhat\n",
    "ggsave(filename = snakemake@output[[\"xpnsl_manhat\"]], plot = xpnsl_manhat, \n",
    "       height = 8, width = 20, device = \"pdf\", dpi = 600, units = \"in\")"
   ]
  },
  {
   "cell_type": "code",
   "execution_count": null,
   "id": "607d3f8a-138d-4e97-95a0-40bb648ed85a",
   "metadata": {},
   "outputs": [],
   "source": [
    "load_hapstat_norm <- function(path, stat){\n",
    "    chrom_name <- str_extract(basename(path), pattern = \"Chr\\\\d+_((Occ)|(Pall))\")\n",
    "    habitat <- str_extract(basename(path), pattern = \"(Urban|Rural)\")\n",
    "\n",
    "    if (stat == \"ihh12\"){\n",
    "        df <- suppressMessages(read_delim(path, delim = \"\\t\")) %>% \n",
    "            mutate(Chr = chrom_name, habitat = habitat)\n",
    "    } else if(stat == \"xpnsl\"){\n",
    "        df <- suppressMessages(read_delim(path, delim = \"\\t\")) %>% \n",
    "            mutate(Chr = chrom_name)\n",
    "    } else if (stat == \"ihs\"){\n",
    "        cols <- c(\"id\", \"pos\", \"1_freq\", \"ihh1\", \"ihh0\", \"iHs\", \"normihs\", \"crit\")\n",
    "        df <- suppressMessages(read_delim(path, delim = \"\\t\", col_names = cols)) %>% \n",
    "            mutate(Chr = chrom_name, habitat = habitat)\n",
    "    } else if (stat == \"nsl\"){\n",
    "        cols <- c(\"id\", \"pos\", \"1_freq\", \"sl1\", \"sl0\", \"nSL\", \"normnsl\", \"crit\")\n",
    "        df <- suppressMessages(read_delim(path, delim = \"\\t\", col_names = cols)) %>% \n",
    "            mutate(Chr = chrom_name, habitat = habitat)\n",
    "    }\n",
    "    return(df)\n",
    "}"
   ]
  },
  {
   "cell_type": "code",
   "execution_count": null,
   "id": "a2fcc8fe-5631-453f-9d7d-9b171983c3b5",
   "metadata": {},
   "outputs": [],
   "source": [
    "xpnsl_persite <- snakemake@input[[\"norm_xpnsl\"]] %>% \n",
    "    purrr::map_dfr(., load_hapstat_norm, stat = \"xpnsl\") %>% \n",
    "    rename(\"normxpnsl\" = \"normxpehh\") %>% \n",
    "    mutate(crit = ifelse(normxpnsl < -2 | normxpnsl > 2, 1, 0))"
   ]
  },
  {
   "cell_type": "code",
   "execution_count": null,
   "id": "bde80b89-0915-4e47-9967-5392c8c08ea4",
   "metadata": {},
   "outputs": [],
   "source": [
    "# Setting up cummulative genome-wide x-axis\n",
    "data_cum <- xpnsl_persite %>% \n",
    "    group_by(Chr) %>% \n",
    "    summarise(max_pos = max(pos)) %>% \n",
    "    mutate(pos_add = lag(cumsum(max_pos), default = 0)) %>% \n",
    "    dplyr::select(Chr, pos_add)\n",
    "\n",
    "xpnsl_persite_mod <- xpnsl_persite %>%\n",
    "    inner_join(data_cum, by = \"Chr\") %>% \n",
    "    mutate(pos_cum = pos + pos_add) \n",
    "\n",
    "axis_set <- xpnsl_persite_mod %>% \n",
    "  group_by(Chr) %>% \n",
    "  summarize(center = mean(pos_cum))\n",
    "\n",
    "# Get XP-nSL outliers for plotting as separate layers\n",
    "xpnsl_not_outlier <- xpnsl_persite_mod %>% filter(crit == 0)\n",
    "urban_xpnsl_outliers <- xpnsl_persite_mod %>% filter(crit == 1 & normxpnsl > 0)\n",
    "rural_xpnsl_outliers <- xpnsl_persite_mod %>% filter(crit == 1 & normxpnsl < 0)\n",
    "\n",
    "xpnsl_not_outlier <- xpnsl_not_outlier %>%\n",
    "    mutate(chrom_cat = case_when(Chr == 'Chr01_Occ' ~ 'One',\n",
    "                                 Chr == 'Chr01_Pall' ~ 'Two',\n",
    "                                 Chr == 'Chr02_Occ' ~ 'One',\n",
    "                                 Chr == 'Chr02_Pall' ~ 'Two',\n",
    "                                 Chr == 'Chr03_Occ' ~ 'One',\n",
    "                                 Chr == 'Chr03_Pall' ~ 'Two',\n",
    "                                 Chr == 'Chr04_Occ' ~ 'One',\n",
    "                                 Chr == 'Chr04_Pall' ~ 'Two',\n",
    "                                 Chr == 'Chr05_Occ' ~ 'One',\n",
    "                                 Chr == 'Chr05_Pall' ~ 'Two',\n",
    "                                 Chr == 'Chr06_Occ' ~ 'One',\n",
    "                                 Chr == 'Chr06_Pall' ~ 'Two',\n",
    "                                 Chr == 'Chr07_Occ' ~ 'One',\n",
    "                                 Chr == 'Chr07_Pall' ~ 'Two',\n",
    "                                 Chr == 'Chr08_Occ' ~ 'One',\n",
    "                                 Chr == 'Chr08_Pall' ~ 'Two'))\n",
    "\n",
    "persite_xpnsl_manhat <- ggplot() +\n",
    "        geom_point(data = xpnsl_not_outlier, shape = 21, alpha = 0.1, size = 0.25, \n",
    "                   aes(x = pos_cum, y = normxpnsl, fill = chrom_cat, color = chrom_cat)) +\n",
    "        geom_point(data = urban_xpnsl_outliers, shape = 21, alpha = 0.1, size = 0.25, color = '#003876', fill = '#003876',\n",
    "                   aes(x = pos_cum, y = normxpnsl)) +\n",
    "        geom_point(data = rural_xpnsl_outliers, shape = 21, alpha = 0.1, size = 0.25, color = '#007243', fill = '#007243',\n",
    "                   aes(x = pos_cum, y = normxpnsl)) +\n",
    "        geom_hline(yintercept = 2, color = \"grey40\", linetype = \"dashed\") +\n",
    "        geom_hline(yintercept = -2, color = \"grey40\", linetype = \"dashed\") +\n",
    "        scale_x_continuous(label = axis_set$Chr, breaks = axis_set$center) +\n",
    "        scale_y_continuous(expand = c(0,0), breaks = seq(-8, 6, 2)) +\n",
    "        coord_cartesian(ylim = c(-9, 7)) +\n",
    "        scale_fill_manual(values = c(\"black\", \"grey40\")) + \n",
    "        scale_color_manual(values = c(\"black\", \"grey40\")) + \n",
    "        ylab('Normalized XP-nSL') + xlab('Chromosomes') +\n",
    "        ggtitle('Per-Site Urban-Rural XP-nSL') +\n",
    "        theme_classic() +\n",
    "        theme(\n",
    "            legend.position = \"none\",\n",
    "            panel.border = element_blank(),\n",
    "            panel.grid.major.x = element_blank(),\n",
    "            panel.grid.minor.x = element_blank(),\n",
    "            axis.text = element_text(size=16),\n",
    "            axis.title = element_text(size=20),\n",
    "            axis.text.x = element_text(angle = 45, hjust = 1),\n",
    "            plot.title = element_text(size=20, face=\"bold\")\n",
    "          )\n",
    "\n",
    "options(repr.plot.width = 20, repr.plot.height = 6)\n",
    "persite_xpnsl_manhat\n",
    "ggsave(filename = snakemake@output[[\"xpnsl_manhat_persite\"]], plot = persite_xpnsl_manhat, \n",
    "       height = 8, width = 20, device = \"pdf\", dpi = 600, units = \"in\")"
   ]
  },
  {
   "cell_type": "markdown",
   "id": "60b1869d-5845-4ee7-a83a-46650c8f976b",
   "metadata": {
    "jp-MarkdownHeadingCollapsed": true
   },
   "source": [
    "### Add ranks and percentiles from permuted distributions\n",
    "\n",
    "#### Add ranks"
   ]
  },
  {
   "cell_type": "code",
   "execution_count": null,
   "id": "363150c6-7c09-4b0d-9f90-f5cd1fa9ad2d",
   "metadata": {},
   "outputs": [],
   "source": [
    "# Function to add ranks to XP-nSL windows based on the proportion of outlier scores\n",
    "add_xpnsl_ranks <- function(df){\n",
    "        \n",
    "    df_out <- df %>% \n",
    "        arrange(desc(prop_outlier)) %>% \n",
    "        mutate(xpnsl_rank = 1:n())\n",
    "    return(df_out)\n",
    "}\n",
    "\n",
    "obs_xpnsl_df_filt <- obs_xpnsl_df_filt %>% \n",
    "    group_split(direction) %>% \n",
    "    purrr::map_dfr(., add_xpnsl_ranks) %>% \n",
    "    mutate(xpnsl_rank = ifelse(direction == 'None', NA, xpnsl_rank))"
   ]
  },
  {
   "cell_type": "markdown",
   "id": "1241ebcf-1df0-4a64-a52a-dab684d9345b",
   "metadata": {},
   "source": [
    "#### Correlation between observed and permuted XP-nSL across iterations"
   ]
  },
  {
   "cell_type": "code",
   "execution_count": null,
   "id": "34c1013d-5486-49e6-9c92-c9be79b2df03",
   "metadata": {},
   "outputs": [],
   "source": [
    "perm_xpnsl_df <- purrr::map(snakemake@input[[\"win_xpnsl_perm\"]], function(x) suppressMessages(read_delim(x, delim ='\\t'))) %>% \n",
    "    map_dfr(., assign_xpnsl_outliers)\n",
    "head(perm_xpnsl_df)"
   ]
  },
  {
   "cell_type": "code",
   "execution_count": null,
   "id": "6178c34c-5763-4f03-a71f-97cafcaaacef",
   "metadata": {},
   "outputs": [],
   "source": [
    "calc_cor <- function(df){\n",
    "    val <- cor(df$mean, obs_xpnsl_df_filt$mean, method = \"pearson\")\n",
    "    return(data.frame(cor = val))\n",
    "}\n",
    "cor_plot <- perm_xpnsl_df %>% \n",
    "    group_split(iter) %>% \n",
    "    purrr::map_dfr(., calc_cor) %>% \n",
    "    ggplot(aes(x = cor)) +\n",
    "        geom_histogram(bins = 50, color = \"black\", fill = \"white\") +\n",
    "        ylab(\"Number of iterations\") + xlab(\"Permuted vs. observed XP-nSL Pearson's correlation coefficient\") +\n",
    "        theme_classic() +\n",
    "        theme(axis.title = element_text(size = 17),\n",
    "              axis.text = element_text(size = 15))\n",
    "\n",
    "options(repr.plot.width = 8, repr.plot.height = 8)\n",
    "cor_plot\n",
    "ggsave(filename = snakemake@output[[\"cor_plot\"]], plot = cor_plot, width = 8, \n",
    "       height = 8, units = \"in\", device = \"pdf\", dpi = 600)"
   ]
  },
  {
   "cell_type": "markdown",
   "id": "da0aeafc-a978-4f43-aca2-c2da1a7eafd6",
   "metadata": {},
   "source": [
    "#### Permutations and observed density plots"
   ]
  },
  {
   "cell_type": "code",
   "execution_count": null,
   "id": "659b08d8-0388-4a46-b40b-a05a37a8e6f4",
   "metadata": {},
   "outputs": [],
   "source": [
    "urban_sel_permuted <- perm_xpnsl_df %>% filter(direction == \"Urban\")\n",
    "urban_sel_observed <- obs_xpnsl_df_filt %>% filter(direction == \"Urban\")\n",
    "\n",
    "urb_mean_plot <- ggplot() +\n",
    "    geom_density(data = urban_sel_permuted, aes(x = mean, fill = \"Permuted\", color = \"Permuted\"), alpha = 0.5) + \n",
    "    geom_density(data = urban_sel_observed, aes(x = mean, fill = \"Observed\", color = \"Observed\"), alpha = 0.5) +\n",
    "    ylab(\"Density\") + xlab(\"Mean windowed XP-nSL score\") +\n",
    "    scale_fill_manual(name = \"Distribution\", values = c(\"Permuted\" = \"#0070ec\", \"Observed\" = \"#003876\")) +\n",
    "    scale_color_manual(name = \"Distribution\", values = c(\"Permuted\" = \"#0070ec\", \"Observed\" = \"#003876\")) +\n",
    "    theme_classic() +\n",
    "    theme(axis.title = element_text(size = 17),\n",
    "          axis.text = element_text(size = 15))\n",
    "\n",
    "urb_mean_plot\n",
    "ggsave(filename = snakemake@output[[\"urb_mean_plot\"]], plot = urb_mean_plot, width = 8, \n",
    "       height = 8, units = \"in\", device = \"pdf\", dpi = 600)"
   ]
  },
  {
   "cell_type": "code",
   "execution_count": null,
   "id": "a29b450e-e2c1-4ddf-bd37-d5fa3f2b3b22",
   "metadata": {},
   "outputs": [],
   "source": [
    "urb_prop_plot <- ggplot() +\n",
    "    geom_density(data = urban_sel_permuted, aes(x = prop_outlier, fill = \"Permuted\", color = \"Permuted\"), alpha = 0.5) + \n",
    "    geom_density(data = urban_sel_observed, aes(x = prop_outlier, fill = \"Observed\", color = \"Observed\"), alpha = 0.5) +\n",
    "    ylab(\"Density\") + xlab(\"Proportion of XP-nSL scores in window > 2\") +\n",
    "    scale_fill_manual(name = \"Distribution\", values = c(\"Permuted\" = \"#0070ec\", \"Observed\" = \"#003876\")) +\n",
    "    scale_color_manual(name = \"Distribution\", values = c(\"Permuted\" = \"#0070ec\", \"Observed\" = \"#003876\")) +\n",
    "    theme_classic() +\n",
    "    theme(axis.title = element_text(size = 17),\n",
    "          axis.text = element_text(size = 15))\n",
    "\n",
    "urb_prop_plot\n",
    "ggsave(filename = snakemake@output[[\"urb_prop_plot\"]], plot = urb_prop_plot, width = 8, \n",
    "       height = 8, units = \"in\", device = \"pdf\", dpi = 600)"
   ]
  },
  {
   "cell_type": "code",
   "execution_count": null,
   "id": "28181f84-780c-4021-9239-5caeb7706fca",
   "metadata": {},
   "outputs": [],
   "source": [
    "# Dataframe with percentile in permuted distribution of each observed XP-nSL window\n",
    "urban_percentile <- urban_sel_observed %>% \n",
    "    rowwise() %>% \n",
    "    mutate(mean_perm_perc = sum(mean >= urban_sel_permuted$mean) / nrow(urban_sel_permuted),\n",
    "           prop_perm_perc = sum(prop_outlier >= urban_sel_permuted$prop_outlier) / nrow(urban_sel_permuted)) %>% \n",
    "    arrange(desc(mean_perm_perc)) %>% \n",
    "    dplyr::select(Chr, winID, start, end, winCenter, mean_perm_perc, prop_perm_perc)"
   ]
  },
  {
   "cell_type": "code",
   "execution_count": null,
   "id": "2f2d8d80-e7c3-4b22-9657-06885ce243ba",
   "metadata": {},
   "outputs": [],
   "source": [
    "rural_sel_permuted <- perm_xpnsl_df %>% filter(direction == \"Rural\")\n",
    "rural_sel_observed <- obs_xpnsl_df_filt %>% filter(direction == \"Rural\")\n",
    "\n",
    "rur_mean_plot <- ggplot() +\n",
    "    geom_density(data = rural_sel_permuted, aes(x = mean, fill = \"Permuted\", color = \"Permuted\"), alpha = 0.5) + \n",
    "    geom_density(data = rural_sel_observed, aes(x = mean, fill = \"Observed\", color = \"Observed\"), alpha = 0.5) +\n",
    "    ylab(\"Density\") + xlab(\"Mean windowed XP-nSL score\") +\n",
    "    scale_fill_manual(name = \"Distribution\", values = c(\"Permuted\" = \"#00e989\", \"Observed\" = \"#007243\")) +\n",
    "    scale_color_manual(name = \"Distribution\", values = c(\"Permuted\" = \"#00e989\", \"Observed\" = \"#007243\")) +\n",
    "    theme_classic() +\n",
    "    theme(axis.title = element_text(size = 17),\n",
    "          axis.text = element_text(size = 15))\n",
    "\n",
    "rur_mean_plot\n",
    "ggsave(filename = snakemake@output[[\"rur_mean_plot\"]], plot = rur_mean_plot, width = 8, \n",
    "       height = 8, units = \"in\", device = \"pdf\", dpi = 600)"
   ]
  },
  {
   "cell_type": "code",
   "execution_count": null,
   "id": "33f9381f-7611-40d5-8f1f-1710c3a8fb61",
   "metadata": {},
   "outputs": [],
   "source": [
    "rur_prop_plot <- ggplot() +\n",
    "    geom_density(data = rural_sel_permuted, aes(x = prop_outlier, fill = \"Permuted\", color = \"Permuted\"), alpha = 0.5) + \n",
    "    geom_density(data = rural_sel_observed, aes(x = prop_outlier, fill = \"Observed\", color = \"Observed\"), alpha = 0.5) +\n",
    "    ylab(\"Density\") + xlab(\"Proportion of XP-nSL scores < -2\") +\n",
    "    scale_fill_manual(name = \"Distribution\", values = c(\"Permuted\" = \"#00e989\", \"Observed\" = \"#007243\")) +\n",
    "    scale_color_manual(name = \"Distribution\", values = c(\"Permuted\" = \"#00e989\", \"Observed\" = \"#007243\")) +\n",
    "    theme_classic() +\n",
    "    theme(axis.title = element_text(size = 17),\n",
    "          axis.text = element_text(size = 15))\n",
    "\n",
    "rur_prop_plot\n",
    "ggsave(filename = snakemake@output[[\"rur_prop_plot\"]], plot = rur_prop_plot, width = 8, \n",
    "       height = 8, units = \"in\", device = \"pdf\", dpi = 600)"
   ]
  },
  {
   "cell_type": "code",
   "execution_count": null,
   "id": "7a37feb8-6d89-4f05-aa17-a6bf8bcc82cc",
   "metadata": {},
   "outputs": [],
   "source": [
    "# Dataframe with percentile in permuted distribution of each observed XP-nSL window\n",
    "rural_percentile <- rural_sel_observed %>% \n",
    "    rowwise() %>% \n",
    "    mutate(mean_perm_perc = sum(mean <= rural_sel_permuted$mean) / nrow(rural_sel_permuted),\n",
    "           prop_perm_perc = sum(prop_outlier >= rural_sel_permuted$prop_outlier) / nrow(rural_sel_permuted)) %>% \n",
    "    arrange(desc(mean_perm_perc)) %>% \n",
    "    dplyr::select(Chr, winID, start, end, winCenter, mean_perm_perc, prop_perm_perc)"
   ]
  },
  {
   "cell_type": "code",
   "execution_count": null,
   "id": "1e55af47-88e0-427c-a0b5-3d99633f154a",
   "metadata": {},
   "outputs": [],
   "source": [
    "obs_xpnsl_df_filt <- obs_xpnsl_df_filt %>% \n",
    "    left_join(., bind_rows(urban_percentile, rural_percentile), by = c(\"Chr\", \"winID\", \"start\", \"end\", \"winCenter\"))\n",
    "head(obs_xpnsl_df_filt)\n",
    "\n",
    "write_delim(obs_xpnsl_df_filt, snakemake@output[[\"xpnsl_df\"]], delim='\\t')"
   ]
  },
  {
   "cell_type": "markdown",
   "id": "b3c6e498-1296-4cde-8107-4d244928e19e",
   "metadata": {
    "jp-MarkdownHeadingCollapsed": true
   },
   "source": [
    "### Merge XP-nSL outlier windows and get top 10"
   ]
  },
  {
   "cell_type": "code",
   "execution_count": null,
   "id": "69c5538d-cb52-4b4c-aa3c-00bdba6ebc5d",
   "metadata": {},
   "outputs": [],
   "source": [
    "# Function to merge consecutive outlier windows\n",
    "merge_xpnsl_windows <- function(df, win_dist = 0){\n",
    "\n",
    "    dir <- df %>% pull(direction) %>% unique()\n",
    "    df_sorted <- df %>% \n",
    "        dplyr::select(Chr, start, end, everything()) %>% \n",
    "        arrange(Chr, start) %>% \n",
    "        mutate(prop_outlier = round(prop_outlier, 3),\n",
    "               mean_perm_perc = round(mean_perm_perc, 3),\n",
    "               prop_perm_perc = round(prop_outlier, 3))\n",
    "\n",
    "    col_names <- c('Chr', 'start', 'end', 'mean_xpnsl', 'min_max', 'direction', 'mean_prop_outlier', 'all_prop_outlier', 'mean_percentile_permuted', 'prop_percentile_permuted','min_xpnsl_rank', 'all_xpnsl_ranks')\n",
    "    if(dir == 'Urban'){\n",
    "        cols <- c('6,7,17,18,18,20,21,19,19')\n",
    "        operation <- c('mean,max,distinct,mean,collapse,collapse,collapse,min,collapse')\n",
    "    }else if(dir == 'Rural'){\n",
    "        cols <- c('6,8,17,18,18,20,21,19,19')\n",
    "        operation <- c('mean,min,distinct,mean,collapse,collapse,collapse,min,collapse')\n",
    "    }\n",
    "    \n",
    "    df_merged  <- bt.merge(i = df_sorted, c = cols, o = operation, d = win_dist)\n",
    "    names(df_merged) <- col_names\n",
    "    df_merged <- df_merged %>% \n",
    "        mutate(win_size = end - start)\n",
    "\n",
    "    print(sprintf('%s: There were %s XP-nSL outlier windows prior to merging. There are %s outlier regions after merging consecutive outlier windows', dir, nrow(df_sorted), nrow(df_merged)))\n",
    "    return(df_merged)\n",
    "}\n",
    "\n",
    "win_xpnsl_df_filt_merged <- obs_xpnsl_df_filt %>% \n",
    "    filter(direction != 'None') %>% \n",
    "    group_split(direction) %>% \n",
    "    purrr::map_dfr(., merge_xpnsl_windows)"
   ]
  },
  {
   "cell_type": "code",
   "execution_count": null,
   "id": "d5719b2f-2199-481e-a91e-bc9ed71fc900",
   "metadata": {
    "scrolled": true
   },
   "outputs": [],
   "source": [
    "xpnsl_top10_urban_rural <- win_xpnsl_df_filt_merged %>% \n",
    "    filter(min_xpnsl_rank <= 10) %>% \n",
    "    group_by(direction) %>% \n",
    "    arrange(min_xpnsl_rank, .by_group = TRUE) %>% \n",
    "    dplyr::select(Chr, start, end, win_size, direction, mean_xpnsl, min_max, all_prop_outlier, mean_prop_outlier, mean_percentile_permuted, prop_percentile_permuted, all_xpnsl_ranks, min_xpnsl_rank) %>% \n",
    "    ungroup()\n",
    "xpnsl_top10_urban_rural"
   ]
  },
  {
   "cell_type": "markdown",
   "id": "90a7e6ac-ff77-47cb-a989-0c4b1b862203",
   "metadata": {},
   "source": [
    "## nSL\n",
    "\n",
    "- I estimated nSL in the same 50 Kb windows as above, separately in urban and rural habitats\n",
    "- I'll do the same thing as I did above, minus the permutations"
   ]
  },
  {
   "cell_type": "code",
   "execution_count": null,
   "id": "f401444c-5165-4567-9ac4-6b53ff8985a0",
   "metadata": {
    "scrolled": true
   },
   "outputs": [],
   "source": [
    "nsl_df <- read_delim(snakemake@input[[\"win_nsl\"]], delim='\\t')\n",
    "head(nsl_df)"
   ]
  },
  {
   "cell_type": "code",
   "execution_count": null,
   "id": "0c71a6fc-7ab3-4ef1-8f52-b28b54c7f490",
   "metadata": {},
   "outputs": [],
   "source": [
    "nsl_nsites_thresh <- 25\n",
    "nsl_nsites_hist <- nsl_df %>% \n",
    "    ggplot(aes(x = n)) +\n",
    "        geom_histogram(bins = 50, color = \"black\", fill = \"white\") +\n",
    "        ylab(\"Number of windows\") + xlab(\"Number of sites\") +\n",
    "        geom_vline(xintercept = nsl_nsites_thresh, color = \"red\", linetype = \"dashed\", linewidth = 1) +\n",
    "        theme_classic() +\n",
    "        theme(axis.text = element_text(size = 15),\n",
    "              axis.title = element_text(size = 17))\n",
    "\n",
    "nsl_nsites_hist"
   ]
  },
  {
   "cell_type": "code",
   "execution_count": null,
   "id": "bdcff602-8c44-4d40-9dd6-f244c53216bf",
   "metadata": {},
   "outputs": [],
   "source": [
    "# Function to assign outliers to nSL windows\n",
    "assign_nsl_outliers <- function(df, thresh = nsl_nsites_thresh){\n",
    "\n",
    "    df_filt <- df %>%\n",
    "        filter(n >= thresh)\n",
    "\n",
    "    # Get critical values for mean XP-nSL score and proportions greater or lesser than 2 and -2, respectively\n",
    "    score_quant <- quantile(df_filt %>% pull(mean), probs = 0.99)\n",
    "    gtprop_quant <- quantile(df_filt %>% pull(gt_frac), probs = 0.99)\n",
    "\n",
    "    # Identify outliers and add as categorical variable to windows dataframe\n",
    "    df_filt <- df_filt %>%\n",
    "        mutate(score_outlier = ifelse(mean >= score_quant, 1, 0),\n",
    "               gtprop_outlier = ifelse(gt_frac >= gtprop_quant, 1, 0),\n",
    "               is_outlier = ifelse(score_outlier == 1 & gtprop_outlier == 1, 1, 0))\n",
    "\n",
    "    return(df_filt)\n",
    "}\n",
    "\n",
    "nsl_df_filt <- nsl_df %>% \n",
    "    group_split(habitat) %>% \n",
    "    purrr::map_dfr(., assign_nsl_outliers, thresh = nsl_nsites_thresh)\n",
    "\n",
    "sprintf(\"%s of %s nSL windows remaining after removing those with less than %s sites\", nrow(nsl_df_filt), nrow(nsl_df), nsl_nsites_thresh)\n",
    "\n",
    "head(nsl_df_filt)"
   ]
  },
  {
   "cell_type": "code",
   "execution_count": null,
   "id": "73a12718-346a-461c-9f4c-88f9b6783d16",
   "metadata": {},
   "outputs": [],
   "source": [
    "plot_single_population_hapstat_win_manhat <- function(df, hab, stat){\n",
    "\n",
    "    df <- df %>% filter(habitat == hab)\n",
    "    \n",
    "    # Setting up cummulative genome-wide x-axis\n",
    "    data_cum <- df %>% \n",
    "        group_by(Chr) %>% \n",
    "        summarise(max_winCenter = max(winCenter)) %>% \n",
    "        mutate(winCenter_add = lag(cumsum(max_winCenter), default = 0)) %>% \n",
    "        dplyr::select(Chr, winCenter_add)\n",
    "    \n",
    "    df_mod <- df %>%\n",
    "        inner_join(data_cum, by = \"Chr\") %>% \n",
    "        mutate(winCenter_cum = winCenter + winCenter_add) \n",
    "    \n",
    "    axis_set <- df_mod %>% \n",
    "      group_by(Chr) %>% \n",
    "      summarize(center = mean(winCenter_cum))\n",
    "\n",
    "    # Get Fst outliers and genome-wide critical value\n",
    "    outliers <- df_mod %>% filter(is_outlier == 1) \n",
    "    quant <- quantile(abs(df %>% pull(mean)), probs = c(0.99))\n",
    "\n",
    "    if(hab == 'Urban'){\n",
    "        col = '#003876'\n",
    "    } else {\n",
    "        col = '#007243'\n",
    "    }\n",
    "\n",
    "    if(stat == 'nSL'){\n",
    "        ylab = '| nSL |'\n",
    "        coord = c(0, 4)\n",
    "        breaks = seq(0, 4, 1)\n",
    "    } else if (stat == 'iHS') {\n",
    "        ylab = '| iHS |'\n",
    "        coord = c(0, 3.25)\n",
    "        breaks = seq(0, 3, 1)\n",
    "    } else {\n",
    "        ylab = 'iHH12'\n",
    "        coord = c(-0.5, 17)\n",
    "        breaks = seq(0, 16, 2)\n",
    "    }\n",
    "\n",
    "    # Generate Manhattan plot\n",
    "    manhat_plot <- df_mod %>%\n",
    "        filter(is_outlier != 1) %>% \n",
    "        mutate(chrom_cat = case_when(Chr == 'Chr01_Occ' ~ 'One',\n",
    "                                     Chr == 'Chr01_Pall' ~ 'Two',\n",
    "                                     Chr == 'Chr02_Occ' ~ 'One',\n",
    "                                     Chr == 'Chr02_Pall' ~ 'Two',\n",
    "                                     Chr == 'Chr03_Occ' ~ 'One',\n",
    "                                     Chr == 'Chr03_Pall' ~ 'Two',\n",
    "                                     Chr == 'Chr04_Occ' ~ 'One',\n",
    "                                     Chr == 'Chr04_Pall' ~ 'Two',\n",
    "                                     Chr == 'Chr05_Occ' ~ 'One',\n",
    "                                     Chr == 'Chr05_Pall' ~ 'Two',\n",
    "                                     Chr == 'Chr06_Occ' ~ 'One',\n",
    "                                     Chr == 'Chr06_Pall' ~ 'Two',\n",
    "                                     Chr == 'Chr07_Occ' ~ 'One',\n",
    "                                     Chr == 'Chr07_Pall' ~ 'Two',\n",
    "                                     Chr == 'Chr08_Occ' ~ 'One',\n",
    "                                     Chr == 'Chr08_Pall' ~ 'Two')) %>%\n",
    "            ggplot(aes(x = winCenter_cum, y = mean)) +\n",
    "            geom_point(shape = 21, alpha = 0.4, size = 3, aes(fill = chrom_cat, color = chrom_cat)) +\n",
    "            geom_point(data = outliers, shape = 21, alpha = 1, size = 3, color = col, fill = col) +\n",
    "            geom_hline(yintercept = quant, color = \"grey40\", linetype = \"dashed\") +\n",
    "            scale_x_continuous(label = axis_set$Chr, breaks=axis_set$center) +\n",
    "            scale_y_continuous(expand = c(0,0), breaks = breaks) +\n",
    "            coord_cartesian(ylim = coord) +\n",
    "            scale_fill_manual(values = c(\"black\", \"grey40\")) + \n",
    "            scale_color_manual(values = c(\"black\", \"grey40\")) + \n",
    "            ylab(ylab) + xlab('') +\n",
    "            ggtitle(sprintf(\"%s Windowed %s\", hab, stat)) +\n",
    "            theme_classic() +\n",
    "            theme(\n",
    "                legend.position = \"none\",\n",
    "                panel.border = element_blank(),\n",
    "                panel.grid.major.x = element_blank(),\n",
    "                panel.grid.minor.x = element_blank(),\n",
    "                axis.text = element_text(size=16),\n",
    "                axis.title = element_text(size=20),\n",
    "                axis.text.x = element_text(angle = 45, hjust = 1),\n",
    "                plot.title = element_text(size = 20, face = \"bold\")\n",
    "              )\n",
    "    return(manhat_plot)\n",
    "}"
   ]
  },
  {
   "cell_type": "code",
   "execution_count": null,
   "id": "a0e27f8c-3eb6-4750-ad35-cc185f7bc339",
   "metadata": {},
   "outputs": [],
   "source": [
    "options(repr.plot.width = 20, repr.plot.height = 6)\n",
    "rural_nsl_manhat <- plot_single_population_hapstat_win_manhat(nsl_df_filt, \"Rural\", stat = 'nSL')\n",
    "rural_nsl_manhat\n",
    "ggsave(filename = snakemake@output[[\"rur_nsl_manhat\"]], plot = rural_nsl_manhat, \n",
    "       height = 8, width = 20, device = \"pdf\", dpi = 600, units = \"in\")"
   ]
  },
  {
   "cell_type": "code",
   "execution_count": null,
   "id": "d5c46571-73d5-46cb-adf9-3b6bbcbcb6f7",
   "metadata": {},
   "outputs": [],
   "source": [
    "nsl_persite <- snakemake@input[[\"norm_nsl\"]] %>% \n",
    "    purrr::map_dfr(., load_hapstat_norm, stat = \"nsl\") %>% \n",
    "    mutate(crit = ifelse(normnsl < -2 | normnsl > 2, 1, 0))"
   ]
  },
  {
   "cell_type": "code",
   "execution_count": null,
   "id": "b182ac34-8c21-48d3-b209-43b318817f87",
   "metadata": {},
   "outputs": [],
   "source": [
    "plot_single_population_hapstat_persite_manhat <- function(df, hab, stat){\n",
    "\n",
    "    df <- df %>% filter(habitat == hab)\n",
    "    \n",
    "    # Setting up cummulative genome-wide x-axis\n",
    "    data_cum <- df %>% \n",
    "        group_by(Chr) %>% \n",
    "        summarise(max_pos = max(pos)) %>% \n",
    "        mutate(pos_add = lag(cumsum(max_pos), default = 0)) %>% \n",
    "        dplyr::select(Chr, pos_add)\n",
    "    \n",
    "    df_mod <- df %>%\n",
    "        inner_join(data_cum, by = \"Chr\") %>% \n",
    "        mutate(pos_cum = pos + pos_add) \n",
    "    \n",
    "    axis_set <- df_mod %>% \n",
    "      group_by(Chr) %>% \n",
    "      summarize(center = mean(pos_cum))\n",
    "\n",
    "    # Get Fst outliers and genome-wide critical value\n",
    "    outliers <- df_mod %>% filter(crit == 1) \n",
    "\n",
    "    if(hab == 'Urban'){\n",
    "        col = '#003876'\n",
    "    } else {\n",
    "        col = '#007243'\n",
    "    }\n",
    "\n",
    "    if(stat == 'nSL'){\n",
    "        y = \"normnsl\"\n",
    "        coord = c(-6, 6)\n",
    "        breaks = seq(-6, 6, 2)\n",
    "    } else if (stat == 'iHS') {\n",
    "        y = \"normihs\"\n",
    "        coord = c(-8, 8)\n",
    "        breaks = seq(-8, 8, 2)\n",
    "    } else {\n",
    "        y = \"normihh12\"\n",
    "        coord = c(-0.5, 120)\n",
    "        breaks = seq(0, 120, 20)\n",
    "    }\n",
    "\n",
    "    # Generate Manhattan plot\n",
    "    manhat_plot <- df_mod %>%\n",
    "        filter(crit == 0) %>% \n",
    "        mutate(chrom_cat = case_when(Chr == 'Chr01_Occ' ~ 'One',\n",
    "                                     Chr == 'Chr01_Pall' ~ 'Two',\n",
    "                                     Chr == 'Chr02_Occ' ~ 'One',\n",
    "                                     Chr == 'Chr02_Pall' ~ 'Two',\n",
    "                                     Chr == 'Chr03_Occ' ~ 'One',\n",
    "                                     Chr == 'Chr03_Pall' ~ 'Two',\n",
    "                                     Chr == 'Chr04_Occ' ~ 'One',\n",
    "                                     Chr == 'Chr04_Pall' ~ 'Two',\n",
    "                                     Chr == 'Chr05_Occ' ~ 'One',\n",
    "                                     Chr == 'Chr05_Pall' ~ 'Two',\n",
    "                                     Chr == 'Chr06_Occ' ~ 'One',\n",
    "                                     Chr == 'Chr06_Pall' ~ 'Two',\n",
    "                                     Chr == 'Chr07_Occ' ~ 'One',\n",
    "                                     Chr == 'Chr07_Pall' ~ 'Two',\n",
    "                                     Chr == 'Chr08_Occ' ~ 'One',\n",
    "                                     Chr == 'Chr08_Pall' ~ 'Two')) %>%\n",
    "            ggplot(aes(x = pos_cum, y = !!sym(y))) +\n",
    "            geom_point(shape = 21, alpha = 0.1, size = 0.25, aes(fill = chrom_cat, color = chrom_cat)) +\n",
    "            geom_point(data = outliers, shape = 21, alpha = 0.1, size = 0.25, color = col, fill = col) +\n",
    "            geom_hline(yintercept = 2, color = \"grey40\", linetype = \"dashed\") +\n",
    "            geom_hline(yintercept = -2, color = \"grey40\", linetype = \"dashed\") +\n",
    "            scale_x_continuous(label = axis_set$Chr, breaks=axis_set$center) +\n",
    "            scale_y_continuous(expand = c(0,0), breaks = breaks) +\n",
    "            coord_cartesian(ylim = coord) +\n",
    "            scale_fill_manual(values = c(\"black\", \"grey40\")) + \n",
    "            scale_color_manual(values = c(\"black\", \"grey40\")) + \n",
    "            ylab(sprintf('Normalized %s', stat)) + xlab('') +\n",
    "            ggtitle(sprintf(\"%s Per-site %s\", hab, stat)) +\n",
    "            theme_classic() +\n",
    "            theme(\n",
    "                legend.position = \"none\",\n",
    "                panel.border = element_blank(),\n",
    "                panel.grid.major.x = element_blank(),\n",
    "                panel.grid.minor.x = element_blank(),\n",
    "                axis.text = element_text(size=16),\n",
    "                axis.title = element_text(size=20),\n",
    "                axis.text.x = element_text(angle = 45, hjust = 1),\n",
    "                plot.title = element_text(size = 20, face = \"bold\")\n",
    "              )\n",
    "    return(manhat_plot)\n",
    "}"
   ]
  },
  {
   "cell_type": "code",
   "execution_count": null,
   "id": "545e98ad-fd41-48a5-945f-fd321e078469",
   "metadata": {},
   "outputs": [],
   "source": [
    "rural_nsl_persite_manhat <- plot_single_population_hapstat_persite_manhat(nsl_persite, \"Rural\", stat = \"nSL\")\n",
    "rural_nsl_persite_manhat\n",
    "# ggsave(filename = snakemake@output[[\"rur_nsl_manhat_persite\"]], plot = rural_nsl_persite_manhat, \n",
    "#        height = 8, width = 20, device = \"pdf\", dpi = 600, units = \"in\")"
   ]
  },
  {
   "cell_type": "code",
   "execution_count": null,
   "id": "23e7c98a-c741-4e0c-9328-701105cb79d5",
   "metadata": {},
   "outputs": [],
   "source": [
    "urban_nsl_manhat <- plot_single_population_hapstat_win_manhat(nsl_df_filt, \"Urban\", stat = 'nSL')\n",
    "urban_nsl_manhat\n",
    "ggsave(filename = snakemake@output[[\"urb_nsl_manhat\"]], plot = urban_nsl_manhat, \n",
    "       height = 8, width = 20, device = \"pdf\", dpi = 600, units = \"in\")"
   ]
  },
  {
   "cell_type": "code",
   "execution_count": null,
   "id": "d7fd5101-a1d5-4807-8880-73bb6eb0cc3f",
   "metadata": {},
   "outputs": [],
   "source": [
    "urban_nsl_persite_manhat <- plot_single_population_hapstat_persite_manhat(nsl_persite, \"Urban\", stat = \"nSL\")\n",
    "urban_nsl_persite_manhat\n",
    "# ggsave(filename = snakemake@output[[\"urb_nsl_manhat_persite\"]], plot = urban_nsl_persite_manhat, \n",
    "#        height = 8, width = 20, device = \"pdf\", dpi = 600, units = \"in\")"
   ]
  },
  {
   "cell_type": "code",
   "execution_count": null,
   "id": "d123430e-830a-4bee-ad2a-f064834cdb7d",
   "metadata": {
    "scrolled": true
   },
   "outputs": [],
   "source": [
    "nsl_df_filt %>% \n",
    "    filter(is_outlier == 1) %>% \n",
    "    write_csv(snakemake@output[[\"nsl_df\"]], delim=\"\\t\")"
   ]
  },
  {
   "cell_type": "markdown",
   "id": "5f5841f2-9531-4bd1-ae7b-fc3697d69506",
   "metadata": {},
   "source": [
    "## iHS"
   ]
  },
  {
   "cell_type": "code",
   "execution_count": null,
   "id": "42afdd3e-ef89-43cd-bc79-3b83fe6de0cd",
   "metadata": {},
   "outputs": [],
   "source": [
    "ihs_df <- read_delim(snakemake@input[[\"win_ihs\"]], delim='\\t')\n",
    "head(ihs_df)"
   ]
  },
  {
   "cell_type": "code",
   "execution_count": null,
   "id": "8c581a13-76b4-4526-8523-1c983d6b0646",
   "metadata": {},
   "outputs": [],
   "source": [
    "ihs_nsites_hist <- ihs_df %>% \n",
    "    ggplot(aes(x = n)) +\n",
    "        geom_histogram(bins = 50, color = \"black\", fill = \"white\") +\n",
    "        ylab(\"Number of windows\") + xlab(\"Number of sites\") +\n",
    "        geom_vline(xintercept = nsl_nsites_thresh, color = \"red\", linetype = \"dashed\", linewidth = 1) +\n",
    "        theme_classic() +\n",
    "        theme(axis.text = element_text(size = 15),\n",
    "              axis.title = element_text(size = 17))\n",
    "\n",
    "options(repr.plot.width = 8, repr.plot.height = 8)\n",
    "ihs_nsites_hist"
   ]
  },
  {
   "cell_type": "code",
   "execution_count": null,
   "id": "ed8f08fd-d3e7-4deb-9bab-5d09ca37b684",
   "metadata": {},
   "outputs": [],
   "source": [
    "ihs_df_filt <- ihs_df %>% \n",
    "    group_split(habitat) %>% \n",
    "    purrr::map_dfr(., assign_nsl_outliers, thresh = nsl_nsites_thresh)\n",
    "\n",
    "sprintf(\"%s of %s iHS windows remaining after removing those with less than %s sites\", nrow(ihs_df_filt), nrow(ihs_df), nsl_nsites_thresh)\n",
    "\n",
    "head(ihs_df_filt)"
   ]
  },
  {
   "cell_type": "code",
   "execution_count": null,
   "id": "a58f3335-0501-4940-b774-a3cd5cd1fc7e",
   "metadata": {
    "scrolled": true
   },
   "outputs": [],
   "source": [
    "options(repr.plot.width = 20, repr.plot.height = 6)\n",
    "rural_ihs_manhat <- plot_single_population_hapstat_win_manhat(ihs_df_filt, \"Rural\", stat = 'iHS')\n",
    "rural_ihs_manhat\n",
    "ggsave(filename = snakemake@output[[\"rur_ihs_manhat\"]], plot = rural_ihs_manhat, \n",
    "       height = 8, width = 20, device = \"pdf\", dpi = 600, units = \"in\")"
   ]
  },
  {
   "cell_type": "code",
   "execution_count": null,
   "id": "250472d8-8fb7-4550-bb0b-e45987351f0e",
   "metadata": {},
   "outputs": [],
   "source": [
    "urban_ihs_manhat <- plot_single_population_hapstat_win_manhat(ihs_df_filt, \"Urban\", stat = 'iHS')\n",
    "urban_ihs_manhat\n",
    "ggsave(filename = snakemake@output[[\"urb_ihs_manhat\"]], plot = urban_ihs_manhat, \n",
    "       height = 8, width = 20, device = \"pdf\", dpi = 600, units = \"in\")"
   ]
  },
  {
   "cell_type": "code",
   "execution_count": null,
   "id": "22ca77d1-83df-47e6-8f7f-3781aff414c6",
   "metadata": {},
   "outputs": [],
   "source": [
    "ihs_persite <- snakemake@input[[\"norm_ihs\"]] %>% \n",
    "    purrr::map_dfr(., load_hapstat_norm, stat = \"ihs\") %>% \n",
    "    mutate(crit = ifelse(normihs < -2 | normihs > 2, 1, 0))"
   ]
  },
  {
   "cell_type": "code",
   "execution_count": null,
   "id": "5c24542e-26d2-4a00-b1dd-fc940d580f81",
   "metadata": {},
   "outputs": [],
   "source": [
    "urban_ihs_persite_manhat <- plot_single_population_hapstat_persite_manhat(ihs_persite, \"Urban\", stat = \"iHS\")\n",
    "urban_ihs_persite_manhat\n",
    "ggsave(filename = snakemake@output[[\"urb_ihs_manhat_persite\"]], plot = urban_ihs_persite_manhat, \n",
    "       height = 8, width = 20, device = \"pdf\", dpi = 600, units = \"in\")"
   ]
  },
  {
   "cell_type": "code",
   "execution_count": null,
   "id": "3e55d97e-c428-47a3-a3cd-144e92eb3342",
   "metadata": {},
   "outputs": [],
   "source": [
    "rural_ihs_persite_manhat <- plot_single_population_hapstat_persite_manhat(ihs_persite, \"Rural\", stat = \"iHS\")\n",
    "rural_ihs_persite_manhat\n",
    "ggsave(filename = snakemake@output[[\"rur_ihs_manhat_persite\"]], plot = rural_ihs_persite_manhat, \n",
    "       height = 8, width = 20, device = \"pdf\", dpi = 600, units = \"in\")"
   ]
  },
  {
   "cell_type": "code",
   "execution_count": null,
   "id": "de4b44de-5fc2-4097-a9d7-110169102f69",
   "metadata": {},
   "outputs": [],
   "source": [
    "ihs_df_filt %>% \n",
    "    filter(is_outlier == 1) %>% \n",
    "    write_csv(snakemake@output[[\"ihs_df\"]], delim=\"\\t\")"
   ]
  },
  {
   "cell_type": "markdown",
   "id": "07be8c88-7bd8-4507-ad25-14b3966531d0",
   "metadata": {},
   "source": [
    "## iHH12"
   ]
  },
  {
   "cell_type": "code",
   "execution_count": null,
   "id": "4e918166-8e0c-49d2-868d-2975f4fa2f02",
   "metadata": {},
   "outputs": [],
   "source": [
    "ihh12_df <- read_delim(snakemake@input[[\"win_ihh12\"]], delim='\\t')\n",
    "head(ihh12_df)"
   ]
  },
  {
   "cell_type": "code",
   "execution_count": null,
   "id": "e716b598-d732-42f1-8380-ea678866ee04",
   "metadata": {},
   "outputs": [],
   "source": [
    "ihh12_nsites_hist <- ihh12_df %>% \n",
    "    ggplot(aes(x = n)) +\n",
    "        geom_histogram(bins = 50, color = \"black\", fill = \"white\") +\n",
    "        ylab(\"Number of windows\") + xlab(\"Number of sites\") +\n",
    "        geom_vline(xintercept = nsl_nsites_thresh, color = \"red\", linetype = \"dashed\", linewidth = 1) +\n",
    "        theme_classic() +\n",
    "        theme(axis.text = element_text(size = 15),\n",
    "              axis.title = element_text(size = 17))\n",
    "\n",
    "options(repr.plot.width = 8, repr.plot.height = 8)\n",
    "ihh12_nsites_hist"
   ]
  },
  {
   "cell_type": "code",
   "execution_count": null,
   "id": "70e7b205-2deb-4b1e-a791-34a90e71dd9a",
   "metadata": {
    "scrolled": true
   },
   "outputs": [],
   "source": [
    "ihh12_df_filt <- ihh12_df %>% \n",
    "    group_split(habitat) %>% \n",
    "    purrr::map_dfr(., assign_nsl_outliers, thresh = nsl_nsites_thresh)\n",
    "\n",
    "sprintf(\"%s of %s iHH12 windows remaining after removing those with less than %s sites\", nrow(ihh12_df_filt), nrow(ihh12_df), nsl_nsites_thresh)\n",
    "\n",
    "head(ihh12_df_filt)"
   ]
  },
  {
   "cell_type": "code",
   "execution_count": null,
   "id": "8135a452-155d-4789-8f39-a795f4215f55",
   "metadata": {},
   "outputs": [],
   "source": [
    "options(repr.plot.width = 20, repr.plot.height = 6)\n",
    "urban_ihh12_manhat <- plot_single_population_hapstat_win_manhat(ihh12_df_filt, \"Urban\", stat = 'iHH12')\n",
    "urban_ihh12_manhat\n",
    "ggsave(filename = snakemake@output[[\"urb_ihh12_manhat\"]], plot = urban_ihh12_manhat, \n",
    "       height = 8, width = 20, device = \"pdf\", dpi = 600, units = \"in\")"
   ]
  },
  {
   "cell_type": "code",
   "execution_count": null,
   "id": "0ffa328a-689d-4fab-873c-9aa3fd95e8cd",
   "metadata": {},
   "outputs": [],
   "source": [
    "rural_ihh12_manhat <- plot_single_population_hapstat_win_manhat(ihh12_df_filt, \"Rural\", stat = 'iHH12')\n",
    "rural_ihh12_manhat\n",
    "ggsave(filename = snakemake@output[[\"rur_ihh12_manhat\"]], plot = rural_ihh12_manhat, \n",
    "       height = 8, width = 20, device = \"pdf\", dpi = 600, units = \"in\")"
   ]
  },
  {
   "cell_type": "code",
   "execution_count": null,
   "id": "52fa8d14-9381-44a2-9e0d-81d1ff38d92c",
   "metadata": {},
   "outputs": [],
   "source": [
    "ihh12_persite <- snakemake@input[[\"norm_ihh12\"]] %>% \n",
    "    purrr::map_dfr(., load_hapstat_norm, stat = \"ihh12\") %>% \n",
    "    mutate(crit = ifelse(normihh12 < -2 | normihh12 > 2, 1, 0))"
   ]
  },
  {
   "cell_type": "code",
   "execution_count": null,
   "id": "049574e2-ff5b-43f0-8404-47268ab289e4",
   "metadata": {},
   "outputs": [],
   "source": [
    "urban_ihh12_persite_manhat <- plot_single_population_hapstat_persite_manhat(ihh12_persite, \"Urban\", stat = \"iHH12\")\n",
    "urban_ihh12_persite_manhat\n",
    "# ggsave(filename = snakemake@output[[\"urb_ihh12_manhat_persite\"]], plot = urban_ihh12_persite_manhat, \n",
    "#        height = 8, width = 20, device = \"pdf\", dpi = 600, units = \"in\")"
   ]
  },
  {
   "cell_type": "code",
   "execution_count": null,
   "id": "6bef1998-cfce-4778-af1d-b31297433307",
   "metadata": {},
   "outputs": [],
   "source": [
    "rural_ihh12_persite_manhat <- plot_single_population_hapstat_persite_manhat(ihh12_persite, \"Rural\", stat = \"iHH12\")\n",
    "rural_ihh12_persite_manhat\n",
    "# ggsave(filename = snakemake@output[[\"rur_ihh12_manhat_persite\"]], plot = rural_ihh12_persite_manhat, \n",
    "#        height = 8, width = 20, device = \"pdf\", dpi = 600, units = \"in\")"
   ]
  },
  {
   "cell_type": "code",
   "execution_count": null,
   "id": "37f0c710-96a4-4c01-aee6-3550f5a87205",
   "metadata": {},
   "outputs": [],
   "source": [
    "ihh12_df_filt %>% \n",
    "    filter(is_outlier == 1) %>% \n",
    "    write_csv(snakemake@output[[\"ihh12_df\"]], delim=\"\\t\")"
   ]
  },
  {
   "cell_type": "markdown",
   "id": "837cda8f-9385-4220-bf43-d9a30cf62cc1",
   "metadata": {},
   "source": [
    "## Fst\n",
    "\n",
    "- I estimated Fst and the urban-rural difference in pi and Tajima's D in 50 kb windows across the genome\n",
    "- I'll consider windows in the top 1% of the genome-wide empirical Fst distributions as outliers, and further support these outliers if these windows are also in the top 1% of the genome-wide difference in pi and Td distributions\n",
    "- I'll look at overlap between the Fst and XP-nSL outlier windows"
   ]
  },
  {
   "cell_type": "code",
   "execution_count": null,
   "id": "baaa8ec7-216f-4114-9090-1fea7ac89403",
   "metadata": {},
   "outputs": [],
   "source": [
    "win_sfs_df %>% \n",
    "    group_by(fst_outlier, tp_outlier, td_outlier) %>%\n",
    "    summarise(n = n())"
   ]
  },
  {
   "cell_type": "code",
   "execution_count": null,
   "id": "bf5fb0e8-bf14-446b-a573-00a3d59bc53c",
   "metadata": {},
   "outputs": [],
   "source": [
    "win_sfs_df %>% filter(all_outlier == 1) %>% group_by(direction) %>% summarise(n = n())"
   ]
  },
  {
   "cell_type": "code",
   "execution_count": null,
   "id": "ce09145b-4c4a-4585-92af-ffa8a6abe3f6",
   "metadata": {},
   "outputs": [],
   "source": [
    "win_sfs_df"
   ]
  },
  {
   "cell_type": "code",
   "execution_count": null,
   "id": "5b680337-5252-495c-91cb-cbf30c2144cb",
   "metadata": {},
   "outputs": [],
   "source": [
    "get_positions <- function(df){\n",
    "    df_out <- df %>% \n",
    "        dplyr::select(Chr, start, end)\n",
    "    return(df_out)\n",
    "}\n",
    "\n",
    "xpnsl_top10_regions_pos <- get_positions(xpnsl_top10_urban_rural) \n",
    "fst_outliers_windows_pos <- get_positions(win_sfs_df %>% filter(fst_outlier == 1))\n",
    "fst_pi_td_outliers_windows_pos <- get_positions(win_sfs_df %>% filter(all_outlier == 1))"
   ]
  },
  {
   "cell_type": "code",
   "execution_count": null,
   "id": "f115b30c-8adc-4b5b-aa42-0ad7eb7d4b06",
   "metadata": {},
   "outputs": [],
   "source": [
    "get_overlapping_fst_windows <- function(xpnsl_pos, fst_pos){\n",
    "    \n",
    "    # Count number of overlapping Fst outlier windows in each XP-nSL window\n",
    "    df_out <- bt.intersect(xpnsl_pos, fst_pos, c = T)\n",
    "    names(df_out) <- c('Chr', 'xpnsl_win_start', 'xpnsl_win_end', 'num_fst_outliers')\n",
    "    return(df_out)\n",
    "} \n",
    "\n",
    "get_overlapping_fst_windows(xpnsl_top10_regions_pos, fst_outliers_windows_pos)"
   ]
  },
  {
   "cell_type": "code",
   "execution_count": null,
   "id": "1b610f3c-12b8-4837-97f6-e56f12dcd203",
   "metadata": {},
   "outputs": [],
   "source": [
    "xpnsl_fst_overlap <- bt.intersect(xpnsl_top10_urban_rural %>% dplyr::select(Chr, start, end), \n",
    "                                  win_sfs_df %>% dplyr::select(-chrom_pos) %>% filter(fst_outlier == 1), \n",
    "                                  c = T)\n",
    "names(xpnsl_fst_overlap) <- c('Chr', 'start', 'end', 'num_fst_outliers')\n",
    "xpnsl_top10_urban_rural <- left_join(xpnsl_top10_urban_rural, xpnsl_fst_overlap, by = c('Chr', 'start', 'end'))\n",
    "xpnsl_top10_urban_rural"
   ]
  },
  {
   "cell_type": "code",
   "execution_count": null,
   "id": "8d4cb959-917a-4f60-bfbe-6ab60fefbf92",
   "metadata": {},
   "outputs": [],
   "source": [
    "urban_tmp <- bt.intersect(xpnsl_top10_urban_rural %>% filter(direction == 'Urban sel') %>% dplyr::select(Chr, start, end), \n",
    "                                        win_sfs_df %>% dplyr::select(-chrom_pos) %>% filter(all_outlier == 1 & direction == 'Urban sel'), \n",
    "                                        c = T)\n",
    "rural_tmp <- bt.intersect(xpnsl_top10_urban_rural %>% filter(direction == 'Rural sel') %>% dplyr::select(Chr, start, end), \n",
    "                                        win_sfs_df %>% dplyr::select(-chrom_pos) %>% filter(all_outlier == 1 & direction == 'Rural sel'), \n",
    "                                        c = T)\n",
    "xpnsl_fst_pi_td_overlap <- bind_rows(urban_tmp, rural_tmp)\n",
    "names(xpnsl_fst_pi_td_overlap) <- c('Chr', 'start', 'end', 'num_fst_pi_td_outliers')\n",
    "xpnsl_top10_urban_rural <- left_join(xpnsl_top10_urban_rural, xpnsl_fst_pi_td_overlap, by = c('Chr', 'start', 'end')) %>% \n",
    "    arrange(direction, Chr, start)\n",
    "xpnsl_top10_urban_rural"
   ]
  },
  {
   "cell_type": "markdown",
   "id": "0f83aea9-57bc-408b-a508-532b74e9538d",
   "metadata": {},
   "source": [
    "## ARG Fst\n",
    "\n",
    "- Here, I'll look at the top genome-wide per-site Fst values estimated from the ARGs\n",
    "- I'll check whether any of the signals overlap any of the windows above. Having ARGs in these regions could open up some interesting analyses"
   ]
  },
  {
   "cell_type": "code",
   "execution_count": null,
   "id": "df9dd284-5bc7-4e93-a486-e2a853dedcdc",
   "metadata": {},
   "outputs": [],
   "source": [
    "arg_df_names <- arg_stats_df %>% \n",
    "    filter(arg_branch_fst >= 0.05) %>% \n",
    "    mutate(id = paste0(chromosome, \"_region\", regionID)) %>% \n",
    "    dplyr::select(chromosome, arg_win_start, arg_win_end, regionID, id, contains(\"branch\")) %>% \n",
    "    rename(\"arg_chr\" = \"chromosome\", \"arg_start\" = \"arg_win_start\", \"arg_end\" = \"arg_win_end\") %>% \n",
    "    names()\n",
    "\n",
    "xpnsl_df_names <- win_xpnsl_df_outliers_with_ranks_merged %>% \n",
    "    dplyr::select(Chr, start, end, direction, all_xpnsl_ranks) %>% \n",
    "    rename(\"xpnsl_chr\" = \"Chr\", \"xpnsl_start\" = \"start\", \"xpnsl_end\" = \"end\") %>% \n",
    "    names()\n",
    "\n",
    "all_names <- append(xpnsl_df_names, arg_df_names)\n",
    "\n",
    "xpnsl_with_arg_outlier <- bt.intersect(win_xpnsl_df_outliers_with_ranks_merged %>% \n",
    "                                           dplyr::select(Chr, start, end, direction, all_xpnsl_ranks), \n",
    "                                       arg_stats_df %>% \n",
    "                                           filter(arg_branch_fst >= 0.05) %>% \n",
    "                                           mutate(id = paste0(chromosome, \"_region\", regionID)) %>% \n",
    "                                           dplyr::select(chromosome, arg_win_start, arg_win_end, regionID, id, contains(\"branch\")) %>% \n",
    "                                           rename(\"Chr\" = \"chromosome\", \"start\" = \"arg_win_start\", \"end\" = \"arg_win_end\"), \n",
    "                                       wa=T, wb=T)\n",
    "names(xpnsl_with_arg_outlier) <- all_names\n",
    "xpnsl_with_arg_outlier"
   ]
  },
  {
   "cell_type": "code",
   "execution_count": null,
   "id": "f4c3b053-4427-41ff-9ddf-edecf4670521",
   "metadata": {},
   "outputs": [],
   "source": [
    "write_csv(xpnsl_with_arg_outlier, snakemake@output[[\"xpnsl_arg_out\"]])"
   ]
  },
  {
   "cell_type": "markdown",
   "id": "98027e5b-ac52-4b9b-ab1e-0e9489acab11",
   "metadata": {},
   "source": [
    "# Create output tables\n",
    "\n",
    "## Dataframe with gene ID in top 10 selected regions"
   ]
  },
  {
   "cell_type": "code",
   "execution_count": null,
   "id": "8333d774-1157-428c-b76b-bb781466387e",
   "metadata": {},
   "outputs": [],
   "source": [
    "# Get gene names dataframe\n",
    "gene_names <- gff %>% \n",
    "    filter(type == 'gene') %>% \n",
    "    mutate(gene = str_extract(attributes, pattern = '(?<=gene=)\\\\w+(?=;)'),\n",
    "           gene_id = str_extract(attributes, pattern = '(?<=ID\\\\=)ACLI19_g\\\\d+(?=;)')) %>% \n",
    "    dplyr::select(seqid, start, end, gene_id, gene)\n",
    "\n",
    "# Get gene products and GO annotations dataframe\n",
    "prod_go_annot <- gff %>% \n",
    "    filter(type == 'mRNA') %>% \n",
    "    mutate(id = str_extract(attributes, pattern = '(?<=ID\\\\=)ACLI19_g\\\\d+\\\\.t\\\\d+(?=;)'),\n",
    "           func = str_extract(attributes, pattern = '(?<=product=)[^;]*'),\n",
    "           go = str_extract_all(attributes, pattern = 'GO:\\\\d+(?=(,|;))')) %>% \n",
    "    separate(id, into = c('gene_id', 'trans'), sep = '\\\\.') %>% \n",
    "    filter(trans == 't1') %>% \n",
    "    dplyr::select(seqid, gene_id, func, go)\n",
    "\n",
    "# Combine genes, functions, and GO annotations into single dataframe\n",
    "genes_prods_go_df <- left_join(gene_names, prod_go_annot, by = c('seqid', 'gene_id')) %>% \n",
    "    rename('Chr' = 'seqid')"
   ]
  },
  {
   "cell_type": "code",
   "execution_count": null,
   "id": "88c35af2-a835-42f6-b305-09fc1941003a",
   "metadata": {},
   "outputs": [],
   "source": [
    "xpnsl_top10_urban_rural"
   ]
  },
  {
   "cell_type": "code",
   "execution_count": null,
   "id": "72aab1a8-4ca1-4ee3-88e0-16dcc6ca55dd",
   "metadata": {},
   "outputs": [],
   "source": [
    "xpnsl_top10_urban_rural_with_genes_long <- bt.intersect(xpnsl_top10_urban_rural %>% \n",
    "                                                            dplyr::select(Chr, start, end, direction), \n",
    "                                                        genes_prods_go_df %>% \n",
    "                                                            dplyr::select(-go),\n",
    "                                                        wa=T, wb=T) %>% \n",
    "    dplyr::select(V1, V2, V3, V4, V8, V9, V10)\n",
    "names(xpnsl_top10_urban_rural_with_genes_long) <- c('Chr', 'start', 'end', 'direction', 'gene_id', 'gene_symbol', 'product')\n",
    "xpnsl_top10_urban_rural_with_genes_long"
   ]
  },
  {
   "cell_type": "code",
   "execution_count": null,
   "id": "c8aee512-2323-45d7-a792-ab47b9b65813",
   "metadata": {},
   "outputs": [],
   "source": [
    "# Write dataframe with gene IDs for top ten selected urban and rural regions\n",
    "write_delim(xpnsl_top10_urban_rural_with_genes_long, snakemake@output[['top_ten_genes']], delim = '\\t')"
   ]
  },
  {
   "cell_type": "markdown",
   "id": "dcb15685-0117-4ec3-8ffb-8e403e8d1185",
   "metadata": {},
   "source": [
    "## Table with gene symbols, products, and Fst for top selected regions"
   ]
  },
  {
   "cell_type": "code",
   "execution_count": null,
   "id": "368543e8-a300-4c46-83bd-f9a769d3b5f1",
   "metadata": {},
   "outputs": [],
   "source": [
    "# Concatenate gene symbols for top 10 selected regions\n",
    "symbols <- xpnsl_top10_urban_rural_with_genes_long %>% \n",
    "    dplyr::select(-gene_id, -product) %>% \n",
    "    filter(!is.na(gene_symbol)) %>% \n",
    "    group_by(Chr, start, end, direction) %>% \n",
    "    summarise(gene_symbols = toString(gene_symbol))\n",
    "\n",
    "# Concatenate products for top 10 selected regions\n",
    "prods <- xpnsl_top10_urban_rural_with_genes_long %>% \n",
    "    dplyr::select(-gene_id, -gene_symbol) %>% \n",
    "    filter(product != 'hypothetical protein') %>% \n",
    "    group_by(Chr, start, end, direction) %>% \n",
    "    summarise(products = toString(product))\n",
    "\n",
    "# Add symbols and products to table\n",
    "xpnsl_top10_urban_rural_with_genes <- xpnsl_top10_urban_rural %>% \n",
    "    left_join(., symbols) %>% \n",
    "    left_join(., prods)\n",
    "\n",
    "xpnsl_top10_urban_rural_with_genes"
   ]
  },
  {
   "cell_type": "code",
   "execution_count": null,
   "id": "7856b4ec-3f94-4c74-b3a4-c9fd9fc8f74d",
   "metadata": {},
   "outputs": [],
   "source": [
    "# Write table with gene symbols, products, and Fst overlaps for top ten selected yrban and rural regions\n",
    "write_delim(xpnsl_top10_urban_rural_with_genes, snakemake@output[['top_ten_tbl']], delim = '\\t')"
   ]
  },
  {
   "cell_type": "markdown",
   "id": "857f62fa-1a89-40d2-931b-c2e6acbbdbed",
   "metadata": {},
   "source": [
    "## Dataframe with gene IDs in all selected regions based on XP-nSL"
   ]
  },
  {
   "cell_type": "code",
   "execution_count": null,
   "id": "639498a1-37a3-4baa-9f57-cc239e16dbd7",
   "metadata": {},
   "outputs": [],
   "source": [
    "xpnsl_outliers <- win_xpnsl_df %>% \n",
    "    filter(direction != 'Not outlier') %>% \n",
    "    dplyr::select(Chr, start, end, direction)\n",
    "\n",
    "xpnsl_outliers_with_genes <- bt.intersect(xpnsl_outliers, gene_names, wa = T, wb = T) %>% \n",
    "    dplyr::select(V1, V2, V3, V4, V8)\n",
    "names(xpnsl_outliers_with_genes) <- c('Chr', 'start', 'end', 'direction', 'gene_id')\n",
    "xpnsl_outliers_with_genes"
   ]
  },
  {
   "cell_type": "code",
   "execution_count": null,
   "id": "3515b97b-2c15-4520-884e-ded61261077c",
   "metadata": {},
   "outputs": [],
   "source": [
    "write_delim(xpnsl_outliers_with_genes, snakemake@output[['all_xpnsl_sel']], delim = '\\t')"
   ]
  },
  {
   "cell_type": "markdown",
   "id": "233f2a5a-2cd2-452d-81fd-06e8c9fb62df",
   "metadata": {},
   "source": [
    "## Dataframe with gene IDs in all selected regions based on XP-nSL"
   ]
  },
  {
   "cell_type": "code",
   "execution_count": null,
   "id": "3aa4ba0c-4c20-4640-b981-f661a62b5984",
   "metadata": {},
   "outputs": [],
   "source": [
    "bt.intersect(xpnsl_with_arg_outlier %>% dplyr::select(1:5),\n",
    "             genes_prods_go_df %>% dplyr::select(-go),\n",
    "             wa=T, wb=T)"
   ]
  },
  {
   "cell_type": "code",
   "execution_count": null,
   "id": "c99b95b4-56aa-4399-b30f-7ebe1805550f",
   "metadata": {},
   "outputs": [],
   "source": [
    "# arg_stats_df %>% \n",
    "#     filter(arg_branch_fst >= 0.05) %>% \n",
    "#     mutate(id = paste0(chromosome, \"_region\", regionID)) %>% \n",
    "#     dplyr::select(chromosome, arg_win_start, arg_win_end, regionID, id, contains(\"branch\")) %>% \n",
    "#     rename(\"Chr\" = \"chromosome\", \"start\" = \"arg_win_start\", \"end\" = \"arg_win_end\") %>% \n",
    "#     group_by(Chr, start, end) %>% \n",
    "#     summarise(gene_symbols = toString(id))\n",
    "\n",
    "genes_with_arg_outliers <- bt.intersect(genes_prods_go_df %>% dplyr::select(-go),\n",
    "             arg_stats_df %>% \n",
    "                 filter(arg_branch_fst >= 0.05) %>% \n",
    "                 mutate(id = paste0(chromosome, \"_region\", regionID, \":\", arg_win_start)) %>% \n",
    "                 dplyr::select(chromosome, arg_win_start, arg_win_end, regionID, id, contains(\"branch\")),\n",
    "             wa = T, wb = T)  %>% \n",
    "    dplyr::select(V1, V2, V3, V4, V5, V6, V11) %>% \n",
    "    group_by(V1, V2, V3, V4, V5, V6) %>% \n",
    "    summarise(arg_sites = toString(V11))\n",
    "names(genes_with_arg_outliers) <- c(\"Chr\", \"start\", \"end\", \"gene_symbol\", \"product\", \"arg_sites\")\n",
    "genes_with_arg_outliers"
   ]
  },
  {
   "cell_type": "code",
   "execution_count": null,
   "id": "ae72282f-3e8e-44a3-9438-6ad3ce4af98c",
   "metadata": {},
   "outputs": [],
   "source": [
    "write_csv(genes_with_arg_outliers, snakemake@output[[\"arg_gene\"]])"
   ]
  }
 ],
 "metadata": {
  "kernelspec": {
   "display_name": "R",
   "language": "R",
   "name": "ir"
  },
  "language_info": {
   "codemirror_mode": "r",
   "file_extension": ".r",
   "mimetype": "text/x-r-source",
   "name": "R",
   "pygments_lexer": "r",
   "version": "4.1.3"
  }
 },
 "nbformat": 4,
 "nbformat_minor": 5
}
