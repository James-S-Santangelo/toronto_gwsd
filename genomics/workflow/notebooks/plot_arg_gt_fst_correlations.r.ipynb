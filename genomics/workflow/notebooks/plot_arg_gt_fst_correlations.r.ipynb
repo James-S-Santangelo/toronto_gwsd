{
 "cells": [
  {
   "cell_type": "markdown",
   "id": "ae510ffa-c83d-41bd-a5b0-b49e137960a5",
   "metadata": {},
   "source": [
    "## Setup"
   ]
  },
  {
   "cell_type": "code",
   "execution_count": null,
   "id": "57758fe8-0b53-4dca-aebc-6e933e41ed3b",
   "metadata": {},
   "outputs": [],
   "source": [
    "# Load required packages\n",
    "library(tidyverse)"
   ]
  },
  {
   "cell_type": "code",
   "execution_count": null,
   "id": "d2c89edc-ba93-4f91-9874-85f0ab3a067f",
   "metadata": {},
   "outputs": [],
   "source": [
    "# Load all data\n",
    "all_fst_df <- read_delim(snakemake@input[[\"all_fsts\"]], delim=\"\\t\")"
   ]
  },
  {
   "cell_type": "code",
   "execution_count": null,
   "id": "3d69b050-2229-4d3b-8a34-6ba05222716b",
   "metadata": {},
   "outputs": [],
   "source": [
    "options(repr.plot.width = 6, repr.plot.height = 6)\n",
    "arg_site_gt_cor_plot <- all_fst_df %>% \n",
    "    filter(no_snps >= 20) %>% \n",
    "    ggplot(aes(x = arg_site_fst, y = avg_hudson_fst)) +\n",
    "        geom_point(size = 2) +\n",
    "        geom_smooth(method = \"lm\", linewidth = 1, color = 'blue') +\n",
    "        ylab(\"Hudson's Fst from Pixy (i.e. VCFs)\") + xlab(\"Site-based Fst from tskit (i.e. ARGs)\") +\n",
    "        theme_classic() +\n",
    "        theme(axis.text = element_text(size = 13),\n",
    "              axis.title = element_text(size = 15))\n",
    "\n",
    "ggsave(filename = snakemake@output[[\"arg_site_gt_cor\"]], plot = arg_site_gt_cor_plot,\n",
    "       device = \"pdf\", height = 6, width = 6, units = \"in\", dpi = 300)"
   ]
  },
  {
   "cell_type": "code",
   "execution_count": null,
   "id": "1fc59683-663c-40e4-9408-d55f838c4efa",
   "metadata": {},
   "outputs": [],
   "source": [
    "snakemake@output[[\"arg_site_gt_cor\"]]"
   ]
  },
  {
   "cell_type": "code",
   "execution_count": null,
   "id": "ce2c790e-5cab-4f75-87f7-2a894a37f060",
   "metadata": {},
   "outputs": [],
   "source": [
    "arg_branch_gt_cor_plot <- all_fst_df %>% \n",
    "    filter(no_snps >= 20) %>% \n",
    "    ggplot(aes(x = arg_branch_fst, y = avg_hudson_fst)) +\n",
    "        geom_point(size = 2) +\n",
    "        geom_smooth(method = \"lm\", linewidth = 1, color = 'blue') +\n",
    "        ylab(\"Hudson's Fst from Pixy (i.e. VCFs)\") + xlab(\"Branch-based Fst from tskit (i.e. ARGs)\") +\n",
    "        theme_classic() +\n",
    "        theme(axis.text = element_text(size = 13),\n",
    "              axis.title = element_text(size = 15))\n",
    "\n",
    "ggsave(filename = snakemake@output[[\"arg_branch_gt_cor\"]], plot = arg_branch_gt_cor_plot,\n",
    "       device = \"pdf\", height = 6, width = 6, units = \"in\", dpi = 300)"
   ]
  },
  {
   "cell_type": "code",
   "execution_count": null,
   "id": "5fd733aa-eed5-4bde-8d75-5c1a7fd6f2e9",
   "metadata": {},
   "outputs": [],
   "source": [
    "arg_site_sfs_cor_plot <- all_fst_df %>% \n",
    "    filter(no_snps >= 20) %>% \n",
    "    ggplot(aes(x = arg_site_fst, y = sfs_hudson_fst)) +\n",
    "        geom_point(size = 2) +\n",
    "        geom_smooth(method = \"lm\", linewidth = 1, color = 'blue') +\n",
    "        ylab(\"Hudson's Fst from ANGSD (i.e. VCFs)\") + xlab(\"Site-based Fst from tskit (i.e. ARGs)\") +\n",
    "        theme_classic() +\n",
    "        theme(axis.text = element_text(size = 13),\n",
    "              axis.title = element_text(size = 15))\n",
    "\n",
    "ggsave(filename = snakemake@output[[\"arg_site_sfs_cor\"]], plot = arg_site_sfs_cor_plot,\n",
    "       device = \"pdf\", height = 6, width = 6, units = \"in\", dpi = 300)"
   ]
  },
  {
   "cell_type": "code",
   "execution_count": null,
   "id": "e7d071e5-513a-49f9-afeb-6218f8a57ef5",
   "metadata": {},
   "outputs": [],
   "source": [
    "arg_branch_fst_cor_plot <- all_fst_df %>% \n",
    "    filter(no_snps >= 20) %>% \n",
    "    ggplot(aes(x = arg_branch_fst, y = sfs_hudson_fst)) +\n",
    "        geom_point(size = 2) +\n",
    "        geom_smooth(method = \"lm\", linewidth = 1, color = 'blue') +\n",
    "        ylab(\"Hudson's Fst from ANGSD (i.e. VCFs)\") + xlab(\"Branch-based Fst from tskit (i.e. ARGs)\") +\n",
    "        theme_classic() +\n",
    "        theme(axis.text = element_text(size = 13),\n",
    "              axis.title = element_text(size = 15))\n",
    "\n",
    "ggsave(filename = snakemake@output[[\"arg_branch_sfs_cor\"]], plot = arg_branch_fst_cor_plot,\n",
    "       device = \"pdf\", height = 6, width = 6, units = \"in\", dpi = 300)"
   ]
  },
  {
   "cell_type": "code",
   "execution_count": null,
   "id": "4e9a75c0-4d55-44a2-9f95-7800211ee656",
   "metadata": {},
   "outputs": [],
   "source": [
    "# Create dataframe with Fst correlation coefficients\n",
    "all_fst_cors <- all_fst_df %>% \n",
    "    filter(no_snps >= 20) %>% \n",
    "    group_by(regionID) %>% \n",
    "    summarize(branch_gt_cor = cor(arg_branch_fst, avg_hudson_fst, use = \"complete.obs\"),\n",
    "              site_gt_cor = cor(arg_site_fst, avg_hudson_fst, use = \"complete.obs\"),\n",
    "              branch_sfs_cor = cor(arg_branch_fst, sfs_hudson_fst, use = \"complete.obs\"),\n",
    "              site_sfs_cor = cor(arg_site_fst, sfs_hudson_fst, use = \"complete.obs\")) "
   ]
  },
  {
   "cell_type": "code",
   "execution_count": null,
   "id": "73f18eac-f78b-4056-8a09-0e30ac0f698b",
   "metadata": {},
   "outputs": [],
   "source": [
    "arg_branch_gt_cor_hist <- all_fst_cors %>% \n",
    "    ggplot(aes(x = branch_gt_cor)) +\n",
    "        geom_histogram(bins = 30, color = \"black\", fill = \"red\") +\n",
    "        ylab(\"Number of 1Mb regions\") + xlab(\"ARG branch Fst vs. Pixy GT Fst correlation\") +\n",
    "        theme_classic() +\n",
    "        theme(axis.text = element_text(size = 13),\n",
    "              axis.title = element_text(size = 15))\n",
    "\n",
    "ggsave(filename = snakemake@output[[\"arg_branch_gt_hist\"]], plot = arg_branch_gt_cor_hist,\n",
    "       device = \"pdf\", height = 6, width = 6, units = \"in\", dpi = 300)"
   ]
  },
  {
   "cell_type": "code",
   "execution_count": null,
   "id": "734a7eb7-bcac-4537-985d-4776139c5257",
   "metadata": {},
   "outputs": [],
   "source": [
    "arg_site_gt_cor_hist <- all_fst_cors %>% \n",
    "    ggplot(aes(x = site_gt_cor)) +\n",
    "        geom_histogram(bins = 30, color = \"black\", fill = \"red\") +\n",
    "        ylab(\"Number of 1Mb regions\") + xlab(\"ARG site Fst vs. Pixy GT Fst correlation\") +\n",
    "        theme_classic() +\n",
    "        theme(axis.text = element_text(size = 13),\n",
    "              axis.title = element_text(size = 15))\n",
    "\n",
    "ggsave(filename = snakemake@output[[\"arg_site_gt_hist\"]], plot = arg_site_gt_cor_hist,\n",
    "       device = \"pdf\", height = 6, width = 6, units = \"in\", dpi = 300)"
   ]
  },
  {
   "cell_type": "code",
   "execution_count": null,
   "id": "41575754-100d-449b-84ef-4bb3abb55f0b",
   "metadata": {},
   "outputs": [],
   "source": [
    "arg_branch_sfs_cor_hist <- all_fst_cors %>% \n",
    "    ggplot(aes(x = branch_sfs_cor)) +\n",
    "        geom_histogram(bins = 30, color = \"black\", fill = \"red\") +\n",
    "        ylab(\"Number of 1Mb regions\") + xlab(\"ARG branch Fst vs. ANGSD Fst correlation\") +\n",
    "        theme_classic() +\n",
    "        theme(axis.text = element_text(size = 13),\n",
    "              axis.title = element_text(size = 15))\n",
    "\n",
    "ggsave(filename = snakemake@output[[\"arg_branch_sfs_hist\"]], plot = arg_branch_sfs_cor_hist,\n",
    "       device = \"pdf\", height = 6, width = 6, units = \"in\", dpi = 300)"
   ]
  },
  {
   "cell_type": "code",
   "execution_count": null,
   "id": "2b91799c-8be3-47cc-bb73-20cdc516784a",
   "metadata": {},
   "outputs": [],
   "source": [
    "arg_site_sfs_cor_hist <- all_fst_cors %>% \n",
    "    ggplot(aes(x = site_sfs_cor)) +\n",
    "        geom_histogram(bins = 30, color = \"black\", fill = \"red\") +\n",
    "        ylab(\"Number of 1Mb regions\") + xlab(\"ARG site Fst vs. ANGSD GT Fst correlation\") +\n",
    "        theme_classic() +\n",
    "        theme(axis.text = element_text(size = 13),\n",
    "              axis.title = element_text(size = 15))\n",
    "\n",
    "ggsave(filename = snakemake@output[[\"arg_site_sfs_hist\"]], plot = arg_site_sfs_cor_hist,\n",
    "       device = \"pdf\", height = 6, width = 6, units = \"in\", dpi = 300)"
   ]
  }
 ],
 "metadata": {
  "kernelspec": {
   "display_name": "R",
   "language": "R",
   "name": "ir"
  },
  "language_info": {
   "codemirror_mode": "r",
   "file_extension": ".r",
   "mimetype": "text/x-r-source",
   "name": "R",
   "pygments_lexer": "r",
   "version": "4.1.3"
  }
 },
 "nbformat": 4,
 "nbformat_minor": 5
}
