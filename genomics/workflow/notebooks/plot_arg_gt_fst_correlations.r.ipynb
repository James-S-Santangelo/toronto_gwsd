{
 "cells": [
  {
   "cell_type": "markdown",
   "id": "ae510ffa-c83d-41bd-a5b0-b49e137960a5",
   "metadata": {},
   "source": [
    "## Setup"
   ]
  },
  {
   "cell_type": "code",
   "execution_count": null,
   "id": "57758fe8-0b53-4dca-aebc-6e933e41ed3b",
   "metadata": {},
   "outputs": [],
   "source": [
    "# Load required packages\n",
    "library(tidyverse)"
   ]
  },
  {
   "cell_type": "code",
   "execution_count": null,
   "id": "d2c89edc-ba93-4f91-9874-85f0ab3a067f",
   "metadata": {
    "scrolled": true
   },
   "outputs": [],
   "source": [
    "# Load all data\n",
    "load_fst_data <- function(path){\n",
    "    name <- basename(path)\n",
    "    win_size <- str_extract(name, \"(?<=win)\\\\d+(?=\\\\.txt)\")\n",
    "    df <- read_delim(path, delim = \"\\t\") %>% \n",
    "        mutate(win_size = win_size)\n",
    "    return(df)\n",
    "}\n",
    "all_fst_df <- snakemake@input[[\"all_fsts\"]] %>% \n",
    "    purrr::map_dfr(load_fst_data) %>% \n",
    "    mutate(win_size = as.character(win_size))"
   ]
  },
  {
   "cell_type": "code",
   "execution_count": null,
   "id": "0a69b386-dacc-4728-9641-ef838d9645d1",
   "metadata": {},
   "outputs": [],
   "source": [
    "all_fst_df_filtered <- all_fst_df %>% \n",
    "    filter(!(arg_site_fst < -1 & win_size == 1)) %>% \n",
    "    filter(!(no_snps < 20 & win_size == 10000))\n",
    "all_fst_df_filtered"
   ]
  },
  {
   "cell_type": "code",
   "execution_count": null,
   "id": "20e88547-c85e-46af-ab52-61842c6eaec6",
   "metadata": {},
   "outputs": [],
   "source": [
    "options(repr.plot.width = 14, repr.plot.height = 6)\n",
    "labels <- c(`1` = \"Per-site\", `10000` = '10 kb windows')\n",
    "site_fst_winSize_hist <- all_fst_df %>% \n",
    "    ggplot(aes(x = arg_site_fst)) +\n",
    "        geom_histogram(bins = 100, color = \"black\", fill = \"red\") +\n",
    "        facet_wrap(~win_size, scales = \"free\", labeller = as_labeller(labels)) +\n",
    "        ylab(\"Number of sites\") + xlab(\"Site-based Fst from tskit (i.e. ARGs)\") +\n",
    "        theme_classic() +\n",
    "        theme(axis.text = element_text(size = 13),\n",
    "              axis.title = element_text(size = 15),\n",
    "              strip.text.x = element_text(size = 13))\n",
    "site_fst_winSize_hist\n",
    "\n",
    "ggsave(filename = snakemake@output[[\"site_fst_winSize_hist\"]], plot = site_fst_winSize_hist,\n",
    "       device = \"pdf\", height = 14, width = 6, units = \"in\", dpi = 300)"
   ]
  },
  {
   "cell_type": "code",
   "execution_count": null,
   "id": "63abf391-79d8-43fc-be97-f7fdb4082a96",
   "metadata": {},
   "outputs": [],
   "source": [
    "site_fst_winSize_hist_filt <- all_fst_df_filtered %>% \n",
    "    ggplot(aes(x = arg_site_fst)) +\n",
    "        geom_histogram(bins = 100, color = \"black\", fill = \"red\") +\n",
    "        facet_wrap(~win_size, scales = \"free\", labeller = as_labeller(labels)) +\n",
    "        ylab(\"Number of sites\") + xlab(\"Site-based Fst from tskit (i.e. ARGs)\") +\n",
    "        theme_classic() +\n",
    "        theme(axis.text = element_text(size = 13),\n",
    "              axis.title = element_text(size = 15),\n",
    "              strip.text.x = element_text(size = 13))\n",
    "site_fst_winSize_hist_filt\n",
    "\n",
    "ggsave(filename = snakemake@output[[\"site_fst_winSize_hist_filt\"]], plot = site_fst_winSize_hist_filt,\n",
    "       device = \"pdf\", height = 14, width = 6, units = \"in\", dpi = 300)"
   ]
  },
  {
   "cell_type": "code",
   "execution_count": null,
   "id": "3b03d2c7-6bf1-48ed-b02f-0ba465159e4b",
   "metadata": {},
   "outputs": [],
   "source": [
    "branch_fst_winSize_hist_filt <- all_fst_df_filtered %>% \n",
    "    ggplot(aes(x = arg_branch_fst)) +\n",
    "        geom_histogram(bins = 100, color = \"black\", fill = \"red\") +\n",
    "        facet_wrap(~win_size, scales = \"free\", labeller = as_labeller(labels)) +\n",
    "        ylab(\"Number of sites\") + xlab(\"Branch-based Fst from tskit (i.e. ARGs)\") +\n",
    "        theme_classic() +\n",
    "        theme(axis.text = element_text(size = 13),\n",
    "              axis.title = element_text(size = 15),\n",
    "              strip.text.x = element_text(size = 13))\n",
    "branch_fst_winSize_hist_filt\n",
    "\n",
    "ggsave(filename = snakemake@output[[\"branch_fst_winSize_hist_filt\"]], plot = branch_fst_winSize_hist_filt,\n",
    "       device = \"pdf\", height = 14, width = 6, units = \"in\", dpi = 300)"
   ]
  },
  {
   "cell_type": "code",
   "execution_count": null,
   "id": "6940079b-26d6-41d0-8ecc-f892b2b648ef",
   "metadata": {
    "scrolled": true
   },
   "outputs": [],
   "source": [
    "options(repr.plot.width = 20, repr.plot.height = 12)\n",
    "site_fst_by_method_winSize_manhat <- all_fst_df_filtered %>% \n",
    "    ggplot() +\n",
    "        geom_line(aes(x = window_pos_1, y = gt_hudson_fst, color = \"Genotype (VCF)\"), linewidth = 0.5, alpha = 0.5) +\n",
    "        geom_line(aes(x = window_pos_1, y = arg_site_fst, color = \"ARG-site\"), linewidth = 0.5, alpha = 0.8) +\n",
    "        facet_grid(win_size~., scales = \"free\", labeller = as_labeller(labels)) +\n",
    "        ylab(\"Fst\") + xlab(\"Genomic position\") +\n",
    "        theme_classic() +\n",
    "        scale_color_manual(name = \"Method\", values = c(\"Genotype (VCF)\" = \"blue\", \"ARG-site\" = \"red\")) +\n",
    "        theme(axis.text = element_text(size = 13),\n",
    "              axis.title = element_text(size = 15),\n",
    "              strip.text.x = element_text(size = 13),\n",
    "              legend.position = \"top\",\n",
    "              legend.direction = \"horizontal\",\n",
    "              legend.key.size = unit(1, 'cm'),\n",
    "              legend.title = element_text(size=15),\n",
    "              legend.text = element_text(size=13))\n",
    "site_fst_by_method_winSize_manhat\n",
    "\n",
    "ggsave(filename = snakemake@output[[\"site_fst_by_method_winSize_manhat\"]], plot = site_fst_by_method_winSize_manhat,\n",
    "       device = \"pdf\", height = 20, width = 12, units = \"in\", dpi = 300)"
   ]
  },
  {
   "cell_type": "code",
   "execution_count": null,
   "id": "f49ec92f-63b7-4ecc-b735-a60e81e95e86",
   "metadata": {},
   "outputs": [],
   "source": [
    "branch_fst_by_method_winSize_manhat <- all_fst_df_filtered %>% \n",
    "    ggplot() +\n",
    "        geom_line(aes(x = window_pos_1, y = gt_hudson_fst, color = \"Genotype (VCF)\"), linewidth = 0.5, alpha = 0.5) +\n",
    "        geom_line(aes(x = window_pos_1, y = arg_branch_fst, color = \"ARG-branch\"), linewidth = 0.5) +\n",
    "        facet_grid(win_size~., scales = \"free\", labeller = as_labeller(labels)) +\n",
    "        ylab(\"Fst\") + xlab(\"Genomic position\") +\n",
    "        theme_classic() +\n",
    "        scale_color_manual(name = \"Method\", values = c(\"Genotype (VCF)\" = \"blue\", \"ARG-branch\" = \"red\")) +\n",
    "        theme(axis.text = element_text(size = 13),\n",
    "              axis.title = element_text(size = 15),\n",
    "              strip.text.x = element_text(size = 13),\n",
    "              legend.position = \"top\",\n",
    "              legend.direction = \"horizontal\",\n",
    "              legend.key.size = unit(1, 'cm'),\n",
    "              legend.title = element_text(size=15),\n",
    "              legend.text = element_text(size=13))\n",
    "branch_fst_by_method_winSize_manhat\n",
    "\n",
    "ggsave(filename = snakemake@output[[\"branch_fst_by_method_winSize_manhat\"]], plot = branch_fst_by_method_winSize_manhat,\n",
    "       device = \"pdf\", height = 20, width = 12, units = \"in\", dpi = 300)"
   ]
  },
  {
   "cell_type": "code",
   "execution_count": null,
   "id": "3d69b050-2229-4d3b-8a34-6ba05222716b",
   "metadata": {},
   "outputs": [],
   "source": [
    "options(repr.plot.width = 14, repr.plot.height = 6)\n",
    "site_gt_fst_cor_by_winSize <- all_fst_df_filtered %>% \n",
    "    ggplot(aes(x = arg_site_fst, y = gt_hudson_fst)) +\n",
    "        geom_point(size = 2, alpha = 0.4) +\n",
    "        facet_wrap(~win_size, scales = \"free\", labeller = as_labeller(labels)) +\n",
    "        geom_smooth(method = \"lm\", linewidth = 1, color = 'blue') +\n",
    "        ylab(\"Hudson's Fst from Pixy (i.e. VCFs)\") + xlab(\"Site-based Fst from tskit (i.e. ARGs)\") +\n",
    "        theme_classic() +\n",
    "        theme(axis.text = element_text(size = 13),\n",
    "              axis.title = element_text(size = 15),\n",
    "              strip.text.x = element_text(size = 13))\n",
    "site_gt_fst_cor_by_winSize\n",
    "\n",
    "ggsave(filename = snakemake@output[[\"site_gt_fst_cor_by_winSize\"]], plot = site_gt_fst_cor_by_winSize,\n",
    "       device = \"pdf\", height = 14, width = 6, units = \"in\", dpi = 300)"
   ]
  },
  {
   "cell_type": "code",
   "execution_count": null,
   "id": "ce2c790e-5cab-4f75-87f7-2a894a37f060",
   "metadata": {},
   "outputs": [],
   "source": [
    "branch_gt_fst_cor_by_winSize <- all_fst_df_filtered %>% \n",
    "    ggplot(aes(x = arg_branch_fst, y = gt_hudson_fst)) +\n",
    "        geom_point(size = 2, alpha = 0.4) +\n",
    "        geom_smooth(method = \"lm\", linewidth = 1, color = 'blue') +\n",
    "        facet_wrap(~win_size, scales = \"free\", labeller = as_labeller(labels)) +\n",
    "        ylab(\"Hudson's Fst from Pixy (i.e. VCFs)\") + xlab(\"Branch-based Fst from tskit (i.e. ARGs)\") +\n",
    "        theme_classic() +\n",
    "        theme(axis.text = element_text(size = 13),\n",
    "              axis.title = element_text(size = 15),\n",
    "              strip.text.x = element_text(size = 13))\n",
    "branch_gt_fst_cor_by_winSize\n",
    "\n",
    "ggsave(filename = snakemake@output[[\"branch_gt_fst_cor_by_winSize\"]], plot = branch_gt_fst_cor_by_winSize,\n",
    "       device = \"pdf\", height = 6, width = 6, units = \"in\", dpi = 300)"
   ]
  },
  {
   "cell_type": "code",
   "execution_count": null,
   "id": "5fd733aa-eed5-4bde-8d75-5c1a7fd6f2e9",
   "metadata": {},
   "outputs": [],
   "source": [
    "site_sfs_fst_cor_by_winSize <- all_fst_df_filtered %>% \n",
    "    ggplot(aes(x = arg_site_fst, y = sfs_hudson_fst)) +\n",
    "        geom_point(size = 2, alpha = 0.4) +\n",
    "        geom_smooth(method = \"lm\", linewidth = 1, color = 'blue') +\n",
    "        facet_wrap(~win_size, scales = \"free\", labeller = as_labeller(labels)) +\n",
    "        ylab(\"Hudson's Fst from ANGSD (i.e. VCFs)\") + xlab(\"Site-based Fst from tskit (i.e. ARGs)\") +\n",
    "        theme_classic() +\n",
    "        theme(axis.text = element_text(size = 13),\n",
    "              axis.title = element_text(size = 15),\n",
    "              strip.text.x = element_text(size = 13))\n",
    "site_sfs_fst_cor_by_winSize\n",
    "\n",
    "ggsave(filename = snakemake@output[[\"site_sfs_fst_cor_by_winSize\"]], plot = site_sfs_fst_cor_by_winSize,\n",
    "       device = \"pdf\", height = 14, width = 6, units = \"in\", dpi = 300)"
   ]
  },
  {
   "cell_type": "code",
   "execution_count": null,
   "id": "e7d071e5-513a-49f9-afeb-6218f8a57ef5",
   "metadata": {},
   "outputs": [],
   "source": [
    "branch_sfs_fst_cor_by_winSize <- all_fst_df_filtered %>% \n",
    "    ggplot(aes(x = arg_branch_fst, y = sfs_hudson_fst)) +\n",
    "        geom_point(size = 2, alpha = 0.4) +\n",
    "        geom_smooth(method = \"lm\", linewidth = 1, color = 'blue') +\n",
    "        facet_wrap(~win_size, scales = \"free\", labeller = as_labeller(labels)) +\n",
    "        ylab(\"Hudson's Fst from ANGSD (i.e. VCFs)\") + xlab(\"Branch-based Fst from tskit (i.e. ARGs)\") +\n",
    "        theme_classic() +\n",
    "        theme(axis.text = element_text(size = 13),\n",
    "              axis.title = element_text(size = 15),\n",
    "              strip.text.x = element_text(size = 13))\n",
    "branch_sfs_fst_cor_by_winSize\n",
    "\n",
    "ggsave(filename = snakemake@output[[\"branch_sfs_fst_cor_by_winSize\"]], plot = branch_sfs_fst_cor_by_winSize,\n",
    "       device = \"pdf\", height = 14, width = 6, units = \"in\", dpi = 300)"
   ]
  },
  {
   "cell_type": "code",
   "execution_count": null,
   "id": "4e9a75c0-4d55-44a2-9f95-7800211ee656",
   "metadata": {},
   "outputs": [],
   "source": [
    "# Create dataframe with Fst correlation coefficients\n",
    "all_fst_cors <- all_fst_df_filtered %>% \n",
    "    group_by(win_size, regionID) %>% \n",
    "    summarize(branch_gt_cor = cor(arg_branch_fst, gt_hudson_fst, use = \"complete.obs\"),\n",
    "              site_gt_cor = cor(arg_site_fst, gt_hudson_fst, use = \"complete.obs\"),\n",
    "              branch_sfs_cor = cor(arg_branch_fst, sfs_hudson_fst, use = \"complete.obs\"),\n",
    "              site_sfs_cor = cor(arg_site_fst, sfs_hudson_fst, use = \"complete.obs\"))\n",
    "all_fst_cors"
   ]
  },
  {
   "cell_type": "code",
   "execution_count": null,
   "id": "73f18eac-f78b-4056-8a09-0e30ac0f698b",
   "metadata": {},
   "outputs": [],
   "source": [
    "branch_gt_cor_hist_by_winSize <- all_fst_cors %>% \n",
    "    ggplot(aes(x = branch_gt_cor)) +\n",
    "        geom_histogram(bins = 30, color = \"black\", fill = \"red\") +\n",
    "        ylab(\"Number of 1Mb regions\") + xlab(\"ARG branch Fst vs. Pixy GT Fst correlation\") +\n",
    "        facet_wrap(~win_size, scales = \"free\", labeller = as_labeller(labels)) +\n",
    "        theme_classic() +\n",
    "        theme(axis.text = element_text(size = 13),\n",
    "              axis.title = element_text(size = 15),\n",
    "              strip.text.x = element_text(size = 13))\n",
    "branch_gt_cor_hist_by_winSize\n",
    "\n",
    "ggsave(filename = snakemake@output[[\"branch_gt_cor_hist_by_winSize\"]], plot = branch_gt_cor_hist_by_winSize,\n",
    "       device = \"pdf\", height = 14, width = 6, units = \"in\", dpi = 300)"
   ]
  },
  {
   "cell_type": "code",
   "execution_count": null,
   "id": "734a7eb7-bcac-4537-985d-4776139c5257",
   "metadata": {},
   "outputs": [],
   "source": [
    "site_gt_cor_hist_by_winSize <- all_fst_cors %>% \n",
    "    ggplot(aes(x = site_gt_cor)) +\n",
    "        geom_histogram(bins = 30, color = \"black\", fill = \"red\") +\n",
    "        ylab(\"Number of 1Mb regions\") + xlab(\"ARG site Fst vs. Pixy GT Fst correlation\") +\n",
    "        facet_wrap(~win_size, scales = \"free\", labeller = as_labeller(labels)) +\n",
    "        theme_classic() +\n",
    "        theme(axis.text = element_text(size = 13),\n",
    "              axis.title = element_text(size = 15),\n",
    "              strip.text.x = element_text(size = 13))\n",
    "site_gt_cor_hist_by_winSize\n",
    "\n",
    "ggsave(filename = snakemake@output[[\"site_gt_cor_hist_by_winSize\"]], plot = site_gt_cor_hist_by_winSize,\n",
    "       device = \"pdf\", height = 14, width = 6, units = \"in\", dpi = 300)"
   ]
  },
  {
   "cell_type": "code",
   "execution_count": null,
   "id": "41575754-100d-449b-84ef-4bb3abb55f0b",
   "metadata": {},
   "outputs": [],
   "source": [
    "branch_sfs_cor_hist_by_winSize <- all_fst_cors %>% \n",
    "    ggplot(aes(x = branch_sfs_cor)) +\n",
    "        geom_histogram(bins = 30, color = \"black\", fill = \"red\") +\n",
    "        ylab(\"Number of 1Mb regions\") + xlab(\"ARG branch Fst vs. ANGSD SFS Fst correlation\") +\n",
    "        facet_wrap(~win_size, scales = \"free\", labeller = as_labeller(labels)) +\n",
    "        theme_classic() +\n",
    "        theme(axis.text = element_text(size = 13),\n",
    "              axis.title = element_text(size = 15),\n",
    "              strip.text.x = element_text(size = 13))\n",
    "branch_sfs_cor_hist_by_winSize\n",
    "\n",
    "ggsave(filename = snakemake@output[[\"branch_sfs_cor_hist_by_winSize\"]], plot = branch_sfs_cor_hist_by_winSize,\n",
    "       device = \"pdf\", height = 14, width = 6, units = \"in\", dpi = 300)"
   ]
  },
  {
   "cell_type": "code",
   "execution_count": null,
   "id": "2b91799c-8be3-47cc-bb73-20cdc516784a",
   "metadata": {},
   "outputs": [],
   "source": [
    "site_sfs_cor_hist_by_winSize <- all_fst_cors %>% \n",
    "    ggplot(aes(x = site_sfs_cor)) +\n",
    "        geom_histogram(bins = 30, color = \"black\", fill = \"red\") +\n",
    "        ylab(\"Number of 1Mb regions\") + xlab(\"ARG branch Fst vs. ANGSD SFS Fst correlation\") +\n",
    "        facet_wrap(~win_size, scales = \"free\", labeller = as_labeller(labels)) +\n",
    "        theme_classic() +\n",
    "        theme(axis.text = element_text(size = 13),\n",
    "              axis.title = element_text(size = 15),\n",
    "              strip.text.x = element_text(size = 13))\n",
    "site_sfs_cor_hist_by_winSize\n",
    "\n",
    "ggsave(filename = snakemake@output[[\"site_sfs_cor_hist_by_winSize\"]], plot = site_sfs_cor_hist_by_winSize,\n",
    "       device = \"pdf\", height = 14, width = 6, units = \"in\", dpi = 300)"
   ]
  },
  {
   "cell_type": "code",
   "execution_count": null,
   "id": "27380c46-8484-44e0-babf-4020a181b582",
   "metadata": {},
   "outputs": [],
   "source": [
    "windowed_fst_df_filtered <- all_fst_df_filtered %>% \n",
    "    filter(win_size == 10000)\n",
    "arg_fst_quant <- quantile(windowed_fst_df_filtered %>% pull(arg_branch_fst), probs = 0.99); arg_fst_quant\n",
    "gt_fst_quant <- quantile(windowed_fst_df_filtered %>% pull(gt_hudson_fst), probs = 0.99); gt_fst_quant\n",
    "sfs_fst_quant <- quantile(windowed_fst_df_filtered %>% pull(sfs_hudson_fst), probs = 0.99); sfs_fst_quant"
   ]
  },
  {
   "cell_type": "code",
   "execution_count": null,
   "id": "e6b04af6-55ff-4d11-8527-03b197520e7c",
   "metadata": {},
   "outputs": [],
   "source": []
  }
 ],
 "metadata": {
  "kernelspec": {
   "display_name": "R",
   "language": "R",
   "name": "ir"
  },
  "language_info": {
   "codemirror_mode": "r",
   "file_extension": ".r",
   "mimetype": "text/x-r-source",
   "name": "R",
   "pygments_lexer": "r",
   "version": "4.1.3"
  }
 },
 "nbformat": 4,
 "nbformat_minor": 5
}
