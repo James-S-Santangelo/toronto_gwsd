{
 "cells": [
  {
   "cell_type": "markdown",
   "id": "ae510ffa-c83d-41bd-a5b0-b49e137960a5",
   "metadata": {},
   "source": [
    "## Setup"
   ]
  },
  {
   "cell_type": "code",
   "execution_count": null,
   "id": "57758fe8-0b53-4dca-aebc-6e933e41ed3b",
   "metadata": {},
   "outputs": [],
   "source": [
    "# Load required packages\n",
    "library(tidyverse)"
   ]
  },
  {
   "cell_type": "code",
   "execution_count": null,
   "id": "d2c89edc-ba93-4f91-9874-85f0ab3a067f",
   "metadata": {},
   "outputs": [],
   "source": [
    "# Load all data\n",
    "arg_fst_df <- suppressMessages(snakemake@input[[\"arg_fst\"]] %>% purrr::map_dfr(., read_csv))\n",
    "\n",
    "gt_fst_df <- suppressMessages(read_delim(snakemake@input[[\"gt_fsts\"]], delim='\\t') %>% filter(pop1 == 'Urban' & pop2 == 'Rural'))\n",
    "\n",
    "cols = c(\"chrom\", \"pos\", \"fst_num\", \"fst_denom\")\n",
    "sfs_fst_df <- suppressMessages(read_delim(snakemake@input[[\"sfs_fsts\"]], delim = '\\t', col_names = cols))\n",
    "\n",
    "load_region_files <- function(path){\n",
    "    region_id = str_split(basename(path), \"\\\\.\", simplify=T)[1,4]\n",
    "    dat <- suppressMessages(\n",
    "        read_delim(path, delim=\"\\t\", col_names=c(\"chrom\", \"start\", \"end\")) %>% \n",
    "        mutate(region_id = region_id)\n",
    "    )\n",
    "    return(dat)\n",
    "}\n",
    "regions_df <- snakemake@input[[\"regions\"]] %>% \n",
    "    purrr::map_df(., load_region_files)"
   ]
  },
  {
   "cell_type": "code",
   "execution_count": null,
   "id": "c14723b5-7e6c-4bb4-bda2-e3783d7e2e08",
   "metadata": {},
   "outputs": [],
   "source": [
    "merge_fst_vals <- function(df){\n",
    "\n",
    "    region <- df %>% pull(regionID) %>% unique()\n",
    "    region_df <- regions_df %>% filter(region_id == region) \n",
    "    start <- region_df$start + 1\n",
    "    end <- region_df$end\n",
    "    window_size <- snakemake@params[[\"window_sizw\"]]\n",
    "\n",
    "    starts <- seq(start, end - 1, window_size)\n",
    "    if(end < (start - 1) + 1e6){\n",
    "        starts <- starts[1:length(starts) - 1]\n",
    "    }\n",
    "    ends <- (starts - 1) + window_size\n",
    "    \n",
    "    all_intervals <- data.frame(window_pos_1 = starts, window_pos_2 = ends)\n",
    "    \n",
    "    arg_fsts <- df %>% \n",
    "        dplyr::select(regionID, window_index, arg_branch_fst, arg_site_fst)\n",
    "    gt_fsts <- gt_fst_df %>% \n",
    "        filter(window_pos_1 >= start & window_pos_2 <= end) %>% \n",
    "        full_join(., all_intervals, by = c(\"window_pos_1\", \"window_pos_2\")) %>% \n",
    "        arrange(window_pos_1)\n",
    "\n",
    "    all_fsts <- bind_cols(arg_fsts, gt_fsts)\n",
    "    return(all_fsts)\n",
    "}\n",
    "\n",
    "all_fsts_df <- arg_fst_df %>% \n",
    "    group_split(regionID) %>% \n",
    "    purrr::map_dfr(., merge_fst_vals)"
   ]
  },
  {
   "cell_type": "code",
   "execution_count": null,
   "id": "80199805-d05d-4d10-a35c-8c22a35d91be",
   "metadata": {},
   "outputs": [],
   "source": [
    "options(repr.plot.width = 14, repr.plot.height = 6)\n",
    "all_fsts_df %>% \n",
    "    filter(regionID == 10) %>% \n",
    "    ggplot() +\n",
    "        geom_line(aes(x = window_pos_1, y = arg_site_fst), color = 'blue', linewidth = 1, alpha = 1) +\n",
    "        geom_line(aes(x = window_pos_1, y = avg_hudson_fst), color = 'red', linewidth = 1, alpha = 1) +\n",
    "        ggtitle(\"region 10\") +\n",
    "        ylab(\"Fst\") + xlab(\"Genomic position\") +\n",
    "        theme_classic()"
   ]
  },
  {
   "cell_type": "code",
   "execution_count": null,
   "id": "3d69b050-2229-4d3b-8a34-6ba05222716b",
   "metadata": {},
   "outputs": [],
   "source": [
    "options(repr.plot.width = 6, repr.plot.height = 6)\n",
    "all_fsts_df %>% \n",
    "    filter(no_snps >= 20) %>% \n",
    "    ggplot(aes(x = arg_site_fst, y = avg_hudson_fst)) +\n",
    "        geom_point(size = 2) +\n",
    "        geom_smooth(method = \"lm\", linewidth = 1, color = 'blue') +\n",
    "        ylab(\"Hudson's Fst from Pixy (i.e. VCFs)\") + xlab(\"Site-based Fst from tskit (i.e. ARGs)\") +\n",
    "        theme_classic() +\n",
    "        theme(axis.text = element_text(size = 13),\n",
    "              axis.title = element_text(size = 15))"
   ]
  },
  {
   "cell_type": "code",
   "execution_count": null,
   "id": "ce2c790e-5cab-4f75-87f7-2a894a37f060",
   "metadata": {},
   "outputs": [],
   "source": [
    "all_fsts_df %>% \n",
    "    filter(no_snps >= 20) %>% \n",
    "    ggplot(aes(x = arg_branch_fst, y = avg_hudson_fst)) +\n",
    "        geom_point(size = 2) +\n",
    "        geom_smooth(method = \"lm\", linewidth = 1, color = 'blue') +\n",
    "        ylab(\"Hudson's Fst from Pixy (i.e. VCFs)\") + xlab(\"Branch-based Fst from tskit (i.e. ARGs)\") +\n",
    "        theme_classic() +\n",
    "        theme(axis.text = element_text(size = 13),\n",
    "              axis.title = element_text(size = 15))"
   ]
  },
  {
   "cell_type": "code",
   "execution_count": null,
   "id": "4e9a75c0-4d55-44a2-9f95-7800211ee656",
   "metadata": {},
   "outputs": [],
   "source": [
    "all_fsts_df <- all_fsts_df %>% \n",
    "    filter(no_snps >= 20) %>% \n",
    "    group_by(regionID) %>% \n",
    "    summarize(branch_cor = cor(arg_branch_fst, avg_hudson_fst, use = \"complete.obs\"),\n",
    "              site_cor = cor(arg_site_fst, avg_hudson_fst, use = \"complete.obs\")) \n",
    "\n",
    "all_fsts_df %>% \n",
    "    ggplot(aes(x = branch_cor)) +\n",
    "        geom_histogram(bins = 30, color = \"black\", fill = \"red\") +\n",
    "        ylab(\"Number of 1Mb regions\") + xlab(\"ARG branch Fst vs. Pixy GT Fst correlation\") +\n",
    "        theme_classic() +\n",
    "        theme(axis.text = element_text(size = 13),\n",
    "              axis.title = element_text(size = 15))"
   ]
  },
  {
   "cell_type": "code",
   "execution_count": null,
   "id": "734a7eb7-bcac-4537-985d-4776139c5257",
   "metadata": {},
   "outputs": [],
   "source": [
    "all_fsts_df %>% \n",
    "    ggplot(aes(x = site_cor)) +\n",
    "        geom_histogram(bins = 30, color = \"black\", fill = \"red\") +\n",
    "        ylab(\"Number of 1Mb regions\") + xlab(\"ARG branch Fst vs. Pixy GT Fst correlation\") +\n",
    "        theme_classic() +\n",
    "        theme(axis.text = element_text(size = 13),\n",
    "              axis.title = element_text(size = 15))"
   ]
  },
  {
   "cell_type": "code",
   "execution_count": null,
   "id": "0a4b52d8-b224-4302-a615-69de1da88612",
   "metadata": {},
   "outputs": [],
   "source": [
    "all_fsts_df %>% \n",
    "    ggplot(aes(x = site_cor, y = branch_cor)) +\n",
    "        geom_point(size = 2) +\n",
    "        geom_smooth(method = 'lm', linewidth = 1, color = 'blue') +\n",
    "        ylab(\"ARG branch Fst vs. Pixy GT Fst correlation\") + xlab(\"ARG site Fst vs. Pixy GT Fst correlation\") +\n",
    "        theme_classic() +\n",
    "        theme(axis.text = element_text(size = 13),\n",
    "              axis.title = element_text(size = 15))"
   ]
  },
  {
   "cell_type": "code",
   "execution_count": null,
   "id": "d5a97185-3781-4e06-9f6e-01a384f345e9",
   "metadata": {},
   "outputs": [],
   "source": [
    "all_fsts_df %>% \n",
    "    filter(site_cor <= 0.9 | branch_cor <= 0.6)"
   ]
  }
 ],
 "metadata": {
  "kernelspec": {
   "display_name": "R",
   "language": "R",
   "name": "ir"
  },
  "language_info": {
   "codemirror_mode": "r",
   "file_extension": ".r",
   "mimetype": "text/x-r-source",
   "name": "R",
   "pygments_lexer": "r",
   "version": "4.1.3"
  }
 },
 "nbformat": 4,
 "nbformat_minor": 5
}
