{
 "cells": [
  {
   "cell_type": "code",
   "execution_count": null,
   "id": "8bf02234-4ceb-41c4-88df-dffb2751234e",
   "metadata": {},
   "outputs": [],
   "source": [
    "library(tidyverse)\n",
    "library(topGO)"
   ]
  },
  {
   "cell_type": "markdown",
   "id": "a5f5d657-0811-4b3a-8b8e-fb8556d4dd2a",
   "metadata": {},
   "source": [
    "# Setup"
   ]
  },
  {
   "cell_type": "code",
   "execution_count": null,
   "id": "cabfe792",
   "metadata": {},
   "outputs": [],
   "source": [
    "# Load Gene2GO IDs mapfile\n",
    "gene_id_to_go <- readMappings(snakemake@input[['all_genes']])"
   ]
  },
  {
   "cell_type": "code",
   "execution_count": null,
   "id": "aa373641-9144-42d2-be06-228575cf8cc2",
   "metadata": {},
   "outputs": [],
   "source": [
    "# Load selected genes\n",
    "top_hits <- read_delim(snakemake@input[['top_ten_genes']])\n",
    "head(top_hits)"
   ]
  },
  {
   "cell_type": "markdown",
   "id": "688c571b-0717-4625-8f41-b03168064f6d",
   "metadata": {},
   "source": [
    "# GO enrichment analysis\n",
    "\n",
    "## Selection in urban habitats"
   ]
  },
  {
   "cell_type": "code",
   "execution_count": null,
   "id": "e38c5bec-570d-4b31-93dc-90ffe77d5920",
   "metadata": {},
   "outputs": [],
   "source": [
    "# Urban selection\n",
    "top_genes_urban <- top_hits %>% \n",
    "    filter(direction == 'Urban') %>% \n",
    "    pull(gene_id)"
   ]
  },
  {
   "cell_type": "code",
   "execution_count": null,
   "id": "5d98c796-2ae5-469c-87ad-0b0cd5098a53",
   "metadata": {},
   "outputs": [],
   "source": [
    "gene_names <- names(gene_id_to_go)\n",
    "gene_list_urban <- factor(as.integer(gene_names %in% top_genes_urban))\n",
    "names(gene_list_urban) <- gene_names\n",
    "str(gene_list_urban)"
   ]
  },
  {
   "cell_type": "markdown",
   "id": "da922604-6685-4095-8237-1a133683aed1",
   "metadata": {},
   "source": [
    "### Biological Process"
   ]
  },
  {
   "cell_type": "code",
   "execution_count": null,
   "id": "f4090169-4b18-4340-8e44-5daf346dd0bc",
   "metadata": {},
   "outputs": [],
   "source": [
    "# Setup GO Data object\n",
    "go_data_urban_BP <- new(\"topGOdata\", \n",
    "                     description = \"GO enrichment analysis of all urban-selected genes\",\n",
    "                     ontology = 'BP', \n",
    "                     allGenes = gene_list_urban, \n",
    "                     annot = annFUN.gene2GO, \n",
    "                     nodeSize = 5,\n",
    "                     gene2GO = gene_id_to_go)\n",
    "go_data_urban_BP"
   ]
  },
  {
   "cell_type": "code",
   "execution_count": null,
   "id": "db8d8631-58b5-4c9e-afd4-04cadf16c077",
   "metadata": {},
   "outputs": [],
   "source": [
    "go_urban_fisher_BP <- runTest(go_data_urban_BP, algorithm = \"weight01\", statistic = \"fisher\")\n",
    "go_urban_fisher_BP"
   ]
  },
  {
   "cell_type": "code",
   "execution_count": null,
   "id": "76dc9245-4d6c-4f43-8f97-38bf1c5208e5",
   "metadata": {},
   "outputs": [],
   "source": [
    "num_sig <- length(go_urban_fisher_BP@score[go_urban_fisher_BP@score < 0.05])\n",
    "go_urban_tbl_BP <- GenTable(go_data_urban_BP, Pval = go_urban_fisher_BP, topNodes = num_sig) %>% \n",
    "    mutate(Selection = 'Urban', Ontology = 'BP')\n",
    "go_urban_tbl_BP"
   ]
  },
  {
   "cell_type": "code",
   "execution_count": null,
   "id": "f5e7bd5a-270b-4b52-89d7-8decf88b1172",
   "metadata": {},
   "outputs": [],
   "source": [
    "go_urban_tbl_BP %>% \n",
    "    dplyr::select(GO.ID, Pval) %>% \n",
    "    pull(GO.ID)"
   ]
  },
  {
   "cell_type": "markdown",
   "id": "28cb0c7b-a534-4406-8dd7-e04e6c14180c",
   "metadata": {},
   "source": [
    "### Molecular Function"
   ]
  },
  {
   "cell_type": "code",
   "execution_count": null,
   "id": "6064fea0-9c97-4e9f-83a4-292d62f4838c",
   "metadata": {},
   "outputs": [],
   "source": [
    "# Setup GO Data object\n",
    "go_data_urban_MF <- new(\"topGOdata\", \n",
    "                     description = \"GO enrichment analysis of all urban-selected genes\",\n",
    "                     ontology = 'MF', \n",
    "                     allGenes = gene_list_urban, \n",
    "                     annot = annFUN.gene2GO, \n",
    "                     nodeSize = 5,\n",
    "                     gene2GO = gene_id_to_go)\n",
    "go_data_urban_MF"
   ]
  },
  {
   "cell_type": "code",
   "execution_count": null,
   "id": "62a2aba7-c3c9-4bc1-83d6-cffa553ed787",
   "metadata": {},
   "outputs": [],
   "source": [
    "go_urban_fisher_MF <- runTest(go_data_urban_MF, algorithm = \"weight01\", statistic = \"fisher\")\n",
    "go_urban_fisher_MF"
   ]
  },
  {
   "cell_type": "code",
   "execution_count": null,
   "id": "cb83c799-cbda-4bde-bef9-68014ddc6ab7",
   "metadata": {},
   "outputs": [],
   "source": [
    "num_sig <- length(go_urban_fisher_MF@score[go_urban_fisher_MF@score < 0.05])\n",
    "go_urban_tbl_MF <- GenTable(go_data_urban_MF, Pval = go_urban_fisher_MF, topNodes = num_sig) %>%\n",
    "    mutate(Selection = 'Urban', Ontology = 'MF')\n",
    "go_urban_tbl_MF"
   ]
  },
  {
   "cell_type": "markdown",
   "id": "91cccb63-4c45-41c1-a566-54887f071abd",
   "metadata": {},
   "source": [
    "## Selection in rural habitats"
   ]
  },
  {
   "cell_type": "code",
   "execution_count": null,
   "id": "65792d7c-05b8-4524-b820-d0bbabdb5f49",
   "metadata": {},
   "outputs": [],
   "source": [
    "# Rural selection\n",
    "all_genes_rural <- top_hits %>% \n",
    "    filter(direction == 'Rural') %>% \n",
    "    pull(gene_id)"
   ]
  },
  {
   "cell_type": "code",
   "execution_count": null,
   "id": "10be6a32-dc26-45ce-a88b-d37ab5444905",
   "metadata": {},
   "outputs": [],
   "source": [
    "gene_list_rural <- factor(as.integer(gene_names %in% all_genes_rural))\n",
    "names(gene_list_rural) <- gene_names\n",
    "str(gene_list_rural)"
   ]
  },
  {
   "cell_type": "markdown",
   "id": "4fc45289-5168-44bb-862c-30740b1b65e0",
   "metadata": {},
   "source": [
    "### Biological Process"
   ]
  },
  {
   "cell_type": "code",
   "execution_count": null,
   "id": "c93120c8-2334-408f-89a2-08aed28a8e7d",
   "metadata": {},
   "outputs": [],
   "source": [
    "# Setup GO Data object\n",
    "go_data_rural_BP <- new(\"topGOdata\", \n",
    "                     description = \"GO enrichment analysis of all rural-selected genes\",\n",
    "                     ontology = 'BP', \n",
    "                     allGenes = gene_list_rural, \n",
    "                     annot = annFUN.gene2GO, \n",
    "                     nodeSize = 5,\n",
    "                     gene2GO = gene_id_to_go)\n",
    "go_data_rural_BP"
   ]
  },
  {
   "cell_type": "code",
   "execution_count": null,
   "id": "4f6090c8-b6f2-4189-ab47-c6a143891e95",
   "metadata": {},
   "outputs": [],
   "source": [
    "go_rural_fisher_BP <- runTest(go_data_rural_BP, algorithm = \"weight01\", statistic = \"fisher\")\n",
    "go_rural_fisher_BP"
   ]
  },
  {
   "cell_type": "code",
   "execution_count": null,
   "id": "adea98d1-e629-487b-ae80-72a29ca6cb71",
   "metadata": {},
   "outputs": [],
   "source": [
    "num_sig <- length(go_rural_fisher_BP@score[go_rural_fisher_BP@score < 0.05])\n",
    "go_rural_tbl_BP <- GenTable(go_data_rural_BP, Pval = go_rural_fisher_BP, topNodes = num_sig) %>% \n",
    "    mutate(Selection = 'Rural', Ontology = 'BP')\n",
    "go_rural_tbl_BP"
   ]
  },
  {
   "cell_type": "code",
   "execution_count": null,
   "id": "0bebb493-6e20-4bd3-b12b-bf0fc6e8f6ec",
   "metadata": {},
   "outputs": [],
   "source": [
    "go_rural_tbl_BP %>% \n",
    "    dplyr::select(GO.ID, Pval) %>% \n",
    "    pull(GO.ID)"
   ]
  },
  {
   "cell_type": "markdown",
   "id": "2bc8ff5c-4fc5-428b-876c-fd2e2d167d7a",
   "metadata": {},
   "source": [
    "### Molecular Function"
   ]
  },
  {
   "cell_type": "code",
   "execution_count": null,
   "id": "32fa1882-e828-4ca6-b2b7-b271b402d6c5",
   "metadata": {},
   "outputs": [],
   "source": [
    "# Setup GO Data object\n",
    "go_data_rural_MF <- new(\"topGOdata\", \n",
    "                     description = \"GO enrichment analysis of all rural-selected genes\",\n",
    "                     ontology = 'MF', \n",
    "                     allGenes = gene_list_rural, \n",
    "                     annot = annFUN.gene2GO, \n",
    "                     nodeSize = 5,\n",
    "                     gene2GO = gene_id_to_go)\n",
    "go_data_rural_MF"
   ]
  },
  {
   "cell_type": "code",
   "execution_count": null,
   "id": "93e60326-4133-4660-bba2-1539eaedc23b",
   "metadata": {},
   "outputs": [],
   "source": [
    "go_rural_fisher_MF <- runTest(go_data_rural_MF, algorithm = \"weight01\", statistic = \"fisher\")\n",
    "go_rural_fisher_MF"
   ]
  },
  {
   "cell_type": "code",
   "execution_count": null,
   "id": "57e645c2-adf9-4518-b1c5-54f383ccaf7d",
   "metadata": {},
   "outputs": [],
   "source": [
    "num_sig <- length(go_rural_fisher_MF@score[go_rural_fisher_MF@score < 0.05])\n",
    "go_rural_tbl_MF <- GenTable(go_data_rural_MF, Pval = go_rural_fisher_MF, topNodes = num_sig) %>% \n",
    "    mutate(Selection = 'Rural', Ontology = 'MF')\n",
    "go_rural_tbl_MF"
   ]
  },
  {
   "cell_type": "markdown",
   "id": "f477b43d-5417-446c-9929-b722fcfb5a7b",
   "metadata": {},
   "source": [
    "# Output"
   ]
  },
  {
   "cell_type": "code",
   "execution_count": null,
   "id": "8213bfad-171a-407c-9b1d-a28225ce85fc",
   "metadata": {
    "scrolled": true
   },
   "outputs": [],
   "source": [
    "all_go_results <- bind_rows(go_urban_tbl_BP, go_urban_tbl_MF, go_rural_tbl_BP, go_rural_tbl_MF)\n",
    "all_go_results"
   ]
  },
  {
   "cell_type": "code",
   "execution_count": null,
   "id": "e4d0189c-c07e-44cd-8d81-169b65b07130",
   "metadata": {},
   "outputs": [],
   "source": [
    "write_delim(all_go_results, snakemake@output[['all_go_res']], delim = '\\t')"
   ]
  },
  {
   "cell_type": "code",
   "execution_count": null,
   "id": "91333875-fa05-43ab-a32f-3149c8fcf20b",
   "metadata": {},
   "outputs": [],
   "source": []
  }
 ],
 "metadata": {
  "kernelspec": {
   "display_name": "R",
   "language": "R",
   "name": "ir"
  },
  "language_info": {
   "codemirror_mode": "r",
   "file_extension": ".r",
   "mimetype": "text/x-r-source",
   "name": "R",
   "pygments_lexer": "r",
   "version": "4.1.3"
  }
 },
 "nbformat": 4,
 "nbformat_minor": 5
}
