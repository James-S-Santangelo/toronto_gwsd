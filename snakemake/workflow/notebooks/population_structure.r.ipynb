{
 "cells": [
  {
   "cell_type": "markdown",
   "metadata": {},
   "source": [
    "# Population structure and diversity\n",
    "\n",
    "## Setup"
   ]
  },
  {
   "cell_type": "code",
   "execution_count": null,
   "metadata": {},
   "outputs": [],
   "source": [
    "# Load required packages\n",
    "library(tidyverse)\n",
    "library(wesanderson)\n",
    "library(vegan)\n",
    "library(ggheatmap)"
   ]
  },
  {
   "cell_type": "code",
   "execution_count": null,
   "metadata": {},
   "outputs": [],
   "source": [
    "# Sample order from ANGSD\n",
    "sample_order <- suppressMessages(\n",
    "        read_delim(snakemake@input[[\"order\"]], col_names = FALSE, delim = '\\t')\n",
    ")\n",
    "head(sample_order)"
   ]
  },
  {
   "cell_type": "code",
   "execution_count": null,
   "metadata": {},
   "outputs": [],
   "source": [
    "# Load sample sheet\n",
    "samples <- suppressMessages(\n",
    "        read_delim(snakemake@config[[\"samples\"]], col_names = TRUE, delim = '\\t') %>%\n",
    "        filter(Sample %in% sample_order$X1)\n",
    ")\n",
    "head(samples)"
   ]
  },
  {
   "cell_type": "code",
   "execution_count": null,
   "metadata": {},
   "outputs": [],
   "source": [
    "# Load pops sheet\n",
    "populations <- suppressMessages(\n",
    "        read_delim(snakemake@config[[\"pops\"]], col_names = TRUE, delim = ',')) %>% \n",
    "    mutate(Transect = ifelse(Habitat == \"Urban\", NA, Transect))\n",
    "head(populations)"
   ]
  },
  {
   "cell_type": "code",
   "execution_count": null,
   "metadata": {},
   "outputs": [],
   "source": [
    "# ggplot theme with transparent backgrounds\n",
    "transp_theme <- theme(panel.background = element_rect(fill = \"transparent\", colour = NA_character_), \n",
    "                      panel.grid.major = element_blank(),\n",
    "                      panel.grid.minor = element_blank(),\n",
    "                      plot.background = element_rect(fill = \"transparent\", colour = NA_character_),\n",
    "                      legend.background = element_rect(fill = \"transparent\"),\n",
    "                      legend.box.background = element_rect(fill = \"transparent\"),\n",
    "                      legend.key = element_rect(fill = \"transparent\"))"
   ]
  },
  {
   "cell_type": "markdown",
   "metadata": {},
   "source": [
    "## Pricipal Components Analysis (PCA)"
   ]
  },
  {
   "cell_type": "code",
   "execution_count": null,
   "metadata": {},
   "outputs": [],
   "source": [
    "# Load covariance matrix\n",
    "covMat <- suppressMessages(\n",
    "        read_delim(snakemake@input[[\"cov\"]], col_names = FALSE, delim = ' ')\n",
    ")\n",
    "head(covMat)"
   ]
  },
  {
   "cell_type": "code",
   "execution_count": null,
   "metadata": {},
   "outputs": [],
   "source": [
    "# Perform eigen decomposition of covariance matrix\n",
    "# Extract eigenvectors and bind with sample sheet for plotting and coloring by habitat\n",
    "eigenvectors <- eigen(covMat)\n",
    "eigen_df <- eigenvectors$vectors %>%\n",
    "        as.data.frame() %>%\n",
    "        dplyr::select(V1, V2, V3, V4) %>%\n",
    "        rename('PC1' = 'V1',\n",
    "               'PC2' = 'V2',\n",
    "               'PC3' = 'V3',\n",
    "               'PC4' = 'V4') %>%\n",
    "    bind_cols(., samples)"
   ]
  },
  {
   "cell_type": "code",
   "execution_count": null,
   "metadata": {},
   "outputs": [],
   "source": [
    "# Function to calculate % variance and cummulative variance from PC\n",
    "# Used to generate summary table rather than printing the lengthy `princomp()` summary\n",
    "pca_importance <- function(x) {\n",
    "  vars <- x$sdev^2\n",
    "  vars <- vars/sum(vars)\n",
    "  rbind(`Standard deviation` = x$sdev, `Proportion of Variance` = vars, \n",
    "      `Cumulative Proportion` = cumsum(vars))\n",
    "}\n",
    "\n",
    "# Percent Variance explained by first 4 PCs\n",
    "pca_importance(summary(princomp(covMat))) %>% \n",
    "    as.data.frame() %>% \n",
    "    rownames_to_column('var') %>% \n",
    "    dplyr::select(var, Comp.1:Comp.4)"
   ]
  },
  {
   "cell_type": "code",
   "execution_count": null,
   "metadata": {},
   "outputs": [],
   "source": [
    "cols_hab <- c(\"#007243\", \"#914205\", \"#003876\")\n",
    "pca_plot <- eigen_df %>%\n",
    "    ggplot(., aes(x = PC1, y = PC2)) +\n",
    "        geom_point(aes(color = Habitat, shape = Habitat), size = 7, alpha = 0.75) +\n",
    "        scale_color_manual(values = cols_hab) +\n",
    "        theme_classic() +\n",
    "        xlab('PC1 (3.4%)') + ylab('PC2 (2.0%)') +\n",
    "#         scale_x_continuous(breaks = seq(-0.10, 0.10, 0.10)) +\n",
    "        transp_theme +\n",
    "        theme(axis.text = element_text(size = 18),\n",
    "              axis.title = element_text(size = 20),\n",
    "              legend.position = 'top',\n",
    "              legend.title = element_text(size = 16),\n",
    "              legend.text = element_text(size = 14),\n",
    "              legend.background = element_blank(),\n",
    "              legend.box.background = element_blank(),\n",
    "              legend.key = element_blank())\n",
    "options(repr.plot.width = 8, repr.plot.height = 8)\n",
    "pca_plot"
   ]
  },
  {
   "cell_type": "code",
   "execution_count": null,
   "metadata": {},
   "outputs": [],
   "source": [
    "ggsave(filename = snakemake@output[[\"pca\"]], plot = pca_plot, device = 'pdf', \n",
    "       width = 8, height = 8, units = 'in', dpi = 600, )"
   ]
  },
  {
   "cell_type": "code",
   "execution_count": null,
   "metadata": {},
   "outputs": [],
   "source": [
    "# What are those outlier cluster?\n",
    "eigen_df %>% filter((PC1 > 0.1 & PC2 < -0.1) | (PC1 < 0 & PC2 < -0.15))"
   ]
  },
  {
   "cell_type": "markdown",
   "metadata": {},
   "source": [
    "## Admixture"
   ]
  },
  {
   "cell_type": "code",
   "execution_count": null,
   "metadata": {},
   "outputs": [],
   "source": [
    "# Best K by Evanno is 5. Load logs for K = 5\n",
    "clumpak_log_path <- paste0(snakemake@input[[\"evanno\"]], '/output.log')\n",
    "clumpak_log <- readLines(clumpak_log_path)\n",
    "optimal_K <- as.numeric(str_sub(clumpak_log[grep('Optimal K', clumpak_log)],-1,-1))\n",
    "optimal_K"
   ]
  },
  {
   "cell_type": "code",
   "execution_count": null,
   "metadata": {},
   "outputs": [],
   "source": [
    "# Peak in Delta K looks good\n",
    "library(\"IRdisplay\")\n",
    "display_png(file=paste0(snakemake@input[[\"evanno\"]], '/Best_K_By_Evanno-DeltaKByKGraph.png'))"
   ]
  },
  {
   "cell_type": "markdown",
   "metadata": {},
   "source": [
    "### Optimal K"
   ]
  },
  {
   "cell_type": "code",
   "execution_count": null,
   "metadata": {},
   "outputs": [],
   "source": [
    "# Function to load NGSadmix log files\n",
    "load_ngsadmix_log <- function(path){\n",
    "    seed <- as.numeric(str_extract(basename(path), pattern = '(?<=seed)[0-9]+(?=\\\\.log)'))\n",
    "    k <- as.numeric(str_extract(basename(path), pattern = '(?<=_K)[0-9]+(?=_seed)'))\n",
    "    logfile <- readLines(path)[9]  ## 9 index is for line with likelihood\n",
    "    like <- as.numeric(str_extract(logfile, pattern = '(?<=like=)-[0-9]+\\\\.[0-9]+'))\n",
    "    \n",
    "    df_out <- data.frame(seed = seed, k = k, like = like)\n",
    "    return(df_out)\n",
    "}\n",
    "\n",
    "like_df <- map_dfr(snakemake@input[[\"admix_log\"]], load_ngsadmix_log)\n",
    "head(like_df)"
   ]
  },
  {
   "cell_type": "code",
   "execution_count": null,
   "metadata": {
    "scrolled": true
   },
   "outputs": [],
   "source": [
    "# Get lowest likelihood for plotting\n",
    "optim_k_min_seed <- like_df %>%\n",
    "    filter(k == optimal_K) %>% \n",
    "    filter(like == min(like)) %>% \n",
    "    pull(seed)\n",
    "optim_k_min_seed"
   ]
  },
  {
   "cell_type": "code",
   "execution_count": null,
   "metadata": {
    "scrolled": true
   },
   "outputs": [],
   "source": [
    "load_ngsadmix_qopt <- function(path, K, s){\n",
    "    seed <- as.numeric(str_extract(basename(path), pattern = '(?<=seed)[0-9]+(?=\\\\.qopt)'))\n",
    "    k <- as.numeric(str_extract(basename(path), pattern = '(?<=_K)[0-9]+(?=_seed)'))\n",
    "    if(seed == s & k == K){\n",
    "        df <- suppressMessages(read_delim(path, col_names = FALSE, delim = \" \")) %>%\n",
    "            dplyr::select(-sprintf(\"X%s\", K + 1)) %>%\n",
    "            bind_cols(., samples) %>% \n",
    "            pivot_longer(X1:sprintf(\"X%s\", K), values_to = 'Probs') %>% \n",
    "            mutate(Probs = round(Probs, 5))\n",
    "        return(df)\n",
    "    }\n",
    "}\n",
    "\n",
    "# Load admixture results for seed with lowest log likelihood\n",
    "admix_optimal <- purrr::map_dfr(snakemake@input[[\"admix_qopt\"]], load_ngsadmix_qopt, K = optimal_K ,s = optim_k_min_seed)"
   ]
  },
  {
   "cell_type": "code",
   "execution_count": null,
   "metadata": {},
   "outputs": [],
   "source": [
    "levels <- admix_optimal %>% \n",
    "  dplyr::select(Sample) %>% \n",
    "  distinct() %>% \n",
    "  mutate(Sample = str_replace(Sample, \"s_\", \"\")) %>%\n",
    "  separate(Sample, into = c('Pop', 'Plant'), sep = '_', remove = FALSE) %>% \n",
    "  arrange(as.integer(Pop), as.integer(Plant)) %>% \n",
    "  mutate(val = paste0(Pop, \"_\", Plant)) %>% \n",
    "  pull(val)"
   ]
  },
  {
   "cell_type": "code",
   "execution_count": null,
   "metadata": {},
   "outputs": [],
   "source": [
    "options(repr.plot.width = 20, repr.plot.height = 3)\n",
    "cols_admix <- wes_palette(\"Darjeeling1\", n = optimal_K, type = 'continuous')\n",
    "admix_plot_optimal <- admix_optimal %>% \n",
    "  mutate(Sample = str_replace(Sample, \"s_\", \"\")) %>% \n",
    "  ggplot(., aes(factor(Sample, levels = levels), Probs, fill = factor(name), color = factor(name))) +\n",
    "  geom_col(width=1) +\n",
    "  facet_grid(~fct_relevel(Habitat,'Rural', 'Suburban', 'Urban'), switch = \"x\", scales = \"free\", space = \"free\") +\n",
    "  theme_minimal() + labs(x = \"\", title = sprintf(\"K=%s (Best K)\", optimal_K), y = \"Ancestry\") +\n",
    "  scale_y_continuous(expand = c(0, 0)) +\n",
    "  scale_x_discrete(expand = expansion(add = 1)) +\n",
    "  scale_fill_manual(values = cols_admix) + \n",
    "  scale_color_manual(values = cols_admix) +\n",
    "  transp_theme +\n",
    "  theme(\n",
    "    legend.position = 'none',\n",
    "    panel.spacing.x = unit(0.1, \"lines\"),\n",
    "    axis.text.x = element_blank(),\n",
    "    panel.grid = element_blank(),\n",
    "    axis.text = element_text(size=18),\n",
    "    axis.title = element_text(size=20),\n",
    "    strip.text.x = element_text(size = 18),\n",
    "    plot.title = element_text(size = 23, face = 'bold'),\n",
    "    axis.text.y = element_blank()\n",
    "  ) \n",
    "admix_plot_optimal"
   ]
  },
  {
   "cell_type": "code",
   "execution_count": null,
   "metadata": {},
   "outputs": [],
   "source": [
    "ggsave(filename = snakemake@output[[\"admix_optimal\"]], plot = admix_plot_optimal, device = 'pdf', \n",
    "       width = 20, height = 3, units = 'in', dpi = 600)"
   ]
  },
  {
   "cell_type": "markdown",
   "metadata": {},
   "source": [
    "### Optimal K minus 1"
   ]
  },
  {
   "cell_type": "code",
   "execution_count": null,
   "metadata": {},
   "outputs": [],
   "source": [
    "# Get lowest likelihood for plotting\n",
    "optim__minus_k_min_seed <- like_df %>%\n",
    "    filter(k == optimal_K - 1) %>% \n",
    "    filter(like == min(like)) %>% \n",
    "    pull(seed)\n",
    "optim__minus_k_min_seed"
   ]
  },
  {
   "cell_type": "code",
   "execution_count": null,
   "metadata": {
    "scrolled": true
   },
   "outputs": [],
   "source": [
    "# Load admixture results for seed with lowest log likelihood\n",
    "admix_optimal_minus <- purrr::map_dfr(snakemake@input[[\"admix_qopt\"]], load_ngsadmix_qopt, K = optimal_K - 1 ,s = optim__minus_k_min_seed)"
   ]
  },
  {
   "cell_type": "code",
   "execution_count": null,
   "metadata": {},
   "outputs": [],
   "source": [
    "cols_admix <- wes_palette(\"Darjeeling1\", n = optimal_K - 1, type = 'continuous')\n",
    "admix_plot_optimal_minus <- admix_optimal_minus %>% \n",
    "  mutate(Sample = str_replace(Sample, \"s_\", \"\")) %>% \n",
    "  ggplot(., aes(factor(Sample, levels = levels), Probs, fill = factor(name), color = factor(name))) +\n",
    "  geom_col(width=1) +\n",
    "  facet_grid(~fct_relevel(Habitat,'Rural', 'Suburban', 'Urban'), switch = \"x\", scales = \"free\", space = \"free\") +\n",
    "  theme_minimal() + labs(x = \"\", title = sprintf(\"K=%s\", optimal_K - 1), y = \"Ancestry\") +\n",
    "  scale_y_continuous(expand = c(0, 0)) +\n",
    "  scale_x_discrete(expand = expansion(add = 1)) +\n",
    "  scale_fill_manual(values = cols_admix) + \n",
    "  scale_color_manual(values = cols_admix) +\n",
    "  transp_theme +\n",
    "  theme(\n",
    "    legend.position = 'none',\n",
    "    panel.spacing.x = unit(0.1, \"lines\"),\n",
    "    axis.text.x = element_blank(),\n",
    "    panel.grid = element_blank(),\n",
    "    axis.title = element_text(size=20),\n",
    "    strip.text.x = element_text(size = 18),\n",
    "    plot.title = element_text(size = 23, face = 'bold'),\n",
    "    axis.text.y = element_blank()\n",
    "  ) \n",
    "admix_plot_optimal_minus"
   ]
  },
  {
   "cell_type": "code",
   "execution_count": null,
   "metadata": {},
   "outputs": [],
   "source": [
    "ggsave(filename = snakemake@output[[\"admix_optimal_minus\"]], plot = admix_plot_optimal_minus, device = 'pdf', \n",
    "       width = 20, height = 3, units = 'in', dpi = 600, )"
   ]
  },
  {
   "cell_type": "markdown",
   "metadata": {},
   "source": [
    "### Optimal K plus 1"
   ]
  },
  {
   "cell_type": "code",
   "execution_count": null,
   "metadata": {},
   "outputs": [],
   "source": [
    "# Get lowest likelihood for plotting\n",
    "optim_plus_k_min_seed <- like_df %>%\n",
    "    filter(k == optimal_K + 1) %>% \n",
    "    filter(like == min(like)) %>% \n",
    "    pull(seed)\n",
    "optim_plus_k_min_seed"
   ]
  },
  {
   "cell_type": "code",
   "execution_count": null,
   "metadata": {},
   "outputs": [],
   "source": [
    "# Load admixture results for seed with lowest log likelihood\n",
    "admix_optimal_plus <- purrr::map_dfr(snakemake@input[[\"admix_qopt\"]], load_ngsadmix_qopt, K = optimal_K + 1 ,s = optim_plus_k_min_seed)"
   ]
  },
  {
   "cell_type": "code",
   "execution_count": null,
   "metadata": {},
   "outputs": [],
   "source": [
    "cols_admix <- wes_palette(\"Darjeeling1\", n = optimal_K + 1, type = 'continuous')\n",
    "admix_plot_optimal_plus <- admix_optimal_plus %>% \n",
    "  mutate(Sample = str_replace(Sample, \"s_\", \"\")) %>%\n",
    "  ggplot(., aes(factor(Sample, levels = levels), Probs, fill = factor(name), color = factor(name))) +\n",
    "  geom_col(width=1) +\n",
    "  facet_grid(~fct_relevel(Habitat,'Rural', 'Suburban', 'Urban'), switch = \"x\", scales = \"free\", space = \"free\") +\n",
    "  theme_minimal() + labs(x = \"\", title = sprintf(\"K=%s\", optimal_K + 1), y = \"Ancestry\") +\n",
    "  scale_y_continuous(expand = c(0, 0)) +\n",
    "  scale_x_discrete(expand = expansion(add = 1)) +\n",
    "  scale_fill_manual(values = cols_admix) + \n",
    "  scale_color_manual(values = cols_admix) +\n",
    "  transp_theme +\n",
    "  theme(\n",
    "    legend.position = 'none',\n",
    "    panel.spacing.x = unit(0.1, \"lines\"),\n",
    "    axis.text.x = element_text(size = 10, angle = 90),\n",
    "    panel.grid = element_blank(),\n",
    "    axis.title = element_text(size=20),\n",
    "    strip.text.x = element_text(size = 18),\n",
    "    plot.title = element_text(size = 23, face = 'bold'),\n",
    "    axis.text.y = element_blank()\n",
    "  ) \n",
    "admix_plot_optimal_plus"
   ]
  },
  {
   "cell_type": "code",
   "execution_count": null,
   "metadata": {},
   "outputs": [],
   "source": [
    "ggsave(filename = snakemake@output[[\"admix_optimal_plus\"]], plot = admix_plot_optimal_plus, device = 'pdf', \n",
    "       width = 20, height = 3, units = 'in', dpi = 600, )"
   ]
  },
  {
   "cell_type": "markdown",
   "metadata": {},
   "source": [
    "## Pi and Fst\n",
    "\n",
    "### By Habitat\n",
    "\n",
    "#### Pi"
   ]
  },
  {
   "cell_type": "code",
   "execution_count": null,
   "metadata": {
    "scrolled": true
   },
   "outputs": [],
   "source": [
    "# Function to load thetas for a given habitat\n",
    "load_pi <- function(path){\n",
    "    habitat <- as.character(str_extract(basename(path), pattern = \"(?<=4fold_)\\\\w+(?=\\\\.thetas)\"))\n",
    "    df <- suppressMessages(read_delim(path, delim = '\\t')) %>%\n",
    "        mutate(habitat = habitat)\n",
    "    return(df)\n",
    "}\n",
    "\n",
    "# Load in thetas for all habitats and merge into single dataframe\n",
    "pi_byHab <-  purrr::map_dfr(snakemake@input[[\"pi_byHab\"]], load_pi)\n",
    "head(pi_byHab)"
   ]
  },
  {
   "cell_type": "code",
   "execution_count": null,
   "metadata": {},
   "outputs": [],
   "source": [
    "pi_byHab_sum <- pi_byHab %>% \n",
    "    group_by(habitat) %>% \n",
    "    summarize(tp_scaled = sum(tP) / sum(nSites),\n",
    "              td_scaled = mean(Tajima)) \n",
    "pi_byHab_sum\n",
    " \n",
    "write_delim(pi_byHab_sum, snakemake@output[[\"pi_byHab_df\"]], delim = \"\\t\")"
   ]
  },
  {
   "cell_type": "markdown",
   "metadata": {},
   "source": [
    "#### Fst"
   ]
  },
  {
   "cell_type": "code",
   "execution_count": null,
   "metadata": {},
   "outputs": [],
   "source": [
    "# Function to load Fst for habitat comparisons\n",
    "load_fst_byHab <- function(path){\n",
    "    hab_comb <- as.character(str_extract(basename(path), pattern = \"(?<=4fold_)\\\\w+(?=\\\\_readable)\"))\n",
    "    colnames <- c('chrom', 'pos', 'num', 'denom')\n",
    "    df <- suppressMessages(read_delim(path, delim = '\\t', col_names = colnames)) %>%\n",
    "        # Cap numerators at 0 if negative \n",
    "        # https://github.com/ANGSD/angsd/issues/309\n",
    "        # Does not affect overall pattern\n",
    "        mutate(num = ifelse(num < 0, 0, num)) %>%         \n",
    "        # Estimate weighted Fst as ratio of averages\n",
    "        # https://github.com/ANGSD/angsd/issues/61\n",
    "        summarise(num_sum = sum(num),\n",
    "                  denom_sum = sum(denom),\n",
    "                  fst = num_sum / denom_sum,\n",
    "                  nSites = n()) %>% \n",
    "        mutate(hab_comb = hab_comb)\n",
    "    return(df)\n",
    "}\n",
    "fst_byHab <- purrr::map_dfr(snakemake@input[[\"fst_byHab\"]], load_fst_byHab)"
   ]
  },
  {
   "cell_type": "code",
   "execution_count": null,
   "metadata": {},
   "outputs": [],
   "source": [
    "fst_byHab"
   ]
  },
  {
   "cell_type": "code",
   "execution_count": null,
   "metadata": {},
   "outputs": [],
   "source": [
    "write_delim(fst_byHab, snakemake@output[[\"fst_byHab_df\"]], delim = \"\\t\")"
   ]
  },
  {
   "cell_type": "markdown",
   "metadata": {},
   "source": [
    "### By Population\n",
    "\n",
    "#### Fst"
   ]
  },
  {
   "cell_type": "code",
   "execution_count": null,
   "metadata": {},
   "outputs": [],
   "source": [
    "load_fst_byPop <- function(path){\n",
    "    pop_comb <- as.character(str_extract(basename(path), pattern = \"^\\\\w+(?=\\\\_4fold)\"))\n",
    "    pop1 <- str_split(pop_comb, pattern = \"_\", simplify = TRUE)[1]\n",
    "    pop2 <- str_split(pop_comb, pattern = \"_\", simplify = TRUE)[2]\n",
    "    colnames <- c('chrom', 'pos', 'num', 'denom')\n",
    "    df <- suppressMessages(read_delim(path, delim = '\\t', col_names = colnames)) %>%\n",
    "        mutate(num = ifelse(num < 0, 0, num)) %>%         \n",
    "        summarise(num_sum = sum(num),\n",
    "                  denom_sum = sum(denom),\n",
    "                  fst = num_sum / denom_sum,\n",
    "                  nSites = n()) %>% \n",
    "        mutate(pop1 = pop1, pop2 = pop2)\n",
    "    return(df)\n",
    "}\n",
    "\n",
    "fst_byPop <- purrr::map_dfr(snakemake@input[[\"fst_byPop\"]], load_fst_byPop)"
   ]
  },
  {
   "cell_type": "code",
   "execution_count": null,
   "metadata": {},
   "outputs": [],
   "source": [
    "head(fst_byPop)"
   ]
  },
  {
   "cell_type": "code",
   "execution_count": null,
   "metadata": {},
   "outputs": [],
   "source": [
    "fill_symmetric_comparisons <- function(df) {\n",
    "  # Create reversed version of all comparisons\n",
    "  reversed_df <- df %>%\n",
    "    select(pop1 = pop2, pop2 = pop1, fst)\n",
    "  \n",
    "  # Combine original and reversed dataframes\n",
    "  complete_df <- bind_rows(df, reversed_df) %>%\n",
    "    # Remove any duplicates that might exist\n",
    "    distinct()\n",
    "  \n",
    "  return(complete_df)\n",
    "}\n",
    "\n",
    "fst_byPop_sym <- fill_symmetric_comparisons(fst_byPop)"
   ]
  },
  {
   "cell_type": "code",
   "execution_count": null,
   "metadata": {},
   "outputs": [],
   "source": [
    "matrix_data <- pivot_wider(fst_byPop_sym, \n",
    "                           names_from = pop2,\n",
    "                           values_from = fst,\n",
    "                           id_cols = pop1) %>% \n",
    "    column_to_rownames(\"pop1\") %>% \n",
    "    as.matrix()\n",
    "\n",
    "order <- c(\"37\", \"40\", \"41\", \"42\", \"43\", \"116\", \"23\", \"54\", \"97\", \"7\", \"83\")\n",
    "\n",
    "matrix_data <- matrix_data[order, order]\n",
    "\n",
    "pops <- populations %>% filter(Population %in% rownames(matrix_data))\n",
    "rows <- pops %>% arrange(match(Population, rev(order))) %>% \n",
    "    column_to_rownames(\"Population\") %>% \n",
    "    dplyr::select(Transect, Habitat)\n",
    "cols <- pops %>% arrange(match(Population, order)) %>% \n",
    "    column_to_rownames(\"Population\") %>% \n",
    "    dplyr::select(Transect, Habitat)\n",
    "    \n",
    "hab_col <- c(\"#007243\", \"#914205\", \"#003876\")\n",
    "names(hab_col) <- c(\"Rural\",\"Suburban\",\"Urban\")\n",
    "tran_col <- c(\"#bfbfbf\", \"#808080\", \"#000000\")\n",
    "names(tran_col) <- c(\"East\",\"North\",\"West\")\n",
    "\n",
    "col <- list(Transect=tran_col, Habitat=hab_col)\n",
    "text_rows <- rownames(matrix_data)\n",
    "\n",
    "\n",
    "ggheatmap_theme <- function (ggheatmap, plotlist, theme){\n",
    "     if (max(plotlist) > length(ggheatmap[[1]])) {\n",
    "        message(\"The plotlist should be included in 1 ~\", length(ggheatmap[[1]]))\n",
    "    }else {\n",
    "        for (i in 1:length(plotlist)) {\n",
    "            num <- plotlist[i]\n",
    "            ggheatmap[[num]] <- ggheatmap[[num]] +\n",
    "            theme[[i]] #### which was defined as ggheatmap[[1]][[num]] <- ggheatmap[[1]][[num]] + theme[[i]] in the package.\n",
    "        }\n",
    "    }\n",
    "    return(ggheatmap)\n",
    "}\n",
    "\n",
    "fst_heatmap <- ggheatmap(matrix_data, scale = \"none\",\n",
    "          color=colorRampPalette(c( \"#ff4a0dff\",\"#b20000ff\",\"#83080aff\"))(100),\n",
    "          text_show_rows = text_rows,\n",
    "          legendName=\"Fst\",\n",
    "          annotation_rows = rows,\n",
    "          annotation_cols = cols,\n",
    "          annotation_color = col,\n",
    "          levels_rows = rev(order),\n",
    "          levels_cols = order,\n",
    "          border = \"black\") %>% \n",
    "    ggheatmap_theme(1:5,\n",
    "                  theme =list(\n",
    "                    theme(axis.text = element_text(size = 16)),\n",
    "                    theme(axis.text = element_text(size = 14)),\n",
    "                    theme(axis.text = element_text(size = 14)),\n",
    "                    theme(axis.text = element_text(size = 14)),\n",
    "                    theme(axis.text = element_text(size = 14))\n",
    "                  ))\n",
    "fst_heatmap\n",
    "ggsave(filename = snakemake@output[[\"fst_byPop\"]], plot = fst_heatmap, device = 'pdf', \n",
    "       width = 8, height = 8, units = 'in', dpi = 600)"
   ]
  },
  {
   "cell_type": "markdown",
   "metadata": {},
   "source": [
    "#### Isolation by Distance"
   ]
  },
  {
   "cell_type": "code",
   "execution_count": null,
   "metadata": {},
   "outputs": [],
   "source": [
    "pop_coords <- pops %>% \n",
    "     dplyr::select(Population, latitude, longitude) %>% \n",
    "     mutate(Population = as.character(Population))\n",
    "\n",
    "pop1_coords <- fst_byPop %>% \n",
    "    dplyr::select(pop1) %>% \n",
    "    rename(\"Population\" = \"pop1\") %>% \n",
    "    left_join(pop_coords, by = \"Population\") %>% \n",
    "    rename(\"pop1_lat\" = \"latitude\", \"pop1_long\" = \"longitude\") %>% \n",
    "    dplyr::select(pop1_lat, pop1_long)\n",
    "\n",
    "pop2_coords <- fst_byPop %>% \n",
    "    dplyr::select(pop2) %>% \n",
    "    rename(\"Population\" = \"pop2\") %>% \n",
    "    left_join(pop_coords, by = \"Population\") %>% \n",
    "    rename(\"pop2_lat\" = \"latitude\", \"pop2_long\" = \"longitude\") %>% \n",
    "    dplyr::select(pop2_lat, pop2_long)\n",
    "\n",
    "\n",
    "# Convert degrees to radians\n",
    "deg2rad <- function(deg) return(deg*pi/180)\n",
    "\n",
    "# Calculates the geodesic distance between two points specified by radian latitude/longitude using the\n",
    "# Haversine formula (hf)\n",
    "haversine <- function(long1, lat1, long2, lat2) {\n",
    "\n",
    "  # Ensure Lats and Longs are in radians\n",
    "  long1 <- deg2rad(long1)\n",
    "  lat1 <- deg2rad(lat1)\n",
    "  long2 <- deg2rad(long2)\n",
    "  lat2 <- deg2rad(lat2)\n",
    "\n",
    "  # Calculate geodesic distance based on havesine formala\n",
    "  R <- 6371 # Earth mean radius [km]\n",
    "  delta.long <- (long2 - long1)\n",
    "  delta.lat <- (lat2 - lat1)\n",
    "  a <- sin(delta.lat/2)^2 + cos(lat1) * cos(lat2) * sin(delta.long/2)^2\n",
    "  c <- 2 * atan2(sqrt(a), sqrt(1 - a))\n",
    "  d = R * c\n",
    "  return(d) # Distance in km\n",
    "}\n",
    "\n",
    "fst_byPop <- fst_byPop %>% \n",
    "    bind_cols(., pop1_coords, pop2_coords) %>% \n",
    "    mutate(pop_dist = haversine(pop1_long, pop1_lat, pop2_long, pop2_lat))"
   ]
  },
  {
   "cell_type": "code",
   "execution_count": null,
   "metadata": {},
   "outputs": [],
   "source": [
    "ibd_plot <- fst_byPop %>% \n",
    "    ggplot(aes(x = pop_dist, y = fst)) +\n",
    "        geom_point(size = 3) +\n",
    "        geom_smooth(method = \"lm\", color = \"black\") +\n",
    "        xlab(\"Pariwise geographic distance (Km)\") +\n",
    "        ylab(\"Pairwise Fst\") +\n",
    "        coord_cartesian(ylim = c(0.02, 0.047)) +\n",
    "        scale_y_continuous(breaks=seq(0.02, 0.045, 0.005)) +\n",
    "        theme_classic() +\n",
    "        transp_theme +\n",
    "        theme(axis.text = element_text(size = 18),\n",
    "              axis.title = element_text(size = 20))\n",
    "\n",
    "ggsave(filename = snakemake@output[[\"ibd_plot\"]], plot = ibd_plot, device = 'pdf', \n",
    "       width = 8, height = 8, units = 'in', dpi = 600)"
   ]
  },
  {
   "cell_type": "code",
   "execution_count": null,
   "metadata": {},
   "outputs": [],
   "source": [
    "summary(lm(fst ~ pop_dist, data = fst_byPop))"
   ]
  },
  {
   "cell_type": "code",
   "execution_count": null,
   "metadata": {},
   "outputs": [],
   "source": []
  }
 ],
 "metadata": {
  "kernelspec": {
   "display_name": "R",
   "language": "R",
   "name": "ir"
  },
  "language_info": {
   "codemirror_mode": "r",
   "file_extension": ".r",
   "mimetype": "text/x-r-source",
   "name": "R",
   "pygments_lexer": "r",
   "version": "4.1.3"
  }
 },
 "nbformat": 4,
 "nbformat_minor": 4
}
