{
 "cells": [
  {
   "cell_type": "code",
   "execution_count": null,
   "id": "026959a2",
   "metadata": {},
   "outputs": [],
   "source": [
    "library(tidyverse)\n",
    "library(bedtoolsr)"
   ]
  },
  {
   "cell_type": "code",
   "execution_count": null,
   "id": "9249f716-1ae4-4150-aba3-f0920215db93",
   "metadata": {},
   "outputs": [],
   "source": [
    "remap_chr_names <- function(df){\n",
    "    df_out <- df %>% \n",
    "    mutate(Chr = case_when(Chr == 'Chr01_Occ' ~ 1,\n",
    "           Chr == 'Chr01_Pall' ~ 2,\n",
    "           Chr == 'Chr02_Occ' ~ 3,\n",
    "           Chr == 'Chr02_Pall' ~ 4,\n",
    "           Chr == 'Chr03_Occ' ~ 5,\n",
    "           Chr == 'Chr03_Pall' ~ 6,\n",
    "           Chr == 'Chr04_Occ' ~ 7,\n",
    "           Chr == 'Chr04_Pall' ~ 8,\n",
    "           Chr == 'Chr05_Occ' ~ 9,\n",
    "           Chr == 'Chr05_Pall' ~ 10,\n",
    "           Chr == 'Chr06_Occ' ~ 11,\n",
    "           Chr == 'Chr06_Pall' ~ 12,\n",
    "           Chr == 'Chr07_Occ' ~ 13,\n",
    "           Chr == 'Chr07_Pall' ~ 14,\n",
    "           Chr == 'Chr08_Occ' ~ 15,\n",
    "           Chr == 'Chr08_Pall' ~ 16))\n",
    "    return(df_out)\n",
    "}"
   ]
  },
  {
   "cell_type": "code",
   "execution_count": null,
   "id": "28aad1f7-29c4-4c06-8fb6-f2971efff492",
   "metadata": {},
   "outputs": [],
   "source": [
    "# ggplot theme with transparent backgrounds\n",
    "transp_theme <- theme(panel.background = element_rect(fill = \"transparent\", colour = NA_character_), \n",
    "                      panel.grid.major = element_blank(),\n",
    "                      panel.grid.minor = element_blank(),\n",
    "                      plot.background = element_rect(fill = \"transparent\", colour = NA_character_),\n",
    "                      legend.background = element_rect(fill = \"transparent\"),\n",
    "                      legend.box.background = element_rect(fill = \"transparent\"),\n",
    "                      legend.key = element_rect(fill = \"transparent\"))"
   ]
  },
  {
   "cell_type": "code",
   "execution_count": null,
   "id": "8489eb7d-e2b1-4dbb-b2f4-1d2615126ac9",
   "metadata": {},
   "outputs": [],
   "source": [
    "mapq <- read_delim(snakemake@input[[\"mapq\"]], delim=\"\\t\", col_names = c(\"Chr\", \"start\", \"end\", \"mapq\")) %>% \n",
    "    remap_chr_names() %>% \n",
    "    mutate(winCenter = start + ((end - start) / 2)) %>% \n",
    "    mutate(mapq = as.numeric(ifelse(mapq == \".\", NA, mapq))) %>% \n",
    "    filter(!is.na(Chr))"
   ]
  },
  {
   "cell_type": "code",
   "execution_count": null,
   "id": "1ed17d8e-bdb6-4887-bfff-a11e6345a326",
   "metadata": {},
   "outputs": [],
   "source": [
    "nrow(mapq)"
   ]
  },
  {
   "cell_type": "code",
   "execution_count": null,
   "id": "d2ca6ce1-70d5-4225-bc2a-7f2a95b8b4c2",
   "metadata": {},
   "outputs": [],
   "source": [
    "options(repr.plot.width = 20, repr.plot.height = 6)\n",
    "data_cum <- mapq %>% \n",
    "    group_by(Chr) %>% \n",
    "    summarise(max_winCenter = max(winCenter)) %>% \n",
    "    mutate(winCenter_add = lag(cumsum(max_winCenter), default = 0)) %>% \n",
    "    dplyr::select(Chr, winCenter_add)\n",
    "\n",
    "mapq_mod <- mapq %>%\n",
    "    inner_join(data_cum, by = \"Chr\") %>% \n",
    "    mutate(winCenter_cum = winCenter + winCenter_add) \n",
    "\n",
    "axis_set <- mapq_mod %>% \n",
    "  group_by(Chr) %>% \n",
    "  summarize(center = mean(winCenter_cum))\n",
    "\n",
    "mapq_mod <- mapq_mod %>%\n",
    "        mutate(chrom_cat = case_when(Chr == 1 ~ 'One',\n",
    "                                     Chr == 2 ~ 'Two',\n",
    "                                     Chr == 3 ~ 'One',\n",
    "                                     Chr == 4 ~ 'Two',\n",
    "                                     Chr == 5 ~ 'One',\n",
    "                                     Chr == 6 ~ 'Two',\n",
    "                                     Chr == 7 ~ 'One',\n",
    "                                     Chr == 8 ~ 'Two',\n",
    "                                     Chr == 9 ~ 'One',\n",
    "                                     Chr == 10 ~ 'Two',\n",
    "                                     Chr == 11 ~ 'One',\n",
    "                                     Chr == 12 ~ 'Two',\n",
    "                                     Chr == 13 ~ 'One',\n",
    "                                     Chr == 14 ~ 'Two',\n",
    "                                     Chr == 15 ~ 'One',\n",
    "                                     Chr == 16 ~ 'Two')) %>% \n",
    "    sample_frac(0.1)"
   ]
  },
  {
   "cell_type": "code",
   "execution_count": null,
   "id": "c56d8dc1-88ac-47ac-b635-1f0a9eb23042",
   "metadata": {},
   "outputs": [],
   "source": [
    "mapq_manhat <- mapq_mod %>% \n",
    "    ggplot(., aes(x = winCenter_cum, y = mapq)) +\n",
    "        geom_point(data = mapq_mod, shape = 21, alpha = 0.5, size = 0.25, \n",
    "                   aes(fill = chrom_cat, color = chrom_cat)) +\n",
    "        geom_smooth(aes(group = Chr), method = \"loess\", color = \"red\", span = 0.1) +\n",
    "        scale_x_continuous(label = axis_set$Chr, breaks = axis_set$center) +\n",
    "        scale_y_continuous(expand = c(0,0), breaks = seq(0, 60, 10)) +\n",
    "        coord_cartesian(ylim = c(0, 60)) +\n",
    "        scale_fill_manual(values = c(\"black\", \"grey40\")) + \n",
    "        scale_color_manual(values = c(\"black\", \"grey40\")) + \n",
    "        ylab(\"Phred-scaled MapQ\") + xlab('Chromosomes') +\n",
    "        theme_classic() +\n",
    "        theme(\n",
    "            legend.position = \"none\",\n",
    "            panel.border = element_blank(),\n",
    "            panel.grid.major.x = element_blank(),\n",
    "            panel.grid.minor.x = element_blank(),\n",
    "            axis.text = element_text(size=16),\n",
    "            axis.title = element_text(size=20)) +\n",
    "        transp_theme\n",
    "\n",
    "mapq_manhat\n",
    "ggsave(filename = snakemake@output[[\"mapq_manhat\"]], plot = mapq_manhat, \n",
    "       height = 6, width = 20, device = \"pdf\", dpi = 600, units = \"in\")"
   ]
  },
  {
   "cell_type": "code",
   "execution_count": null,
   "id": "502ff85b-61b0-4571-b742-f0dd2fb5a3ef",
   "metadata": {},
   "outputs": [],
   "source": [
    "# Load GFF\n",
    "gff <- ape::read.gff(snakemake@input[['gff']], GFF3 = TRUE) %>% \n",
    "    dplyr::select(seqid, start, end, everything())\n",
    "\n",
    "# Get gene names dataframe\n",
    "genes <- gff %>% \n",
    "    filter(type == 'gene') %>% \n",
    "    mutate(gene = str_extract(attributes, pattern = '(?<=gene=)\\\\w+(?=;)'),\n",
    "           gene_id = str_extract(attributes, pattern = '(?<=ID\\\\=)ACLI19_g\\\\d+(?=;)')) %>% \n",
    "    dplyr::select(seqid, start, end, gene_id, gene) %>% \n",
    "    rename('Chr' = 'seqid') %>% \n",
    "    remap_chr_names()"
   ]
  },
  {
   "cell_type": "code",
   "execution_count": null,
   "id": "3ffdbff8-5024-43bd-8109-5f0a7eddd172",
   "metadata": {},
   "outputs": [],
   "source": [
    "gene_mapq <- bt.intersect(genes, mapq, wa = T, wb = T) %>% \n",
    "    dplyr::select(V1, V2, V3, V4, V9)\n",
    "names(gene_mapq) <- c(\"Chr\", \"start\", \"end\", \"gene_id\", \"mapq\")"
   ]
  },
  {
   "cell_type": "code",
   "execution_count": null,
   "id": "86de8285-ad8c-46e9-bb58-006e3949a485",
   "metadata": {},
   "outputs": [],
   "source": [
    "mean_gene_mapq <- gene_mapq %>% \n",
    "    group_by(Chr, start, end, gene_id) %>% \n",
    "    summarise(mean_mapq = mean(mapq)) %>% \n",
    "    mutate(sg = ifelse(Chr %in% c(1,3,5,7,9,11,13,15), \"Occ\", \"Pall\"))"
   ]
  },
  {
   "cell_type": "code",
   "execution_count": null,
   "id": "fe73b31b-12bc-4142-9834-65561b969d55",
   "metadata": {},
   "outputs": [],
   "source": [
    "gene_mapq_hist <- ggplot(mean_gene_mapq, aes(x = mean_mapq, color = sg, fill = sg)) +\n",
    "    # geom_bar(position = \"dodge\") +\n",
    "    geom_histogram(binwidth = 2, position = position_dodge()) + \n",
    "    ylab(\"Number of genes\") + xlab(\"Mean phred-scaled MapQ\") +\n",
    "    scale_fill_manual(values = c(\"#2a9d8f\", \"#f4a261\")) +\n",
    "    scale_color_manual(values = c(\"#2a9d8f\", \"#f4a261\")) +\n",
    "    # scale_x_binned(breaks = seq(0, 60, by = 2)) +\n",
    "    scale_x_continuous(breaks = seq(0, 60, 10)) +\n",
    "    geom_vline(xintercept = 30, color = \"black\", linetype = \"dashed\") +\n",
    "    theme_classic() +\n",
    "    theme(axis.text = element_text(size = 15),\n",
    "          axis.title = element_text(size = 17),\n",
    "          legend.text = element_text(size = 13),\n",
    "          legend.title = element_text(size = 15)) +\n",
    "    transp_theme\n",
    "gene_mapq_hist\n",
    "\n",
    "ggsave(filename = snakemake@output[[\"gene_mapq_hist\"]], plot = gene_mapq_hist, \n",
    "       height = 6, width = 20, device = \"pdf\", dpi = 600, units = \"in\")"
   ]
  },
  {
   "cell_type": "code",
   "execution_count": null,
   "id": "5b717cda-9354-43d6-b592-f5fb34f0a2f4",
   "metadata": {},
   "outputs": [],
   "source": []
  }
 ],
 "metadata": {
  "kernelspec": {
   "display_name": "R",
   "language": "R",
   "name": "ir"
  },
  "language_info": {
   "codemirror_mode": "r",
   "file_extension": ".r",
   "mimetype": "text/x-r-source",
   "name": "R",
   "pygments_lexer": "r",
   "version": "4.1.3"
  }
 },
 "nbformat": 4,
 "nbformat_minor": 5
}
