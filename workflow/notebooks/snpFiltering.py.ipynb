{
 "cells": [
  {
   "cell_type": "markdown",
   "metadata": {},
   "source": [
    "# SNP filtering\n",
    "\n",
    "I have finished calling variants genome-wide for all 120 samples using `freebayes` <br>\n",
    "\n",
    "I split the variant VCF into INDELs, SNPs, MNPs, invariant, and other using `bcftools` <br>\n",
    "I'll only look at SNPs in this notebooks since that's what we're interested in. <br>\n",
    "\n",
    "I have converted the SNP vcf to a Zarr database using `vcf_to_zarr` from `scikit-allel` <br>\n",
    "This is what I'll load and work with in this notebook"
   ]
  },
  {
   "cell_type": "markdown",
   "metadata": {},
   "source": [
    "## Setup"
   ]
  },
  {
   "cell_type": "markdown",
   "metadata": {},
   "source": [
    "### Import packages"
   ]
  },
  {
   "cell_type": "code",
   "execution_count": 1,
   "metadata": {},
   "outputs": [],
   "source": [
    "import allel\n",
    "import zarr\n",
    "\n",
    "import pandas as pd\n",
    "import matplotlib.pyplot as plt\n",
    "import matplotlib.patches as patches\n",
    "import seaborn as sns\n",
    "import numpy as np"
   ]
  },
  {
   "cell_type": "markdown",
   "metadata": {},
   "source": [
    "### Import SNP Zarr database\n",
    "\n",
    "Example Zarr database structure for chromosome 1 with 9,081,218 sites. Zarr databases are nested, and contain the following subdirectories:\n",
    "\n",
    " - `calldata`: Genotype annotations (i.e., FORMAT field in VCF)\n",
    " - `samples`: Sample IDs\n",
    " - `variants`: Site-specific annotations (e.g., INFO field in VCF)\n",
    " \n",
    "Data are stored as `numpy` arrays for easy slicing, indexing, plotting, etc."
   ]
  },
  {
   "cell_type": "markdown",
   "metadata": {},
   "source": [
    "### Import chromosomes as list\n",
    "\n",
    "`chrom_file` is a text file with the white clover chromosome names, listed one per line\n",
    "\n",
    "This file can be created by (for example) running the following command on a sample VCF (with at least one site on each chromosome) <br>\n",
    "\n",
    "`zgrep -v '^#' sample.vcf.gz | cut -f 1 | uniq > organism.chromosomes`\n",
    "\n",
    "**Note:** In white clover, chromosomes ending in odd numbers originate from _Trifolium occidentale_ whereas chromosomes ending with even numbers originate from _Trifolium pallescens_"
   ]
  },
  {
   "cell_type": "markdown",
   "metadata": {},
   "source": [
    "### Import SNPs and Invariant sites\n",
    "\n",
    "**Note: Only looking at chromosome 1**"
   ]
  },
  {
   "cell_type": "code",
   "execution_count": 2,
   "metadata": {},
   "outputs": [],
   "source": [
    "snp_zarr_path = '../../results/variants/zarr_db/CM019101.1/CM019101.1_allSamples_snps_sorted.zarr/'\n",
    "snp_callset = zarr.open_group(snp_zarr_path, mode='r')\n",
    "invar_zarr_path = '../../results/variants/zarr_db/CM019101.1/CM019101.1_allSamples_invariant_sorted.zarr/'\n",
    "invar_callset = zarr.open_group(invar_zarr_path, mode='r')"
   ]
  },
  {
   "cell_type": "markdown",
   "metadata": {},
   "source": [
    "## Functions"
   ]
  },
  {
   "cell_type": "code",
   "execution_count": 3,
   "metadata": {},
   "outputs": [],
   "source": [
    "def extract_zarr_annotation(subdir, annot, zarr_db = snp_callset):\n",
    "    \"\"\"Extract site and genotype annotations from Zarr database by chromosome\n",
    "    \n",
    "    Args:\n",
    "        chrom (str): Chromosome name as string\n",
    "        subdir (str): Subdirectory for annotation. 'variants' for site-specific annotations\n",
    "            (e.g., INFO field) or 'calldata' for genotype annotations (i.e., FORMAT field)\n",
    "        annot (str): Annotation to extract (e.g., 'QUAL', 'ALT', 'DP')\n",
    "        zarr_db (:obj: `zarr.hierarchy.Group`): Zarr database produced using `vcf_to_zarr`\n",
    "            from `scikit-allel`\n",
    "        \n",
    "    Returns:\n",
    "        zarr_array (:obj:`zarr.core.Array`): VCF annotation extracted as `numpy`\n",
    "            array.\n",
    "    \"\"\"\n",
    "    \n",
    "    if subdir == 'samples':\n",
    "        zarr_array = zarr_db['{0}'.format(subdir)]\n",
    "    else:\n",
    "        zarr_array = zarr_db['{0}/{1}'.format(subdir, annot)]\n",
    "    \n",
    "    return zarr_array\n",
    "\n",
    "\n",
    "def subset_array(array, indices):\n",
    "    \"\"\"Little helper function to subset sites or samples by array of indices\n",
    "    \n",
    "    Args:\n",
    "        array (:obj:`numpy.ndarray`): Array to be subset\n",
    "        indices (:obj:`numpy.ndarray` of :obj:`int`): Array of integers representing\n",
    "            the indices of variants passing QUAL filter.\n",
    "    \n",
    "    Returns:\n",
    "        array_out (:obj:`numpy.ndarray`): Numpy array subsetting at indices\n",
    "    \"\"\"\n",
    "    \n",
    "    array_out = np.take(array, indices, axis=0)\n",
    "\n",
    "    \n",
    "    return array_out\n",
    "    \n",
    "    \n",
    "def filter_qual(zarr_qual_array, qual_thresh):\n",
    "    \"\"\"Find indices of variants passing QUAL filter\n",
    "    \n",
    "    Args:\n",
    "        zarr_qual_array (:obj:`zarr.core.Array`): Zarr array with variant QUAL annotations\n",
    "        qual_thresh (int): Threshold for QUAL. Variants greater that `qual_thresh` will be kept.\n",
    "        \n",
    "    Returns:\n",
    "        indices_to_keep (:obj:`numpy.ndarray` of :obj:`int`): Array of integers representing\n",
    "            the indices of variants passing QUAL filter.\n",
    "    \"\"\"    \n",
    "    qual_array = zarr_qual_array[:]  # Extract QUAL values as numpy array\n",
    "\n",
    "    total_sites = len(qual_array)  # Total number of variants\n",
    "    indices_to_keep = np.where(qual_array >= qual_thresh)[0]\n",
    "    \n",
    "    sites_passingQUAL = len(indices_to_keep)  # Number of sites passing QUAL filter\n",
    "    \n",
    "    prop_passingQUAL = round((sites_passingQUAL / total_sites) * 100, 2)\n",
    "    print(\"{0}% ({1}) of sites have quality scores greater or equal to {2}\".format(prop_passingQUAL, sites_passingQUAL, qual_thresh))\n",
    "    \n",
    "    return indices_to_keep\n",
    "\n",
    "\n",
    "def lowDP_GTrecode(zarr_dp_array, zarr_gt_array, minDP = 3, subset = None):\n",
    "    \"\"\"Recode genotypes with Depth < minDP as missing\n",
    "    \n",
    "    Args:\n",
    "        zarr_dp_array (:obj:`zarr.core.Array`): Zarr array with variant FORMAT/DP annotations\n",
    "        zarr_gt_array (:obj:`zarr.core.Array`): Zarr array with variant FORMAT/GT annotations\n",
    "        minDP (int): Minimum depth threshold. Genotypes less than `minDP` will be recoded as missing\n",
    "        subset (:obj:`numpy.ndarray` of :obj:`int`): Numpy array of indices for subsetting.\n",
    "        \n",
    "    Returns:\n",
    "        GT_array_rep (:obj:`numpy.ndarray` of :obj:`list` of :obj:`int`): Numpy array with one list per \n",
    "            site and sample representing the two diploid alleles. Alleles can be 0 (REF), 1 (ALT), or -1 (Missing)\n",
    "    \"\"\" \n",
    "    \n",
    "    GT_vals_rep = []\n",
    "    DP_array = zarr_dp_array[:]  # Extract all DP values as numpy array\n",
    "    GT_array = zarr_gt_array[:]  # Extract all GT values as numpy array\n",
    "    \n",
    "    if subset is not None:\n",
    "        DP_array = subset_array(DP_array, indices = subset)\n",
    "        GT_array = subset_array(GT_array, indices = subset)\n",
    "\n",
    "    GT_array_rep = GT_array  # Duplicate genotype array\n",
    "    GT_array_rep[DP_array < minDP] = [-1, -1]  # Where DP < `minDP`, recode genotype as missing (i.e., [-1, -1])\n",
    "    \n",
    "    return GT_array_rep\n",
    "\n",
    "\n",
    "def prop_missing_sites(gt_array):\n",
    "    \"\"\"Return proportion of sites with missing genotype calls\n",
    "    \n",
    "    Args:\n",
    "        gt_array (:obj:`numpy.ndarray` of :obj:`list` of :obj:`int`): Numpy array with one list per \n",
    "            site and sample representing the two diploid alleles. Alleles can be 0 (REF), 1 (ALT), or -1 (Missing)\n",
    "            \n",
    "    Returns:\n",
    "        prop_miss_array (:obj:`numpy.ndarray` of :obj:`float`): Numpy array with proportion of sites\n",
    "            with missing genotype calls per sample. \n",
    "    \"\"\"\n",
    "    \n",
    "    GT_array = allel.GenotypeArray(gt_array)\n",
    "    num_sites = GT_array.n_variants\n",
    "    num_samples = GT_array.n_samples\n",
    "\n",
    "    prop_miss_array = GT_array.is_missing().sum(axis = 0) / num_sites\n",
    "    \n",
    "    return prop_miss_array\n",
    "\n",
    "\n",
    "def filter_missGT(gt_array, missing_gt_prop = 0.2):\n",
    "    \"\"\"Find indices of variants passing missing genotype filter\n",
    "    \n",
    "    Args:\n",
    "        gt_array (:obj:`numpy.ndarray` of :obj:`list` of :obj:`int`): Numpy array with one list per \n",
    "            site and sample representing the two diploid alleles. Alleles can be 0 (REF), 1 (ALT), or -1 (Missing)\n",
    "        missing_gt_prop (int): Threshold for missing genotypes. Variants with fewer than this proportion of\n",
    "            missing genotype calls will be kept. \n",
    "        \n",
    "    Returns:\n",
    "        indices_to_keep (:obj:`numpy.ndarray` of :obj:`int`): Array of integers representing\n",
    "            the indices of variants passing missing GT filter.\n",
    "    \"\"\"   \n",
    "    total_sites = len(gt_array)  # Total number of variants\n",
    "    \n",
    "    gtArray = allel.GenotypeArray(gt_array)\n",
    "    num_samples = gtArray.n_samples\n",
    "    \n",
    "    missing_gt_boolArray = gtArray.is_missing()\n",
    "    prop_missing_gt = missing_gt_boolArray.sum(axis = 1) / num_samples\n",
    "    \n",
    "    missGT_indicesToKeep = np.where(prop_missing_gt <= missing_gt_prop)[0]\n",
    "\n",
    "    sites_passingGT = len(missGT_indicesToKeep)\n",
    "\n",
    "    prop_passingGT = round((sites_passingGT / total_sites) * 100, 2)\n",
    "    prop_toKeep = 1 - missing_gt_prop\n",
    "    num_sample_threshold_toKeep = round(num_samples * prop_toKeep)\n",
    "    print(\"{0}% ({1}) of sites have at least {2}% ({3}) of samples with genotype calls\".format(prop_passingGT, sites_passingGT, prop_toKeep * 100, num_sample_threshold_toKeep))\n",
    "    \n",
    "    return missGT_indicesToKeep, prop_missing_gt\n",
    "\n",
    "def plot_windowed_variant_density(pos, window_size, title=None):\n",
    "    # http://alimanfoo.github.io/2016/06/10/scikit-allel-tour.html\n",
    "    # setup windows \n",
    "    bins = np.arange(0, pos.max(), window_size)\n",
    "    \n",
    "    # use window midpoints as x coordinate\n",
    "    x = (bins[1:] + bins[:-1])/2\n",
    "    \n",
    "    # compute variant density in each window\n",
    "    h, _ = np.histogram(pos, bins=bins)\n",
    "    y = h / window_size\n",
    "    \n",
    "    # plot\n",
    "    fig, ax = plt.subplots(figsize=(12, 3))\n",
    "    sns.despine(ax=ax, offset=10)\n",
    "    ax.plot(x, y)\n",
    "    ax.set_xlabel('Chromosome position (bp)')\n",
    "    ax.set_ylabel('Variant density (bp$^{-1}$)')\n",
    "    if title:\n",
    "        ax.set_title(title)"
   ]
  },
  {
   "cell_type": "markdown",
   "metadata": {},
   "source": [
    "## Filtering \n",
    "\n",
    "For filtering, I will loosly follow the suggestions made in [this tutorial](http://www.ddocent.com/filtering/) by\n",
    "Jon Puritz, with some modifications. <br>\n",
    "These suggested filtering criteria are similiar to those used\n",
    "by [Julia Kreiner](https://github.com/jkreinz/Amaranthus-population-genomics/blob/master/snp_calling_filtering/filtering_vcfs.sh) in her recent paper.\n",
    "\n",
    "For computational efficiency, I'm only filtering chromosome 1"
   ]
  },
  {
   "cell_type": "markdown",
   "metadata": {},
   "source": [
    "### Order-dependent filtering\n",
    "\n",
    "Criteria 2, 3, and 4 below are order-dependent. Following filtering by criteria 1 to 4 below, we should <br>\n",
    "end up with a set of sites that have a high probability of being polymorphic (criteria 1: QUAL) and have <br>\n",
    "have a high proportion of samples with genotype calls (criteria 4) sequenced to reasonable depth for a joint caller <br>\n",
    "(criteria 2).\n",
    "\n",
    "We'll also only keep individuals that sequenced well (i.e., have little missing data: criteria 3). \n",
    "\n",
    "#### Criteria 1: QUAL\n",
    "\n",
    "The `QUAL` field is the phred-scaled probability that the site is polymorphic. <br>\n",
    "\n",
    "`QUAL` of 30 represents a 99.9% change the site is variant.  <br>\n",
    "\n",
    "_Filter: QUAL > 30_"
   ]
  },
  {
   "cell_type": "code",
   "execution_count": 4,
   "metadata": {},
   "outputs": [],
   "source": [
    "# Get QUAL scores for all sites across all chromosomes\n",
    "# Chromososmes stored as separate arrays\n",
    "qual_vals = extract_zarr_annotation(subdir = 'variants', annot = 'QUAL')"
   ]
  },
  {
   "cell_type": "code",
   "execution_count": 5,
   "metadata": {},
   "outputs": [
    {
     "name": "stdout",
     "output_type": "stream",
     "text": [
      "45.31% (4163393) of sites have quality scores greater or equal to 30\n"
     ]
    },
    {
     "data": {
      "text/plain": [
       "array([      5,      15,      17, ..., 9188445, 9188447, 9188448])"
      ]
     },
     "execution_count": 5,
     "metadata": {},
     "output_type": "execute_result"
    }
   ],
   "source": [
    "# Find indices of variants passing QUAL filter\n",
    "qual_indicesToKeep = filter_qual(zarr_qual_array = qual_vals, qual_thresh = 30)\n",
    "qual_indicesToKeep"
   ]
  },
  {
   "cell_type": "markdown",
   "metadata": {},
   "source": [
    "#### Criteria 2: Depth per sample\n",
    "\n",
    "Re-code sample genotpye calls where DP < `minDP` as missing. <br>\n",
    "\n",
    "For our purpose, we want high quality genotype calls and sites with little missing data, <br>\n",
    "so it's useful to treat samples with low depth at a site as having missing genotype calls. <br>\n",
    "\n",
    "We'll also eventually filter on missing genotypes directly. <br>\n",
    "\n",
    "Arrays can be indexed as `array[sites, samples]`"
   ]
  },
  {
   "cell_type": "code",
   "execution_count": 6,
   "metadata": {},
   "outputs": [],
   "source": [
    "DP_vals = extract_zarr_annotation(subdir = 'calldata', annot = 'DP')\n",
    "GT_vals = extract_zarr_annotation(subdir = 'calldata', annot = 'GT')"
   ]
  },
  {
   "cell_type": "code",
   "execution_count": 7,
   "metadata": {},
   "outputs": [],
   "source": [
    "# Get genotype array with GTs with DP < minDP recoded as missing\n",
    "GT_array_rep = lowDP_GTrecode(zarr_dp_array = DP_vals, zarr_gt_array = GT_vals, minDP = 3, subset = qual_indicesToKeep)"
   ]
  },
  {
   "cell_type": "code",
   "execution_count": 8,
   "metadata": {},
   "outputs": [
    {
     "data": {
      "text/plain": [
       "array([[4, 1, 8, 3],\n",
       "       [4, 2, 8, 3],\n",
       "       [1, 2, 7, 3],\n",
       "       [1, 2, 7, 3]], dtype=int16)"
      ]
     },
     "execution_count": 8,
     "metadata": {},
     "output_type": "execute_result"
    }
   ],
   "source": [
    "subset_array(DP_vals[:], qual_indicesToKeep)[3000006:3000010, 0:4]"
   ]
  },
  {
   "cell_type": "code",
   "execution_count": 9,
   "metadata": {},
   "outputs": [
    {
     "data": {
      "text/html": [
       "<div class=\"allel allel-DisplayAs2D\"><span>&lt;GenotypeArray shape=(4, 4, 2) dtype=int8&gt;</span><table><thead><tr><th></th><th style=\"text-align: center\">0</th><th style=\"text-align: center\">1</th><th style=\"text-align: center\">2</th><th style=\"text-align: center\">3</th></tr></thead><tbody><tr><th style=\"text-align: center; background-color: white; border-right: 1px solid black; \">0</th><td style=\"text-align: center\">1/1</td><td style=\"text-align: center\">0/0</td><td style=\"text-align: center\">1/1</td><td style=\"text-align: center\">1/1</td></tr><tr><th style=\"text-align: center; background-color: white; border-right: 1px solid black; \">1</th><td style=\"text-align: center\">1/1</td><td style=\"text-align: center\">1/1</td><td style=\"text-align: center\">1/1</td><td style=\"text-align: center\">0/1</td></tr><tr><th style=\"text-align: center; background-color: white; border-right: 1px solid black; \">2</th><td style=\"text-align: center\">1/1</td><td style=\"text-align: center\">1/1</td><td style=\"text-align: center\">1/1</td><td style=\"text-align: center\">0/1</td></tr><tr><th style=\"text-align: center; background-color: white; border-right: 1px solid black; \">3</th><td style=\"text-align: center\">0/0</td><td style=\"text-align: center\">0/0</td><td style=\"text-align: center\">0/0</td><td style=\"text-align: center\">0/0</td></tr></tbody></table></div>"
      ],
      "text/plain": [
       "<GenotypeArray shape=(4, 4, 2) dtype=int8>\n",
       "1/1 0/0 1/1 1/1\n",
       "1/1 1/1 1/1 0/1\n",
       "1/1 1/1 1/1 0/1\n",
       "0/0 0/0 0/0 0/0"
      ]
     },
     "execution_count": 9,
     "metadata": {},
     "output_type": "execute_result"
    }
   ],
   "source": [
    "allel.GenotypeArray(subset_array(GT_vals[:], qual_indicesToKeep)[3000006:3000010, 0:4])"
   ]
  },
  {
   "cell_type": "code",
   "execution_count": 10,
   "metadata": {},
   "outputs": [
    {
     "data": {
      "text/html": [
       "<div class=\"allel allel-DisplayAs2D\"><span>&lt;GenotypeArray shape=(4, 4, 2) dtype=int8&gt;</span><table><thead><tr><th></th><th style=\"text-align: center\">0</th><th style=\"text-align: center\">1</th><th style=\"text-align: center\">2</th><th style=\"text-align: center\">3</th></tr></thead><tbody><tr><th style=\"text-align: center; background-color: white; border-right: 1px solid black; \">0</th><td style=\"text-align: center\">1/1</td><td style=\"text-align: center\">./.</td><td style=\"text-align: center\">1/1</td><td style=\"text-align: center\">1/1</td></tr><tr><th style=\"text-align: center; background-color: white; border-right: 1px solid black; \">1</th><td style=\"text-align: center\">1/1</td><td style=\"text-align: center\">./.</td><td style=\"text-align: center\">1/1</td><td style=\"text-align: center\">0/1</td></tr><tr><th style=\"text-align: center; background-color: white; border-right: 1px solid black; \">2</th><td style=\"text-align: center\">./.</td><td style=\"text-align: center\">./.</td><td style=\"text-align: center\">1/1</td><td style=\"text-align: center\">0/1</td></tr><tr><th style=\"text-align: center; background-color: white; border-right: 1px solid black; \">3</th><td style=\"text-align: center\">./.</td><td style=\"text-align: center\">./.</td><td style=\"text-align: center\">0/0</td><td style=\"text-align: center\">0/0</td></tr></tbody></table></div>"
      ],
      "text/plain": [
       "<GenotypeArray shape=(4, 4, 2) dtype=int8>\n",
       "1/1 ./. 1/1 1/1\n",
       "1/1 ./. 1/1 0/1\n",
       "./. ./. 1/1 0/1\n",
       "./. ./. 0/0 0/0"
      ]
     },
     "execution_count": 10,
     "metadata": {},
     "output_type": "execute_result"
    }
   ],
   "source": [
    "# Notice Genotypes above with DP < 3 are now coded as missing (./.)\n",
    "allel.GenotypeArray(GT_array_rep[3000006:3000010, 0:4])"
   ]
  },
  {
   "cell_type": "markdown",
   "metadata": {},
   "source": [
    "#### Criteria 3: Missing sites by individual\n",
    "\n",
    "Estimate the proportion of sites with missing data for each sample <br>\n",
    "\n",
    "Remove individuals with high proportion of missing data (i.e. those that didn't sequence well) <br>\n",
    "The threshold for removal should be based on an empirical distribution of the proportion of missing sites. \n",
    "\n",
    "_Filter: Prop missing sites < 50%_"
   ]
  },
  {
   "cell_type": "markdown",
   "metadata": {},
   "source": [
    "**Plot proportion of missing data by per sample**"
   ]
  },
  {
   "cell_type": "code",
   "execution_count": 11,
   "metadata": {},
   "outputs": [
    {
     "data": {
      "text/plain": [
       "array([0.18066635, 0.13994956, 0.20149815, 0.21956587, 0.16991286,\n",
       "       0.15890981, 0.19251413, 0.1566787 , 0.249613  , 0.13584617,\n",
       "       0.16902224, 0.20235443, 0.17587938, 0.18680341, 0.19286625,\n",
       "       0.12938918, 0.17534424, 0.22099715, 0.16737334, 0.48357698,\n",
       "       0.21839663, 0.45173612, 0.17795293, 0.2109049 , 0.17870448,\n",
       "       0.1187798 , 0.25423591, 0.30599754, 0.23203719, 0.21082612,\n",
       "       0.11512797, 0.16447739, 0.21052781, 0.29170607, 0.4589951 ,\n",
       "       0.20887483, 0.33111959, 0.19957352, 0.18547588, 0.160729  ,\n",
       "       0.25734347, 0.16468779, 0.21757639, 0.16886587, 0.24612594,\n",
       "       0.36982168, 0.34363583, 0.1624132 , 0.19862862, 0.15315585,\n",
       "       0.19101079, 0.20151064, 0.26045367, 0.27616129, 0.31438685,\n",
       "       0.30714516, 0.3618234 , 0.19230997, 0.31926604, 0.16962559,\n",
       "       0.30499403, 0.22690459, 0.17897037, 0.14026877, 0.24366352,\n",
       "       0.38783944, 0.23818121, 0.14213431, 0.81714217, 0.81173745,\n",
       "       0.20705924, 0.22788769, 0.60692637, 0.23096282, 0.26232666,\n",
       "       0.21318165, 0.24128685, 0.23444316, 0.40225076, 0.42061127,\n",
       "       0.25865802, 0.15556446, 0.49999339, 0.1568305 , 0.37657627,\n",
       "       0.23067123, 0.2035926 , 0.14063265, 0.82163971, 0.1431873 ,\n",
       "       0.15953791, 0.30077848, 0.22025809, 0.27309505, 0.32729027,\n",
       "       0.20536423, 0.19472411, 0.2148745 , 0.16096463, 0.29708365,\n",
       "       0.65646001, 0.23357968, 0.17054575, 0.16882288, 0.9216221 ,\n",
       "       0.21883377, 0.21969869, 0.18948872, 0.16617552, 0.3021622 ,\n",
       "       0.36262154, 0.21225044, 0.21388925, 0.16095454, 0.21491005,\n",
       "       0.2341667 , 0.15011987, 0.36505586, 0.16815588, 0.82642595])"
      ]
     },
     "execution_count": 11,
     "metadata": {},
     "output_type": "execute_result"
    }
   ],
   "source": [
    "prop_miss_array = prop_missing_sites(gt_array = GT_array_rep)\n",
    "prop_miss_array"
   ]
  },
  {
   "cell_type": "markdown",
   "metadata": {},
   "source": [
    "**Raw data plot**"
   ]
  },
  {
   "cell_type": "code",
   "execution_count": 14,
   "metadata": {},
   "outputs": [
    {
     "data": {
      "image/png": "[encoded data removed]",
      "text/plain": [
       "<Figure size 720x360 with 1 Axes>"
      ]
     },
     "metadata": {
      "needs_background": "light"
     },
     "output_type": "display_data"
    }
   ],
   "source": [
    "fig, ax = plt.subplots(ncols=1, nrows=1, figsize=(10, 5))\n",
    "sns.histplot(prop_miss_array, bins=50, color = \"orange\", ax = ax)\n",
    "ax.set(xlabel='Proportion of sites with missing genotype calls', ylabel='Number of samples')\n",
    "plt.show()"
   ]
  },
  {
   "cell_type": "markdown",
   "metadata": {},
   "source": [
    "**Cumulative density plot**"
   ]
  },
  {
   "cell_type": "code",
   "execution_count": 15,
   "metadata": {},
   "outputs": [
    {
     "data": {
      "image/png": "[encoded data removed]",
      "text/plain": [
       "<Figure size 720x360 with 1 Axes>"
      ]
     },
     "metadata": {
      "needs_background": "light"
     },
     "output_type": "display_data"
    }
   ],
   "source": [
    "fig, ax = plt.subplots(ncols=1, nrows=1, figsize=(10, 5))\n",
    "sns.histplot(prop_miss_array, cumulative=True, stat='density', bins=50, color = \"orange\", ax = ax)\n",
    "ax.set(xlabel='Proportion of sites with missing genotype calls', ylabel='Proportion of samples')\n",
    "plt.show()"
   ]
  },
  {
   "cell_type": "code",
   "execution_count": 16,
   "metadata": {},
   "outputs": [
    {
     "name": "stdout",
     "output_type": "stream",
     "text": [
      "If we set the missing site threshold to 0.5, we will toss 7 samples\n"
     ]
    }
   ],
   "source": [
    "prop_thresh = 0.5\n",
    "bad_sample_array = (prop_miss_array > prop_thresh)\n",
    "num_samples_above_thresh = bad_sample_array.sum()\n",
    "print(\"If we set the missing site threshold to {0}, we will toss {1} samples\".format(prop_thresh, num_samples_above_thresh))"
   ]
  },
  {
   "cell_type": "markdown",
   "metadata": {},
   "source": [
    "**Identify samples that didn't sequence well**"
   ]
  },
  {
   "cell_type": "code",
   "execution_count": 17,
   "metadata": {},
   "outputs": [],
   "source": [
    "sample_array = extract_zarr_annotation(subdir = 'samples', annot = None)"
   ]
  },
  {
   "cell_type": "code",
   "execution_count": 18,
   "metadata": {},
   "outputs": [
    {
     "data": {
      "text/plain": [
       "array(['$s_97_4', '$s_23_17', '$s_80_18', '$s_7_14', '$s_37_12',\n",
       "       '$s_23_12', '$s_54_9'], dtype=object)"
      ]
     },
     "execution_count": 18,
     "metadata": {},
     "output_type": "execute_result"
    }
   ],
   "source": [
    "sample_array[:][bad_sample_array]"
   ]
  },
  {
   "cell_type": "code",
   "execution_count": 19,
   "metadata": {},
   "outputs": [],
   "source": [
    "# Remove those samples from Genotype Array\n",
    "good_sample_array = np.invert(bad_sample_array)\n",
    "gt_array_goodSamples = GT_array_rep[:,good_sample_array]"
   ]
  },
  {
   "cell_type": "markdown",
   "metadata": {},
   "source": [
    "### Order-independent filtering\n",
    "\n",
    "The remaining criteria are order-independent; they filter on site-level annotations and filter on things like <br>\n",
    "allele balance, strand-bias\n",
    "\n",
    "**Generate variant table with annotations of interest**"
   ]
  },
  {
   "cell_type": "code",
   "execution_count": 21,
   "metadata": {},
   "outputs": [
    {
     "data": {
      "text/plain": [
       "(9188461,)"
      ]
     },
     "execution_count": 21,
     "metadata": {},
     "output_type": "execute_result"
    }
   ],
   "source": [
    "# Get array of SNP positions alongs chromosome 1\n",
    "pos_vals = extract_zarr_annotation(subdir = 'variants', annot = 'POS')\n",
    "pos_vals[:].shape"
   ]
  },
  {
   "cell_type": "code",
   "execution_count": 22,
   "metadata": {},
   "outputs": [
    {
     "data": {
      "text/plain": [
       "(4163393,)"
      ]
     },
     "execution_count": 22,
     "metadata": {},
     "output_type": "execute_result"
    }
   ],
   "source": [
    "# Keep only positions that passed QUAL filter\n",
    "positions_passQUAL = np.take(pos_vals[:], qual_indicesToKeep, axis = 0)\n",
    "positions_passQUAL.shape"
   ]
  },
  {
   "cell_type": "code",
   "execution_count": 23,
   "metadata": {},
   "outputs": [
    {
     "data": {
      "text/html": [
       "<div class=\"allel allel-DisplayAs1D\"><span>&lt;SortedIndex shape=(4163393,) dtype=int32&gt;</span><table><thead><tr><th style=\"text-align: center\">0</th><th style=\"text-align: center\">1</th><th style=\"text-align: center\">2</th><th style=\"text-align: center\">3</th><th style=\"text-align: center\">4</th><th style=\"text-align: center\">...</th><th style=\"text-align: center\">4163388</th><th style=\"text-align: center\">4163389</th><th style=\"text-align: center\">4163390</th><th style=\"text-align: center\">4163391</th><th style=\"text-align: center\">4163392</th></tr></thead><tbody><tr><td style=\"text-align: center\">2118</td><td style=\"text-align: center\">5343</td><td style=\"text-align: center\">5498</td><td style=\"text-align: center\">7744</td><td style=\"text-align: center\">7952</td><td style=\"text-align: center\">...</td><td style=\"text-align: center\">95901844</td><td style=\"text-align: center\">95901867</td><td style=\"text-align: center\">95901878</td><td style=\"text-align: center\">95901892</td><td style=\"text-align: center\">95901903</td></tr></tbody></table></div>"
      ],
      "text/plain": [
       "<SortedIndex shape=(4163393,) dtype=int32>\n",
       "[2118, 5343, 5498, 7744, 7952, ..., 95901844, 95901867, 95901878, 95901892, 95901903]"
      ]
     },
     "execution_count": 23,
     "metadata": {},
     "output_type": "execute_result"
    }
   ],
   "source": [
    "# Created sorted indext for later subsetting of Variant table\n",
    "positions_index = allel.SortedIndex(positions_passQUAL)\n",
    "positions_index"
   ]
  },
  {
   "cell_type": "code",
   "execution_count": 25,
   "metadata": {},
   "outputs": [],
   "source": [
    "# Chunked table of all variants\n",
    "variants = allel.VariantChunkedTable(snp_callset['variants'], \n",
    "                                     names=['POS', 'REF', 'ALT', 'QUAL', 'DP', 'AB', 'SAF', 'SAR', 'SRF', 'SRR', 'MQM', 'MQMR', 'PAIRED', 'PAIREDR'],\n",
    "                                     index='POS')"
   ]
  },
  {
   "cell_type": "code",
   "execution_count": 26,
   "metadata": {},
   "outputs": [],
   "source": [
    "# Variants passing QUAL and missing genotype filters (i.e., criteria 1 to 4 above)\n",
    "variants_preFiltered = variants[:][np.isin(variants['POS'], positions_index)]"
   ]
  },
  {
   "cell_type": "markdown",
   "metadata": {},
   "source": [
    "#### Criteria 4: Allele balance\n",
    "\n",
    "Allele balance measures the ratio of reads showing the reference allele to all reads. We don't <br>\n",
    "want sites where there is a skew in the number of reads supporting the REF or the ALT allele\n",
    "\n",
    "_Filter: AB > 0.25 & AB < 0.75 | AB < 0.01_"
   ]
  },
  {
   "cell_type": "markdown",
   "metadata": {},
   "source": [
    "**Raw data plot**"
   ]
  },
  {
   "cell_type": "code",
   "execution_count": 27,
   "metadata": {},
   "outputs": [
    {
     "data": {
      "image/png": "[encoded data removed]",
      "text/plain": [
       "<Figure size 720x360 with 1 Axes>"
      ]
     },
     "metadata": {
      "needs_background": "light"
     },
     "output_type": "display_data"
    }
   ],
   "source": [
    "fig, ax = plt.subplots(ncols=1, nrows=1, figsize=(10, 5))\n",
    "sns.histplot(variants_preFiltered['AB'], bins = 50, color = \"orange\", axes = ax)\n",
    "ax.set(xlabel='Allele balance', ylabel='Site count')\n",
    "plt.show()"
   ]
  },
  {
   "cell_type": "markdown",
   "metadata": {},
   "source": [
    "**Cumulative density plot**"
   ]
  },
  {
   "cell_type": "code",
   "execution_count": 28,
   "metadata": {},
   "outputs": [
    {
     "data": {
      "image/png": "[encoded data removed]",
      "text/plain": [
       "<Figure size 720x360 with 1 Axes>"
      ]
     },
     "metadata": {
      "needs_background": "light"
     },
     "output_type": "display_data"
    }
   ],
   "source": [
    "fig, ax = plt.subplots(ncols=1, nrows=1, figsize=(10, 5))\n",
    "sns.histplot(variants_preFiltered['AB'], cumulative=True, stat='density', bins = 50, color = \"orange\", axes = ax)\n",
    "ax.set(xlabel='Allele balance', ylabel='Proportion of sites')\n",
    "plt.show()"
   ]
  },
  {
   "cell_type": "code",
   "execution_count": 29,
   "metadata": {},
   "outputs": [],
   "source": [
    "AB_expr = '((AB > 0.25) & (AB < 0.75)) | (AB < 0.01)'\n",
    "AB_filt = variants_preFiltered.eval(AB_expr)\n",
    "AB_pass = variants_preFiltered.compress(AB_filt)"
   ]
  },
  {
   "cell_type": "code",
   "execution_count": 30,
   "metadata": {},
   "outputs": [
    {
     "name": "stdout",
     "output_type": "stream",
     "text": [
      "Removed a total of 711098 sites failing AB filter. 3452295 sites remaining\n"
     ]
    }
   ],
   "source": [
    "num_sites_keptAB = np.count_nonzero(AB_filt)\n",
    "num_sites_filteredAB = np.count_nonzero(~AB_filt)\n",
    "print(\"Removed a total of {0} sites failing AB filter. {1} sites remaining\".format(num_sites_filteredAB, num_sites_keptAB))"
   ]
  },
  {
   "cell_type": "markdown",
   "metadata": {},
   "source": [
    "#### Criteria 5: Strand bias\n",
    "\n",
    "We want to avoid sites where alleles are only seen on one strand. <br>\n",
    "\n",
    "Jon Puritz suggests the following filter:\n",
    "\n",
    "Keep sites that have over 100 times more forward alternate reads than reverse alternate reads and 100 <br>\n",
    "times more forward reference reads than reverse reference reads along with the reciprocal\n",
    "\n",
    "_Filter: SAF / SAR > 100 & SRF / SRR > 100 | SAR / SAF > 100 & SRR / SRF > 100_\n",
    "\n",
    "However, this filter results in the loss of the vast majority of sites (only 737 remain post-filter). <br>\n",
    "Julia Kreiner saw the same thing in her data. An alternative approach is to keep sites where both the <br>\n",
    "forward and reverse strand show the ALT allele, as suggested by [Erik Garrison](https://wiki.uiowa.edu/download/attachments/145192256/erik%20garrison%20-%20iowa%20talk%202.pdf?api=v2), the author of `freebayes`. \n",
    "\n",
    "_Suggested filter: SAF > 0 & SAR > 0_\n",
    "\n",
    "**SAF:** Number of reads with ALT allele of forward strand <br>\n",
    "**SAR:** Number of reads with ALT allele of reverse strand"
   ]
  },
  {
   "cell_type": "code",
   "execution_count": 31,
   "metadata": {},
   "outputs": [],
   "source": [
    "SB_expr = '(SAF > 0) & (SAR > 0)'\n",
    "SB_filt = AB_pass.eval(SB_expr)\n",
    "SB_pass = AB_pass.compress(SB_filt)"
   ]
  },
  {
   "cell_type": "code",
   "execution_count": 32,
   "metadata": {},
   "outputs": [
    {
     "name": "stdout",
     "output_type": "stream",
     "text": [
      "Removed a total of 39074 sites failing Strand Bias filter. 3413221 sites remaining\n"
     ]
    }
   ],
   "source": [
    "num_sites_keptSB = np.count_nonzero(SB_filt)\n",
    "num_sites_filteredSB = np.count_nonzero(~SB_filt)\n",
    "print(\"Removed a total of {0} sites failing Strand Bias filter. {1} sites remaining\".format(num_sites_filteredSB, num_sites_keptSB))"
   ]
  },
  {
   "cell_type": "markdown",
   "metadata": {},
   "source": [
    "**Raw data plot**"
   ]
  },
  {
   "cell_type": "code",
   "execution_count": 33,
   "metadata": {},
   "outputs": [
    {
     "data": {
      "image/png": "[encoded data removed]",
      "text/plain": [
       "<Figure size 1440x360 with 2 Axes>"
      ]
     },
     "metadata": {
      "needs_background": "light"
     },
     "output_type": "display_data"
    }
   ],
   "source": [
    "fig, ax = plt.subplots(ncols=2, nrows=1, figsize=(20, 5))\n",
    "\n",
    "sns.histplot(AB_pass['SAF'][AB_pass['SAF'] < 100], bins = 100, color = \"orange\", ax = ax[0])\n",
    "ax[0].set(xlabel='SAF (Number of reads with ALT allele of FORWARD strand)', ylabel='Site count')\n",
    "# plt.show()\n",
    "\n",
    "sns.histplot(AB_pass['SAR'][AB_pass['SAR'] < 100], bins = 100, color = \"orange\", ax = ax[1])\n",
    "ax[1].set(xlabel='SAR (Number of reads with ALT allele of REVERSE strand)', ylabel='')\n",
    "\n",
    "plt.show()"
   ]
  },
  {
   "cell_type": "markdown",
   "metadata": {},
   "source": [
    "**Cumulative density plot**"
   ]
  },
  {
   "cell_type": "code",
   "execution_count": 34,
   "metadata": {},
   "outputs": [
    {
     "data": {
      "image/png": "[encoded data removed]",
      "text/plain": [
       "<Figure size 1440x360 with 2 Axes>"
      ]
     },
     "metadata": {
      "needs_background": "light"
     },
     "output_type": "display_data"
    }
   ],
   "source": [
    "fig, ax = plt.subplots(ncols=2, nrows=1, figsize=(20, 5))\n",
    "\n",
    "sns.histplot(AB_pass['SAF'][AB_pass['SAF'] < 100], cumulative=True, stat='density', bins = 100, color = \"orange\", ax = ax[0])\n",
    "ax[0].set(xlabel='SAF (Number of reads with ALT allele of FORWARD strand)', ylabel='Proportion of sites')\n",
    "# plt.show()\n",
    "\n",
    "sns.histplot(AB_pass['SAR'][AB_pass['SAR'] < 100], cumulative=True, stat='density', bins = 100, color = \"orange\", ax = ax[1])\n",
    "ax[1].set(xlabel='SAR (Number of reads with ALT allele of REVERSE strand)', ylabel='')\n",
    "\n",
    "plt.show()"
   ]
  },
  {
   "cell_type": "markdown",
   "metadata": {},
   "source": [
    "#### Criteria 6: Mapping quality\n",
    "\n",
    "We don't want sites where the mapping quality of reads supporting the ALT and REF allele <br>\n",
    "are very different.\n",
    "\n",
    "_Original filter: MQM / MQMR > 0.9 & MQM / MQMR < 1.05_\n",
    "\n",
    "The filter above is the one suggested by Jon Puritz. However, it's not clear to me <br>\n",
    "why the mapping quality ratios are asymmetrical.\n",
    "\n",
    "_Suggested filter: MQM / MQMR > 0.9 & MQM / MQMR < 1.10_\n",
    "\n",
    "_Updated filter:_ MQM >= 30 & MQMR >= 30  (Updated following meeting with Marc and Rob)\n",
    "\n",
    "**MQM:** Mean Mapping Quality of reads supporting the ALT allele <br>\n",
    "**MQMR:** Mean Mapping Quality of reads supporting the REF allele"
   ]
  },
  {
   "cell_type": "code",
   "execution_count": 35,
   "metadata": {},
   "outputs": [],
   "source": [
    "MQ_expr = '(MQM >= 30) & (MQMR >= 30)'\n",
    "MQ_filt = SB_pass.eval(MQ_expr)\n",
    "MQ_pass = SB_pass.compress(MQ_filt)"
   ]
  },
  {
   "cell_type": "code",
   "execution_count": 36,
   "metadata": {},
   "outputs": [
    {
     "name": "stdout",
     "output_type": "stream",
     "text": [
      "Removed a total of 480019 sites failing Mapping Quality filter. 2933202 sites remaining\n"
     ]
    }
   ],
   "source": [
    "num_sites_keptMQ = np.count_nonzero(MQ_filt)\n",
    "num_sites_filteredMQ = np.count_nonzero(~MQ_filt)\n",
    "print(\"Removed a total of {0} sites failing Mapping Quality filter. {1} sites remaining\".format(num_sites_filteredMQ, num_sites_keptMQ))"
   ]
  },
  {
   "cell_type": "markdown",
   "metadata": {},
   "source": [
    "**Raw data plot**"
   ]
  },
  {
   "cell_type": "code",
   "execution_count": 37,
   "metadata": {},
   "outputs": [
    {
     "data": {
      "image/png": "[encoded data removed]",
      "text/plain": [
       "<Figure size 1440x360 with 2 Axes>"
      ]
     },
     "metadata": {
      "needs_background": "light"
     },
     "output_type": "display_data"
    }
   ],
   "source": [
    "fig, ax = plt.subplots(ncols=2, nrows=1, figsize=(20, 5))\n",
    "\n",
    "sns.histplot(AB_pass['MQM'], bins = 100, color = \"orange\", ax = ax[0])\n",
    "ax[0].set(xlabel='MQM (Mean Mapping Quality of reads supporting ALT)', ylabel='Site count')\n",
    "# plt.show()\n",
    "\n",
    "sns.histplot(AB_pass['MQMR'], bins = 100, color = \"orange\", ax = ax[1])\n",
    "ax[1].set(xlabel='MQMR (Mean Mapping Quality of reads supporting REF)', ylabel='')\n",
    "\n",
    "plt.show()"
   ]
  },
  {
   "cell_type": "markdown",
   "metadata": {},
   "source": [
    "**Cumulative density plots**"
   ]
  },
  {
   "cell_type": "code",
   "execution_count": 38,
   "metadata": {},
   "outputs": [
    {
     "data": {
      "image/png": "[encoded data removed]",
      "text/plain": [
       "<Figure size 1440x360 with 2 Axes>"
      ]
     },
     "metadata": {
      "needs_background": "light"
     },
     "output_type": "display_data"
    }
   ],
   "source": [
    "fig, ax = plt.subplots(ncols=2, nrows=1, figsize=(20, 5))\n",
    "\n",
    "sns.histplot(AB_pass['MQM'], bins = 100, cumulative=True, stat='density', color = \"orange\", ax = ax[0])\n",
    "ax[0].set(xlabel='MQM (Mean Mapping Quality of reads supporting ALT)', ylabel='Proportion of sites')\n",
    "# plt.show()\n",
    "\n",
    "sns.histplot(AB_pass['MQMR'], bins = 100, cumulative=True, stat='density', color = \"orange\", ax = ax[1])\n",
    "ax[1].set(xlabel='MQMR (Mean Mapping Quality of reads supporting REF)', ylabel='')\n",
    "\n",
    "plt.show()"
   ]
  },
  {
   "cell_type": "markdown",
   "metadata": {},
   "source": [
    "#### Criteria 7: Paired vs unpaired\n",
    "\n",
    "Don't want sites where there is a bias in the paired status of reads supporting the ALT <br>\n",
    "and REF alleles.\n",
    "\n",
    "_Filter: PAIRED > 0.05 & PAIREDR > 0.05 & PAIREDR / PAIRED < 1.75 & PAIREDR / PAIRED > 0.25 | PAIRED < 0.05 & PAIREDR < 0.05_\n",
    "\n",
    "**PAIRED:** Proportion of ALT alleles supported by paired reads <br>\n",
    "**PAIREDR:** Proportion of REF alleles supported by paired reads"
   ]
  },
  {
   "cell_type": "markdown",
   "metadata": {},
   "source": [
    "**Raw data plot**"
   ]
  },
  {
   "cell_type": "code",
   "execution_count": 39,
   "metadata": {},
   "outputs": [
    {
     "data": {
      "image/png": "[encoded data removed]",
      "text/plain": [
       "<Figure size 1440x360 with 2 Axes>"
      ]
     },
     "metadata": {
      "needs_background": "light"
     },
     "output_type": "display_data"
    }
   ],
   "source": [
    "fig, ax = plt.subplots(ncols=2, nrows=1, figsize=(20, 5))\n",
    "\n",
    "sns.histplot(AB_pass['PAIRED'], bins = 50, color = \"orange\", ax = ax[0])\n",
    "ax[0].set(xlabel='PAIRED', ylabel='Site count')\n",
    "# plt.show()\n",
    "\n",
    "sns.histplot(AB_pass['PAIREDR'], bins = 50, color = \"orange\", ax = ax[1])\n",
    "ax[1].set(xlabel='PAIREDR', ylabel='')\n",
    "\n",
    "plt.show()"
   ]
  },
  {
   "cell_type": "markdown",
   "metadata": {},
   "source": [
    "**Cumulative density plots**"
   ]
  },
  {
   "cell_type": "code",
   "execution_count": 40,
   "metadata": {},
   "outputs": [
    {
     "data": {
      "image/png": "[encoded data removed]",
      "text/plain": [
       "<Figure size 1440x360 with 2 Axes>"
      ]
     },
     "metadata": {
      "needs_background": "light"
     },
     "output_type": "display_data"
    }
   ],
   "source": [
    "fig, ax = plt.subplots(ncols=2, nrows=1, figsize=(20, 5))\n",
    "\n",
    "sns.histplot(AB_pass['PAIRED'], cumulative=True, stat='density', bins = 50, color = \"orange\", ax = ax[0])\n",
    "ax[0].set(xlabel='PAIRED', ylabel='Proportion of sites')\n",
    "# plt.show()\n",
    "\n",
    "sns.histplot(AB_pass['PAIREDR'], cumulative=True, stat='density', bins = 50, color = \"orange\", ax = ax[1])\n",
    "ax[1].set(xlabel='PAIREDR', ylabel='')\n",
    "\n",
    "plt.show()"
   ]
  },
  {
   "cell_type": "code",
   "execution_count": 41,
   "metadata": {},
   "outputs": [
    {
     "name": "stderr",
     "output_type": "stream",
     "text": [
      "<string>:1: RuntimeWarning: divide by zero encountered in true_divide\n"
     ]
    }
   ],
   "source": [
    "PR_expr = '((PAIRED > 0.05) & (PAIREDR > 0.05) & (PAIREDR / PAIRED < 1.75 )& (PAIREDR / PAIRED > 0.25)) | ((PAIRED < 0.05) & (PAIREDR < 0.05))'\n",
    "PR_filt = MQ_pass.eval(PR_expr)\n",
    "PR_pass = MQ_pass.compress(PR_filt)"
   ]
  },
  {
   "cell_type": "code",
   "execution_count": 42,
   "metadata": {},
   "outputs": [
    {
     "name": "stdout",
     "output_type": "stream",
     "text": [
      "Removed a total of 67028 sites failing Pairedness filter. 2866174 sites remaining\n"
     ]
    }
   ],
   "source": [
    "num_sites_keptPR = np.count_nonzero(PR_filt)\n",
    "num_sites_filteredPR = np.count_nonzero(~PR_filt)\n",
    "print(\"Removed a total of {0} sites failing Pairedness filter. {1} sites remaining\".format(num_sites_filteredPR, num_sites_keptPR))"
   ]
  },
  {
   "cell_type": "markdown",
   "metadata": {},
   "source": [
    "#### Criteria 8: Quality score by depth\n",
    "\n",
    "**Note: This filter loses quite a few sites and is likely pretty strict**\n",
    "\n",
    "We want to avoid sites where coverage is high but `QUAL` scores are low, which <br>\n",
    "likely indicates something problematic with the region. \n",
    "\n",
    "[Heng Li](https://arxiv.org/abs/1404.0929) proposed calculating the average depth of called variants and setting a <br>\n",
    "cutoff as the average depth plus a multiplier of 3 or 4 times the square root of average depth.\n",
    "\n",
    "Inspired by this idea and GATK's `QD` (i.e., Quality by Depth) annotation, the folks at <br>\n",
    "[Blue Collar Bioinformatics](http://bcb.io/2014/05/12/wgs-trio-variant-evaluation/) developed the following filter.\n",
    "\n",
    "_Filter: QUAL < (depth-cutoff * 2.0) and DP > depth-cutoff_\n",
    "\n",
    "_Updated filter:_ QUAL / DP > 0.25  (Updated following meeting with Marc and Rob. Filter from [Jon Puritz](http://www.ddocent.com/filtering/))"
   ]
  },
  {
   "cell_type": "markdown",
   "metadata": {},
   "source": [
    "**Raw data plot**"
   ]
  },
  {
   "cell_type": "code",
   "execution_count": 43,
   "metadata": {},
   "outputs": [
    {
     "data": {
      "image/png": "[encoded data removed]",
      "text/plain": [
       "<Figure size 1440x360 with 3 Axes>"
      ]
     },
     "metadata": {
      "needs_background": "light"
     },
     "output_type": "display_data"
    }
   ],
   "source": [
    "fig, ax = plt.subplots(ncols=3, nrows=1, figsize=(20, 5))\n",
    "\n",
    "sns.histplot(AB_pass['QUAL'][AB_pass['QUAL'] < 2000], bins = 50, color = \"orange\", ax = ax[0])\n",
    "ax[0].set(xlabel='QUAL', ylabel='Site count')\n",
    "# plt.show()\n",
    "\n",
    "sns.histplot(AB_pass['DP'][AB_pass['DP'] < 2000], bins = 50, color = \"orange\", ax = ax[1])\n",
    "ax[1].set(xlabel='DP', ylabel='')\n",
    "\n",
    "sns.histplot(AB_pass['QUAL'] / AB_pass['DP'], bins = 50, color = \"orange\", ax = ax[2])\n",
    "ax[2].set(xlabel='QUAL / DP', ylabel='')\n",
    "\n",
    "plt.show()"
   ]
  },
  {
   "cell_type": "markdown",
   "metadata": {},
   "source": [
    "**Cumulative density plots**"
   ]
  },
  {
   "cell_type": "code",
   "execution_count": 44,
   "metadata": {},
   "outputs": [
    {
     "data": {
      "image/png": "[encoded data removed]",
      "text/plain": [
       "<Figure size 1440x360 with 3 Axes>"
      ]
     },
     "metadata": {
      "needs_background": "light"
     },
     "output_type": "display_data"
    }
   ],
   "source": [
    "fig, ax = plt.subplots(ncols=3, nrows=1, figsize=(20, 5))\n",
    "\n",
    "sns.histplot(AB_pass['QUAL'][AB_pass['QUAL'] < 2000], cumulative=True, stat='density', bins = 50, color = \"orange\", ax = ax[0])\n",
    "ax[0].set(xlabel='QUAL', ylabel='Site count')\n",
    "# plt.show()\n",
    "\n",
    "sns.histplot(AB_pass['DP'][AB_pass['DP'] < 2000], cumulative=True, stat='density', bins = 50, color = \"orange\", ax = ax[1])\n",
    "ax[1].set(xlabel='DP', ylabel='')\n",
    "\n",
    "sns.histplot(AB_pass['QUAL'] / AB_pass['DP'], cumulative=True, stat='density', bins = 50, color = \"orange\", ax = ax[2])\n",
    "ax[2].set(xlabel='QUAL / DP', ylabel='')\n",
    "\n",
    "plt.show()"
   ]
  },
  {
   "cell_type": "code",
   "execution_count": 45,
   "metadata": {},
   "outputs": [],
   "source": [
    "QD_expr = '(QUAL / DP > 0.25)'\n",
    "QD_filt = PR_pass.eval(QD_expr)\n",
    "QD_pass = PR_pass.compress(QD_filt)"
   ]
  },
  {
   "cell_type": "code",
   "execution_count": 46,
   "metadata": {},
   "outputs": [
    {
     "name": "stdout",
     "output_type": "stream",
     "text": [
      "Removed a total of 568946 sites failing Quality by Depth filter. 2297228 sites remaining\n"
     ]
    }
   ],
   "source": [
    "num_sites_keptPR = np.count_nonzero(QD_filt)\n",
    "num_sites_filteredPR = np.count_nonzero(~QD_filt)\n",
    "print(\"Removed a total of {0} sites failing Quality by Depth filter. {1} sites remaining\".format(num_sites_filteredPR, num_sites_keptPR))"
   ]
  },
  {
   "cell_type": "markdown",
   "metadata": {},
   "source": [
    "#### Criteria 9: Missing genotype calls\n",
    "\n",
    "Since genotype calls will be used to construct haplotypes for analyses (e.g., tests for positive selection), <br>\n",
    "we want to make sure most samples have genotype calls. We will remove sites where most samples (e.g., >= 20%) are missing genotype calls.\n",
    "\n",
    "**Important note: The manual for `selscan`, a program used for performing LD-based tests of selection <br>\n",
    "based on extended haplotype homozygesity (EHH), specifically states: _Data must be phased and have no missing genotypes_ <br>\n",
    "I haven't looked at missing data requirements of other programs but I imagine they're similar.**\n",
    "\n",
    "Setting the filter below to 0% would result in no missing data. The resulting VCF can be phased with BEAGLE or SHAPEIT.\n",
    "\n",
    "_Filter_: Prop missing genotype calls <= 0% or <= 20%"
   ]
  },
  {
   "cell_type": "code",
   "execution_count": 48,
   "metadata": {},
   "outputs": [],
   "source": [
    "# Get Indices for positions of SNPs passing all above filters\n",
    "QD_pass_positions = QD_pass['POS']  # Positions of SNP passing \n",
    "chrom1_positions = extract_zarr_annotation(subdir = 'variants', annot = 'POS')[:]  # Array with all positions\n",
    "position_toKeep = np.in1d(chrom1_positions, QD_pass_positions)  # Boolean array of Positions that passed above filters"
   ]
  },
  {
   "cell_type": "code",
   "execution_count": 49,
   "metadata": {},
   "outputs": [],
   "source": [
    "# Recode GTs with DP < 3 as missing\n",
    "GT_vals_lowDP_recode = lowDP_GTrecode(zarr_dp_array = DP_vals, zarr_gt_array = GT_vals, minDP = 3, subset = None)"
   ]
  },
  {
   "cell_type": "code",
   "execution_count": 50,
   "metadata": {},
   "outputs": [],
   "source": [
    "# Subset GTs at positions that passed above filters\n",
    "GT_vals_lowDP_recode_filtPass = GT_vals_lowDP_recode[position_toKeep, ]\n",
    "GT_vals_lowDP_recode_filtPass_lowDPindRem = GT_vals_lowDP_recode_filtPass[:,good_sample_array]"
   ]
  },
  {
   "cell_type": "code",
   "execution_count": 51,
   "metadata": {},
   "outputs": [
    {
     "data": {
      "text/plain": [
       "(2297229, 113, 2)"
      ]
     },
     "execution_count": 51,
     "metadata": {},
     "output_type": "execute_result"
    }
   ],
   "source": [
    "GT_vals_lowDP_recode_filtPass_lowDPindRem.shape"
   ]
  },
  {
   "cell_type": "code",
   "execution_count": 52,
   "metadata": {},
   "outputs": [
    {
     "name": "stdout",
     "output_type": "stream",
     "text": [
      "52.25% (1200280) of sites have at least 80.0% (90) of samples with genotype calls\n"
     ]
    }
   ],
   "source": [
    "pos_passingGTmissFilter, prop_GTmiss = filter_missGT(GT_vals_lowDP_recode_filtPass_lowDPindRem, missing_gt_prop = 0.2)"
   ]
  },
  {
   "cell_type": "markdown",
   "metadata": {},
   "source": [
    "**Using our previous cutoff of <= 20% missing genotype data, we retain 1,200,280 SNPs after filtering**"
   ]
  },
  {
   "cell_type": "code",
   "execution_count": 53,
   "metadata": {},
   "outputs": [
    {
     "name": "stdout",
     "output_type": "stream",
     "text": [
      "6.16% (141557) of sites have at least 100% (113) of samples with genotype calls\n"
     ]
    }
   ],
   "source": [
    "pos_passingGTmissFilter, prop_GTmiss = filter_missGT(GT_vals_lowDP_recode_filtPass_lowDPindRem, missing_gt_prop = 0)"
   ]
  },
  {
   "cell_type": "markdown",
   "metadata": {},
   "source": [
    "**Keeping only sites with no missing data, we retain 141,557 SNPs**"
   ]
  },
  {
   "cell_type": "markdown",
   "metadata": {},
   "source": [
    "**RAW data plot**"
   ]
  },
  {
   "cell_type": "code",
   "execution_count": 54,
   "metadata": {},
   "outputs": [
    {
     "data": {
      "image/png": "[encoded data removed]",
      "text/plain": [
       "<Figure size 720x360 with 1 Axes>"
      ]
     },
     "metadata": {
      "needs_background": "light"
     },
     "output_type": "display_data"
    }
   ],
   "source": [
    "fig, ax = plt.subplots(ncols=1, nrows=1, figsize=(10, 5))\n",
    "sns.histplot(prop_GTmiss, color = \"orange\", bins = 50, axes = ax)\n",
    "ax.set(xlabel='Proportion of samples with missing genotype calls', ylabel='Site count')\n",
    "plt.show()"
   ]
  },
  {
   "cell_type": "markdown",
   "metadata": {},
   "source": [
    "**Cumulative density plot**"
   ]
  },
  {
   "cell_type": "code",
   "execution_count": 55,
   "metadata": {},
   "outputs": [
    {
     "data": {
      "image/png": "[encoded data removed]",
      "text/plain": [
       "<Figure size 720x360 with 1 Axes>"
      ]
     },
     "metadata": {
      "needs_background": "light"
     },
     "output_type": "display_data"
    }
   ],
   "source": [
    "fig, ax = plt.subplots(ncols=1, nrows=1, figsize=(10, 5))\n",
    "sns.histplot(prop_GTmiss, color = \"orange\", cumulative=True, stat='density', bins = 50, axes = ax)\n",
    "ax.set(xlabel='Proportion of samples with missing genotype calls', ylabel='Proportion of sites')\n",
    "plt.show()"
   ]
  },
  {
   "cell_type": "markdown",
   "metadata": {},
   "source": [
    "## Invariant sites\n",
    "\n",
    "Will minimally filter the invariant site VCF to estimate denominator in calculating diversity."
   ]
  },
  {
   "cell_type": "code",
   "execution_count": 64,
   "metadata": {},
   "outputs": [],
   "source": [
    "invar_table = allel.VariantChunkedTable(invar_callset['variants'], \n",
    "                                     names=['POS', 'REF', 'ALT', 'QUAL', 'DP', 'MQMR'],\n",
    "                                     index='POS')[:]"
   ]
  },
  {
   "cell_type": "code",
   "execution_count": 65,
   "metadata": {},
   "outputs": [],
   "source": [
    "MQinvar_expr = 'MQMR >= 30'\n",
    "MQinvar_filt = invar_table.eval(MQinvar_expr)\n",
    "MQinvar_pass = invar_table.compress(MQinvar_filt)"
   ]
  },
  {
   "cell_type": "code",
   "execution_count": 66,
   "metadata": {},
   "outputs": [
    {
     "name": "stdout",
     "output_type": "stream",
     "text": [
      "Removed a total of 5914692 invariant sites failing Mapping Quality filter. 49805956 sites remaining\n"
     ]
    }
   ],
   "source": [
    "num_sites_keptMQinvar = np.count_nonzero(MQinvar_filt)\n",
    "num_sites_filteredMQinvar = np.count_nonzero(~MQinvar_filt)\n",
    "print(\"Removed a total of {0} invariant sites failing Mapping Quality filter. {1} sites remaining\".format(num_sites_filteredMQinvar, num_sites_keptMQinvar))"
   ]
  },
  {
   "cell_type": "code",
   "execution_count": 67,
   "metadata": {},
   "outputs": [],
   "source": [
    "MQinvar_pass_positions = MQinvar_pass['POS']\n",
    "chrom1_invar_positions = extract_zarr_annotation(subdir = 'variants', annot = 'POS', zarr_db = invar_callset)\n",
    "position_toKeep = np.in1d(chrom1_invar_positions, MQinvar_pass_positions)  # Boolean array of Positions that passed above filters"
   ]
  },
  {
   "cell_type": "code",
   "execution_count": 68,
   "metadata": {},
   "outputs": [],
   "source": [
    "GT_vals_invar = extract_zarr_annotation(subdir = 'calldata', annot = 'GT', zarr_db = invar_callset)[:]"
   ]
  },
  {
   "cell_type": "code",
   "execution_count": 69,
   "metadata": {},
   "outputs": [],
   "source": [
    "# Subset GTs at positions that passed above filters\n",
    "GT_vals_invar_MQpass = GT_vals_invar[position_toKeep, ]\n",
    "GT_vals_invar_MQpass_lowDPindRem = GT_vals_invar_MQpass[:,good_sample_array]"
   ]
  },
  {
   "cell_type": "code",
   "execution_count": 70,
   "metadata": {},
   "outputs": [
    {
     "name": "stdout",
     "output_type": "stream",
     "text": [
      "68.42% (34078224) of sites have at least 80.0% (90) of samples with genotype calls\n"
     ]
    }
   ],
   "source": [
    "posInvar_passingGTmissFilter, prop_GTmiss_invar = filter_missGT(GT_vals_invar_MQpass_lowDPindRem, missing_gt_prop = 0.2)"
   ]
  },
  {
   "cell_type": "code",
   "execution_count": 71,
   "metadata": {},
   "outputs": [
    {
     "data": {
      "image/png": "[encoded data removed]",
      "text/plain": [
       "<Figure size 720x360 with 1 Axes>"
      ]
     },
     "metadata": {
      "needs_background": "light"
     },
     "output_type": "display_data"
    }
   ],
   "source": [
    "fig, ax = plt.subplots(ncols=1, nrows=1, figsize=(10, 5))\n",
    "sns.histplot(prop_GTmiss_invar, color = \"orange\", cumulative=True, stat='density', bins = 50, axes = ax)\n",
    "ax.set(xlabel='Proportion of samples with missing genotype calls', ylabel='Proportion of sites')\n",
    "plt.show()"
   ]
  },
  {
   "cell_type": "markdown",
   "metadata": {},
   "source": [
    "## Some concluding notes\n",
    "\n",
    "1. Changes to the filtering criteria since our last meeting has increased the number of SNPs retained post-filtering.\n",
    "    - In total, we retain 1,200,280 SNPs if we allow up to 20% missing genotype data, or 141,557 SNPs if we allow no missing genotypes\n",
    "2. By minimally filtering the invariant sites on mapping quality and missing genotype data, we retain 34,078,224 invariant sites\n",
    "    - Together with the SNPs, this results in a mean estimated **SNP density along chromosome 1 of 0.034**, which is in the ballpark\n",
    "    of that reported in the genome paper. \n",
    "    \n",
    "**Recommendations going forward:**\n",
    "\n",
    "1. Haplotype phasing programs and tests of selection based on haplotype homozygosity (e.g., XP-EHH) don't allow missing data.\n",
    "    - We'll have to use the VCF with no missing data, containing 141,557 SNPs; this should be fine for these analyses.\n",
    "    - Some of these tests (e.g., integrated haplotype score, iHs) require knowledge of the ancestral/derived allele state. We could infer this by leveraging the genomes of closely-related clover species (e.g., red clover, subterranean clover) but I'm still thinking about whether it's worth it. It opens up some additional analyses, but isn't essential. \n",
    "2. For other analyses that require a VCF (e.g., demographic modeling), use the VCF that allows for up to 20% missing genotype data. \n",
    "    - For example, we can identify all of the 4-fold degenerate sites in this VCF and use those for demographic modeling. That would be more than enough SNPs. \n",
    "3. All other analyses -- Fst outlier, pairwise population differentiation, pi, Tajima's D, SFS skew (e.g., `SweepFinder2`) -- can be performed using the SFS, which I'll estimate directly from the raw reads using `ANGSD`. "
   ]
  },
  {
   "cell_type": "code",
   "execution_count": null,
   "metadata": {},
   "outputs": [],
   "source": []
  }
 ],
 "metadata": {
  "kernelspec": {
   "display_name": "Python 3",
   "language": "python",
   "name": "python3"
  },
  "language_info": {
   "codemirror_mode": {
    "name": "ipython",
    "version": 3
   },
   "file_extension": ".py",
   "mimetype": "text/x-python",
   "name": "python",
   "nbconvert_exporter": "python",
   "pygments_lexer": "ipython3",
   "version": "3.8.0"
  }
 },
 "nbformat": 4,
 "nbformat_minor": 4
}
