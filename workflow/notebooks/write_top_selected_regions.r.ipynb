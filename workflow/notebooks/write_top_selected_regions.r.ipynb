{
 "cells": [
  {
   "cell_type": "markdown",
   "id": "281fad93-79fb-44a7-832d-ea8510fb68a4",
   "metadata": {},
   "source": [
    "# Setup"
   ]
  },
  {
   "cell_type": "code",
   "execution_count": null,
   "id": "b15c49cf-aab5-4871-88bf-553b9d70d25a",
   "metadata": {},
   "outputs": [],
   "source": [
    "# Load required packages\n",
    "library(tidyverse)\n",
    "library(bedtoolsr)"
   ]
  },
  {
   "cell_type": "code",
   "execution_count": null,
   "id": "09e1e182-c617-464f-b1e1-7c2a3b383ba7",
   "metadata": {},
   "outputs": [],
   "source": [
    "# Load dataframes with windowed sweep statistics\n",
    "win_sfs_df <- read_delim(snakemake@input[['fst']], delim = '\\t')\n",
    "win_xpnsl_df <- read_delim(snakemake@input[['xpnsl']], delim = '\\t')"
   ]
  },
  {
   "cell_type": "code",
   "execution_count": null,
   "id": "2719bcdd-68f3-4c01-87e6-7e1a941ae32a",
   "metadata": {},
   "outputs": [],
   "source": [
    "head(win_sfs_df)"
   ]
  },
  {
   "cell_type": "code",
   "execution_count": null,
   "id": "2ba1baad-61d0-4cb6-bf0b-9db702a61013",
   "metadata": {},
   "outputs": [],
   "source": [
    "head(win_xpnsl_df)"
   ]
  },
  {
   "cell_type": "markdown",
   "id": "27010823-5cea-490b-a4c0-2f960af5975e",
   "metadata": {},
   "source": [
    "# Analysis of selective sweeps \n",
    "\n",
    "## XP-nSL\n",
    "\n",
    "- I'll start by looking at genome-wide XP-xSL values, estimated in 50 kb windows\n",
    "- In each window, I estimated the mean XP-nSL score and the proportion of scores that are either above 2 or less than -2.\n",
    "- Positive outlier windows are those that are in the top 1% of the genome-wide mean XP-nSL distribution AND the top 1% of distribution of scores > 2. There windows represent positive selection in urban habitats\n",
    "- Negative outlier windows are those that are in the bottom 1% of the genome-wide XP-xSL distribution AND the top 1% of distribution of scores < -2. There windows represent positive selection in rural habitats.\n",
    "- I'll look at the top 10 windows under selection for urban and rural habitats separately.\n",
    "- I'll merge consecutive outlier windows into larger outlier regions"
   ]
  },
  {
   "cell_type": "code",
   "execution_count": null,
   "id": "b4a3561c-be86-4cf2-8463-a9d66666029b",
   "metadata": {},
   "outputs": [],
   "source": [
    "# Distribution of the number of sites in a window\n",
    "win_xpnsl_df %>% \n",
    "    ggplot(aes(x = n)) +\n",
    "        geom_histogram(bins = 50, color = 'black', fill = 'white') +\n",
    "        geom_vline(xintercept = 10, color = 'red') +\n",
    "        theme_classic()"
   ]
  },
  {
   "cell_type": "code",
   "execution_count": null,
   "id": "b8352b5d-84b1-49f4-b4fd-3f9e50c85775",
   "metadata": {},
   "outputs": [],
   "source": [
    "nSites_thresh <- 10 # Require at least this many site in a window\n",
    "win_xpnsl_df_filt <- win_xpnsl_df %>%\n",
    "    mutate_at(vars(-(\"Chr\")), as.numeric) %>% \n",
    "    filter(n >= nSites_thresh)\n",
    "\n",
    "# Get critical values for mean XP-nSL score and proportions greater or lesser than 2 and -2, respectively\n",
    "xpnsl_score_quant_filt <- quantile(win_xpnsl_df_filt %>% pull(mean), probs = c(0.01, 0.99))\n",
    "xpnsl_gtprop_quant_filt <- quantile(win_xpnsl_df_filt %>% pull(gt_frac), probs = 0.99)\n",
    "xpnsl_ltprop_quant_filt <- quantile(win_xpnsl_df_filt %>% pull(lt_frac), probs = 0.99)\n",
    "\n",
    "# Identify outliers and add as categorical variable to windows dataframe\n",
    "win_xpnsl_df_filt <- win_xpnsl_df_filt %>%\n",
    "    mutate(xpnsl_score_outlier = ifelse(mean <= xpnsl_score_quant_filt[1] | mean >= xpnsl_score_quant_filt[2], 1, 0),\n",
    "           xpnsl_gtprop_outlier = ifelse(gt_frac >= xpnsl_gtprop_quant_filt, 1, 0),\n",
    "           xpnsl_ltprop_outlier = ifelse(lt_frac >= xpnsl_ltprop_quant_filt, 1, 0),\n",
    "           direction = case_when(xpnsl_score_outlier == 1 & mean > 0 & xpnsl_gtprop_outlier == 1 ~ 'Urban sel',\n",
    "                                 xpnsl_score_outlier == 1 & mean < 0 & xpnsl_ltprop_outlier == 1 ~ 'Rural sel',\n",
    "                                 TRUE ~ 'Not outlier')) %>% \n",
    "    mutate(prop_outlier = case_when(direction == 'Urban sel' ~ gt_frac,\n",
    "                                    direction == 'Rural sel' ~ lt_frac,\n",
    "                                    TRUE ~ NA))"
   ]
  },
  {
   "cell_type": "code",
   "execution_count": null,
   "id": "363150c6-7c09-4b0d-9f90-f5cd1fa9ad2d",
   "metadata": {},
   "outputs": [],
   "source": [
    "# Function to add ranks to XP-nSL windows based on the proportion of outlier scores\n",
    "add_xpnsl_ranks <- function(df){\n",
    "        \n",
    "    df_out <- df %>% \n",
    "        arrange(desc(prop_outlier)) %>% \n",
    "        mutate(xpnsl_rank = 1:n())\n",
    "    return(df_out)\n",
    "}\n",
    "\n",
    "win_xpnsl_df_filt_outliers_with_ranks <- win_xpnsl_df_filt %>% \n",
    "    filter(direction %in% c('Urban sel', 'Rural sel')) %>% \n",
    "    group_split(direction) %>% \n",
    "    purrr::map_dfr(., add_xpnsl_ranks)"
   ]
  },
  {
   "cell_type": "code",
   "execution_count": null,
   "id": "ef5b26ad-1e81-452d-a5cf-d6904b56faff",
   "metadata": {},
   "outputs": [],
   "source": [
    "names(win_xpnsl_df_filt_outliers_with_ranks)"
   ]
  },
  {
   "cell_type": "code",
   "execution_count": null,
   "id": "69c5538d-cb52-4b4c-aa3c-00bdba6ebc5d",
   "metadata": {},
   "outputs": [],
   "source": [
    "# Function to merge consecutive outlier windows\n",
    "merge_xpnsl_windows <- function(df){\n",
    "\n",
    "    dir <- df %>% pull(direction) %>% unique()\n",
    "    df_sorted <- df %>% \n",
    "        dplyr::select(Chr, start, end, everything()) %>% \n",
    "        arrange(Chr, start) %>% \n",
    "        mutate(prop_outlier = round(prop_outlier, 3))\n",
    "\n",
    "    col_names <- c('Chr', 'start', 'end', 'mean_xpnsl', 'min_max', 'direction', 'mean_prop_outlier', 'all_prop_outlier', 'min_xpnsl_rank', 'all_xpnsl_ranks')\n",
    "    if(dir == 'Urban sel'){\n",
    "        cols <- c('6,7,17,18,18,19,19')\n",
    "        operation <- c('mean,max,distinct,mean,collapse,min,collapse')\n",
    "    }else if(dir == 'Rural sel'){\n",
    "        cols <- c('6,8,17,18,18,19,19')\n",
    "        operation <- c('mean,min,distinct,mean,collapse,min,collapse')\n",
    "    }\n",
    "    \n",
    "    df_merged  <- bt.merge(i = df_sorted, c = cols, o = operation)\n",
    "    names(df_merged) <- col_names\n",
    "    df_merged <- df_merged %>% \n",
    "        mutate(win_size = end - start)\n",
    "\n",
    "    print(sprintf('%s: There were %s XP-nSL outlier windows prior to merging. There are %s outlier regions after merging consecutive outlier windows', dir, nrow(df_sorted), nrow(df_merged)))\n",
    "    return(df_merged)\n",
    "}\n",
    "\n",
    "win_xpnsl_df_filt_outliers_with_ranks_merged <- win_xpnsl_df_filt_outliers_with_ranks %>% \n",
    "    group_split(direction) %>% \n",
    "    purrr::map_dfr(., merge_xpnsl_windows)"
   ]
  },
  {
   "cell_type": "code",
   "execution_count": null,
   "id": "d5719b2f-2199-481e-a91e-bc9ed71fc900",
   "metadata": {},
   "outputs": [],
   "source": [
    "xpnsl_top10_urban_rural <- win_xpnsl_df_filt_outliers_with_ranks_merged %>% \n",
    "    filter(min_xpnsl_rank <= 10) %>% \n",
    "    group_by(direction) %>% \n",
    "    arrange(min_xpnsl_rank, .by_group = TRUE) %>% \n",
    "    dplyr::select(Chr, start, end, win_size, direction, mean_xpnsl, min_max, all_prop_outlier, mean_prop_outlier, all_xpnsl_ranks, min_xpnsl_rank) %>% \n",
    "    ungroup()\n",
    "xpnsl_top10_urban_rural"
   ]
  },
  {
   "cell_type": "markdown",
   "id": "837cda8f-9385-4220-bf43-d9a30cf62cc1",
   "metadata": {},
   "source": [
    "## Fst\n",
    "\n",
    "- I estimated Fst and the urban-rural difference in pi and Tajima's D in 50 kb windows across the genome\n",
    "- I'll consider windows in the top 1% of the genome-wide empirical Fst distributions as outliers, and further support these outliers if these windows are also in the top 1% of the genome-wide difference in pi and Td distributions\n",
    "- I'll look at overlap between the Fst and XP-nSL outlier windows"
   ]
  },
  {
   "cell_type": "code",
   "execution_count": null,
   "id": "a080c833-54cb-422c-b857-9b9d6c74aecb",
   "metadata": {},
   "outputs": [],
   "source": [
    "# Distribution of the numbe of sites used to estimate Fst and thetas\n",
    "win_sfs_df %>% \n",
    "    ggplot(., aes(x = nSites_fst)) +\n",
    "    geom_histogram(bins = 50, color = 'black', fill = 'white') +\n",
    "    geom_vline(xintercept = 1500, color = 'red') +\n",
    "    scale_y_continuous(expand = c(0, 0)) +\n",
    "    theme_classic()"
   ]
  },
  {
   "cell_type": "code",
   "execution_count": null,
   "id": "53268632-044c-4ca6-940b-bfde6fc9b182",
   "metadata": {},
   "outputs": [],
   "source": [
    "# Identify outliers across genome\n",
    "nSites_thresh <- 1500\n",
    "win_sfs_df_filt <- win_sfs_df %>%\n",
    "    filter_at(vars(starts_with('nSites')), ~ . >= nSites_thresh)\n",
    "\n",
    "fst_quant_filt <- quantile(win_sfs_df_filt %>% pull(fst), probs = c(0.99))\n",
    "tp_quant_filt <- quantile(win_sfs_df_filt %>% pull(delta_tp_ur), probs = c(0.01, 0.99))\n",
    "td_quant_filt <- quantile(win_sfs_df_filt %>% pull(delta_td_ur), probs = c(0.01, 0.99))\n",
    "\n",
    "win_sfs_df_filt <- win_sfs_df %>%\n",
    "    mutate(fst_outlier = ifelse(fst >= fst_quant_filt, 1, 0),\n",
    "           tp_outlier = ifelse(delta_tp_ur <= tp_quant_filt[1] | delta_tp_ur >= tp_quant_filt[2], 1, 0),\n",
    "           td_outlier = ifelse(delta_td_ur <= td_quant_filt[1] | delta_td_ur >= td_quant_filt[2], 1, 0),\n",
    "           all_outlier = ifelse(fst_outlier == 1 & tp_outlier == 1 & td_outlier == 1, 1, 0)) %>%\n",
    "    dplyr::select(chrom_pos, Chr, start, end, WinCenter, fst, delta_tp_ur, delta_td_ur, contains('_outlier'))"
   ]
  },
  {
   "cell_type": "code",
   "execution_count": null,
   "id": "baaa8ec7-216f-4114-9090-1fea7ac89403",
   "metadata": {},
   "outputs": [],
   "source": [
    "win_sfs_df_filt %>% \n",
    "    group_by(fst_outlier, tp_outlier, td_outlier) %>%\n",
    "    summarise(n = n())"
   ]
  },
  {
   "cell_type": "code",
   "execution_count": null,
   "id": "8fb3124a-2622-4d60-8ddc-b05fe1515f8d",
   "metadata": {},
   "outputs": [],
   "source": [
    "# Add habitat under selection based on difference in pi and Tajima's D\n",
    "win_sfs_df_filt <- win_sfs_df_filt %>% \n",
    "    mutate(direction = case_when(delta_tp_ur < 0 & delta_td_ur < 0 ~ 'Urban sel',\n",
    "                                 delta_tp_ur > 0 & delta_td_ur > 0 ~ 'Rural sel',\n",
    "                                 TRUE ~ 'Weird'))"
   ]
  },
  {
   "cell_type": "code",
   "execution_count": null,
   "id": "bf5fb0e8-bf14-446b-a573-00a3d59bc53c",
   "metadata": {},
   "outputs": [],
   "source": [
    "win_sfs_df_filt %>% filter(all_outlier == 1) %>% group_by(direction) %>% summarise(n = n())"
   ]
  },
  {
   "cell_type": "code",
   "execution_count": null,
   "id": "5b680337-5252-495c-91cb-cbf30c2144cb",
   "metadata": {},
   "outputs": [],
   "source": [
    "get_positions <- function(df){\n",
    "    df_out <- df %>% \n",
    "        dplyr::select(Chr, start, end)\n",
    "    return(df_out)\n",
    "}\n",
    "\n",
    "xpnsl_top10_regions_pos <- get_positions(xpnsl_top10_urban_rural) \n",
    "fst_outliers_windows_pos <- get_positions(win_sfs_df_filt %>% filter(fst_outlier == 1))\n",
    "fst_pi_td_outliers_windows_pos <- get_positions(win_sfs_df_filt %>% filter(all_outlier == 1))"
   ]
  },
  {
   "cell_type": "code",
   "execution_count": null,
   "id": "f115b30c-8adc-4b5b-aa42-0ad7eb7d4b06",
   "metadata": {},
   "outputs": [],
   "source": [
    "get_overlapping_fst_windows <- function(xpnsl_pos, fst_pos){\n",
    "    \n",
    "    # Count number of overlapping Fst outlier windows in each XP-nSL window\n",
    "    df_out <- bt.intersect(xpnsl_pos, fst_pos, c = T)\n",
    "    names(df_out) <- c('Chr', 'xpnsl_win_start', 'xpnsl_win_end', 'num_fst_outliers')\n",
    "    return(df_out)\n",
    "} \n",
    "\n",
    "get_overlapping_fst_windows(xpnsl_top10_regions_pos, fst_pi_td_outliers_windows_pos)"
   ]
  },
  {
   "cell_type": "code",
   "execution_count": null,
   "id": "1b610f3c-12b8-4837-97f6-e56f12dcd203",
   "metadata": {},
   "outputs": [],
   "source": [
    "xpnsl_fst_overlap <- bt.intersect(xpnsl_top10_urban_rural %>% dplyr::select(Chr, start, end), \n",
    "                                  win_sfs_df_filt %>% dplyr::select(-chrom_pos) %>% filter(fst_outlier == 1), \n",
    "                                  c = T)\n",
    "names(xpnsl_fst_overlap) <- c('Chr', 'start', 'end', 'num_fst_outliers')\n",
    "xpnsl_top10_urban_rural <- left_join(xpnsl_top10_urban_rural, xpnsl_fst_overlap, by = c('Chr', 'start', 'end'))\n",
    "xpnsl_top10_urban_rural"
   ]
  },
  {
   "cell_type": "code",
   "execution_count": null,
   "id": "8d4cb959-917a-4f60-bfbe-6ab60fefbf92",
   "metadata": {},
   "outputs": [],
   "source": [
    "urban_tmp <- bt.intersect(xpnsl_top10_urban_rural %>% filter(direction == 'Urban sel') %>% dplyr::select(Chr, start, end), \n",
    "                                        win_sfs_df_filt %>% dplyr::select(-chrom_pos) %>% filter(all_outlier == 1 & direction == 'Urban sel'), \n",
    "                                        c = T)\n",
    "rural_tmp <- bt.intersect(xpnsl_top10_urban_rural %>% filter(direction == 'Rural sel') %>% dplyr::select(Chr, start, end), \n",
    "                                        win_sfs_df_filt %>% dplyr::select(-chrom_pos) %>% filter(all_outlier == 1 & direction == 'Rural sel'), \n",
    "                                        c = T)\n",
    "xpnsl_fst_pi_td_overlap <- bind_rows(urban_tmp, rural_tmp)\n",
    "names(xpnsl_fst_pi_td_overlap) <- c('Chr', 'start', 'end', 'num_fst_pi_td_outliers')\n",
    "xpnsl_top10_urban_rural <- left_join(xpnsl_top10_urban_rural, xpnsl_fst_pi_td_overlap, by = c('Chr', 'start', 'end'))\n",
    "xpnsl_top10_urban_rural"
   ]
  },
  {
   "cell_type": "code",
   "execution_count": null,
   "id": "7856b4ec-3f94-4c74-b3a4-c9fd9fc8f74d",
   "metadata": {},
   "outputs": [],
   "source": [
    "write_delim(xpnsl_top10_urban_rural, snakemake@output[['sel_tbl']], delim = '\\t')"
   ]
  },
  {
   "cell_type": "code",
   "execution_count": null,
   "id": "efb66b84-3464-4b66-afed-e0ac079f5d58",
   "metadata": {},
   "outputs": [],
   "source": []
  }
 ],
 "metadata": {
  "kernelspec": {
   "display_name": "R",
   "language": "R",
   "name": "ir"
  },
  "language_info": {
   "codemirror_mode": "r",
   "file_extension": ".r",
   "mimetype": "text/x-r-source",
   "name": "R",
   "pygments_lexer": "r",
   "version": "4.1.3"
  }
 },
 "nbformat": 4,
 "nbformat_minor": 5
}
