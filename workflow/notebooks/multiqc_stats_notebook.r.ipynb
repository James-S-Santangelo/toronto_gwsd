{
 "cells": [
  {
   "cell_type": "code",
   "execution_count": 2,
   "metadata": {},
   "outputs": [],
   "source": [
    "library(tidyverse)\n",
    "library(wesanderson)"
   ]
  },
  {
   "cell_type": "markdown",
   "metadata": {},
   "outputs": [],
   "source": [
    "# Looking at coverage across samples\n",
    "\n",
    "- Will take a quick look at coverage and mapping % across samples"
   ]
  },
  {
   "cell_type": "code",
   "execution_count": 3,
   "metadata": {},
   "outputs": [],
   "source": [
    "# Load in data with coverage and mapping stats\n",
    "stats_file <- '../results/qc/multiqc/multiqc_data/multiqc_qualimap_bamqc_genome_results_qualimap_bamqc.txt'\n",
    "stats <- read_delim(stats_file, delim = '\\t') %>% \n",
    "    mutate(sample = str_extract(Sample, pattern = 's_\\\\d+_\\\\d+$')) %>% \n",
    "    dplyr::select(sample, everything(), -Sample)"
   ]
  },
  {
   "cell_type": "markdown",
   "metadata": {},
   "outputs": [],
   "source": [
    "## Plot and stats"
   ]
  },
  {
   "cell_type": "markdown",
   "metadata": {},
   "outputs": [],
   "source": [
    "### All samples"
   ]
  },
  {
   "cell_type": "code",
   "execution_count": 4,
   "metadata": {},
   "outputs": [],
   "source": [
    "mean_coverage_allSamples <- mean(stats$mean_coverage)\n",
    "mean_coverage_allSamples"
   ]
  },
  {
   "cell_type": "code",
   "execution_count": 5,
   "metadata": {},
   "outputs": [],
   "source": [
    "# Plot mapping% against mean coverage\n",
    "ggplot(data = stats, aes(x = mean_coverage, y = percentage_aligned)) +\n",
    "    geom_point(size = 2) +\n",
    "    xlab('Mean coverage') + ylab('Percentage aligned') +\n",
    "    theme_classic()"
   ]
  },
  {
   "cell_type": "code",
   "execution_count": 6,
   "metadata": {},
   "outputs": [],
   "source": [
    "# Plot general error rate\n",
    "# 3 samples with high error rates likely Medicago\n",
    "error_rate_plot <- ggplot(data = stats, aes(x = general_error_rate)) + \n",
    "    geom_histogram(bins = 100, color = 'black', fill = 'white') +\n",
    "    xlab('General error rate') + ylab('Count') +\n",
    "    theme_classic()\n",
    "error_rate_plot"
   ]
  },
  {
   "cell_type": "code",
   "execution_count": 7,
   "metadata": {},
   "outputs": [],
   "source": [
    "outpath <- snakemake@output[[1]]\n",
    "ggsave(filename = outpath, plot = error_rate_plot, device = 'pdf', \n",
    "       width = 8, height = 8, units = 'in', dpi = 600)"
   ]
  },
  {
   "cell_type": "markdown",
   "metadata": {},
   "outputs": [],
   "source": [
    "### High quality samples only\n",
    "\n",
    "- Remove 3 samples that we identified as _Medicago_\n",
    "- Remove another two samples that had bad coverage, low mapping %, and weird GC profiles\n",
    "- Remove one of 2 samples from each of 5 pairs of highly related individuals (likely clones)\n",
    "    - Based on analysis with `ngsRelate`"
   ]
  },
  {
   "cell_type": "code",
   "execution_count": 8,
   "metadata": {},
   "outputs": [],
   "source": [
    "lowQual <- c('s_7_14', 's_54_9', 's_97_4', 's_23_12', 's_23_17')\n",
    "related <- c('s_97_9', 's_37_18', 's_37_11', 's_42_3', 's_42_1', 's_83_11')\n",
    "stas_mod <- stats %>% \n",
    "    mutate(category = case_when(sample %in% lowQual ~ 'bad',\n",
    "                           sample %in% related ~ 'related',\n",
    "                           TRUE ~ 'good'))"
   ]
  },
  {
   "cell_type": "code",
   "execution_count": 9,
   "metadata": {},
   "outputs": [],
   "source": [
    "# Plot mapping% against mean coverage\n",
    "cols <- wes_palette(\"Darjeeling1\", n = 3)\n",
    "ggplot(data = stas_mod, aes(x = mean_coverage, y = percentage_aligned)) +\n",
    "    geom_point(size = 2, aes(colour = category)) +\n",
    "    scale_color_manual(values = cols) +\n",
    "    xlab('Mean coverage') + ylab('Percentage aligned') +\n",
    "    theme_classic()"
   ]
  },
  {
   "cell_type": "code",
   "execution_count": 10,
   "metadata": {},
   "outputs": [],
   "source": [
    "outpath <- snakemake@output[[2]]\n",
    "ggsave(filename = outpath, plot = error_rate_plot, device = 'pdf', \n",
    "       width = 8, height = 8, units = 'in', dpi = 600)"
   ]
  },
  {
   "cell_type": "code",
   "execution_count": 11,
   "metadata": {
    "scrolled": false
   },
   "outputs": [],
   "source": [
    "stas_mod %>% \n",
    "    group_by(category) %>% \n",
    "    summarise(mean_cov = mean(mean_coverage))"
   ]
  },
  {
   "cell_type": "markdown",
   "metadata": {},
   "outputs": [],
   "source": [
    "# Samples for GLUE\n",
    "\n",
    "We want to include 10 urban and 10 rural samples from Toronto in the first GLUE paper. \n",
    "\n",
    "Here I'll chose these 20 samples, and export a file with these sample IDs for use in the GLUE Snakemake pipeline"
   ]
  },
  {
   "cell_type": "code",
   "execution_count": 13,
   "metadata": {},
   "outputs": [],
   "source": [
    "for_glue <- c('s_37_15', 's_37_8', 's_40_10', 's_40_3', 's_41_7', 's_41_8', 's_42_9', 's_42_10', 's_43_13', 's_43_8',\n",
    "             's_83_9', 's_83_5', 's_83_18', 's_83_14', 's_82_19', 's_81_3', 's_83_13', 's_79_17', 's_78_4', 's_77_18')\n",
    "samples_for_glue <- stas_mod %>% \n",
    "    dplyr::select(sample, category, mean_coverage) %>% \n",
    "    separate(sample, sep = '_', into = c('prefix', 'pop', 'plant'), remove = FALSE) %>% \n",
    "    filter(sample %in% for_glue)\n",
    "samples_for_glue"
   ]
  },
  {
   "cell_type": "code",
   "execution_count": 14,
   "metadata": {},
   "outputs": [],
   "source": [
    "outpath <- snakemake@output[[3]]\n",
    "write_delim(x = samples_for_glue, file = outpath, delim = '\\t', col_names = TRUE)"
   ]
  },
  {
   "cell_type": "code",
   "execution_count": 15,
   "metadata": {},
   "outputs": [],
   "source": [
    "mean(samples_for_glue$mean_coverage)"
   ]
  },
  {
   "cell_type": "code",
   "execution_count": 16,
   "metadata": {},
   "outputs": [],
   "source": [
    "range(samples_for_glue$mean_coverage)"
   ]
  },
  {
   "cell_type": "code",
   "execution_count": null,
   "metadata": {},
   "outputs": [],
   "source": []
  }
 ],
 "metadata": {
  "kernelspec": {
   "display_name": "R",
   "language": "R",
   "name": "ir"
  },
  "language_info": {
   "codemirror_mode": "r",
   "file_extension": ".r",
   "mimetype": "text/x-r-source",
   "name": "R",
   "pygments_lexer": "r",
   "version": "3.6.3"
  }
 },
 "nbformat": 4,
 "nbformat_minor": 4
}
