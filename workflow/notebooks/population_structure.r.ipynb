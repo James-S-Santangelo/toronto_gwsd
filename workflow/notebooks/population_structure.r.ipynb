{
 "cells": [
  {
   "cell_type": "code",
   "execution_count": 23,
   "metadata": {},
   "outputs": [],
   "source": [
    "library(tidyverse)\n",
    "library(wesanderson)"
   ]
  },
  {
   "cell_type": "code",
   "execution_count": 17,
   "metadata": {},
   "outputs": [],
   "source": [
    "# Sample order from ANGSD\n",
    "angsd_sample_order_path <- '../results/program_resources/angsd_allFinalSamples_order.txt'\n",
    "sample_order <- suppressMessages(\n",
    "        read_delim(angsd_sample_order_path, col_names = FALSE, delim = '\\t')\n",
    ")"
   ]
  },
  {
   "cell_type": "code",
   "execution_count": 18,
   "metadata": {},
   "outputs": [],
   "source": [
    "# Load sample sheet\n",
    "ss_inpath <- '../resources/sequencedPlants_phenotypesHabitat.txt'\n",
    "samples <- suppressMessages(\n",
    "        read_delim(ss_inpath, col_names = TRUE, delim = '\\t') %>%\n",
    "        filter(Sample %in% sample_order$X1)\n",
    ")"
   ]
  },
  {
   "cell_type": "code",
   "execution_count": 4,
   "metadata": {},
   "outputs": [],
   "source": [
    "# Load covariance matrix\n",
    "covMat_path <- '../results/population_structure/pcangsd/allSamples_allChroms_4fold_maf0.05_pcangsd.cov'\n",
    "covMat <- suppressMessages(\n",
    "        read_delim(covMat_path, col_names = FALSE, delim = ' ')\n",
    ")"
   ]
  },
  {
   "cell_type": "code",
   "execution_count": 20,
   "metadata": {},
   "outputs": [],
   "source": [
    "eigenvectors <- eigen(covMat)\n",
    "eigen_df <- eigenvectors$vectors %>%\n",
    "        as.data.frame() %>%\n",
    "        dplyr::select(V1, V2, V3, V4) %>%\n",
    "        rename('PC1' = 'V1',\n",
    "               'PC2' = 'V2',\n",
    "               'PC3' = 'V3',\n",
    "               'PC4' = 'V4') %>%\n",
    "    bind_cols(., samples)"
   ]
  },
  {
   "cell_type": "code",
   "execution_count": 21,
   "metadata": {},
   "outputs": [],
   "source": [
    "summary(prcomp(covMat))"
   ]
  },
  {
   "cell_type": "code",
   "execution_count": 97,
   "metadata": {},
   "outputs": [],
   "source": [
    "cols <- wes_palette(\"FantasticFox1\", n = 3, type = 'discrete')\n",
    "pca_plot <- eigen_df %>%\n",
    "    ggplot(., aes(x = PC1, y = PC2, color = Habitat, shape = Habitat)) +\n",
    "        geom_point(size = 3) +\n",
    "        scale_color_manual(values = cols) +\n",
    "        theme_classic() +\n",
    "        xlab('PC1 (3.4%)') + ylab('PC2 (2.2%)') +\n",
    "#         scale_x_continuous(breaks = seq(-0.10, 0.10, 0.10)) +\n",
    "        theme(axis.text = element_text(size = 13),\n",
    "              axis.title = element_text(size = 15),\n",
    "              legend.position = 'top')\n",
    "pca_plot"
   ]
  },
  {
   "cell_type": "code",
   "execution_count": 89,
   "metadata": {},
   "outputs": [],
   "source": [
    "outpath <- snakemake@output[[1]]\n",
    "print(outpath)\n",
    "ggsave(filename = outpath, plot = pca_plot, device = 'pdf',\n",
    "       dpi = 600, width = 8, height = 8, units = 'in')"
   ]
  },
  {
   "cell_type": "code",
   "execution_count": 64,
   "metadata": {},
   "outputs": [],
   "source": [
    "# Best K by Evanno is 6. Load logs for K = 6\n",
    "load_ngsadmix_log <- function(path){\n",
    "    seed <- as.numeric(str_extract(basename(path), pattern = '(?<=seed)[0-9]+(?=\\\\.log)'))\n",
    "    \n",
    "    logfile <- readLines(path)[9]  ## 9 index is for line with likelihood\n",
    "    like <- as.numeric(str_extract(logfile, pattern = '(?<=like=)-[0-9]+\\\\.[0-9]+'))\n",
    "    \n",
    "    df_out <- data.frame(seed = seed, like = like)\n",
    "    return(df_out)\n",
    "}"
   ]
  },
  {
   "cell_type": "code",
   "execution_count": 65,
   "metadata": {},
   "outputs": [],
   "source": [
    "ngsadmix_inpath <- '../results/population_structure/ngsadmix/K6/'\n",
    "like_df <- list.files(ngsadmix_inpath, pattern = '*.log', full.names = TRUE) %>%\n",
    "    map_dfr(., load_ngsadmix_log)"
   ]
  },
  {
   "cell_type": "code",
   "execution_count": 66,
   "metadata": {},
   "outputs": [],
   "source": [
    "like_df"
   ]
  },
  {
   "cell_type": "code",
   "execution_count": 67,
   "metadata": {
    "scrolled": true
   },
   "outputs": [],
   "source": [
    "like_df %>%\n",
    "    filter(like == min(like))"
   ]
  },
  {
   "cell_type": "code",
   "execution_count": 71,
   "metadata": {},
   "outputs": [],
   "source": [
    "admix_results <- '../results/population_structure/ngsadmix/K6/ngsadmix_4fold_maf0.05_K6_seed6.qopt'\n",
    "admix <- read_delim(admix_results, col_names = FALSE, delim = \" \") %>%\n",
    "    dplyr::select(-X7) %>%\n",
    "    bind_cols(., samples) %>% \n",
    "    pivot_longer(X1:X6, values_to = 'Probs') %>% \n",
    "    mutate(Probs = round(Probs, 3))\n",
    "head(admix)"
   ]
  },
  {
   "cell_type": "code",
   "execution_count": 94,
   "metadata": {},
   "outputs": [],
   "source": [
    "cols <- wes_palette(\"Darjeeling1\", n = 6, type = 'continuous')\n",
    "admix_plot <-\n",
    "  ggplot(admix, aes(factor(Sample), Probs, fill = factor(name))) +\n",
    "  geom_col(color = \"gray\", size = 0.1) +\n",
    "  facet_grid(~fct_inorder(Habitat), switch = \"x\", scales = \"free\", space = \"free\") +\n",
    "  theme_minimal() + labs(x = \"\", title = \"K=6\", y = \"Ancestry\") +\n",
    "  scale_y_continuous(expand = c(0, 0)) +\n",
    "  scale_x_discrete(expand = expand_scale(add = 1)) +\n",
    "  scale_fill_manual(values = cols) + \n",
    "  theme(\n",
    "    legend.position = 'none',\n",
    "    panel.spacing.x = unit(0.1, \"lines\"),\n",
    "    axis.text.x = element_blank(),\n",
    "    panel.grid = element_blank(),\n",
    "    axis.text = element_text(size=12),\n",
    "    axis.title = element_text(size=15),\n",
    "    strip.text.x = element_text(size = 12)\n",
    "  ) \n",
    "admix_plot"
   ]
  },
  {
   "cell_type": "code",
   "execution_count": 95,
   "metadata": {},
   "outputs": [],
   "source": [
    "outpath <- snakemake@output[[2]]\n",
    "print(outpath)\n",
    "ggsave(filename = outpath, plot = admix_plot, device = 'pdf',\n",
    "       dpi = 600, width = 14, height = 6, units = 'in')"
   ]
  },
  {
   "cell_type": "code",
   "execution_count": null,
   "metadata": {},
   "outputs": [],
   "source": []
  }
 ],
 "metadata": {
  "kernelspec": {
   "display_name": "R",
   "language": "R",
   "name": "ir"
  },
  "language_info": {
   "codemirror_mode": "r",
   "file_extension": ".r",
   "mimetype": "text/x-r-source",
   "name": "R",
   "pygments_lexer": "r",
   "version": "3.6.3"
  }
 },
 "nbformat": 4,
 "nbformat_minor": 4
}
