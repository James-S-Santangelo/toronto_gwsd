{
 "cells": [
  {
   "cell_type": "markdown",
   "metadata": {},
   "source": [
    "# Population structure and diversity\n",
    "\n",
    "## Setup"
   ]
  },
  {
   "cell_type": "code",
   "execution_count": 1,
   "metadata": {},
   "outputs": [
    {
     "name": "stderr",
     "output_type": "stream",
     "text": [
      "── \u001b[1mAttaching packages\u001b[22m ────────────────────────────────────────────────────────────────────────────────────────────────────────────────────────────────────────── tidyverse 1.3.0 ──\n",
      "\u001b[32m✔\u001b[39m \u001b[34mggplot2\u001b[39m 3.3.3     \u001b[32m✔\u001b[39m \u001b[34mpurrr  \u001b[39m 0.3.4\n",
      "\u001b[32m✔\u001b[39m \u001b[34mtibble \u001b[39m 3.1.2     \u001b[32m✔\u001b[39m \u001b[34mdplyr  \u001b[39m 1.0.6\n",
      "\u001b[32m✔\u001b[39m \u001b[34mtidyr  \u001b[39m 1.1.3     \u001b[32m✔\u001b[39m \u001b[34mstringr\u001b[39m 1.4.0\n",
      "\u001b[32m✔\u001b[39m \u001b[34mreadr  \u001b[39m 1.4.0     \u001b[32m✔\u001b[39m \u001b[34mforcats\u001b[39m 0.5.1\n",
      "── \u001b[1mConflicts\u001b[22m ───────────────────────────────────────────────────────────────────────────────────────────────────────────────────────────────────────────── tidyverse_conflicts() ──\n",
      "\u001b[31m✖\u001b[39m \u001b[34mdplyr\u001b[39m::\u001b[32mfilter()\u001b[39m masks \u001b[34mstats\u001b[39m::filter()\n",
      "\u001b[31m✖\u001b[39m \u001b[34mdplyr\u001b[39m::\u001b[32mlag()\u001b[39m    masks \u001b[34mstats\u001b[39m::lag()\n",
      "Loading required package: permute\n",
      "Loading required package: lattice\n",
      "This is vegan 2.5-7\n"
     ]
    }
   ],
   "source": [
    "# Load required packages\n",
    "library(tidyverse)\n",
    "library(wesanderson)\n",
    "library(vegan)\n",
    "library(umap)"
   ]
  },
  {
   "cell_type": "code",
   "execution_count": 2,
   "metadata": {},
   "outputs": [],
   "source": [
    "# Path to results for this project\n",
    "results_prefix <- '/scratch/projects/trifolium/gwsd/results/'"
   ]
  },
  {
   "cell_type": "code",
   "execution_count": 3,
   "metadata": {},
   "outputs": [],
   "source": [
    "# Sample order from ANGSD\n",
    "angsd_sample_order_path <- paste0(results_prefix, 'program_resources/angsd_allFinalSamples_4fold_order.txt')\n",
    "sample_order <- suppressMessages(\n",
    "        read_delim(angsd_sample_order_path, col_names = FALSE, delim = '\\t')\n",
    ")"
   ]
  },
  {
   "cell_type": "code",
   "execution_count": 4,
   "metadata": {},
   "outputs": [],
   "source": [
    "# Load sample sheet\n",
    "ss_inpath <- '../resources/sequencedPlants_phenotypesHabitat.txt'\n",
    "samples <- suppressMessages(\n",
    "        read_delim(ss_inpath, col_names = TRUE, delim = '\\t') %>%\n",
    "        filter(Sample %in% sample_order$X1)\n",
    ")"
   ]
  },
  {
   "cell_type": "markdown",
   "metadata": {},
   "source": [
    "### Functions"
   ]
  },
  {
   "cell_type": "code",
   "execution_count": 100,
   "metadata": {},
   "outputs": [],
   "source": [
    "# Function to calculate % variance and cummulative variance from PC\n",
    "# Used to generate summary table rather than printing the lengthy `princomp()` summary\n",
    "pca_importance <- function(x) {\n",
    "  vars <- x$sdev^2\n",
    "  vars <- vars/sum(vars)\n",
    "  rbind(`Standard deviation` = x$sdev, `Proportion of Variance` = vars, \n",
    "      `Cumulative Proportion` = cumsum(vars))\n",
    "}\n",
    "\n",
    "# Function to load NGSadmix log files\n",
    "load_ngsadmix_log <- function(path){\n",
    "    seed <- as.numeric(str_extract(basename(path), pattern = '(?<=seed)[0-9]+(?=\\\\.log)'))\n",
    "    \n",
    "    logfile <- readLines(path)[9]  ## 9 index is for line with likelihood\n",
    "    like <- as.numeric(str_extract(logfile, pattern = '(?<=like=)-[0-9]+\\\\.[0-9]+'))\n",
    "    \n",
    "    df_out <- data.frame(seed = seed, like = like)\n",
    "    return(df_out)\n",
    "}\n",
    "\n",
    "# Function to load thetas for a given habitat\n",
    "load_pi <- function(habitat){\n",
    "    path <- paste0(results_prefix, sprintf('angsd/summary_stats/thetas/byHabitat/4fold_%s.thetas.idx.pestPG', habitat))\n",
    "    df <- suppressMessages(read_delim(path, delim = '\\t')) %>%\n",
    "        mutate(tp_scaled = tP / nSites,\n",
    "               tw_scaled = tW / nSites,\n",
    "               habitat = habitat)\n",
    "    return(df)\n",
    "}\n",
    "\n",
    "# Function to load Fst for habitat comparisons\n",
    "load_fst <- function(habitat_combination){\n",
    "    path <- paste0(results_prefix, sprintf('angsd/summary_stats/hudson_fst/byHabitat/4fold_%s_readable.fst', habitat_combination))\n",
    "    colnames <- c('chrom', 'pos', 'num', 'denom')\n",
    "    df <- suppressMessages(read_delim(path, delim = '\\t', col_names = colnames)) %>%\n",
    "        # Cap numerators at 0 if negative \n",
    "        # https://github.com/ANGSD/angsd/issues/309\n",
    "        # Does not affect overall pattern\n",
    "        mutate(num = ifelse(num < 0, 0, num)) %>% \n",
    "        \n",
    "        group_by(chrom) %>%\n",
    "        \n",
    "        # Estimate weighted Fst as ratio of averages\n",
    "        # https://github.com/ANGSD/angsd/issues/61\n",
    "        summarise(num_sum = sum(num),\n",
    "                  denom_sum = sum(denom),\n",
    "                  fst = num_sum / denom_sum,\n",
    "                  nSites = n()) %>% \n",
    "        mutate(hab_comb = habitat_combination)\n",
    "    return(df)\n",
    "}\n",
    "\n",
    "# Function to load chromosomal NGSrelate results\n",
    "load_relatedness <- function(path){\n",
    "    chrom <- str_extract(basename(path), '^(.+)(?=_4fold)')\n",
    "    df <- suppressMessages(read_delim(path, delim = '\\t')) %>%\n",
    "        mutate(chrom = chrom) %>%\n",
    "        dplyr::select(-starts_with('J')) %>%\n",
    "        dplyr::select(chrom, everything())\n",
    "    return(df)\n",
    "}"
   ]
  },
  {
   "cell_type": "markdown",
   "metadata": {},
   "source": [
    "## Population structure\n",
    "\n",
    "All population structure analyses were performed using 199,624 4fold SNPs from across the genome. SNPs had MAF > 0.05 and were pruned for LD such that no pairwise $r^2$ was greater than 0.2\n",
    "\n",
    "### Pricipal Components Analysis (PCA)\n",
    "\n",
    "- Results from a PCA performed in `pcangsd` using genotype likelihoods estimated across all samples in `ANGSD`"
   ]
  },
  {
   "cell_type": "code",
   "execution_count": 6,
   "metadata": {},
   "outputs": [],
   "source": [
    "# Load covariance matrix\n",
    "covMat_path <- paste0(results_prefix, 'population_structure/pcangsd/allSamples_allChroms_4fold_maf0.05_pcangsd.cov')\n",
    "covMat <- suppressMessages(\n",
    "        read_delim(covMat_path, col_names = FALSE, delim = ' ')\n",
    ")"
   ]
  },
  {
   "cell_type": "code",
   "execution_count": 7,
   "metadata": {},
   "outputs": [],
   "source": [
    "# Perform eigen decomposition of covariance matrix\n",
    "# Extract eigenvectors and bind with sample sheet for plotting and coloring by habitat\n",
    "eigenvectors <- eigen(covMat)\n",
    "eigen_df <- eigenvectors$vectors %>%\n",
    "        as.data.frame() %>%\n",
    "        dplyr::select(V1, V2, V3, V4) %>%\n",
    "        rename('PC1' = 'V1',\n",
    "               'PC2' = 'V2',\n",
    "               'PC3' = 'V3',\n",
    "               'PC4' = 'V4') %>%\n",
    "    bind_cols(., samples)"
   ]
  },
  {
   "cell_type": "code",
   "execution_count": 8,
   "metadata": {},
   "outputs": [
    {
     "data": {
      "text/html": [
       "<table class=\"dataframe\">\n",
       "<caption>A data.frame: 3 × 5</caption>\n",
       "<thead>\n",
       "\t<tr><th scope=col>var</th><th scope=col>Comp.1</th><th scope=col>Comp.2</th><th scope=col>Comp.3</th><th scope=col>Comp.4</th></tr>\n",
       "\t<tr><th scope=col>&lt;chr&gt;</th><th scope=col>&lt;dbl&gt;</th><th scope=col>&lt;dbl&gt;</th><th scope=col>&lt;dbl&gt;</th><th scope=col>&lt;dbl&gt;</th></tr>\n",
       "</thead>\n",
       "<tbody>\n",
       "\t<tr><td>Standard deviation    </td><td>0.16832949</td><td>0.12822066</td><td>0.12456946</td><td>0.11528173</td></tr>\n",
       "\t<tr><td>Proportion of Variance</td><td>0.03390468</td><td>0.01967230</td><td>0.01856788</td><td>0.01590231</td></tr>\n",
       "\t<tr><td>Cumulative Proportion </td><td>0.03390468</td><td>0.05357698</td><td>0.07214486</td><td>0.08804717</td></tr>\n",
       "</tbody>\n",
       "</table>\n"
      ],
      "text/latex": [
       "A data.frame: 3 × 5\n",
       "\\begin{tabular}{lllll}\n",
       " var & Comp.1 & Comp.2 & Comp.3 & Comp.4\\\\\n",
       " <chr> & <dbl> & <dbl> & <dbl> & <dbl>\\\\\n",
       "\\hline\n",
       "\t Standard deviation     & 0.16832949 & 0.12822066 & 0.12456946 & 0.11528173\\\\\n",
       "\t Proportion of Variance & 0.03390468 & 0.01967230 & 0.01856788 & 0.01590231\\\\\n",
       "\t Cumulative Proportion  & 0.03390468 & 0.05357698 & 0.07214486 & 0.08804717\\\\\n",
       "\\end{tabular}\n"
      ],
      "text/markdown": [
       "\n",
       "A data.frame: 3 × 5\n",
       "\n",
       "| var &lt;chr&gt; | Comp.1 &lt;dbl&gt; | Comp.2 &lt;dbl&gt; | Comp.3 &lt;dbl&gt; | Comp.4 &lt;dbl&gt; |\n",
       "|---|---|---|---|---|\n",
       "| Standard deviation     | 0.16832949 | 0.12822066 | 0.12456946 | 0.11528173 |\n",
       "| Proportion of Variance | 0.03390468 | 0.01967230 | 0.01856788 | 0.01590231 |\n",
       "| Cumulative Proportion  | 0.03390468 | 0.05357698 | 0.07214486 | 0.08804717 |\n",
       "\n"
      ],
      "text/plain": [
       "  var                    Comp.1     Comp.2     Comp.3     Comp.4    \n",
       "1 Standard deviation     0.16832949 0.12822066 0.12456946 0.11528173\n",
       "2 Proportion of Variance 0.03390468 0.01967230 0.01856788 0.01590231\n",
       "3 Cumulative Proportion  0.03390468 0.05357698 0.07214486 0.08804717"
      ]
     },
     "metadata": {},
     "output_type": "display_data"
    }
   ],
   "source": [
    "# Percent Variance explained by first 4 PCs\n",
    "pca_importance(summary(princomp(covMat))) %>% \n",
    "    as.data.frame() %>% \n",
    "    rownames_to_column('var') %>% \n",
    "    dplyr::select(var, Comp.1:Comp.4)"
   ]
  },
  {
   "cell_type": "code",
   "execution_count": 9,
   "metadata": {},
   "outputs": [
    {
     "data": {
      "image/png": "[encoded data removed]",
      "text/plain": [
       "plot without title"
      ]
     },
     "metadata": {},
     "output_type": "display_data"
    }
   ],
   "source": [
    "cols_hab <- wes_palette(\"FantasticFox1\", n = 3, type = 'discrete')\n",
    "pca_plot <- eigen_df %>%\n",
    "    ggplot(., aes(x = PC1, y = PC2, color = Habitat, shape = Habitat)) +\n",
    "        geom_point(size = 4.5, alpha = 0.8) +\n",
    "        scale_color_manual(values = cols_hab) +\n",
    "        theme_classic() +\n",
    "        xlab('PC1 (3.4%)') + ylab('PC2 (2.0%)') +\n",
    "#         scale_x_continuous(breaks = seq(-0.10, 0.10, 0.10)) +\n",
    "        theme(axis.text = element_text(size = 16),\n",
    "              axis.title = element_text(size = 20),\n",
    "              legend.position = 'top')\n",
    "pca_plot"
   ]
  },
  {
   "cell_type": "code",
   "execution_count": 10,
   "metadata": {},
   "outputs": [],
   "source": [
    "figures_path <- '/scratch/projects/trifolium/gwsd/figures_forThesis/'\n",
    "ggsave(filename = paste0(figures_path, 'pca.pdf'), plot = pca_plot, device = 'pdf', \n",
    "       width = 8, height = 8, units = 'in', dpi = 600, )"
   ]
  },
  {
   "cell_type": "code",
   "execution_count": 11,
   "metadata": {},
   "outputs": [
    {
     "data": {
      "text/html": [
       "<table class=\"dataframe\">\n",
       "<caption>A data.frame: 8 × 11</caption>\n",
       "<thead>\n",
       "\t<tr><th scope=col>PC1</th><th scope=col>PC2</th><th scope=col>PC3</th><th scope=col>PC4</th><th scope=col>Sample</th><th scope=col>Habitat</th><th scope=col>Population</th><th scope=col>Plant</th><th scope=col>HCN_Result</th><th scope=col>Locus.Li</th><th scope=col>Locus.Ac</th></tr>\n",
       "\t<tr><th scope=col>&lt;dbl&gt;</th><th scope=col>&lt;dbl&gt;</th><th scope=col>&lt;dbl&gt;</th><th scope=col>&lt;dbl&gt;</th><th scope=col>&lt;chr&gt;</th><th scope=col>&lt;chr&gt;</th><th scope=col>&lt;dbl&gt;</th><th scope=col>&lt;dbl&gt;</th><th scope=col>&lt;dbl&gt;</th><th scope=col>&lt;dbl&gt;</th><th scope=col>&lt;dbl&gt;</th></tr>\n",
       "</thead>\n",
       "<tbody>\n",
       "\t<tr><td>-0.2189254</td><td>-0.1979378</td><td> 0.36286166</td><td> 0.0755048466</td><td>s_40_6 </td><td>Urban</td><td>40</td><td> 6</td><td>0</td><td>NA</td><td> 0</td></tr>\n",
       "\t<tr><td>-0.2438275</td><td>-0.2271833</td><td> 0.27129428</td><td> 0.0077840488</td><td>s_40_17</td><td>Urban</td><td>40</td><td>17</td><td>0</td><td>NA</td><td> 1</td></tr>\n",
       "\t<tr><td> 0.1871879</td><td>-0.1187747</td><td> 0.01110946</td><td> 0.1224872216</td><td>s_7_4  </td><td>Rural</td><td> 7</td><td> 4</td><td>1</td><td> 1</td><td>NA</td></tr>\n",
       "\t<tr><td> 0.2694638</td><td>-0.2927597</td><td>-0.02236421</td><td>-0.0322387411</td><td>s_7_6  </td><td>Rural</td><td> 7</td><td> 6</td><td>1</td><td> 1</td><td>NA</td></tr>\n",
       "\t<tr><td> 0.2588995</td><td>-0.2892229</td><td>-0.02907694</td><td> 0.0446461828</td><td>s_7_7  </td><td>Rural</td><td> 7</td><td> 7</td><td>1</td><td> 1</td><td>NA</td></tr>\n",
       "\t<tr><td> 0.3092221</td><td>-0.3031189</td><td>-0.02861880</td><td> 0.0003486599</td><td>s_7_13 </td><td>Rural</td><td> 7</td><td>13</td><td>1</td><td> 1</td><td>NA</td></tr>\n",
       "\t<tr><td> 0.3195286</td><td>-0.3393046</td><td>-0.04127276</td><td> 0.1356788466</td><td>s_7_16 </td><td>Rural</td><td> 7</td><td>16</td><td>1</td><td> 1</td><td>NA</td></tr>\n",
       "\t<tr><td> 0.2478445</td><td>-0.2824025</td><td>-0.05479601</td><td>-0.0207743094</td><td>s_7_19 </td><td>Rural</td><td> 7</td><td>19</td><td>0</td><td> 1</td><td>NA</td></tr>\n",
       "</tbody>\n",
       "</table>\n"
      ],
      "text/latex": [
       "A data.frame: 8 × 11\n",
       "\\begin{tabular}{lllllllllll}\n",
       " PC1 & PC2 & PC3 & PC4 & Sample & Habitat & Population & Plant & HCN\\_Result & Locus.Li & Locus.Ac\\\\\n",
       " <dbl> & <dbl> & <dbl> & <dbl> & <chr> & <chr> & <dbl> & <dbl> & <dbl> & <dbl> & <dbl>\\\\\n",
       "\\hline\n",
       "\t -0.2189254 & -0.1979378 &  0.36286166 &  0.0755048466 & s\\_40\\_6  & Urban & 40 &  6 & 0 & NA &  0\\\\\n",
       "\t -0.2438275 & -0.2271833 &  0.27129428 &  0.0077840488 & s\\_40\\_17 & Urban & 40 & 17 & 0 & NA &  1\\\\\n",
       "\t  0.1871879 & -0.1187747 &  0.01110946 &  0.1224872216 & s\\_7\\_4   & Rural &  7 &  4 & 1 &  1 & NA\\\\\n",
       "\t  0.2694638 & -0.2927597 & -0.02236421 & -0.0322387411 & s\\_7\\_6   & Rural &  7 &  6 & 1 &  1 & NA\\\\\n",
       "\t  0.2588995 & -0.2892229 & -0.02907694 &  0.0446461828 & s\\_7\\_7   & Rural &  7 &  7 & 1 &  1 & NA\\\\\n",
       "\t  0.3092221 & -0.3031189 & -0.02861880 &  0.0003486599 & s\\_7\\_13  & Rural &  7 & 13 & 1 &  1 & NA\\\\\n",
       "\t  0.3195286 & -0.3393046 & -0.04127276 &  0.1356788466 & s\\_7\\_16  & Rural &  7 & 16 & 1 &  1 & NA\\\\\n",
       "\t  0.2478445 & -0.2824025 & -0.05479601 & -0.0207743094 & s\\_7\\_19  & Rural &  7 & 19 & 0 &  1 & NA\\\\\n",
       "\\end{tabular}\n"
      ],
      "text/markdown": [
       "\n",
       "A data.frame: 8 × 11\n",
       "\n",
       "| PC1 &lt;dbl&gt; | PC2 &lt;dbl&gt; | PC3 &lt;dbl&gt; | PC4 &lt;dbl&gt; | Sample &lt;chr&gt; | Habitat &lt;chr&gt; | Population &lt;dbl&gt; | Plant &lt;dbl&gt; | HCN_Result &lt;dbl&gt; | Locus.Li &lt;dbl&gt; | Locus.Ac &lt;dbl&gt; |\n",
       "|---|---|---|---|---|---|---|---|---|---|---|\n",
       "| -0.2189254 | -0.1979378 |  0.36286166 |  0.0755048466 | s_40_6  | Urban | 40 |  6 | 0 | NA |  0 |\n",
       "| -0.2438275 | -0.2271833 |  0.27129428 |  0.0077840488 | s_40_17 | Urban | 40 | 17 | 0 | NA |  1 |\n",
       "|  0.1871879 | -0.1187747 |  0.01110946 |  0.1224872216 | s_7_4   | Rural |  7 |  4 | 1 |  1 | NA |\n",
       "|  0.2694638 | -0.2927597 | -0.02236421 | -0.0322387411 | s_7_6   | Rural |  7 |  6 | 1 |  1 | NA |\n",
       "|  0.2588995 | -0.2892229 | -0.02907694 |  0.0446461828 | s_7_7   | Rural |  7 |  7 | 1 |  1 | NA |\n",
       "|  0.3092221 | -0.3031189 | -0.02861880 |  0.0003486599 | s_7_13  | Rural |  7 | 13 | 1 |  1 | NA |\n",
       "|  0.3195286 | -0.3393046 | -0.04127276 |  0.1356788466 | s_7_16  | Rural |  7 | 16 | 1 |  1 | NA |\n",
       "|  0.2478445 | -0.2824025 | -0.05479601 | -0.0207743094 | s_7_19  | Rural |  7 | 19 | 0 |  1 | NA |\n",
       "\n"
      ],
      "text/plain": [
       "  PC1        PC2        PC3         PC4           Sample  Habitat Population\n",
       "1 -0.2189254 -0.1979378  0.36286166  0.0755048466 s_40_6  Urban   40        \n",
       "2 -0.2438275 -0.2271833  0.27129428  0.0077840488 s_40_17 Urban   40        \n",
       "3  0.1871879 -0.1187747  0.01110946  0.1224872216 s_7_4   Rural    7        \n",
       "4  0.2694638 -0.2927597 -0.02236421 -0.0322387411 s_7_6   Rural    7        \n",
       "5  0.2588995 -0.2892229 -0.02907694  0.0446461828 s_7_7   Rural    7        \n",
       "6  0.3092221 -0.3031189 -0.02861880  0.0003486599 s_7_13  Rural    7        \n",
       "7  0.3195286 -0.3393046 -0.04127276  0.1356788466 s_7_16  Rural    7        \n",
       "8  0.2478445 -0.2824025 -0.05479601 -0.0207743094 s_7_19  Rural    7        \n",
       "  Plant HCN_Result Locus.Li Locus.Ac\n",
       "1  6    0          NA        0      \n",
       "2 17    0          NA        1      \n",
       "3  4    1           1       NA      \n",
       "4  6    1           1       NA      \n",
       "5  7    1           1       NA      \n",
       "6 13    1           1       NA      \n",
       "7 16    1           1       NA      \n",
       "8 19    0           1       NA      "
      ]
     },
     "metadata": {},
     "output_type": "display_data"
    }
   ],
   "source": [
    "# What are those outlier cluster?\n",
    "eigen_df %>% filter((PC1 > 0.1 & PC2 < -0.1) | (PC1 < 0.1 & PC2 < -0.15))"
   ]
  },
  {
   "cell_type": "markdown",
   "metadata": {},
   "source": [
    "### Uniform Manifold Approximation Projection (UMAP)\n",
    "\n",
    "- UMAP for same set of samples\n",
    "- Uses number of UMAP components equal to the number of significant PCs from the PCA aboe, assessed using the broken stick model\n",
    "- Takes as input a distance matrix derived from the covariance matrix of sample allele frequencies"
   ]
  },
  {
   "cell_type": "code",
   "execution_count": 12,
   "metadata": {},
   "outputs": [
    {
     "data": {
      "image/png": "[encoded data removed]",
      "text/plain": [
       "Plot with title “princomp(covMat)”"
      ]
     },
     "metadata": {},
     "output_type": "display_data"
    }
   ],
   "source": [
    "screeplot(princomp(covMat), bstick = TRUE, npcs = 41)"
   ]
  },
  {
   "cell_type": "code",
   "execution_count": 13,
   "metadata": {},
   "outputs": [
    {
     "name": "stderr",
     "output_type": "stream",
     "text": [
      "Warning message:\n",
      "“The `x` argument of `as_tibble.matrix()` must have unique column names if `.name_repair` is omitted as of tibble 2.0.0.\n",
      "Using compatibility `.name_repair`.\n",
      "\u001b[90mThis warning is displayed once every 8 hours.\u001b[39m\n",
      "\u001b[90mCall `lifecycle::last_warnings()` to see where this warning was generated.\u001b[39m”"
     ]
    }
   ],
   "source": [
    "distMat <- as.matrix(dist(covMat))\n",
    "gwsd_umap <- umap(distMat, random_state = 42, input=\"dist\", n_neighbors = 15, min_dist = 0.1, n_components = 40)\n",
    "gwsd_umap_layout <- gwsd_umap$layout %>% \n",
    "    as_tibble() %>% \n",
    "    bind_cols(., samples)"
   ]
  },
  {
   "cell_type": "code",
   "execution_count": 14,
   "metadata": {},
   "outputs": [
    {
     "data": {
      "image/png": "[encoded data removed]",
      "text/plain": [
       "plot without title"
      ]
     },
     "metadata": {},
     "output_type": "display_data"
    }
   ],
   "source": [
    "umap_plot <- gwsd_umap_layout %>%\n",
    "    ggplot(., aes(x = V1, y = V2, color = Habitat, shape = Habitat)) +\n",
    "        geom_point(size = 4.5, alpha = 0.8) +\n",
    "        scale_color_manual(values = cols_hab) +\n",
    "        theme_classic() +\n",
    "        xlab('UMAP1') + ylab('UMAP2') +\n",
    "        theme(axis.text = element_text(size = 16),\n",
    "              axis.title = element_text(size = 20),\n",
    "              legend.position = 'top')\n",
    "umap_plot"
   ]
  },
  {
   "cell_type": "code",
   "execution_count": 15,
   "metadata": {},
   "outputs": [],
   "source": [
    "ggsave(filename = paste0(figures_path, 'umap.pdf'), plot = umap_plot, device = 'pdf', \n",
    "       width = 8, height = 8, units = 'in', dpi = 600, )"
   ]
  },
  {
   "cell_type": "code",
   "execution_count": 16,
   "metadata": {
    "scrolled": true
   },
   "outputs": [
    {
     "data": {
      "text/html": [
       "<table class=\"dataframe\">\n",
       "<caption>A tibble: 16 × 47</caption>\n",
       "<thead>\n",
       "\t<tr><th scope=col>V1</th><th scope=col>V2</th><th scope=col>V3</th><th scope=col>V4</th><th scope=col>V5</th><th scope=col>V6</th><th scope=col>V7</th><th scope=col>V8</th><th scope=col>V9</th><th scope=col>V10</th><th scope=col>⋯</th><th scope=col>V38</th><th scope=col>V39</th><th scope=col>V40</th><th scope=col>Sample</th><th scope=col>Habitat</th><th scope=col>Population</th><th scope=col>Plant</th><th scope=col>HCN_Result</th><th scope=col>Locus.Li</th><th scope=col>Locus.Ac</th></tr>\n",
       "\t<tr><th scope=col>&lt;dbl&gt;</th><th scope=col>&lt;dbl&gt;</th><th scope=col>&lt;dbl&gt;</th><th scope=col>&lt;dbl&gt;</th><th scope=col>&lt;dbl&gt;</th><th scope=col>&lt;dbl&gt;</th><th scope=col>&lt;dbl&gt;</th><th scope=col>&lt;dbl&gt;</th><th scope=col>&lt;dbl&gt;</th><th scope=col>&lt;dbl&gt;</th><th scope=col>⋯</th><th scope=col>&lt;dbl&gt;</th><th scope=col>&lt;dbl&gt;</th><th scope=col>&lt;dbl&gt;</th><th scope=col>&lt;chr&gt;</th><th scope=col>&lt;chr&gt;</th><th scope=col>&lt;dbl&gt;</th><th scope=col>&lt;dbl&gt;</th><th scope=col>&lt;dbl&gt;</th><th scope=col>&lt;dbl&gt;</th><th scope=col>&lt;dbl&gt;</th></tr>\n",
       "</thead>\n",
       "<tbody>\n",
       "\t<tr><td>-0.005617363</td><td> 1.0697847</td><td>-0.5024424</td><td> 0.157564016</td><td>-0.08232880</td><td>-1.1145068</td><td> 0.067288292</td><td>-0.9609354</td><td>-0.8801344</td><td>-0.4270799</td><td>⋯</td><td>-0.5227883</td><td> 0.4320739</td><td>-0.69640908</td><td>s_40_1 </td><td>Urban</td><td>40</td><td> 1</td><td>0</td><td>NA</td><td> 0</td></tr>\n",
       "\t<tr><td> 0.002924919</td><td> 1.0383909</td><td>-0.5494872</td><td> 0.080856473</td><td>-0.09368992</td><td>-1.0823296</td><td> 0.030548345</td><td>-0.9852586</td><td>-0.8732116</td><td>-0.3525698</td><td>⋯</td><td>-0.5201481</td><td> 0.4232379</td><td>-0.67143295</td><td>s_40_3 </td><td>Urban</td><td>40</td><td> 3</td><td>0</td><td>NA</td><td> 0</td></tr>\n",
       "\t<tr><td>-0.016661436</td><td> 1.1408276</td><td>-0.5399565</td><td> 0.001989798</td><td>-0.17202259</td><td>-1.1586186</td><td>-0.008789468</td><td>-1.0383168</td><td>-0.9552968</td><td>-0.4004659</td><td>⋯</td><td>-0.4820754</td><td> 0.3737000</td><td>-0.73896766</td><td>s_40_6 </td><td>Urban</td><td>40</td><td> 6</td><td>0</td><td>NA</td><td> 0</td></tr>\n",
       "\t<tr><td> 0.007613199</td><td> 0.9993781</td><td>-0.5403098</td><td> 0.065795046</td><td>-0.09547859</td><td>-1.0413281</td><td> 0.025307965</td><td>-0.9670805</td><td>-0.8451226</td><td>-0.3224720</td><td>⋯</td><td>-0.5067304</td><td> 0.4081111</td><td>-0.68262243</td><td>s_40_7 </td><td>Urban</td><td>40</td><td> 7</td><td>0</td><td>NA</td><td> 0</td></tr>\n",
       "\t<tr><td>-0.011847006</td><td> 0.8827060</td><td>-0.5081457</td><td> 0.024444624</td><td>-0.10484058</td><td>-0.9549403</td><td>-0.011219829</td><td>-0.8942593</td><td>-0.7767693</td><td>-0.2510335</td><td>⋯</td><td>-0.4421859</td><td> 0.3604042</td><td>-0.57395877</td><td>s_40_8 </td><td>Urban</td><td>40</td><td> 8</td><td>0</td><td>NA</td><td> 1</td></tr>\n",
       "\t<tr><td> 0.001826566</td><td> 1.1538633</td><td>-0.6394620</td><td>-0.035023290</td><td>-0.15110434</td><td>-1.1835670</td><td>-0.026128898</td><td>-1.1085903</td><td>-0.9861794</td><td>-0.3451421</td><td>⋯</td><td>-0.5423083</td><td> 0.4256995</td><td>-0.69879378</td><td>s_40_10</td><td>Urban</td><td>40</td><td>10</td><td>0</td><td>NA</td><td> 0</td></tr>\n",
       "\t<tr><td>-0.010783260</td><td> 1.1208261</td><td>-0.5761545</td><td>-0.020344187</td><td>-0.16559485</td><td>-1.1485178</td><td>-0.028249625</td><td>-1.0724708</td><td>-0.9557913</td><td>-0.3467826</td><td>⋯</td><td>-0.4952918</td><td> 0.3802485</td><td>-0.72280695</td><td>s_40_12</td><td>Urban</td><td>40</td><td>12</td><td>1</td><td>NA</td><td> 1</td></tr>\n",
       "\t<tr><td>-0.004456537</td><td> 1.0677289</td><td>-0.6103176</td><td> 0.012872695</td><td>-0.11103849</td><td>-1.1302928</td><td>-0.016160953</td><td>-1.0470966</td><td>-0.9233735</td><td>-0.3151306</td><td>⋯</td><td>-0.5264964</td><td> 0.4280305</td><td>-0.62407605</td><td>s_40_17</td><td>Urban</td><td>40</td><td>17</td><td>0</td><td>NA</td><td> 1</td></tr>\n",
       "\t<tr><td>-0.014688577</td><td> 1.1952080</td><td>-0.5657764</td><td>-0.061119741</td><td>-0.21654108</td><td>-1.1883915</td><td>-0.029429363</td><td>-1.0841253</td><td>-0.9988729</td><td>-0.4072513</td><td>⋯</td><td>-0.4822951</td><td> 0.3597380</td><td>-0.79391261</td><td>s_40_19</td><td>Urban</td><td>40</td><td>19</td><td>0</td><td>NA</td><td> 0</td></tr>\n",
       "\t<tr><td> 0.401805612</td><td>-0.7566217</td><td> 0.7961474</td><td>-0.294452913</td><td> 0.86369196</td><td> 0.8251314</td><td> 0.048288163</td><td> 0.7958011</td><td> 0.7411230</td><td> 0.1745616</td><td>⋯</td><td> 0.3745010</td><td>-0.3236315</td><td> 0.01536320</td><td>s_7_4  </td><td>Rural</td><td> 7</td><td> 4</td><td>1</td><td> 1</td><td>NA</td></tr>\n",
       "\t<tr><td> 0.485874830</td><td>-0.8243874</td><td> 0.8591528</td><td>-0.311320186</td><td> 1.01401656</td><td> 0.9133768</td><td>-0.018093942</td><td> 0.8443490</td><td> 0.8582242</td><td> 0.2683705</td><td>⋯</td><td> 0.3791121</td><td>-0.3519883</td><td> 0.02689613</td><td>s_7_6  </td><td>Rural</td><td> 7</td><td> 6</td><td>1</td><td> 1</td><td>NA</td></tr>\n",
       "\t<tr><td> 0.500466059</td><td>-0.7255103</td><td> 0.7666859</td><td>-0.334486854</td><td> 0.96644503</td><td> 0.8853111</td><td> 0.054037423</td><td> 0.8631729</td><td> 0.7449448</td><td> 0.1865751</td><td>⋯</td><td> 0.3655200</td><td>-0.3267416</td><td> 0.02805910</td><td>s_7_7  </td><td>Rural</td><td> 7</td><td> 7</td><td>1</td><td> 1</td><td>NA</td></tr>\n",
       "\t<tr><td> 0.383339716</td><td>-0.7284842</td><td> 0.7516327</td><td>-0.228129234</td><td> 0.80663636</td><td> 0.8084770</td><td> 0.055645078</td><td> 0.7904718</td><td> 0.7195484</td><td> 0.1438823</td><td>⋯</td><td> 0.3370462</td><td>-0.2854892</td><td> 0.08145341</td><td>s_7_11 </td><td>Rural</td><td> 7</td><td>11</td><td>0</td><td> 1</td><td>NA</td></tr>\n",
       "\t<tr><td> 0.487021405</td><td>-0.8141177</td><td> 0.8528367</td><td>-0.323166125</td><td> 0.98683407</td><td> 0.9115721</td><td> 0.033848338</td><td> 0.8713009</td><td> 0.8270036</td><td> 0.2160392</td><td>⋯</td><td> 0.3963424</td><td>-0.3526838</td><td> 0.03093785</td><td>s_7_13 </td><td>Rural</td><td> 7</td><td>13</td><td>1</td><td> 1</td><td>NA</td></tr>\n",
       "\t<tr><td> 0.470562432</td><td>-0.7839890</td><td> 0.8372045</td><td>-0.294256429</td><td> 0.96087226</td><td> 0.8963394</td><td> 0.085675503</td><td> 0.9072836</td><td> 0.7728210</td><td> 0.1428933</td><td>⋯</td><td> 0.3898026</td><td>-0.3309170</td><td> 0.04385911</td><td>s_7_16 </td><td>Rural</td><td> 7</td><td>16</td><td>1</td><td> 1</td><td>NA</td></tr>\n",
       "\t<tr><td> 0.456292609</td><td>-0.7791514</td><td> 0.8224658</td><td>-0.279837066</td><td> 0.91896483</td><td> 0.8811330</td><td> 0.093119174</td><td> 0.8895450</td><td> 0.7657593</td><td> 0.1325382</td><td>⋯</td><td> 0.3870607</td><td>-0.3253173</td><td> 0.06410631</td><td>s_7_19 </td><td>Rural</td><td> 7</td><td>19</td><td>0</td><td> 1</td><td>NA</td></tr>\n",
       "</tbody>\n",
       "</table>\n"
      ],
      "text/latex": [
       "A tibble: 16 × 47\n",
       "\\begin{tabular}{lllllllllllllllllllll}\n",
       " V1 & V2 & V3 & V4 & V5 & V6 & V7 & V8 & V9 & V10 & ⋯ & V38 & V39 & V40 & Sample & Habitat & Population & Plant & HCN\\_Result & Locus.Li & Locus.Ac\\\\\n",
       " <dbl> & <dbl> & <dbl> & <dbl> & <dbl> & <dbl> & <dbl> & <dbl> & <dbl> & <dbl> & ⋯ & <dbl> & <dbl> & <dbl> & <chr> & <chr> & <dbl> & <dbl> & <dbl> & <dbl> & <dbl>\\\\\n",
       "\\hline\n",
       "\t -0.005617363 &  1.0697847 & -0.5024424 &  0.157564016 & -0.08232880 & -1.1145068 &  0.067288292 & -0.9609354 & -0.8801344 & -0.4270799 & ⋯ & -0.5227883 &  0.4320739 & -0.69640908 & s\\_40\\_1  & Urban & 40 &  1 & 0 & NA &  0\\\\\n",
       "\t  0.002924919 &  1.0383909 & -0.5494872 &  0.080856473 & -0.09368992 & -1.0823296 &  0.030548345 & -0.9852586 & -0.8732116 & -0.3525698 & ⋯ & -0.5201481 &  0.4232379 & -0.67143295 & s\\_40\\_3  & Urban & 40 &  3 & 0 & NA &  0\\\\\n",
       "\t -0.016661436 &  1.1408276 & -0.5399565 &  0.001989798 & -0.17202259 & -1.1586186 & -0.008789468 & -1.0383168 & -0.9552968 & -0.4004659 & ⋯ & -0.4820754 &  0.3737000 & -0.73896766 & s\\_40\\_6  & Urban & 40 &  6 & 0 & NA &  0\\\\\n",
       "\t  0.007613199 &  0.9993781 & -0.5403098 &  0.065795046 & -0.09547859 & -1.0413281 &  0.025307965 & -0.9670805 & -0.8451226 & -0.3224720 & ⋯ & -0.5067304 &  0.4081111 & -0.68262243 & s\\_40\\_7  & Urban & 40 &  7 & 0 & NA &  0\\\\\n",
       "\t -0.011847006 &  0.8827060 & -0.5081457 &  0.024444624 & -0.10484058 & -0.9549403 & -0.011219829 & -0.8942593 & -0.7767693 & -0.2510335 & ⋯ & -0.4421859 &  0.3604042 & -0.57395877 & s\\_40\\_8  & Urban & 40 &  8 & 0 & NA &  1\\\\\n",
       "\t  0.001826566 &  1.1538633 & -0.6394620 & -0.035023290 & -0.15110434 & -1.1835670 & -0.026128898 & -1.1085903 & -0.9861794 & -0.3451421 & ⋯ & -0.5423083 &  0.4256995 & -0.69879378 & s\\_40\\_10 & Urban & 40 & 10 & 0 & NA &  0\\\\\n",
       "\t -0.010783260 &  1.1208261 & -0.5761545 & -0.020344187 & -0.16559485 & -1.1485178 & -0.028249625 & -1.0724708 & -0.9557913 & -0.3467826 & ⋯ & -0.4952918 &  0.3802485 & -0.72280695 & s\\_40\\_12 & Urban & 40 & 12 & 1 & NA &  1\\\\\n",
       "\t -0.004456537 &  1.0677289 & -0.6103176 &  0.012872695 & -0.11103849 & -1.1302928 & -0.016160953 & -1.0470966 & -0.9233735 & -0.3151306 & ⋯ & -0.5264964 &  0.4280305 & -0.62407605 & s\\_40\\_17 & Urban & 40 & 17 & 0 & NA &  1\\\\\n",
       "\t -0.014688577 &  1.1952080 & -0.5657764 & -0.061119741 & -0.21654108 & -1.1883915 & -0.029429363 & -1.0841253 & -0.9988729 & -0.4072513 & ⋯ & -0.4822951 &  0.3597380 & -0.79391261 & s\\_40\\_19 & Urban & 40 & 19 & 0 & NA &  0\\\\\n",
       "\t  0.401805612 & -0.7566217 &  0.7961474 & -0.294452913 &  0.86369196 &  0.8251314 &  0.048288163 &  0.7958011 &  0.7411230 &  0.1745616 & ⋯ &  0.3745010 & -0.3236315 &  0.01536320 & s\\_7\\_4   & Rural &  7 &  4 & 1 &  1 & NA\\\\\n",
       "\t  0.485874830 & -0.8243874 &  0.8591528 & -0.311320186 &  1.01401656 &  0.9133768 & -0.018093942 &  0.8443490 &  0.8582242 &  0.2683705 & ⋯ &  0.3791121 & -0.3519883 &  0.02689613 & s\\_7\\_6   & Rural &  7 &  6 & 1 &  1 & NA\\\\\n",
       "\t  0.500466059 & -0.7255103 &  0.7666859 & -0.334486854 &  0.96644503 &  0.8853111 &  0.054037423 &  0.8631729 &  0.7449448 &  0.1865751 & ⋯ &  0.3655200 & -0.3267416 &  0.02805910 & s\\_7\\_7   & Rural &  7 &  7 & 1 &  1 & NA\\\\\n",
       "\t  0.383339716 & -0.7284842 &  0.7516327 & -0.228129234 &  0.80663636 &  0.8084770 &  0.055645078 &  0.7904718 &  0.7195484 &  0.1438823 & ⋯ &  0.3370462 & -0.2854892 &  0.08145341 & s\\_7\\_11  & Rural &  7 & 11 & 0 &  1 & NA\\\\\n",
       "\t  0.487021405 & -0.8141177 &  0.8528367 & -0.323166125 &  0.98683407 &  0.9115721 &  0.033848338 &  0.8713009 &  0.8270036 &  0.2160392 & ⋯ &  0.3963424 & -0.3526838 &  0.03093785 & s\\_7\\_13  & Rural &  7 & 13 & 1 &  1 & NA\\\\\n",
       "\t  0.470562432 & -0.7839890 &  0.8372045 & -0.294256429 &  0.96087226 &  0.8963394 &  0.085675503 &  0.9072836 &  0.7728210 &  0.1428933 & ⋯ &  0.3898026 & -0.3309170 &  0.04385911 & s\\_7\\_16  & Rural &  7 & 16 & 1 &  1 & NA\\\\\n",
       "\t  0.456292609 & -0.7791514 &  0.8224658 & -0.279837066 &  0.91896483 &  0.8811330 &  0.093119174 &  0.8895450 &  0.7657593 &  0.1325382 & ⋯ &  0.3870607 & -0.3253173 &  0.06410631 & s\\_7\\_19  & Rural &  7 & 19 & 0 &  1 & NA\\\\\n",
       "\\end{tabular}\n"
      ],
      "text/markdown": [
       "\n",
       "A tibble: 16 × 47\n",
       "\n",
       "| V1 &lt;dbl&gt; | V2 &lt;dbl&gt; | V3 &lt;dbl&gt; | V4 &lt;dbl&gt; | V5 &lt;dbl&gt; | V6 &lt;dbl&gt; | V7 &lt;dbl&gt; | V8 &lt;dbl&gt; | V9 &lt;dbl&gt; | V10 &lt;dbl&gt; | ⋯ ⋯ | V38 &lt;dbl&gt; | V39 &lt;dbl&gt; | V40 &lt;dbl&gt; | Sample &lt;chr&gt; | Habitat &lt;chr&gt; | Population &lt;dbl&gt; | Plant &lt;dbl&gt; | HCN_Result &lt;dbl&gt; | Locus.Li &lt;dbl&gt; | Locus.Ac &lt;dbl&gt; |\n",
       "|---|---|---|---|---|---|---|---|---|---|---|---|---|---|---|---|---|---|---|---|---|\n",
       "| -0.005617363 |  1.0697847 | -0.5024424 |  0.157564016 | -0.08232880 | -1.1145068 |  0.067288292 | -0.9609354 | -0.8801344 | -0.4270799 | ⋯ | -0.5227883 |  0.4320739 | -0.69640908 | s_40_1  | Urban | 40 |  1 | 0 | NA |  0 |\n",
       "|  0.002924919 |  1.0383909 | -0.5494872 |  0.080856473 | -0.09368992 | -1.0823296 |  0.030548345 | -0.9852586 | -0.8732116 | -0.3525698 | ⋯ | -0.5201481 |  0.4232379 | -0.67143295 | s_40_3  | Urban | 40 |  3 | 0 | NA |  0 |\n",
       "| -0.016661436 |  1.1408276 | -0.5399565 |  0.001989798 | -0.17202259 | -1.1586186 | -0.008789468 | -1.0383168 | -0.9552968 | -0.4004659 | ⋯ | -0.4820754 |  0.3737000 | -0.73896766 | s_40_6  | Urban | 40 |  6 | 0 | NA |  0 |\n",
       "|  0.007613199 |  0.9993781 | -0.5403098 |  0.065795046 | -0.09547859 | -1.0413281 |  0.025307965 | -0.9670805 | -0.8451226 | -0.3224720 | ⋯ | -0.5067304 |  0.4081111 | -0.68262243 | s_40_7  | Urban | 40 |  7 | 0 | NA |  0 |\n",
       "| -0.011847006 |  0.8827060 | -0.5081457 |  0.024444624 | -0.10484058 | -0.9549403 | -0.011219829 | -0.8942593 | -0.7767693 | -0.2510335 | ⋯ | -0.4421859 |  0.3604042 | -0.57395877 | s_40_8  | Urban | 40 |  8 | 0 | NA |  1 |\n",
       "|  0.001826566 |  1.1538633 | -0.6394620 | -0.035023290 | -0.15110434 | -1.1835670 | -0.026128898 | -1.1085903 | -0.9861794 | -0.3451421 | ⋯ | -0.5423083 |  0.4256995 | -0.69879378 | s_40_10 | Urban | 40 | 10 | 0 | NA |  0 |\n",
       "| -0.010783260 |  1.1208261 | -0.5761545 | -0.020344187 | -0.16559485 | -1.1485178 | -0.028249625 | -1.0724708 | -0.9557913 | -0.3467826 | ⋯ | -0.4952918 |  0.3802485 | -0.72280695 | s_40_12 | Urban | 40 | 12 | 1 | NA |  1 |\n",
       "| -0.004456537 |  1.0677289 | -0.6103176 |  0.012872695 | -0.11103849 | -1.1302928 | -0.016160953 | -1.0470966 | -0.9233735 | -0.3151306 | ⋯ | -0.5264964 |  0.4280305 | -0.62407605 | s_40_17 | Urban | 40 | 17 | 0 | NA |  1 |\n",
       "| -0.014688577 |  1.1952080 | -0.5657764 | -0.061119741 | -0.21654108 | -1.1883915 | -0.029429363 | -1.0841253 | -0.9988729 | -0.4072513 | ⋯ | -0.4822951 |  0.3597380 | -0.79391261 | s_40_19 | Urban | 40 | 19 | 0 | NA |  0 |\n",
       "|  0.401805612 | -0.7566217 |  0.7961474 | -0.294452913 |  0.86369196 |  0.8251314 |  0.048288163 |  0.7958011 |  0.7411230 |  0.1745616 | ⋯ |  0.3745010 | -0.3236315 |  0.01536320 | s_7_4   | Rural |  7 |  4 | 1 |  1 | NA |\n",
       "|  0.485874830 | -0.8243874 |  0.8591528 | -0.311320186 |  1.01401656 |  0.9133768 | -0.018093942 |  0.8443490 |  0.8582242 |  0.2683705 | ⋯ |  0.3791121 | -0.3519883 |  0.02689613 | s_7_6   | Rural |  7 |  6 | 1 |  1 | NA |\n",
       "|  0.500466059 | -0.7255103 |  0.7666859 | -0.334486854 |  0.96644503 |  0.8853111 |  0.054037423 |  0.8631729 |  0.7449448 |  0.1865751 | ⋯ |  0.3655200 | -0.3267416 |  0.02805910 | s_7_7   | Rural |  7 |  7 | 1 |  1 | NA |\n",
       "|  0.383339716 | -0.7284842 |  0.7516327 | -0.228129234 |  0.80663636 |  0.8084770 |  0.055645078 |  0.7904718 |  0.7195484 |  0.1438823 | ⋯ |  0.3370462 | -0.2854892 |  0.08145341 | s_7_11  | Rural |  7 | 11 | 0 |  1 | NA |\n",
       "|  0.487021405 | -0.8141177 |  0.8528367 | -0.323166125 |  0.98683407 |  0.9115721 |  0.033848338 |  0.8713009 |  0.8270036 |  0.2160392 | ⋯ |  0.3963424 | -0.3526838 |  0.03093785 | s_7_13  | Rural |  7 | 13 | 1 |  1 | NA |\n",
       "|  0.470562432 | -0.7839890 |  0.8372045 | -0.294256429 |  0.96087226 |  0.8963394 |  0.085675503 |  0.9072836 |  0.7728210 |  0.1428933 | ⋯ |  0.3898026 | -0.3309170 |  0.04385911 | s_7_16  | Rural |  7 | 16 | 1 |  1 | NA |\n",
       "|  0.456292609 | -0.7791514 |  0.8224658 | -0.279837066 |  0.91896483 |  0.8811330 |  0.093119174 |  0.8895450 |  0.7657593 |  0.1325382 | ⋯ |  0.3870607 | -0.3253173 |  0.06410631 | s_7_19  | Rural |  7 | 19 | 0 |  1 | NA |\n",
       "\n"
      ],
      "text/plain": [
       "   V1           V2         V3         V4           V5          V6        \n",
       "1  -0.005617363  1.0697847 -0.5024424  0.157564016 -0.08232880 -1.1145068\n",
       "2   0.002924919  1.0383909 -0.5494872  0.080856473 -0.09368992 -1.0823296\n",
       "3  -0.016661436  1.1408276 -0.5399565  0.001989798 -0.17202259 -1.1586186\n",
       "4   0.007613199  0.9993781 -0.5403098  0.065795046 -0.09547859 -1.0413281\n",
       "5  -0.011847006  0.8827060 -0.5081457  0.024444624 -0.10484058 -0.9549403\n",
       "6   0.001826566  1.1538633 -0.6394620 -0.035023290 -0.15110434 -1.1835670\n",
       "7  -0.010783260  1.1208261 -0.5761545 -0.020344187 -0.16559485 -1.1485178\n",
       "8  -0.004456537  1.0677289 -0.6103176  0.012872695 -0.11103849 -1.1302928\n",
       "9  -0.014688577  1.1952080 -0.5657764 -0.061119741 -0.21654108 -1.1883915\n",
       "10  0.401805612 -0.7566217  0.7961474 -0.294452913  0.86369196  0.8251314\n",
       "11  0.485874830 -0.8243874  0.8591528 -0.311320186  1.01401656  0.9133768\n",
       "12  0.500466059 -0.7255103  0.7666859 -0.334486854  0.96644503  0.8853111\n",
       "13  0.383339716 -0.7284842  0.7516327 -0.228129234  0.80663636  0.8084770\n",
       "14  0.487021405 -0.8141177  0.8528367 -0.323166125  0.98683407  0.9115721\n",
       "15  0.470562432 -0.7839890  0.8372045 -0.294256429  0.96087226  0.8963394\n",
       "16  0.456292609 -0.7791514  0.8224658 -0.279837066  0.91896483  0.8811330\n",
       "   V7           V8         V9         V10        ⋯ V38        V39       \n",
       "1   0.067288292 -0.9609354 -0.8801344 -0.4270799 ⋯ -0.5227883  0.4320739\n",
       "2   0.030548345 -0.9852586 -0.8732116 -0.3525698 ⋯ -0.5201481  0.4232379\n",
       "3  -0.008789468 -1.0383168 -0.9552968 -0.4004659 ⋯ -0.4820754  0.3737000\n",
       "4   0.025307965 -0.9670805 -0.8451226 -0.3224720 ⋯ -0.5067304  0.4081111\n",
       "5  -0.011219829 -0.8942593 -0.7767693 -0.2510335 ⋯ -0.4421859  0.3604042\n",
       "6  -0.026128898 -1.1085903 -0.9861794 -0.3451421 ⋯ -0.5423083  0.4256995\n",
       "7  -0.028249625 -1.0724708 -0.9557913 -0.3467826 ⋯ -0.4952918  0.3802485\n",
       "8  -0.016160953 -1.0470966 -0.9233735 -0.3151306 ⋯ -0.5264964  0.4280305\n",
       "9  -0.029429363 -1.0841253 -0.9988729 -0.4072513 ⋯ -0.4822951  0.3597380\n",
       "10  0.048288163  0.7958011  0.7411230  0.1745616 ⋯  0.3745010 -0.3236315\n",
       "11 -0.018093942  0.8443490  0.8582242  0.2683705 ⋯  0.3791121 -0.3519883\n",
       "12  0.054037423  0.8631729  0.7449448  0.1865751 ⋯  0.3655200 -0.3267416\n",
       "13  0.055645078  0.7904718  0.7195484  0.1438823 ⋯  0.3370462 -0.2854892\n",
       "14  0.033848338  0.8713009  0.8270036  0.2160392 ⋯  0.3963424 -0.3526838\n",
       "15  0.085675503  0.9072836  0.7728210  0.1428933 ⋯  0.3898026 -0.3309170\n",
       "16  0.093119174  0.8895450  0.7657593  0.1325382 ⋯  0.3870607 -0.3253173\n",
       "   V40         Sample  Habitat Population Plant HCN_Result Locus.Li Locus.Ac\n",
       "1  -0.69640908 s_40_1  Urban   40          1    0          NA        0      \n",
       "2  -0.67143295 s_40_3  Urban   40          3    0          NA        0      \n",
       "3  -0.73896766 s_40_6  Urban   40          6    0          NA        0      \n",
       "4  -0.68262243 s_40_7  Urban   40          7    0          NA        0      \n",
       "5  -0.57395877 s_40_8  Urban   40          8    0          NA        1      \n",
       "6  -0.69879378 s_40_10 Urban   40         10    0          NA        0      \n",
       "7  -0.72280695 s_40_12 Urban   40         12    1          NA        1      \n",
       "8  -0.62407605 s_40_17 Urban   40         17    0          NA        1      \n",
       "9  -0.79391261 s_40_19 Urban   40         19    0          NA        0      \n",
       "10  0.01536320 s_7_4   Rural    7          4    1           1       NA      \n",
       "11  0.02689613 s_7_6   Rural    7          6    1           1       NA      \n",
       "12  0.02805910 s_7_7   Rural    7          7    1           1       NA      \n",
       "13  0.08145341 s_7_11  Rural    7         11    0           1       NA      \n",
       "14  0.03093785 s_7_13  Rural    7         13    1           1       NA      \n",
       "15  0.04385911 s_7_16  Rural    7         16    1           1       NA      \n",
       "16  0.06410631 s_7_19  Rural    7         19    0           1       NA      "
      ]
     },
     "metadata": {},
     "output_type": "display_data"
    }
   ],
   "source": [
    "# What are those outlier cluster?\n",
    "gwsd_umap_layout %>% filter((V1 > 0.3 & V2 < -0.5) | ( V1 < 0.1 & V2 > 0.5))"
   ]
  },
  {
   "cell_type": "markdown",
   "metadata": {},
   "source": [
    "### Admixture\n",
    "\n",
    "- I estimated admixture proportions using `NGSadmix` with genotype likelihoods across all samples estimated in `ANGSD`\n",
    "    - I ran all K values from 2 to 10 10 times, each with a different random seed\n",
    "    - Uses same 4fold SNPs as above\n",
    "- I used Evanno's delta-K method implemented in `CLUMPAK` to estimate the upper-most level of structure (i.e., \"optimal\" K)"
   ]
  },
  {
   "cell_type": "code",
   "execution_count": 17,
   "metadata": {},
   "outputs": [
    {
     "data": {
      "text/html": [
       "'Tue Mar 29 10:55:30 2022: Optimal K by Evanno is: 4'"
      ],
      "text/latex": [
       "'Tue Mar 29 10:55:30 2022: Optimal K by Evanno is: 4'"
      ],
      "text/markdown": [
       "'Tue Mar 29 10:55:30 2022: Optimal K by Evanno is: 4'"
      ],
      "text/plain": [
       "[1] \"Tue Mar 29 10:55:30 2022: Optimal K by Evanno is: 4\""
      ]
     },
     "metadata": {},
     "output_type": "display_data"
    }
   ],
   "source": [
    "# Best K by Evanno is 4. Load logs for K = 4\n",
    "clumpak_log_path <- paste0(results_prefix, 'population_structure/bestKbyEvanno/output.log')\n",
    "clumpak_log <- readLines(clumpak_log_path)\n",
    "optimal_K <- clumpak_log[grep('Optimal K', clumpak_log)]\n",
    "optimal_K"
   ]
  },
  {
   "cell_type": "code",
   "execution_count": 18,
   "metadata": {},
   "outputs": [
    {
     "data": {
      "image/png": "[encoded data removed]"
     },
     "metadata": {},
     "output_type": "display_data"
    }
   ],
   "source": [
    "# Peak in Delta K looks good\n",
    "library(\"IRdisplay\")\n",
    "display_png(file=\"/scratch/projects/trifolium/gwsd/results/population_structure/bestKbyEvanno/Best_K_By_Evanno-DeltaKByKGraph.png\") "
   ]
  },
  {
   "cell_type": "markdown",
   "metadata": {},
   "source": [
    "#### K = 4 (Best K)"
   ]
  },
  {
   "cell_type": "code",
   "execution_count": 19,
   "metadata": {},
   "outputs": [],
   "source": [
    "ngsadmix_inpath <- paste0(results_prefix, 'population_structure/ngsadmix/K4/')\n",
    "like_df <- list.files(ngsadmix_inpath, pattern = '*.log', full.names = TRUE) %>%\n",
    "    map_dfr(., load_ngsadmix_log)"
   ]
  },
  {
   "cell_type": "code",
   "execution_count": 20,
   "metadata": {},
   "outputs": [
    {
     "data": {
      "text/html": [
       "<table class=\"dataframe\">\n",
       "<caption>A data.frame: 10 × 2</caption>\n",
       "<thead>\n",
       "\t<tr><th scope=col>seed</th><th scope=col>like</th></tr>\n",
       "\t<tr><th scope=col>&lt;dbl&gt;</th><th scope=col>&lt;dbl&gt;</th></tr>\n",
       "</thead>\n",
       "<tbody>\n",
       "\t<tr><td> 1</td><td>-14323832</td></tr>\n",
       "\t<tr><td>10</td><td>-14321541</td></tr>\n",
       "\t<tr><td> 2</td><td>-14321483</td></tr>\n",
       "\t<tr><td> 3</td><td>-14322796</td></tr>\n",
       "\t<tr><td> 4</td><td>-14321484</td></tr>\n",
       "\t<tr><td> 5</td><td>-14322153</td></tr>\n",
       "\t<tr><td> 6</td><td>-14324926</td></tr>\n",
       "\t<tr><td> 7</td><td>-14321572</td></tr>\n",
       "\t<tr><td> 8</td><td>-14321359</td></tr>\n",
       "\t<tr><td> 9</td><td>-14321054</td></tr>\n",
       "</tbody>\n",
       "</table>\n"
      ],
      "text/latex": [
       "A data.frame: 10 × 2\n",
       "\\begin{tabular}{ll}\n",
       " seed & like\\\\\n",
       " <dbl> & <dbl>\\\\\n",
       "\\hline\n",
       "\t  1 & -14323832\\\\\n",
       "\t 10 & -14321541\\\\\n",
       "\t  2 & -14321483\\\\\n",
       "\t  3 & -14322796\\\\\n",
       "\t  4 & -14321484\\\\\n",
       "\t  5 & -14322153\\\\\n",
       "\t  6 & -14324926\\\\\n",
       "\t  7 & -14321572\\\\\n",
       "\t  8 & -14321359\\\\\n",
       "\t  9 & -14321054\\\\\n",
       "\\end{tabular}\n"
      ],
      "text/markdown": [
       "\n",
       "A data.frame: 10 × 2\n",
       "\n",
       "| seed &lt;dbl&gt; | like &lt;dbl&gt; |\n",
       "|---|---|\n",
       "|  1 | -14323832 |\n",
       "| 10 | -14321541 |\n",
       "|  2 | -14321483 |\n",
       "|  3 | -14322796 |\n",
       "|  4 | -14321484 |\n",
       "|  5 | -14322153 |\n",
       "|  6 | -14324926 |\n",
       "|  7 | -14321572 |\n",
       "|  8 | -14321359 |\n",
       "|  9 | -14321054 |\n",
       "\n"
      ],
      "text/plain": [
       "   seed like     \n",
       "1   1   -14323832\n",
       "2  10   -14321541\n",
       "3   2   -14321483\n",
       "4   3   -14322796\n",
       "5   4   -14321484\n",
       "6   5   -14322153\n",
       "7   6   -14324926\n",
       "8   7   -14321572\n",
       "9   8   -14321359\n",
       "10  9   -14321054"
      ]
     },
     "metadata": {},
     "output_type": "display_data"
    }
   ],
   "source": [
    "like_df"
   ]
  },
  {
   "cell_type": "code",
   "execution_count": 21,
   "metadata": {
    "scrolled": true
   },
   "outputs": [
    {
     "data": {
      "text/html": [
       "<table class=\"dataframe\">\n",
       "<caption>A data.frame: 1 × 2</caption>\n",
       "<thead>\n",
       "\t<tr><th scope=col>seed</th><th scope=col>like</th></tr>\n",
       "\t<tr><th scope=col>&lt;dbl&gt;</th><th scope=col>&lt;dbl&gt;</th></tr>\n",
       "</thead>\n",
       "<tbody>\n",
       "\t<tr><td>6</td><td>-14324926</td></tr>\n",
       "</tbody>\n",
       "</table>\n"
      ],
      "text/latex": [
       "A data.frame: 1 × 2\n",
       "\\begin{tabular}{ll}\n",
       " seed & like\\\\\n",
       " <dbl> & <dbl>\\\\\n",
       "\\hline\n",
       "\t 6 & -14324926\\\\\n",
       "\\end{tabular}\n"
      ],
      "text/markdown": [
       "\n",
       "A data.frame: 1 × 2\n",
       "\n",
       "| seed &lt;dbl&gt; | like &lt;dbl&gt; |\n",
       "|---|---|\n",
       "| 6 | -14324926 |\n",
       "\n"
      ],
      "text/plain": [
       "  seed like     \n",
       "1 6    -14324926"
      ]
     },
     "metadata": {},
     "output_type": "display_data"
    }
   ],
   "source": [
    "# Get lowest likelihood for plotting\n",
    "like_df %>%\n",
    "    filter(like == min(like))"
   ]
  },
  {
   "cell_type": "code",
   "execution_count": 22,
   "metadata": {
    "scrolled": true
   },
   "outputs": [
    {
     "data": {
      "text/html": [
       "<table class=\"dataframe\">\n",
       "<caption>A tibble: 6 × 9</caption>\n",
       "<thead>\n",
       "\t<tr><th scope=col>Sample</th><th scope=col>Habitat</th><th scope=col>Population</th><th scope=col>Plant</th><th scope=col>HCN_Result</th><th scope=col>Locus.Li</th><th scope=col>Locus.Ac</th><th scope=col>name</th><th scope=col>Probs</th></tr>\n",
       "\t<tr><th scope=col>&lt;chr&gt;</th><th scope=col>&lt;chr&gt;</th><th scope=col>&lt;dbl&gt;</th><th scope=col>&lt;dbl&gt;</th><th scope=col>&lt;dbl&gt;</th><th scope=col>&lt;dbl&gt;</th><th scope=col>&lt;dbl&gt;</th><th scope=col>&lt;chr&gt;</th><th scope=col>&lt;dbl&gt;</th></tr>\n",
       "</thead>\n",
       "<tbody>\n",
       "\t<tr><td>s_40_1</td><td>Urban</td><td>40</td><td>1</td><td>0</td><td>NA</td><td>0</td><td>X1</td><td>0.27582</td></tr>\n",
       "\t<tr><td>s_40_1</td><td>Urban</td><td>40</td><td>1</td><td>0</td><td>NA</td><td>0</td><td>X2</td><td>0.72418</td></tr>\n",
       "\t<tr><td>s_40_1</td><td>Urban</td><td>40</td><td>1</td><td>0</td><td>NA</td><td>0</td><td>X3</td><td>0.00000</td></tr>\n",
       "\t<tr><td>s_40_1</td><td>Urban</td><td>40</td><td>1</td><td>0</td><td>NA</td><td>0</td><td>X4</td><td>0.00000</td></tr>\n",
       "\t<tr><td>s_40_3</td><td>Urban</td><td>40</td><td>3</td><td>0</td><td>NA</td><td>0</td><td>X1</td><td>0.00000</td></tr>\n",
       "\t<tr><td>s_40_3</td><td>Urban</td><td>40</td><td>3</td><td>0</td><td>NA</td><td>0</td><td>X2</td><td>1.00000</td></tr>\n",
       "</tbody>\n",
       "</table>\n"
      ],
      "text/latex": [
       "A tibble: 6 × 9\n",
       "\\begin{tabular}{lllllllll}\n",
       " Sample & Habitat & Population & Plant & HCN\\_Result & Locus.Li & Locus.Ac & name & Probs\\\\\n",
       " <chr> & <chr> & <dbl> & <dbl> & <dbl> & <dbl> & <dbl> & <chr> & <dbl>\\\\\n",
       "\\hline\n",
       "\t s\\_40\\_1 & Urban & 40 & 1 & 0 & NA & 0 & X1 & 0.27582\\\\\n",
       "\t s\\_40\\_1 & Urban & 40 & 1 & 0 & NA & 0 & X2 & 0.72418\\\\\n",
       "\t s\\_40\\_1 & Urban & 40 & 1 & 0 & NA & 0 & X3 & 0.00000\\\\\n",
       "\t s\\_40\\_1 & Urban & 40 & 1 & 0 & NA & 0 & X4 & 0.00000\\\\\n",
       "\t s\\_40\\_3 & Urban & 40 & 3 & 0 & NA & 0 & X1 & 0.00000\\\\\n",
       "\t s\\_40\\_3 & Urban & 40 & 3 & 0 & NA & 0 & X2 & 1.00000\\\\\n",
       "\\end{tabular}\n"
      ],
      "text/markdown": [
       "\n",
       "A tibble: 6 × 9\n",
       "\n",
       "| Sample &lt;chr&gt; | Habitat &lt;chr&gt; | Population &lt;dbl&gt; | Plant &lt;dbl&gt; | HCN_Result &lt;dbl&gt; | Locus.Li &lt;dbl&gt; | Locus.Ac &lt;dbl&gt; | name &lt;chr&gt; | Probs &lt;dbl&gt; |\n",
       "|---|---|---|---|---|---|---|---|---|\n",
       "| s_40_1 | Urban | 40 | 1 | 0 | NA | 0 | X1 | 0.27582 |\n",
       "| s_40_1 | Urban | 40 | 1 | 0 | NA | 0 | X2 | 0.72418 |\n",
       "| s_40_1 | Urban | 40 | 1 | 0 | NA | 0 | X3 | 0.00000 |\n",
       "| s_40_1 | Urban | 40 | 1 | 0 | NA | 0 | X4 | 0.00000 |\n",
       "| s_40_3 | Urban | 40 | 3 | 0 | NA | 0 | X1 | 0.00000 |\n",
       "| s_40_3 | Urban | 40 | 3 | 0 | NA | 0 | X2 | 1.00000 |\n",
       "\n"
      ],
      "text/plain": [
       "  Sample Habitat Population Plant HCN_Result Locus.Li Locus.Ac name Probs  \n",
       "1 s_40_1 Urban   40         1     0          NA       0        X1   0.27582\n",
       "2 s_40_1 Urban   40         1     0          NA       0        X2   0.72418\n",
       "3 s_40_1 Urban   40         1     0          NA       0        X3   0.00000\n",
       "4 s_40_1 Urban   40         1     0          NA       0        X4   0.00000\n",
       "5 s_40_3 Urban   40         3     0          NA       0        X1   0.00000\n",
       "6 s_40_3 Urban   40         3     0          NA       0        X2   1.00000"
      ]
     },
     "metadata": {},
     "output_type": "display_data"
    }
   ],
   "source": [
    "# Load admixture results for seed with lowest log likelihood\n",
    "admix_results <- paste0(results_prefix, 'population_structure/ngsadmix/K4/ngsadmix_4fold_maf0.05_K4_seed6.qopt')\n",
    "admix <- suppressMessages(read_delim(admix_results, col_names = FALSE, delim = \" \")) %>%\n",
    "    dplyr::select(-X5) %>%\n",
    "    bind_cols(., samples) %>% \n",
    "    pivot_longer(X1:X4, values_to = 'Probs') %>% \n",
    "    mutate(Probs = round(Probs, 5))\n",
    "head(admix)"
   ]
  },
  {
   "cell_type": "code",
   "execution_count": 23,
   "metadata": {},
   "outputs": [
    {
     "data": {
      "image/png": "[encoded data removed]",
      "text/plain": [
       "plot without title"
      ]
     },
     "metadata": {},
     "output_type": "display_data"
    }
   ],
   "source": [
    "cols_admix <- wes_palette(\"Darjeeling1\", n = 4, type = 'continuous')\n",
    "admix_plot_K4 <- \n",
    "  ggplot(admix, aes(factor(Sample), Probs, fill = factor(name), color = factor(name))) +\n",
    "  geom_col(width=1) +\n",
    "  facet_grid(~fct_relevel(Habitat,'Rural', 'Suburban', 'Urban'), switch = \"x\", scales = \"free\", space = \"free\") +\n",
    "  theme_minimal() + labs(x = \"\", title = \"K=4 (Best K)\", y = \"Ancestry\") +\n",
    "  scale_y_continuous(expand = c(0, 0)) +\n",
    "  scale_x_discrete(expand = expansion(add = 1)) +\n",
    "  scale_fill_manual(values = cols_admix) + \n",
    "  scale_color_manual(values = cols_admix) +\n",
    "  theme(\n",
    "    legend.position = 'none',\n",
    "    panel.spacing.x = unit(0.1, \"lines\"),\n",
    "    axis.text.x = element_blank(),\n",
    "    panel.grid = element_blank(),\n",
    "    axis.text = element_text(size=16),\n",
    "    axis.title = element_text(size=20),\n",
    "    strip.text.x = element_text(size = 16),\n",
    "    plot.title = element_text(size = 23, face = 'bold'),\n",
    "    axis.text.y = element_blank()\n",
    "  ) \n",
    "admix_plot_K4"
   ]
  },
  {
   "cell_type": "code",
   "execution_count": 24,
   "metadata": {},
   "outputs": [],
   "source": [
    "figures_path <- \"/scratch/projects/trifolium/gwsd/figures_forThesis/\"\n",
    "ggsave(filename = paste0(figures_path, 'admix_K4.pdf'), plot = admix_plot_K4, device = 'pdf', \n",
    "       width = 20, height = 3, units = 'in', dpi = 600, )"
   ]
  },
  {
   "cell_type": "markdown",
   "metadata": {},
   "source": [
    "#### K = 3"
   ]
  },
  {
   "cell_type": "code",
   "execution_count": 25,
   "metadata": {},
   "outputs": [
    {
     "data": {
      "text/html": [
       "<table class=\"dataframe\">\n",
       "<caption>A data.frame: 1 × 2</caption>\n",
       "<thead>\n",
       "\t<tr><th scope=col>seed</th><th scope=col>like</th></tr>\n",
       "\t<tr><th scope=col>&lt;dbl&gt;</th><th scope=col>&lt;dbl&gt;</th></tr>\n",
       "</thead>\n",
       "<tbody>\n",
       "\t<tr><td>8</td><td>-14466769</td></tr>\n",
       "</tbody>\n",
       "</table>\n"
      ],
      "text/latex": [
       "A data.frame: 1 × 2\n",
       "\\begin{tabular}{ll}\n",
       " seed & like\\\\\n",
       " <dbl> & <dbl>\\\\\n",
       "\\hline\n",
       "\t 8 & -14466769\\\\\n",
       "\\end{tabular}\n"
      ],
      "text/markdown": [
       "\n",
       "A data.frame: 1 × 2\n",
       "\n",
       "| seed &lt;dbl&gt; | like &lt;dbl&gt; |\n",
       "|---|---|\n",
       "| 8 | -14466769 |\n",
       "\n"
      ],
      "text/plain": [
       "  seed like     \n",
       "1 8    -14466769"
      ]
     },
     "metadata": {},
     "output_type": "display_data"
    }
   ],
   "source": [
    "ngsadmix_inpath <- paste0(results_prefix, 'population_structure/ngsadmix/K3/')\n",
    "like_df <- list.files(ngsadmix_inpath, pattern = '*.log', full.names = TRUE) %>%\n",
    "    map_dfr(., load_ngsadmix_log)\n",
    "# Get lowest likelihood for plotting\n",
    "like_df %>%\n",
    "    filter(like == min(like))"
   ]
  },
  {
   "cell_type": "code",
   "execution_count": 26,
   "metadata": {},
   "outputs": [
    {
     "data": {
      "text/html": [
       "<table class=\"dataframe\">\n",
       "<caption>A tibble: 6 × 9</caption>\n",
       "<thead>\n",
       "\t<tr><th scope=col>Sample</th><th scope=col>Habitat</th><th scope=col>Population</th><th scope=col>Plant</th><th scope=col>HCN_Result</th><th scope=col>Locus.Li</th><th scope=col>Locus.Ac</th><th scope=col>name</th><th scope=col>Probs</th></tr>\n",
       "\t<tr><th scope=col>&lt;chr&gt;</th><th scope=col>&lt;chr&gt;</th><th scope=col>&lt;dbl&gt;</th><th scope=col>&lt;dbl&gt;</th><th scope=col>&lt;dbl&gt;</th><th scope=col>&lt;dbl&gt;</th><th scope=col>&lt;dbl&gt;</th><th scope=col>&lt;chr&gt;</th><th scope=col>&lt;dbl&gt;</th></tr>\n",
       "</thead>\n",
       "<tbody>\n",
       "\t<tr><td>s_40_1</td><td>Urban</td><td>40</td><td>1</td><td>0</td><td>NA</td><td>0</td><td>X1</td><td>0.32493</td></tr>\n",
       "\t<tr><td>s_40_1</td><td>Urban</td><td>40</td><td>1</td><td>0</td><td>NA</td><td>0</td><td>X2</td><td>0.00052</td></tr>\n",
       "\t<tr><td>s_40_1</td><td>Urban</td><td>40</td><td>1</td><td>0</td><td>NA</td><td>0</td><td>X3</td><td>0.67454</td></tr>\n",
       "\t<tr><td>s_40_3</td><td>Urban</td><td>40</td><td>3</td><td>0</td><td>NA</td><td>0</td><td>X1</td><td>0.27263</td></tr>\n",
       "\t<tr><td>s_40_3</td><td>Urban</td><td>40</td><td>3</td><td>0</td><td>NA</td><td>0</td><td>X2</td><td>0.35937</td></tr>\n",
       "\t<tr><td>s_40_3</td><td>Urban</td><td>40</td><td>3</td><td>0</td><td>NA</td><td>0</td><td>X3</td><td>0.36800</td></tr>\n",
       "</tbody>\n",
       "</table>\n"
      ],
      "text/latex": [
       "A tibble: 6 × 9\n",
       "\\begin{tabular}{lllllllll}\n",
       " Sample & Habitat & Population & Plant & HCN\\_Result & Locus.Li & Locus.Ac & name & Probs\\\\\n",
       " <chr> & <chr> & <dbl> & <dbl> & <dbl> & <dbl> & <dbl> & <chr> & <dbl>\\\\\n",
       "\\hline\n",
       "\t s\\_40\\_1 & Urban & 40 & 1 & 0 & NA & 0 & X1 & 0.32493\\\\\n",
       "\t s\\_40\\_1 & Urban & 40 & 1 & 0 & NA & 0 & X2 & 0.00052\\\\\n",
       "\t s\\_40\\_1 & Urban & 40 & 1 & 0 & NA & 0 & X3 & 0.67454\\\\\n",
       "\t s\\_40\\_3 & Urban & 40 & 3 & 0 & NA & 0 & X1 & 0.27263\\\\\n",
       "\t s\\_40\\_3 & Urban & 40 & 3 & 0 & NA & 0 & X2 & 0.35937\\\\\n",
       "\t s\\_40\\_3 & Urban & 40 & 3 & 0 & NA & 0 & X3 & 0.36800\\\\\n",
       "\\end{tabular}\n"
      ],
      "text/markdown": [
       "\n",
       "A tibble: 6 × 9\n",
       "\n",
       "| Sample &lt;chr&gt; | Habitat &lt;chr&gt; | Population &lt;dbl&gt; | Plant &lt;dbl&gt; | HCN_Result &lt;dbl&gt; | Locus.Li &lt;dbl&gt; | Locus.Ac &lt;dbl&gt; | name &lt;chr&gt; | Probs &lt;dbl&gt; |\n",
       "|---|---|---|---|---|---|---|---|---|\n",
       "| s_40_1 | Urban | 40 | 1 | 0 | NA | 0 | X1 | 0.32493 |\n",
       "| s_40_1 | Urban | 40 | 1 | 0 | NA | 0 | X2 | 0.00052 |\n",
       "| s_40_1 | Urban | 40 | 1 | 0 | NA | 0 | X3 | 0.67454 |\n",
       "| s_40_3 | Urban | 40 | 3 | 0 | NA | 0 | X1 | 0.27263 |\n",
       "| s_40_3 | Urban | 40 | 3 | 0 | NA | 0 | X2 | 0.35937 |\n",
       "| s_40_3 | Urban | 40 | 3 | 0 | NA | 0 | X3 | 0.36800 |\n",
       "\n"
      ],
      "text/plain": [
       "  Sample Habitat Population Plant HCN_Result Locus.Li Locus.Ac name Probs  \n",
       "1 s_40_1 Urban   40         1     0          NA       0        X1   0.32493\n",
       "2 s_40_1 Urban   40         1     0          NA       0        X2   0.00052\n",
       "3 s_40_1 Urban   40         1     0          NA       0        X3   0.67454\n",
       "4 s_40_3 Urban   40         3     0          NA       0        X1   0.27263\n",
       "5 s_40_3 Urban   40         3     0          NA       0        X2   0.35937\n",
       "6 s_40_3 Urban   40         3     0          NA       0        X3   0.36800"
      ]
     },
     "metadata": {},
     "output_type": "display_data"
    }
   ],
   "source": [
    "# Load admixture results for seed with lowest log likelihood\n",
    "admix_results <- paste0(results_prefix, 'population_structure/ngsadmix/K3/ngsadmix_4fold_maf0.05_K3_seed8.qopt')\n",
    "admix <- suppressMessages(read_delim(admix_results, col_names = FALSE, delim = \" \")) %>%\n",
    "    dplyr::select(-X4) %>%\n",
    "    bind_cols(., samples) %>% \n",
    "    pivot_longer(X1:X3, values_to = 'Probs') %>% \n",
    "    mutate(Probs = round(Probs, 5))\n",
    "head(admix)"
   ]
  },
  {
   "cell_type": "code",
   "execution_count": 27,
   "metadata": {},
   "outputs": [
    {
     "data": {
      "image/png": "[encoded data removed]",
      "text/plain": [
       "plot without title"
      ]
     },
     "metadata": {},
     "output_type": "display_data"
    }
   ],
   "source": [
    "cols_admix <- wes_palette(\"Darjeeling1\", n = 3, type = 'continuous')\n",
    "admix_plot_K3 <- \n",
    "  ggplot(admix, aes(factor(Sample), Probs, fill = factor(name), color = factor(name))) +\n",
    "  geom_col(width=1) +\n",
    "  facet_grid(~fct_relevel(Habitat,'Rural', 'Suburban', 'Urban'), switch = \"x\", scales = \"free\", space = \"free\") +\n",
    "  theme_minimal() + labs(x = \"\", title = \"K=3\", y = \"Ancestry\") +\n",
    "  scale_y_continuous(expand = c(0, 0)) +\n",
    "  scale_x_discrete(expand = expansion(add = 1)) +\n",
    "  scale_fill_manual(values = cols_admix) + \n",
    "  scale_color_manual(values = cols_admix) +\n",
    "  theme(\n",
    "    legend.position = 'none',\n",
    "    panel.spacing.x = unit(0.1, \"lines\"),\n",
    "    axis.text.x = element_blank(),\n",
    "    panel.grid = element_blank(),\n",
    "    axis.text = element_text(size=16),\n",
    "    axis.title = element_text(size=20),\n",
    "    strip.text.x = element_text(size = 16),\n",
    "    plot.title = element_text(size = 23, face = 'bold'),\n",
    "    axis.text.y = element_blank()\n",
    "  ) \n",
    "admix_plot_K3"
   ]
  },
  {
   "cell_type": "code",
   "execution_count": 28,
   "metadata": {},
   "outputs": [],
   "source": [
    "ggsave(filename = paste0(figures_path, 'admix_K3.pdf'), plot = admix_plot_K3, device = 'pdf', \n",
    "       width = 20, height = 3, units = 'in', dpi = 600, )"
   ]
  },
  {
   "cell_type": "markdown",
   "metadata": {},
   "source": [
    "#### K = 5"
   ]
  },
  {
   "cell_type": "code",
   "execution_count": 29,
   "metadata": {},
   "outputs": [
    {
     "data": {
      "text/html": [
       "<table class=\"dataframe\">\n",
       "<caption>A data.frame: 1 × 2</caption>\n",
       "<thead>\n",
       "\t<tr><th scope=col>seed</th><th scope=col>like</th></tr>\n",
       "\t<tr><th scope=col>&lt;dbl&gt;</th><th scope=col>&lt;dbl&gt;</th></tr>\n",
       "</thead>\n",
       "<tbody>\n",
       "\t<tr><td>2</td><td>-14201342</td></tr>\n",
       "</tbody>\n",
       "</table>\n"
      ],
      "text/latex": [
       "A data.frame: 1 × 2\n",
       "\\begin{tabular}{ll}\n",
       " seed & like\\\\\n",
       " <dbl> & <dbl>\\\\\n",
       "\\hline\n",
       "\t 2 & -14201342\\\\\n",
       "\\end{tabular}\n"
      ],
      "text/markdown": [
       "\n",
       "A data.frame: 1 × 2\n",
       "\n",
       "| seed &lt;dbl&gt; | like &lt;dbl&gt; |\n",
       "|---|---|\n",
       "| 2 | -14201342 |\n",
       "\n"
      ],
      "text/plain": [
       "  seed like     \n",
       "1 2    -14201342"
      ]
     },
     "metadata": {},
     "output_type": "display_data"
    }
   ],
   "source": [
    "ngsadmix_inpath <- paste0(results_prefix, 'population_structure/ngsadmix/K5/')\n",
    "like_df <- list.files(ngsadmix_inpath, pattern = '*.log', full.names = TRUE) %>%\n",
    "    map_dfr(., load_ngsadmix_log)\n",
    "# Get lowest likelihood for plotting\n",
    "like_df %>%\n",
    "    filter(like == min(like))"
   ]
  },
  {
   "cell_type": "code",
   "execution_count": 30,
   "metadata": {},
   "outputs": [
    {
     "data": {
      "text/html": [
       "<table class=\"dataframe\">\n",
       "<caption>A tibble: 6 × 9</caption>\n",
       "<thead>\n",
       "\t<tr><th scope=col>Sample</th><th scope=col>Habitat</th><th scope=col>Population</th><th scope=col>Plant</th><th scope=col>HCN_Result</th><th scope=col>Locus.Li</th><th scope=col>Locus.Ac</th><th scope=col>name</th><th scope=col>Probs</th></tr>\n",
       "\t<tr><th scope=col>&lt;chr&gt;</th><th scope=col>&lt;chr&gt;</th><th scope=col>&lt;dbl&gt;</th><th scope=col>&lt;dbl&gt;</th><th scope=col>&lt;dbl&gt;</th><th scope=col>&lt;dbl&gt;</th><th scope=col>&lt;dbl&gt;</th><th scope=col>&lt;chr&gt;</th><th scope=col>&lt;dbl&gt;</th></tr>\n",
       "</thead>\n",
       "<tbody>\n",
       "\t<tr><td>s_40_1</td><td>Urban</td><td>40</td><td>1</td><td>0</td><td>NA</td><td>0</td><td>X1</td><td>0.00000</td></tr>\n",
       "\t<tr><td>s_40_1</td><td>Urban</td><td>40</td><td>1</td><td>0</td><td>NA</td><td>0</td><td>X2</td><td>0.00000</td></tr>\n",
       "\t<tr><td>s_40_1</td><td>Urban</td><td>40</td><td>1</td><td>0</td><td>NA</td><td>0</td><td>X3</td><td>0.00000</td></tr>\n",
       "\t<tr><td>s_40_1</td><td>Urban</td><td>40</td><td>1</td><td>0</td><td>NA</td><td>0</td><td>X4</td><td>1.00000</td></tr>\n",
       "\t<tr><td>s_40_1</td><td>Urban</td><td>40</td><td>1</td><td>0</td><td>NA</td><td>0</td><td>X5</td><td>0.00000</td></tr>\n",
       "\t<tr><td>s_40_3</td><td>Urban</td><td>40</td><td>3</td><td>0</td><td>NA</td><td>0</td><td>X1</td><td>0.30712</td></tr>\n",
       "</tbody>\n",
       "</table>\n"
      ],
      "text/latex": [
       "A tibble: 6 × 9\n",
       "\\begin{tabular}{lllllllll}\n",
       " Sample & Habitat & Population & Plant & HCN\\_Result & Locus.Li & Locus.Ac & name & Probs\\\\\n",
       " <chr> & <chr> & <dbl> & <dbl> & <dbl> & <dbl> & <dbl> & <chr> & <dbl>\\\\\n",
       "\\hline\n",
       "\t s\\_40\\_1 & Urban & 40 & 1 & 0 & NA & 0 & X1 & 0.00000\\\\\n",
       "\t s\\_40\\_1 & Urban & 40 & 1 & 0 & NA & 0 & X2 & 0.00000\\\\\n",
       "\t s\\_40\\_1 & Urban & 40 & 1 & 0 & NA & 0 & X3 & 0.00000\\\\\n",
       "\t s\\_40\\_1 & Urban & 40 & 1 & 0 & NA & 0 & X4 & 1.00000\\\\\n",
       "\t s\\_40\\_1 & Urban & 40 & 1 & 0 & NA & 0 & X5 & 0.00000\\\\\n",
       "\t s\\_40\\_3 & Urban & 40 & 3 & 0 & NA & 0 & X1 & 0.30712\\\\\n",
       "\\end{tabular}\n"
      ],
      "text/markdown": [
       "\n",
       "A tibble: 6 × 9\n",
       "\n",
       "| Sample &lt;chr&gt; | Habitat &lt;chr&gt; | Population &lt;dbl&gt; | Plant &lt;dbl&gt; | HCN_Result &lt;dbl&gt; | Locus.Li &lt;dbl&gt; | Locus.Ac &lt;dbl&gt; | name &lt;chr&gt; | Probs &lt;dbl&gt; |\n",
       "|---|---|---|---|---|---|---|---|---|\n",
       "| s_40_1 | Urban | 40 | 1 | 0 | NA | 0 | X1 | 0.00000 |\n",
       "| s_40_1 | Urban | 40 | 1 | 0 | NA | 0 | X2 | 0.00000 |\n",
       "| s_40_1 | Urban | 40 | 1 | 0 | NA | 0 | X3 | 0.00000 |\n",
       "| s_40_1 | Urban | 40 | 1 | 0 | NA | 0 | X4 | 1.00000 |\n",
       "| s_40_1 | Urban | 40 | 1 | 0 | NA | 0 | X5 | 0.00000 |\n",
       "| s_40_3 | Urban | 40 | 3 | 0 | NA | 0 | X1 | 0.30712 |\n",
       "\n"
      ],
      "text/plain": [
       "  Sample Habitat Population Plant HCN_Result Locus.Li Locus.Ac name Probs  \n",
       "1 s_40_1 Urban   40         1     0          NA       0        X1   0.00000\n",
       "2 s_40_1 Urban   40         1     0          NA       0        X2   0.00000\n",
       "3 s_40_1 Urban   40         1     0          NA       0        X3   0.00000\n",
       "4 s_40_1 Urban   40         1     0          NA       0        X4   1.00000\n",
       "5 s_40_1 Urban   40         1     0          NA       0        X5   0.00000\n",
       "6 s_40_3 Urban   40         3     0          NA       0        X1   0.30712"
      ]
     },
     "metadata": {},
     "output_type": "display_data"
    }
   ],
   "source": [
    "# Load admixture results for seed with lowest log likelihood\n",
    "admix_results <- paste0(results_prefix, 'population_structure/ngsadmix/K5/ngsadmix_4fold_maf0.05_K5_seed8.qopt')\n",
    "admix <- suppressMessages(read_delim(admix_results, col_names = FALSE, delim = \" \")) %>%\n",
    "    dplyr::select(-X6) %>%\n",
    "    bind_cols(., samples) %>% \n",
    "    pivot_longer(X1:X5, values_to = 'Probs') %>% \n",
    "    mutate(Probs = round(Probs, 5))\n",
    "head(admix)"
   ]
  },
  {
   "cell_type": "code",
   "execution_count": 31,
   "metadata": {},
   "outputs": [
    {
     "data": {
      "image/png": "[encoded data removed]",
      "text/plain": [
       "plot without title"
      ]
     },
     "metadata": {},
     "output_type": "display_data"
    }
   ],
   "source": [
    "cols_admix <- wes_palette(\"Darjeeling1\", n = 5, type = 'continuous')\n",
    "admix_plot_K5 <- \n",
    "  ggplot(admix, aes(factor(Sample), Probs, fill = factor(name), color = factor(name))) +\n",
    "  geom_col(width=1) +\n",
    "  facet_grid(~fct_relevel(Habitat,'Rural', 'Suburban', 'Urban'), switch = \"x\", scales = \"free\", space = \"free\") +\n",
    "  theme_minimal() + labs(x = \"\", title = \"K=5\", y = \"Ancestry\") +\n",
    "  scale_y_continuous(expand = c(0, 0)) +\n",
    "  scale_x_discrete(expand = expansion(add = 1)) +\n",
    "  scale_fill_manual(values = cols_admix) + \n",
    "  scale_color_manual(values = cols_admix) +\n",
    "  theme(\n",
    "    legend.position = 'none',\n",
    "    panel.spacing.x = unit(0.1, \"lines\"),\n",
    "    axis.text.x = element_blank(),\n",
    "    panel.grid = element_blank(),\n",
    "    axis.text = element_text(size=16),\n",
    "    axis.title = element_text(size=20),\n",
    "    strip.text.x = element_text(size = 16),\n",
    "    plot.title = element_text(size = 23, face = 'bold'),\n",
    "    axis.text.y = element_blank()\n",
    "  ) \n",
    "admix_plot_K5"
   ]
  },
  {
   "cell_type": "code",
   "execution_count": 32,
   "metadata": {},
   "outputs": [],
   "source": [
    "ggsave(filename = paste0(figures_path, 'admix_K5.pdf'), plot = admix_plot_K5, device = 'pdf', \n",
    "       width = 20, height = 3, units = 'in', dpi = 600, )"
   ]
  },
  {
   "cell_type": "markdown",
   "metadata": {},
   "source": [
    "### Pi and Fst\n",
    "\n",
    "- Pi and Fst were estimated in `ANGSD` using approximately 9.7 million 4fold sites across the genome\n",
    "\n",
    "#### By Habitat\n",
    "\n",
    "- Pi in each of 3 habitats\n",
    "- Pairwise Fst across all 3 habitat types\n",
    "- TODO: Consider ammending this to estimate all 3 pairwise comparison at once so that `ANGSD` also estimates the population branch statistic"
   ]
  },
  {
   "cell_type": "code",
   "execution_count": 33,
   "metadata": {},
   "outputs": [],
   "source": [
    "# Load in thetas for all habitats and merge into single dataframe\n",
    "pi_stats <- purrr::map_dfr(c('Urban', 'Suburban', 'Rural'), load_pi)"
   ]
  },
  {
   "cell_type": "code",
   "execution_count": 34,
   "metadata": {},
   "outputs": [
    {
     "data": {
      "text/html": [
       "<table class=\"dataframe\">\n",
       "<caption>A tibble: 3 × 2</caption>\n",
       "<thead>\n",
       "\t<tr><th scope=col>habitat</th><th scope=col>mean(tp_scaled)</th></tr>\n",
       "\t<tr><th scope=col>&lt;chr&gt;</th><th scope=col>&lt;dbl&gt;</th></tr>\n",
       "</thead>\n",
       "<tbody>\n",
       "\t<tr><td>Rural   </td><td>0.02238628</td></tr>\n",
       "\t<tr><td>Suburban</td><td>0.02256731</td></tr>\n",
       "\t<tr><td>Urban   </td><td>0.02251298</td></tr>\n",
       "</tbody>\n",
       "</table>\n"
      ],
      "text/latex": [
       "A tibble: 3 × 2\n",
       "\\begin{tabular}{ll}\n",
       " habitat & mean(tp\\_scaled)\\\\\n",
       " <chr> & <dbl>\\\\\n",
       "\\hline\n",
       "\t Rural    & 0.02238628\\\\\n",
       "\t Suburban & 0.02256731\\\\\n",
       "\t Urban    & 0.02251298\\\\\n",
       "\\end{tabular}\n"
      ],
      "text/markdown": [
       "\n",
       "A tibble: 3 × 2\n",
       "\n",
       "| habitat &lt;chr&gt; | mean(tp_scaled) &lt;dbl&gt; |\n",
       "|---|---|\n",
       "| Rural    | 0.02238628 |\n",
       "| Suburban | 0.02256731 |\n",
       "| Urban    | 0.02251298 |\n",
       "\n"
      ],
      "text/plain": [
       "  habitat  mean(tp_scaled)\n",
       "1 Rural    0.02238628     \n",
       "2 Suburban 0.02256731     \n",
       "3 Urban    0.02251298     "
      ]
     },
     "metadata": {},
     "output_type": "display_data"
    }
   ],
   "source": [
    "pi_stats %>% \n",
    "    group_by(habitat) %>% \n",
    "    summarize(mean(tp_scaled))"
   ]
  },
  {
   "cell_type": "code",
   "execution_count": 35,
   "metadata": {},
   "outputs": [
    {
     "data": {
      "image/png": "[encoded data removed]",
      "text/plain": [
       "plot without title"
      ]
     },
     "metadata": {},
     "output_type": "display_data"
    }
   ],
   "source": [
    "pi_stats %>%\n",
    "    group_by(habitat) %>%\n",
    "    summarise(mean_tp = mean(tp_scaled),\n",
    "              sd_tp = sd(tp_scaled),\n",
    "              se_tp = sd_tp / sqrt(n())) %>%\n",
    "    ggplot(., aes(x = habitat, y = mean_tp)) +\n",
    "        geom_errorbar(aes(ymin = mean_tp - se_tp, ymax = mean_tp + se_tp), width = 0.15) +\n",
    "        geom_point(size = 10, shape = 21, aes(fill = habitat)) +\n",
    "        xlab('Habitat') + ylab(expression(Pairwise~nucleotide~diversity~('\\u03B8'['\\u03C0']))) +\n",
    "        scale_fill_manual(values = cols_hab) +\n",
    "        coord_cartesian(ylim = c(0.02215, 0.02280)) +\n",
    "        theme_classic()"
   ]
  },
  {
   "cell_type": "code",
   "execution_count": 36,
   "metadata": {},
   "outputs": [],
   "source": [
    "# Load in fst for all habitat comparisons and merge into single dataframe\n",
    "fst_stats <- purrr::map_dfr(c('Rural_Suburban', 'Urban_Rural', 'Urban_Suburban'), load_fst)"
   ]
  },
  {
   "cell_type": "code",
   "execution_count": 67,
   "metadata": {},
   "outputs": [
    {
     "data": {
      "text/html": [
       "<table class=\"dataframe\">\n",
       "<caption>A tibble: 48 × 6</caption>\n",
       "<thead>\n",
       "\t<tr><th scope=col>chrom</th><th scope=col>num_sum</th><th scope=col>denom_sum</th><th scope=col>fst</th><th scope=col>nSites</th><th scope=col>hab_comb</th></tr>\n",
       "\t<tr><th scope=col>&lt;chr&gt;</th><th scope=col>&lt;dbl&gt;</th><th scope=col>&lt;dbl&gt;</th><th scope=col>&lt;dbl&gt;</th><th scope=col>&lt;int&gt;</th><th scope=col>&lt;chr&gt;</th></tr>\n",
       "</thead>\n",
       "<tbody>\n",
       "\t<tr><td>CM019101.1</td><td>127.11322</td><td>22690.717</td><td>0.005601992</td><td>1079085</td><td>Rural_Suburban</td></tr>\n",
       "\t<tr><td>CM019102.1</td><td> 83.55198</td><td>14504.095</td><td>0.005760579</td><td> 690613</td><td>Rural_Suburban</td></tr>\n",
       "\t<tr><td>CM019103.1</td><td> 64.21805</td><td>12684.277</td><td>0.005062807</td><td> 595197</td><td>Rural_Suburban</td></tr>\n",
       "\t<tr><td>CM019104.1</td><td> 46.15863</td><td> 8280.955</td><td>0.005574071</td><td> 399738</td><td>Rural_Suburban</td></tr>\n",
       "\t<tr><td>CM019105.1</td><td>108.25384</td><td>19713.446</td><td>0.005491371</td><td> 875431</td><td>Rural_Suburban</td></tr>\n",
       "\t<tr><td>CM019106.1</td><td> 79.90215</td><td>14633.861</td><td>0.005460087</td><td> 688556</td><td>Rural_Suburban</td></tr>\n",
       "\t<tr><td>CM019107.1</td><td>120.25615</td><td>20303.431</td><td>0.005922947</td><td> 937808</td><td>Rural_Suburban</td></tr>\n",
       "\t<tr><td>CM019108.1</td><td> 72.62827</td><td>12622.739</td><td>0.005753765</td><td> 617632</td><td>Rural_Suburban</td></tr>\n",
       "\t<tr><td>CM019109.1</td><td> 57.53091</td><td>11313.909</td><td>0.005084972</td><td> 526033</td><td>Rural_Suburban</td></tr>\n",
       "\t<tr><td>CM019110.1</td><td> 55.36657</td><td>10094.335</td><td>0.005484915</td><td> 467072</td><td>Rural_Suburban</td></tr>\n",
       "\t<tr><td>CM019111.1</td><td> 41.73828</td><td> 8157.136</td><td>0.005116782</td><td> 405115</td><td>Rural_Suburban</td></tr>\n",
       "\t<tr><td>CM019112.1</td><td> 34.34735</td><td> 6790.879</td><td>0.005057865</td><td> 303792</td><td>Rural_Suburban</td></tr>\n",
       "\t<tr><td>CM019113.1</td><td> 62.36429</td><td>11895.544</td><td>0.005242660</td><td> 559278</td><td>Rural_Suburban</td></tr>\n",
       "\t<tr><td>CM019114.1</td><td> 46.32186</td><td> 8073.718</td><td>0.005737364</td><td> 391785</td><td>Rural_Suburban</td></tr>\n",
       "\t<tr><td>CM019115.1</td><td> 69.77218</td><td>13035.635</td><td>0.005352419</td><td> 644467</td><td>Rural_Suburban</td></tr>\n",
       "\t<tr><td>CM019116.1</td><td> 48.60783</td><td> 9567.840</td><td>0.005080335</td><td> 486264</td><td>Rural_Suburban</td></tr>\n",
       "\t<tr><td>CM019101.1</td><td>126.75263</td><td>22665.853</td><td>0.005592228</td><td>1078603</td><td>Urban_Rural   </td></tr>\n",
       "\t<tr><td>CM019102.1</td><td> 85.54690</td><td>14506.814</td><td>0.005897015</td><td> 689850</td><td>Urban_Rural   </td></tr>\n",
       "\t<tr><td>CM019103.1</td><td> 70.53568</td><td>12683.878</td><td>0.005561050</td><td> 594779</td><td>Urban_Rural   </td></tr>\n",
       "\t<tr><td>CM019104.1</td><td> 47.47724</td><td> 8294.520</td><td>0.005723929</td><td> 399489</td><td>Urban_Rural   </td></tr>\n",
       "\t<tr><td>CM019105.1</td><td>111.42479</td><td>19671.864</td><td>0.005664170</td><td> 874534</td><td>Urban_Rural   </td></tr>\n",
       "\t<tr><td>CM019106.1</td><td> 82.13900</td><td>14673.665</td><td>0.005597715</td><td> 688270</td><td>Urban_Rural   </td></tr>\n",
       "\t<tr><td>CM019107.1</td><td>124.75128</td><td>20277.082</td><td>0.006152329</td><td> 936797</td><td>Urban_Rural   </td></tr>\n",
       "\t<tr><td>CM019108.1</td><td> 73.09734</td><td>12614.427</td><td>0.005794741</td><td> 617331</td><td>Urban_Rural   </td></tr>\n",
       "\t<tr><td>CM019109.1</td><td> 61.06395</td><td>11321.854</td><td>0.005393459</td><td> 525049</td><td>Urban_Rural   </td></tr>\n",
       "\t<tr><td>CM019110.1</td><td> 58.45451</td><td>10068.269</td><td>0.005805815</td><td> 466495</td><td>Urban_Rural   </td></tr>\n",
       "\t<tr><td>CM019111.1</td><td> 43.59801</td><td> 8158.237</td><td>0.005344048</td><td> 404719</td><td>Urban_Rural   </td></tr>\n",
       "\t<tr><td>CM019112.1</td><td> 35.29420</td><td> 6789.175</td><td>0.005198599</td><td> 303015</td><td>Urban_Rural   </td></tr>\n",
       "\t<tr><td>CM019113.1</td><td> 67.22407</td><td>11894.826</td><td>0.005651539</td><td> 559099</td><td>Urban_Rural   </td></tr>\n",
       "\t<tr><td>CM019114.1</td><td> 49.66791</td><td> 8054.625</td><td>0.006166384</td><td> 390988</td><td>Urban_Rural   </td></tr>\n",
       "\t<tr><td>CM019115.1</td><td> 70.39569</td><td>13036.726</td><td>0.005399799</td><td> 643132</td><td>Urban_Rural   </td></tr>\n",
       "\t<tr><td>CM019116.1</td><td> 51.81559</td><td> 9617.643</td><td>0.005387556</td><td> 486093</td><td>Urban_Rural   </td></tr>\n",
       "\t<tr><td>CM019101.1</td><td>130.93510</td><td>22699.129</td><td>0.005768288</td><td>1080633</td><td>Urban_Suburban</td></tr>\n",
       "\t<tr><td>CM019102.1</td><td> 84.98153</td><td>14562.194</td><td>0.005835764</td><td> 692271</td><td>Urban_Suburban</td></tr>\n",
       "\t<tr><td>CM019103.1</td><td> 74.77192</td><td>12754.680</td><td>0.005862313</td><td> 596704</td><td>Urban_Suburban</td></tr>\n",
       "\t<tr><td>CM019104.1</td><td> 48.72825</td><td> 8309.293</td><td>0.005864307</td><td> 400481</td><td>Urban_Suburban</td></tr>\n",
       "\t<tr><td>CM019105.1</td><td>109.99612</td><td>19715.426</td><td>0.005579191</td><td> 877604</td><td>Urban_Suburban</td></tr>\n",
       "\t<tr><td>CM019106.1</td><td> 84.65960</td><td>14685.295</td><td>0.005764924</td><td> 689894</td><td>Urban_Suburban</td></tr>\n",
       "\t<tr><td>CM019107.1</td><td>122.78725</td><td>20374.118</td><td>0.006026629</td><td> 939419</td><td>Urban_Suburban</td></tr>\n",
       "\t<tr><td>CM019108.1</td><td> 75.04943</td><td>12681.528</td><td>0.005918012</td><td> 618507</td><td>Urban_Suburban</td></tr>\n",
       "\t<tr><td>CM019109.1</td><td> 62.24669</td><td>11390.324</td><td>0.005464875</td><td> 526941</td><td>Urban_Suburban</td></tr>\n",
       "\t<tr><td>CM019110.1</td><td> 57.47834</td><td>10118.701</td><td>0.005680407</td><td> 467846</td><td>Urban_Suburban</td></tr>\n",
       "\t<tr><td>CM019111.1</td><td> 44.85150</td><td> 8191.783</td><td>0.005475182</td><td> 405854</td><td>Urban_Suburban</td></tr>\n",
       "\t<tr><td>CM019112.1</td><td> 39.25569</td><td> 6795.811</td><td>0.005776454</td><td> 303649</td><td>Urban_Suburban</td></tr>\n",
       "\t<tr><td>CM019113.1</td><td> 70.17445</td><td>11943.274</td><td>0.005875646</td><td> 560612</td><td>Urban_Suburban</td></tr>\n",
       "\t<tr><td>CM019114.1</td><td> 43.43672</td><td> 8110.204</td><td>0.005355811</td><td> 392352</td><td>Urban_Suburban</td></tr>\n",
       "\t<tr><td>CM019115.1</td><td> 70.48426</td><td>13072.814</td><td>0.005391667</td><td> 645184</td><td>Urban_Suburban</td></tr>\n",
       "\t<tr><td>CM019116.1</td><td> 51.10952</td><td> 9646.966</td><td>0.005297989</td><td> 486977</td><td>Urban_Suburban</td></tr>\n",
       "</tbody>\n",
       "</table>\n"
      ],
      "text/latex": [
       "A tibble: 48 × 6\n",
       "\\begin{tabular}{llllll}\n",
       " chrom & num\\_sum & denom\\_sum & fst & nSites & hab\\_comb\\\\\n",
       " <chr> & <dbl> & <dbl> & <dbl> & <int> & <chr>\\\\\n",
       "\\hline\n",
       "\t CM019101.1 & 127.11322 & 22690.717 & 0.005601992 & 1079085 & Rural\\_Suburban\\\\\n",
       "\t CM019102.1 &  83.55198 & 14504.095 & 0.005760579 &  690613 & Rural\\_Suburban\\\\\n",
       "\t CM019103.1 &  64.21805 & 12684.277 & 0.005062807 &  595197 & Rural\\_Suburban\\\\\n",
       "\t CM019104.1 &  46.15863 &  8280.955 & 0.005574071 &  399738 & Rural\\_Suburban\\\\\n",
       "\t CM019105.1 & 108.25384 & 19713.446 & 0.005491371 &  875431 & Rural\\_Suburban\\\\\n",
       "\t CM019106.1 &  79.90215 & 14633.861 & 0.005460087 &  688556 & Rural\\_Suburban\\\\\n",
       "\t CM019107.1 & 120.25615 & 20303.431 & 0.005922947 &  937808 & Rural\\_Suburban\\\\\n",
       "\t CM019108.1 &  72.62827 & 12622.739 & 0.005753765 &  617632 & Rural\\_Suburban\\\\\n",
       "\t CM019109.1 &  57.53091 & 11313.909 & 0.005084972 &  526033 & Rural\\_Suburban\\\\\n",
       "\t CM019110.1 &  55.36657 & 10094.335 & 0.005484915 &  467072 & Rural\\_Suburban\\\\\n",
       "\t CM019111.1 &  41.73828 &  8157.136 & 0.005116782 &  405115 & Rural\\_Suburban\\\\\n",
       "\t CM019112.1 &  34.34735 &  6790.879 & 0.005057865 &  303792 & Rural\\_Suburban\\\\\n",
       "\t CM019113.1 &  62.36429 & 11895.544 & 0.005242660 &  559278 & Rural\\_Suburban\\\\\n",
       "\t CM019114.1 &  46.32186 &  8073.718 & 0.005737364 &  391785 & Rural\\_Suburban\\\\\n",
       "\t CM019115.1 &  69.77218 & 13035.635 & 0.005352419 &  644467 & Rural\\_Suburban\\\\\n",
       "\t CM019116.1 &  48.60783 &  9567.840 & 0.005080335 &  486264 & Rural\\_Suburban\\\\\n",
       "\t CM019101.1 & 126.75263 & 22665.853 & 0.005592228 & 1078603 & Urban\\_Rural   \\\\\n",
       "\t CM019102.1 &  85.54690 & 14506.814 & 0.005897015 &  689850 & Urban\\_Rural   \\\\\n",
       "\t CM019103.1 &  70.53568 & 12683.878 & 0.005561050 &  594779 & Urban\\_Rural   \\\\\n",
       "\t CM019104.1 &  47.47724 &  8294.520 & 0.005723929 &  399489 & Urban\\_Rural   \\\\\n",
       "\t CM019105.1 & 111.42479 & 19671.864 & 0.005664170 &  874534 & Urban\\_Rural   \\\\\n",
       "\t CM019106.1 &  82.13900 & 14673.665 & 0.005597715 &  688270 & Urban\\_Rural   \\\\\n",
       "\t CM019107.1 & 124.75128 & 20277.082 & 0.006152329 &  936797 & Urban\\_Rural   \\\\\n",
       "\t CM019108.1 &  73.09734 & 12614.427 & 0.005794741 &  617331 & Urban\\_Rural   \\\\\n",
       "\t CM019109.1 &  61.06395 & 11321.854 & 0.005393459 &  525049 & Urban\\_Rural   \\\\\n",
       "\t CM019110.1 &  58.45451 & 10068.269 & 0.005805815 &  466495 & Urban\\_Rural   \\\\\n",
       "\t CM019111.1 &  43.59801 &  8158.237 & 0.005344048 &  404719 & Urban\\_Rural   \\\\\n",
       "\t CM019112.1 &  35.29420 &  6789.175 & 0.005198599 &  303015 & Urban\\_Rural   \\\\\n",
       "\t CM019113.1 &  67.22407 & 11894.826 & 0.005651539 &  559099 & Urban\\_Rural   \\\\\n",
       "\t CM019114.1 &  49.66791 &  8054.625 & 0.006166384 &  390988 & Urban\\_Rural   \\\\\n",
       "\t CM019115.1 &  70.39569 & 13036.726 & 0.005399799 &  643132 & Urban\\_Rural   \\\\\n",
       "\t CM019116.1 &  51.81559 &  9617.643 & 0.005387556 &  486093 & Urban\\_Rural   \\\\\n",
       "\t CM019101.1 & 130.93510 & 22699.129 & 0.005768288 & 1080633 & Urban\\_Suburban\\\\\n",
       "\t CM019102.1 &  84.98153 & 14562.194 & 0.005835764 &  692271 & Urban\\_Suburban\\\\\n",
       "\t CM019103.1 &  74.77192 & 12754.680 & 0.005862313 &  596704 & Urban\\_Suburban\\\\\n",
       "\t CM019104.1 &  48.72825 &  8309.293 & 0.005864307 &  400481 & Urban\\_Suburban\\\\\n",
       "\t CM019105.1 & 109.99612 & 19715.426 & 0.005579191 &  877604 & Urban\\_Suburban\\\\\n",
       "\t CM019106.1 &  84.65960 & 14685.295 & 0.005764924 &  689894 & Urban\\_Suburban\\\\\n",
       "\t CM019107.1 & 122.78725 & 20374.118 & 0.006026629 &  939419 & Urban\\_Suburban\\\\\n",
       "\t CM019108.1 &  75.04943 & 12681.528 & 0.005918012 &  618507 & Urban\\_Suburban\\\\\n",
       "\t CM019109.1 &  62.24669 & 11390.324 & 0.005464875 &  526941 & Urban\\_Suburban\\\\\n",
       "\t CM019110.1 &  57.47834 & 10118.701 & 0.005680407 &  467846 & Urban\\_Suburban\\\\\n",
       "\t CM019111.1 &  44.85150 &  8191.783 & 0.005475182 &  405854 & Urban\\_Suburban\\\\\n",
       "\t CM019112.1 &  39.25569 &  6795.811 & 0.005776454 &  303649 & Urban\\_Suburban\\\\\n",
       "\t CM019113.1 &  70.17445 & 11943.274 & 0.005875646 &  560612 & Urban\\_Suburban\\\\\n",
       "\t CM019114.1 &  43.43672 &  8110.204 & 0.005355811 &  392352 & Urban\\_Suburban\\\\\n",
       "\t CM019115.1 &  70.48426 & 13072.814 & 0.005391667 &  645184 & Urban\\_Suburban\\\\\n",
       "\t CM019116.1 &  51.10952 &  9646.966 & 0.005297989 &  486977 & Urban\\_Suburban\\\\\n",
       "\\end{tabular}\n"
      ],
      "text/markdown": [
       "\n",
       "A tibble: 48 × 6\n",
       "\n",
       "| chrom &lt;chr&gt; | num_sum &lt;dbl&gt; | denom_sum &lt;dbl&gt; | fst &lt;dbl&gt; | nSites &lt;int&gt; | hab_comb &lt;chr&gt; |\n",
       "|---|---|---|---|---|---|\n",
       "| CM019101.1 | 127.11322 | 22690.717 | 0.005601992 | 1079085 | Rural_Suburban |\n",
       "| CM019102.1 |  83.55198 | 14504.095 | 0.005760579 |  690613 | Rural_Suburban |\n",
       "| CM019103.1 |  64.21805 | 12684.277 | 0.005062807 |  595197 | Rural_Suburban |\n",
       "| CM019104.1 |  46.15863 |  8280.955 | 0.005574071 |  399738 | Rural_Suburban |\n",
       "| CM019105.1 | 108.25384 | 19713.446 | 0.005491371 |  875431 | Rural_Suburban |\n",
       "| CM019106.1 |  79.90215 | 14633.861 | 0.005460087 |  688556 | Rural_Suburban |\n",
       "| CM019107.1 | 120.25615 | 20303.431 | 0.005922947 |  937808 | Rural_Suburban |\n",
       "| CM019108.1 |  72.62827 | 12622.739 | 0.005753765 |  617632 | Rural_Suburban |\n",
       "| CM019109.1 |  57.53091 | 11313.909 | 0.005084972 |  526033 | Rural_Suburban |\n",
       "| CM019110.1 |  55.36657 | 10094.335 | 0.005484915 |  467072 | Rural_Suburban |\n",
       "| CM019111.1 |  41.73828 |  8157.136 | 0.005116782 |  405115 | Rural_Suburban |\n",
       "| CM019112.1 |  34.34735 |  6790.879 | 0.005057865 |  303792 | Rural_Suburban |\n",
       "| CM019113.1 |  62.36429 | 11895.544 | 0.005242660 |  559278 | Rural_Suburban |\n",
       "| CM019114.1 |  46.32186 |  8073.718 | 0.005737364 |  391785 | Rural_Suburban |\n",
       "| CM019115.1 |  69.77218 | 13035.635 | 0.005352419 |  644467 | Rural_Suburban |\n",
       "| CM019116.1 |  48.60783 |  9567.840 | 0.005080335 |  486264 | Rural_Suburban |\n",
       "| CM019101.1 | 126.75263 | 22665.853 | 0.005592228 | 1078603 | Urban_Rural    |\n",
       "| CM019102.1 |  85.54690 | 14506.814 | 0.005897015 |  689850 | Urban_Rural    |\n",
       "| CM019103.1 |  70.53568 | 12683.878 | 0.005561050 |  594779 | Urban_Rural    |\n",
       "| CM019104.1 |  47.47724 |  8294.520 | 0.005723929 |  399489 | Urban_Rural    |\n",
       "| CM019105.1 | 111.42479 | 19671.864 | 0.005664170 |  874534 | Urban_Rural    |\n",
       "| CM019106.1 |  82.13900 | 14673.665 | 0.005597715 |  688270 | Urban_Rural    |\n",
       "| CM019107.1 | 124.75128 | 20277.082 | 0.006152329 |  936797 | Urban_Rural    |\n",
       "| CM019108.1 |  73.09734 | 12614.427 | 0.005794741 |  617331 | Urban_Rural    |\n",
       "| CM019109.1 |  61.06395 | 11321.854 | 0.005393459 |  525049 | Urban_Rural    |\n",
       "| CM019110.1 |  58.45451 | 10068.269 | 0.005805815 |  466495 | Urban_Rural    |\n",
       "| CM019111.1 |  43.59801 |  8158.237 | 0.005344048 |  404719 | Urban_Rural    |\n",
       "| CM019112.1 |  35.29420 |  6789.175 | 0.005198599 |  303015 | Urban_Rural    |\n",
       "| CM019113.1 |  67.22407 | 11894.826 | 0.005651539 |  559099 | Urban_Rural    |\n",
       "| CM019114.1 |  49.66791 |  8054.625 | 0.006166384 |  390988 | Urban_Rural    |\n",
       "| CM019115.1 |  70.39569 | 13036.726 | 0.005399799 |  643132 | Urban_Rural    |\n",
       "| CM019116.1 |  51.81559 |  9617.643 | 0.005387556 |  486093 | Urban_Rural    |\n",
       "| CM019101.1 | 130.93510 | 22699.129 | 0.005768288 | 1080633 | Urban_Suburban |\n",
       "| CM019102.1 |  84.98153 | 14562.194 | 0.005835764 |  692271 | Urban_Suburban |\n",
       "| CM019103.1 |  74.77192 | 12754.680 | 0.005862313 |  596704 | Urban_Suburban |\n",
       "| CM019104.1 |  48.72825 |  8309.293 | 0.005864307 |  400481 | Urban_Suburban |\n",
       "| CM019105.1 | 109.99612 | 19715.426 | 0.005579191 |  877604 | Urban_Suburban |\n",
       "| CM019106.1 |  84.65960 | 14685.295 | 0.005764924 |  689894 | Urban_Suburban |\n",
       "| CM019107.1 | 122.78725 | 20374.118 | 0.006026629 |  939419 | Urban_Suburban |\n",
       "| CM019108.1 |  75.04943 | 12681.528 | 0.005918012 |  618507 | Urban_Suburban |\n",
       "| CM019109.1 |  62.24669 | 11390.324 | 0.005464875 |  526941 | Urban_Suburban |\n",
       "| CM019110.1 |  57.47834 | 10118.701 | 0.005680407 |  467846 | Urban_Suburban |\n",
       "| CM019111.1 |  44.85150 |  8191.783 | 0.005475182 |  405854 | Urban_Suburban |\n",
       "| CM019112.1 |  39.25569 |  6795.811 | 0.005776454 |  303649 | Urban_Suburban |\n",
       "| CM019113.1 |  70.17445 | 11943.274 | 0.005875646 |  560612 | Urban_Suburban |\n",
       "| CM019114.1 |  43.43672 |  8110.204 | 0.005355811 |  392352 | Urban_Suburban |\n",
       "| CM019115.1 |  70.48426 | 13072.814 | 0.005391667 |  645184 | Urban_Suburban |\n",
       "| CM019116.1 |  51.10952 |  9646.966 | 0.005297989 |  486977 | Urban_Suburban |\n",
       "\n"
      ],
      "text/plain": [
       "   chrom      num_sum   denom_sum fst         nSites  hab_comb      \n",
       "1  CM019101.1 127.11322 22690.717 0.005601992 1079085 Rural_Suburban\n",
       "2  CM019102.1  83.55198 14504.095 0.005760579  690613 Rural_Suburban\n",
       "3  CM019103.1  64.21805 12684.277 0.005062807  595197 Rural_Suburban\n",
       "4  CM019104.1  46.15863  8280.955 0.005574071  399738 Rural_Suburban\n",
       "5  CM019105.1 108.25384 19713.446 0.005491371  875431 Rural_Suburban\n",
       "6  CM019106.1  79.90215 14633.861 0.005460087  688556 Rural_Suburban\n",
       "7  CM019107.1 120.25615 20303.431 0.005922947  937808 Rural_Suburban\n",
       "8  CM019108.1  72.62827 12622.739 0.005753765  617632 Rural_Suburban\n",
       "9  CM019109.1  57.53091 11313.909 0.005084972  526033 Rural_Suburban\n",
       "10 CM019110.1  55.36657 10094.335 0.005484915  467072 Rural_Suburban\n",
       "11 CM019111.1  41.73828  8157.136 0.005116782  405115 Rural_Suburban\n",
       "12 CM019112.1  34.34735  6790.879 0.005057865  303792 Rural_Suburban\n",
       "13 CM019113.1  62.36429 11895.544 0.005242660  559278 Rural_Suburban\n",
       "14 CM019114.1  46.32186  8073.718 0.005737364  391785 Rural_Suburban\n",
       "15 CM019115.1  69.77218 13035.635 0.005352419  644467 Rural_Suburban\n",
       "16 CM019116.1  48.60783  9567.840 0.005080335  486264 Rural_Suburban\n",
       "17 CM019101.1 126.75263 22665.853 0.005592228 1078603 Urban_Rural   \n",
       "18 CM019102.1  85.54690 14506.814 0.005897015  689850 Urban_Rural   \n",
       "19 CM019103.1  70.53568 12683.878 0.005561050  594779 Urban_Rural   \n",
       "20 CM019104.1  47.47724  8294.520 0.005723929  399489 Urban_Rural   \n",
       "21 CM019105.1 111.42479 19671.864 0.005664170  874534 Urban_Rural   \n",
       "22 CM019106.1  82.13900 14673.665 0.005597715  688270 Urban_Rural   \n",
       "23 CM019107.1 124.75128 20277.082 0.006152329  936797 Urban_Rural   \n",
       "24 CM019108.1  73.09734 12614.427 0.005794741  617331 Urban_Rural   \n",
       "25 CM019109.1  61.06395 11321.854 0.005393459  525049 Urban_Rural   \n",
       "26 CM019110.1  58.45451 10068.269 0.005805815  466495 Urban_Rural   \n",
       "27 CM019111.1  43.59801  8158.237 0.005344048  404719 Urban_Rural   \n",
       "28 CM019112.1  35.29420  6789.175 0.005198599  303015 Urban_Rural   \n",
       "29 CM019113.1  67.22407 11894.826 0.005651539  559099 Urban_Rural   \n",
       "30 CM019114.1  49.66791  8054.625 0.006166384  390988 Urban_Rural   \n",
       "31 CM019115.1  70.39569 13036.726 0.005399799  643132 Urban_Rural   \n",
       "32 CM019116.1  51.81559  9617.643 0.005387556  486093 Urban_Rural   \n",
       "33 CM019101.1 130.93510 22699.129 0.005768288 1080633 Urban_Suburban\n",
       "34 CM019102.1  84.98153 14562.194 0.005835764  692271 Urban_Suburban\n",
       "35 CM019103.1  74.77192 12754.680 0.005862313  596704 Urban_Suburban\n",
       "36 CM019104.1  48.72825  8309.293 0.005864307  400481 Urban_Suburban\n",
       "37 CM019105.1 109.99612 19715.426 0.005579191  877604 Urban_Suburban\n",
       "38 CM019106.1  84.65960 14685.295 0.005764924  689894 Urban_Suburban\n",
       "39 CM019107.1 122.78725 20374.118 0.006026629  939419 Urban_Suburban\n",
       "40 CM019108.1  75.04943 12681.528 0.005918012  618507 Urban_Suburban\n",
       "41 CM019109.1  62.24669 11390.324 0.005464875  526941 Urban_Suburban\n",
       "42 CM019110.1  57.47834 10118.701 0.005680407  467846 Urban_Suburban\n",
       "43 CM019111.1  44.85150  8191.783 0.005475182  405854 Urban_Suburban\n",
       "44 CM019112.1  39.25569  6795.811 0.005776454  303649 Urban_Suburban\n",
       "45 CM019113.1  70.17445 11943.274 0.005875646  560612 Urban_Suburban\n",
       "46 CM019114.1  43.43672  8110.204 0.005355811  392352 Urban_Suburban\n",
       "47 CM019115.1  70.48426 13072.814 0.005391667  645184 Urban_Suburban\n",
       "48 CM019116.1  51.10952  9646.966 0.005297989  486977 Urban_Suburban"
      ]
     },
     "metadata": {},
     "output_type": "display_data"
    }
   ],
   "source": [
    "fst_stats"
   ]
  },
  {
   "cell_type": "code",
   "execution_count": 37,
   "metadata": {},
   "outputs": [
    {
     "data": {
      "text/html": [
       "<table class=\"dataframe\">\n",
       "<caption>A tibble: 3 × 2</caption>\n",
       "<thead>\n",
       "\t<tr><th scope=col>hab_comb</th><th scope=col>mean(fst)</th></tr>\n",
       "\t<tr><th scope=col>&lt;chr&gt;</th><th scope=col>&lt;dbl&gt;</th></tr>\n",
       "</thead>\n",
       "<tbody>\n",
       "\t<tr><td>Rural_Suburban</td><td>0.005424058</td></tr>\n",
       "\t<tr><td>Urban_Rural   </td><td>0.005645649</td></tr>\n",
       "\t<tr><td>Urban_Suburban</td><td>0.005683591</td></tr>\n",
       "</tbody>\n",
       "</table>\n"
      ],
      "text/latex": [
       "A tibble: 3 × 2\n",
       "\\begin{tabular}{ll}\n",
       " hab\\_comb & mean(fst)\\\\\n",
       " <chr> & <dbl>\\\\\n",
       "\\hline\n",
       "\t Rural\\_Suburban & 0.005424058\\\\\n",
       "\t Urban\\_Rural    & 0.005645649\\\\\n",
       "\t Urban\\_Suburban & 0.005683591\\\\\n",
       "\\end{tabular}\n"
      ],
      "text/markdown": [
       "\n",
       "A tibble: 3 × 2\n",
       "\n",
       "| hab_comb &lt;chr&gt; | mean(fst) &lt;dbl&gt; |\n",
       "|---|---|\n",
       "| Rural_Suburban | 0.005424058 |\n",
       "| Urban_Rural    | 0.005645649 |\n",
       "| Urban_Suburban | 0.005683591 |\n",
       "\n"
      ],
      "text/plain": [
       "  hab_comb       mean(fst)  \n",
       "1 Rural_Suburban 0.005424058\n",
       "2 Urban_Rural    0.005645649\n",
       "3 Urban_Suburban 0.005683591"
      ]
     },
     "metadata": {},
     "output_type": "display_data"
    }
   ],
   "source": [
    "fst_stats %>% \n",
    "    group_by(hab_comb) %>% \n",
    "    summarise(mean(fst))"
   ]
  },
  {
   "cell_type": "code",
   "execution_count": 38,
   "metadata": {},
   "outputs": [
    {
     "data": {
      "image/png": "[encoded data removed]",
      "text/plain": [
       "plot without title"
      ]
     },
     "metadata": {},
     "output_type": "display_data"
    }
   ],
   "source": [
    "fst_cols <- wes_palette(\"Darjeeling2\", n = 3)\n",
    "fst_stats %>%\n",
    "    group_by(hab_comb) %>%\n",
    "    summarise(mean_fst = mean(fst),\n",
    "              sd_fst = sd(fst),\n",
    "              se_fst = sd_fst / sqrt(n())) %>%\n",
    "    ggplot(., aes(x = hab_comb, y = mean_fst)) +\n",
    "        geom_errorbar(aes(ymin = mean_fst - se_fst, ymax = mean_fst + se_fst), width = 0.15) +\n",
    "        geom_point(size = 10, shape = 21, aes(fill = hab_comb)) +\n",
    "        xlab('Habitat') + ylab(\"Fst\") +\n",
    "        scale_fill_manual(values = fst_cols) +\n",
    "#         coord_cartesian(ylim = c(0.02210, 0.0230)) +\n",
    "        theme_classic()"
   ]
  },
  {
   "cell_type": "markdown",
   "metadata": {},
   "source": [
    "### Relatedness\n",
    "\n",
    "- I estimated pairwise relatedness across all samples using genotype likelihoods estimated in `ANGSD`\n",
    "- Uses same LD-pruned 4fold SNPs as above as for population structure"
   ]
  },
  {
   "cell_type": "code",
   "execution_count": 39,
   "metadata": {},
   "outputs": [],
   "source": [
    "# Load all chromosomal NGSrelate results and combine into single DF\n",
    "ngsrelate_output_path <- paste0(results_prefix, 'population_structure/ngsrelate')\n",
    "relate_df <- list.files(ngsrelate_output_path, pattern = '*.out', full.names = TRUE) %>%\n",
    "    purrr::map_dfr(., load_relatedness)"
   ]
  },
  {
   "cell_type": "code",
   "execution_count": 40,
   "metadata": {},
   "outputs": [],
   "source": [
    "# Get order of samples that were used as input to NGSrelate\n",
    "# Uses all high quality samples (N = 115)\n",
    "bam_list_path <- paste0(results_prefix, 'program_resources/bam_lists/highQualSamples_4fold_bams.list')\n",
    "relate_sample_list <- suppressMessages(read_table(bam_list_path, col_names = 'bam')) %>%\n",
    "    mutate(sample = str_extract(basename(bam), '(s_\\\\d+_\\\\d+)(?=_4fold)')) %>%\n",
    "    separate(sample, into = c('tmp', 'pop', 'ind'), sep = '_', remove = FALSE) %>%\n",
    "    dplyr::select(-tmp, -bam) %>%\n",
    "    mutate(idx = seq(from = 0, to = n() - 1))"
   ]
  },
  {
   "cell_type": "code",
   "execution_count": 41,
   "metadata": {},
   "outputs": [],
   "source": [
    "# Bind sample names to NGSrelate sample IDs\n",
    "# Add population and habitat info for later comparisons of relatedness among habitats\n",
    "pops_habitat <- samples %>% \n",
    "    rename('pop' = 'Population') %>% \n",
    "    dplyr::select(pop, Habitat) %>%\n",
    "    mutate(pop = as.character(pop)) %>%\n",
    "    distinct()\n",
    "relate_df_withHab <- relate_df %>%\n",
    "    pivot_longer(cols = c('a', 'b'), values_to = 'idx') %>%\n",
    "    left_join(., relate_sample_list, by = 'idx') %>%\n",
    "    dplyr::select(-idx) %>%\n",
    "    left_join(., pops_habitat, by = 'pop') %>%\n",
    "    pivot_wider(values_from = c('sample', 'pop', 'ind', 'Habitat'))"
   ]
  },
  {
   "cell_type": "code",
   "execution_count": 42,
   "metadata": {},
   "outputs": [
    {
     "name": "stderr",
     "output_type": "stream",
     "text": [
      "`summarise()` has grouped output by 'sample_a'. You can override using the `.groups` argument.\n"
     ]
    }
   ],
   "source": [
    "# Calculate mean relatedness across chromosomes for each sample comparison\n",
    "mean_relate_acrossChroms <- relate_df_withHab %>%\n",
    "    group_by(sample_a, sample_b) %>%\n",
    "    summarise(mean_rab_acrossChroms = mean(rab),\n",
    "              n = n()) %>%\n",
    "    left_join(., relate_df_withHab %>%\n",
    "              dplyr::select(sample_a, sample_b, pop_a, pop_b, Habitat_a, Habitat_b) %>%\n",
    "              distinct(),\n",
    "             by = c('sample_a', 'sample_b')) %>%\n",
    "    ungroup()"
   ]
  },
  {
   "cell_type": "code",
   "execution_count": 44,
   "metadata": {},
   "outputs": [],
   "source": [
    "# Calculate mean relatedness across samples for specific habitat comparisons\n",
    "mean_relate_acrossHabs <- mean_relate_acrossChroms %>%\n",
    "    mutate(comparison = case_when(Habitat_a == 'Urban' & Habitat_b == 'Urban' ~ 'Within Urban',\n",
    "                                  Habitat_a == 'Suburban' & Habitat_b == 'Suburban' ~ 'Within Suburban',\n",
    "                                  Habitat_a == 'Rural' & Habitat_b == 'Rural' ~ 'Within Rural',\n",
    "                                  \n",
    "                                  Habitat_a == 'Urban' & Habitat_b == 'Suburban' ~ 'Urban-Suburban',\n",
    "                                  Habitat_a == 'Suburban' & Habitat_b == 'Urban' ~ 'Urban-Suburban',\n",
    "                                  \n",
    "                                  Habitat_a == 'Urban' & Habitat_b == 'Rural' ~ 'Urban-Rural',\n",
    "                                  Habitat_a == 'Rural' & Habitat_b == 'Urban' ~ 'Urban-Rural',\n",
    "                                  \n",
    "                                  Habitat_a == 'Suburban' & Habitat_b == 'Rural' ~ 'Suburban-Rural',\n",
    "                                  Habitat_a == 'Rural' & Habitat_b == 'Suburban' ~ 'Suburban-Rural')) %>%\n",
    "    group_by(comparison) %>%\n",
    "    summarise(mean_rab = mean(mean_rab_acrossChroms),\n",
    "              sd_rab = sd(mean_rab_acrossChroms),\n",
    "              se_rab = sd_rab / sqrt(n()))"
   ]
  },
  {
   "cell_type": "code",
   "execution_count": 52,
   "metadata": {},
   "outputs": [
    {
     "data": {
      "image/png": "[encoded data removed]",
      "text/plain": [
       "plot without title"
      ]
     },
     "metadata": {},
     "output_type": "display_data"
    }
   ],
   "source": [
    "# Plot relatedness comparisons\n",
    "mean_relate_acrossHabs %>%\n",
    "    ggplot(., aes(x = comparison, y = mean_rab)) +\n",
    "    geom_errorbar(aes(ymin = mean_rab - se_rab, ymax = mean_rab + se_rab), width = 0.15) +\n",
    "    geom_point(size = 5) +\n",
    "    xlab('Comparison') + ylab('Mean relatedness') +\n",
    "    scale_fill_manual(values = cols_hab) +\n",
    "    theme_classic()"
   ]
  },
  {
   "cell_type": "code",
   "execution_count": 59,
   "metadata": {
    "scrolled": true
   },
   "outputs": [
    {
     "data": {
      "text/html": [
       "<table class=\"dataframe\">\n",
       "<caption>A tibble: 10 × 8</caption>\n",
       "<thead>\n",
       "\t<tr><th scope=col>sample_a</th><th scope=col>sample_b</th><th scope=col>mean_rab_acrossChroms</th><th scope=col>n</th><th scope=col>pop_a</th><th scope=col>pop_b</th><th scope=col>Habitat_a</th><th scope=col>Habitat_b</th></tr>\n",
       "\t<tr><th scope=col>&lt;chr&gt;</th><th scope=col>&lt;chr&gt;</th><th scope=col>&lt;dbl&gt;</th><th scope=col>&lt;int&gt;</th><th scope=col>&lt;chr&gt;</th><th scope=col>&lt;chr&gt;</th><th scope=col>&lt;chr&gt;</th><th scope=col>&lt;chr&gt;</th></tr>\n",
       "</thead>\n",
       "<tbody>\n",
       "\t<tr><td>s_37_6 </td><td>s_37_18</td><td>0.7689807</td><td>16</td><td>37</td><td>37</td><td>Urban</td><td>Urban</td></tr>\n",
       "\t<tr><td>s_97_9 </td><td>s_97_14</td><td>0.7678698</td><td>16</td><td>97</td><td>97</td><td>Rural</td><td>Rural</td></tr>\n",
       "\t<tr><td>s_42_3 </td><td>s_42_9 </td><td>0.7467403</td><td>16</td><td>42</td><td>42</td><td>Urban</td><td>Urban</td></tr>\n",
       "\t<tr><td>s_83_5 </td><td>s_83_11</td><td>0.7194610</td><td>16</td><td>83</td><td>83</td><td>Rural</td><td>Rural</td></tr>\n",
       "\t<tr><td>s_42_1 </td><td>s_42_20</td><td>0.7135305</td><td>16</td><td>42</td><td>42</td><td>Urban</td><td>Urban</td></tr>\n",
       "\t<tr><td>s_37_11</td><td>s_37_18</td><td>0.4029149</td><td>16</td><td>37</td><td>37</td><td>Urban</td><td>Urban</td></tr>\n",
       "\t<tr><td>s_37_6 </td><td>s_37_11</td><td>0.3960961</td><td>16</td><td>37</td><td>37</td><td>Urban</td><td>Urban</td></tr>\n",
       "\t<tr><td>s_37_8 </td><td>s_37_12</td><td>0.2690484</td><td>16</td><td>37</td><td>37</td><td>Urban</td><td>Urban</td></tr>\n",
       "\t<tr><td>s_7_6  </td><td>s_7_13 </td><td>0.2211006</td><td>16</td><td>7 </td><td>7 </td><td>Rural</td><td>Rural</td></tr>\n",
       "\t<tr><td>s_40_6 </td><td>s_40_17</td><td>0.1883089</td><td>16</td><td>40</td><td>40</td><td>Urban</td><td>Urban</td></tr>\n",
       "</tbody>\n",
       "</table>\n"
      ],
      "text/latex": [
       "A tibble: 10 × 8\n",
       "\\begin{tabular}{llllllll}\n",
       " sample\\_a & sample\\_b & mean\\_rab\\_acrossChroms & n & pop\\_a & pop\\_b & Habitat\\_a & Habitat\\_b\\\\\n",
       " <chr> & <chr> & <dbl> & <int> & <chr> & <chr> & <chr> & <chr>\\\\\n",
       "\\hline\n",
       "\t s\\_37\\_6  & s\\_37\\_18 & 0.7689807 & 16 & 37 & 37 & Urban & Urban\\\\\n",
       "\t s\\_97\\_9  & s\\_97\\_14 & 0.7678698 & 16 & 97 & 97 & Rural & Rural\\\\\n",
       "\t s\\_42\\_3  & s\\_42\\_9  & 0.7467403 & 16 & 42 & 42 & Urban & Urban\\\\\n",
       "\t s\\_83\\_5  & s\\_83\\_11 & 0.7194610 & 16 & 83 & 83 & Rural & Rural\\\\\n",
       "\t s\\_42\\_1  & s\\_42\\_20 & 0.7135305 & 16 & 42 & 42 & Urban & Urban\\\\\n",
       "\t s\\_37\\_11 & s\\_37\\_18 & 0.4029149 & 16 & 37 & 37 & Urban & Urban\\\\\n",
       "\t s\\_37\\_6  & s\\_37\\_11 & 0.3960961 & 16 & 37 & 37 & Urban & Urban\\\\\n",
       "\t s\\_37\\_8  & s\\_37\\_12 & 0.2690484 & 16 & 37 & 37 & Urban & Urban\\\\\n",
       "\t s\\_7\\_6   & s\\_7\\_13  & 0.2211006 & 16 & 7  & 7  & Rural & Rural\\\\\n",
       "\t s\\_40\\_6  & s\\_40\\_17 & 0.1883089 & 16 & 40 & 40 & Urban & Urban\\\\\n",
       "\\end{tabular}\n"
      ],
      "text/markdown": [
       "\n",
       "A tibble: 10 × 8\n",
       "\n",
       "| sample_a &lt;chr&gt; | sample_b &lt;chr&gt; | mean_rab_acrossChroms &lt;dbl&gt; | n &lt;int&gt; | pop_a &lt;chr&gt; | pop_b &lt;chr&gt; | Habitat_a &lt;chr&gt; | Habitat_b &lt;chr&gt; |\n",
       "|---|---|---|---|---|---|---|---|\n",
       "| s_37_6  | s_37_18 | 0.7689807 | 16 | 37 | 37 | Urban | Urban |\n",
       "| s_97_9  | s_97_14 | 0.7678698 | 16 | 97 | 97 | Rural | Rural |\n",
       "| s_42_3  | s_42_9  | 0.7467403 | 16 | 42 | 42 | Urban | Urban |\n",
       "| s_83_5  | s_83_11 | 0.7194610 | 16 | 83 | 83 | Rural | Rural |\n",
       "| s_42_1  | s_42_20 | 0.7135305 | 16 | 42 | 42 | Urban | Urban |\n",
       "| s_37_11 | s_37_18 | 0.4029149 | 16 | 37 | 37 | Urban | Urban |\n",
       "| s_37_6  | s_37_11 | 0.3960961 | 16 | 37 | 37 | Urban | Urban |\n",
       "| s_37_8  | s_37_12 | 0.2690484 | 16 | 37 | 37 | Urban | Urban |\n",
       "| s_7_6   | s_7_13  | 0.2211006 | 16 | 7  | 7  | Rural | Rural |\n",
       "| s_40_6  | s_40_17 | 0.1883089 | 16 | 40 | 40 | Urban | Urban |\n",
       "\n"
      ],
      "text/plain": [
       "   sample_a sample_b mean_rab_acrossChroms n  pop_a pop_b Habitat_a Habitat_b\n",
       "1  s_37_6   s_37_18  0.7689807             16 37    37    Urban     Urban    \n",
       "2  s_97_9   s_97_14  0.7678698             16 97    97    Rural     Rural    \n",
       "3  s_42_3   s_42_9   0.7467403             16 42    42    Urban     Urban    \n",
       "4  s_83_5   s_83_11  0.7194610             16 83    83    Rural     Rural    \n",
       "5  s_42_1   s_42_20  0.7135305             16 42    42    Urban     Urban    \n",
       "6  s_37_11  s_37_18  0.4029149             16 37    37    Urban     Urban    \n",
       "7  s_37_6   s_37_11  0.3960961             16 37    37    Urban     Urban    \n",
       "8  s_37_8   s_37_12  0.2690484             16 37    37    Urban     Urban    \n",
       "9  s_7_6    s_7_13   0.2211006             16 7     7     Rural     Rural    \n",
       "10 s_40_6   s_40_17  0.1883089             16 40    40    Urban     Urban    "
      ]
     },
     "metadata": {},
     "output_type": "display_data"
    }
   ],
   "source": [
    "mean_relate_acrossChroms %>%\n",
    "    arrange(desc(mean_rab_acrossChroms)) %>%\n",
    "    head(n = 10)"
   ]
  },
  {
   "cell_type": "markdown",
   "metadata": {},
   "source": [
    "### Population stats"
   ]
  },
  {
   "cell_type": "code",
   "execution_count": 104,
   "metadata": {},
   "outputs": [
    {
     "data": {
      "text/html": [
       "<table class=\"dataframe\">\n",
       "<caption>A tibble: 1 × 6</caption>\n",
       "<thead>\n",
       "\t<tr><th scope=col>num_sum</th><th scope=col>denom_sum</th><th scope=col>fst</th><th scope=col>nSites</th><th scope=col>pop_a</th><th scope=col>pop_b</th></tr>\n",
       "\t<tr><th scope=col>&lt;dbl&gt;</th><th scope=col>&lt;dbl&gt;</th><th scope=col>&lt;dbl&gt;</th><th scope=col>&lt;int&gt;</th><th scope=col>&lt;chr&gt;</th><th scope=col>&lt;chr&gt;</th></tr>\n",
       "</thead>\n",
       "<tbody>\n",
       "\t<tr><td>6386.576</td><td>204908.7</td><td>0.0311679</td><td>9753295</td><td>40</td><td>116</td></tr>\n",
       "</tbody>\n",
       "</table>\n"
      ],
      "text/latex": [
       "A tibble: 1 × 6\n",
       "\\begin{tabular}{llllll}\n",
       " num\\_sum & denom\\_sum & fst & nSites & pop\\_a & pop\\_b\\\\\n",
       " <dbl> & <dbl> & <dbl> & <int> & <chr> & <chr>\\\\\n",
       "\\hline\n",
       "\t 6386.576 & 204908.7 & 0.0311679 & 9753295 & 40 & 116\\\\\n",
       "\\end{tabular}\n"
      ],
      "text/markdown": [
       "\n",
       "A tibble: 1 × 6\n",
       "\n",
       "| num_sum &lt;dbl&gt; | denom_sum &lt;dbl&gt; | fst &lt;dbl&gt; | nSites &lt;int&gt; | pop_a &lt;chr&gt; | pop_b &lt;chr&gt; |\n",
       "|---|---|---|---|---|---|\n",
       "| 6386.576 | 204908.7 | 0.0311679 | 9753295 | 40 | 116 |\n",
       "\n"
      ],
      "text/plain": [
       "  num_sum  denom_sum fst       nSites  pop_a pop_b\n",
       "1 6386.576 204908.7  0.0311679 9753295 40    116  "
      ]
     },
     "metadata": {},
     "output_type": "display_data"
    }
   ],
   "source": [
    "load_population_fst <- function(path){\n",
    "    pop_a <- str_split(basename(path), '_', simplify = T)[1]\n",
    "    pop_b <- str_split(basename(path), '_', simplify = T)[2]\n",
    "    colnames <- c('chrom', 'pos', 'num', 'denom')\n",
    "    df <- suppressMessages(read_delim(path, delim = '\\t', col_names = colnames)) %>%\n",
    "        # Cap numerators at 0 if negative \n",
    "        # https://github.com/ANGSD/angsd/issues/309\n",
    "        # Does not affect overall pattern\n",
    "        mutate(num = ifelse(num < 0, 0, num)) %>% \n",
    "        \n",
    "#         group_by(chrom) %>%\n",
    "        \n",
    "        # Estimate weighted Fst as ratio of averages\n",
    "        # https://github.com/ANGSD/angsd/issues/61\n",
    "        summarise(num_sum = sum(num),\n",
    "                  denom_sum = sum(denom),\n",
    "                  fst = num_sum / denom_sum,\n",
    "                  nSites = n()) %>% \n",
    "        mutate(pop_a = pop_a, pop_b = pop_b)\n",
    "    return(df)\n",
    "}\n",
    "\n",
    "load_population_fst('../../results/angsd/summary_stats/hudson_fst/by_population/40_116_4fold_readable.fst')\n",
    "\n",
    "\n",
    "# path <- paste0(results_prefix, 'angsd/summary_stats/hudson_fst/by_population')\n",
    "# pop_fst_df <- list.files(path, pattern = '*_readable.fst', full.names = T) %>% \n",
    "#     purrr::map_dfr(., load_population_fst)"
   ]
  },
  {
   "cell_type": "code",
   "execution_count": 55,
   "metadata": {},
   "outputs": [],
   "source": [
    "pop_fst_df_withHabs <- pop_fst_df %>% \n",
    "    left_join(mean_relate_acrossChroms %>% dplyr::select(pop_a, pop_b, Habitat_a, Habitat_b) %>% distinct(),\n",
    "              by = c('pop_a', 'pop_b'))"
   ]
  },
  {
   "cell_type": "code",
   "execution_count": 56,
   "metadata": {},
   "outputs": [
    {
     "data": {
      "image/png": "[encoded data removed]",
      "text/plain": [
       "plot without title"
      ]
     },
     "metadata": {},
     "output_type": "display_data"
    }
   ],
   "source": [
    "# Calculate mean fst across populations for specific habitat comparisons\n",
    "mean_fst_acrossHabs <- pop_fst_df_withHabs %>%\n",
    "    mutate(comparison = case_when(Habitat_a == 'Urban' & Habitat_b == 'Urban' ~ 'Within Urban',\n",
    "                                  Habitat_a == 'Suburban' & Habitat_b == 'Suburban' ~ 'Within Suburban',\n",
    "                                  Habitat_a == 'Rural' & Habitat_b == 'Rural' ~ 'Within Rural',\n",
    "                                  \n",
    "                                  Habitat_a == 'Urban' & Habitat_b == 'Suburban' ~ 'Urban-Suburban',\n",
    "                                  Habitat_a == 'Suburban' & Habitat_b == 'Urban' ~ 'Urban-Suburban',\n",
    "                                  \n",
    "                                  Habitat_a == 'Urban' & Habitat_b == 'Rural' ~ 'Urban-Rural',\n",
    "                                  Habitat_a == 'Rural' & Habitat_b == 'Urban' ~ 'Urban-Rural',\n",
    "                                  \n",
    "                                  Habitat_a == 'Suburban' & Habitat_b == 'Rural' ~ 'Suburban-Rural',\n",
    "                                  Habitat_a == 'Rural' & Habitat_b == 'Suburban' ~ 'Suburban-Rural')) %>%\n",
    "    group_by(comparison) %>%\n",
    "    summarise(mean_fst = mean(fst),\n",
    "              sd_fst = sd(fst),\n",
    "              se_fst = sd_fst / sqrt(n()))\n",
    "\n",
    "# Plot fst comparisons\n",
    "mean_fst_acrossHabs %>%\n",
    "    ggplot(., aes(x = comparison, y = mean_fst)) +\n",
    "    geom_errorbar(aes(ymin = mean_fst - se_fst, ymax = mean_fst + se_fst), width = 0.15) +\n",
    "    geom_point(size = 5) +\n",
    "    xlab('Comparison') + ylab('Mean Fst') +\n",
    "    scale_fill_manual(values = cols_hab) +\n",
    "    theme_classic()"
   ]
  },
  {
   "cell_type": "code",
   "execution_count": 66,
   "metadata": {},
   "outputs": [
    {
     "data": {
      "image/png": "[encoded data removed]",
      "text/plain": [
       "plot without title"
      ]
     },
     "metadata": {},
     "output_type": "display_data"
    }
   ],
   "source": [
    "pop_fst_df_withHabs %>%\n",
    "    complete(pop_a, pop_b) %>% \n",
    "    ggplot(., aes(x = factor(pop_a), y = factor(pop_b), fill = fst)) +\n",
    "    geom_tile() +\n",
    "    theme_classic()"
   ]
  },
  {
   "cell_type": "code",
   "execution_count": 58,
   "metadata": {},
   "outputs": [
    {
     "data": {
      "text/html": [
       "<table class=\"dataframe\">\n",
       "<caption>A tibble: 55 × 8</caption>\n",
       "<thead>\n",
       "\t<tr><th scope=col>num_sum</th><th scope=col>denom_sum</th><th scope=col>fst</th><th scope=col>nSites</th><th scope=col>pop_a</th><th scope=col>pop_b</th><th scope=col>Habitat_a</th><th scope=col>Habitat_b</th></tr>\n",
       "\t<tr><th scope=col>&lt;dbl&gt;</th><th scope=col>&lt;dbl&gt;</th><th scope=col>&lt;dbl&gt;</th><th scope=col>&lt;int&gt;</th><th scope=col>&lt;chr&gt;</th><th scope=col>&lt;chr&gt;</th><th scope=col>&lt;chr&gt;</th><th scope=col>&lt;chr&gt;</th></tr>\n",
       "</thead>\n",
       "<tbody>\n",
       "\t<tr><td>5331.119</td><td>198530.1</td><td>0.02685295</td><td>9594853</td><td>23</td><td>116</td><td>Suburban</td><td>Suburban</td></tr>\n",
       "\t<tr><td>5942.879</td><td>191481.8</td><td>0.03103625</td><td>9412703</td><td>23</td><td>37 </td><td>Suburban</td><td>Urban   </td></tr>\n",
       "\t<tr><td>5288.984</td><td>198177.9</td><td>0.02668806</td><td>9617779</td><td>23</td><td>54 </td><td>Suburban</td><td>Suburban</td></tr>\n",
       "\t<tr><td>5182.609</td><td>199233.0</td><td>0.02601280</td><td>9604885</td><td>23</td><td>83 </td><td>Suburban</td><td>Rural   </td></tr>\n",
       "\t<tr><td>5640.798</td><td>197050.6</td><td>0.02862614</td><td>9544106</td><td>37</td><td>116</td><td>Urban   </td><td>Suburban</td></tr>\n",
       "\t<tr><td>5705.358</td><td>196784.7</td><td>0.02899289</td><td>9562273</td><td>37</td><td>54 </td><td>Urban   </td><td>Suburban</td></tr>\n",
       "\t<tr><td>5513.126</td><td>197711.0</td><td>0.02788476</td><td>9555662</td><td>37</td><td>83 </td><td>Urban   </td><td>Rural   </td></tr>\n",
       "\t<tr><td>6386.576</td><td>204908.7</td><td>0.03116790</td><td>9753295</td><td>40</td><td>116</td><td>Urban   </td><td>Suburban</td></tr>\n",
       "\t<tr><td>6890.274</td><td>198914.0</td><td>0.03463946</td><td>9578555</td><td>40</td><td>23 </td><td>Urban   </td><td>Suburban</td></tr>\n",
       "\t<tr><td>7065.316</td><td>197128.9</td><td>0.03584109</td><td>9528579</td><td>40</td><td>37 </td><td>Urban   </td><td>Urban   </td></tr>\n",
       "\t<tr><td>5934.831</td><td>204818.6</td><td>0.02897603</td><td>9719079</td><td>40</td><td>41 </td><td>Urban   </td><td>Urban   </td></tr>\n",
       "\t<tr><td>6321.581</td><td>201285.6</td><td>0.03140602</td><td>9675842</td><td>40</td><td>42 </td><td>Urban   </td><td>Urban   </td></tr>\n",
       "\t<tr><td>6450.199</td><td>206232.1</td><td>0.03127641</td><td>9753647</td><td>40</td><td>43 </td><td>Urban   </td><td>Urban   </td></tr>\n",
       "\t<tr><td>6732.598</td><td>205184.4</td><td>0.03281243</td><td>9774004</td><td>40</td><td>54 </td><td>Urban   </td><td>Suburban</td></tr>\n",
       "\t<tr><td>8547.126</td><td>202878.7</td><td>0.04212924</td><td>9732110</td><td>40</td><td>7  </td><td>Urban   </td><td>Rural   </td></tr>\n",
       "\t<tr><td>6445.654</td><td>205818.3</td><td>0.03131721</td><td>9759040</td><td>40</td><td>83 </td><td>Urban   </td><td>Rural   </td></tr>\n",
       "\t<tr><td>7119.122</td><td>204897.9</td><td>0.03474473</td><td>9697466</td><td>40</td><td>97 </td><td>Urban   </td><td>Rural   </td></tr>\n",
       "\t<tr><td>4707.708</td><td>205033.2</td><td>0.02296070</td><td>9740868</td><td>41</td><td>116</td><td>Urban   </td><td>Suburban</td></tr>\n",
       "\t<tr><td>4856.569</td><td>198672.1</td><td>0.02444514</td><td>9577847</td><td>41</td><td>23 </td><td>Urban   </td><td>Suburban</td></tr>\n",
       "\t<tr><td>5213.756</td><td>197222.9</td><td>0.02643586</td><td>9525864</td><td>41</td><td>37 </td><td>Urban   </td><td>Urban   </td></tr>\n",
       "\t<tr><td>4381.844</td><td>201126.6</td><td>0.02178650</td><td>9669081</td><td>41</td><td>42 </td><td>Urban   </td><td>Urban   </td></tr>\n",
       "\t<tr><td>4199.770</td><td>205854.2</td><td>0.02040167</td><td>9743581</td><td>41</td><td>43 </td><td>Urban   </td><td>Urban   </td></tr>\n",
       "\t<tr><td>4669.875</td><td>204804.7</td><td>0.02280160</td><td>9764546</td><td>41</td><td>54 </td><td>Urban   </td><td>Suburban</td></tr>\n",
       "\t<tr><td>6374.971</td><td>202601.1</td><td>0.03146563</td><td>9725729</td><td>41</td><td>7  </td><td>Urban   </td><td>Rural   </td></tr>\n",
       "\t<tr><td>4025.910</td><td>205222.8</td><td>0.01961727</td><td>9756098</td><td>41</td><td>83 </td><td>Urban   </td><td>Rural   </td></tr>\n",
       "\t<tr><td>5731.128</td><td>205471.1</td><td>0.02789263</td><td>9690242</td><td>41</td><td>97 </td><td>Urban   </td><td>Rural   </td></tr>\n",
       "\t<tr><td>4827.280</td><td>201281.7</td><td>0.02398271</td><td>9710111</td><td>42</td><td>116</td><td>Urban   </td><td>Suburban</td></tr>\n",
       "\t<tr><td>5429.033</td><td>195235.5</td><td>0.02780761</td><td>9530560</td><td>42</td><td>23 </td><td>Urban   </td><td>Suburban</td></tr>\n",
       "\t<tr><td>5388.581</td><td>193569.5</td><td>0.02783797</td><td>9493438</td><td>42</td><td>37 </td><td>Urban   </td><td>Urban   </td></tr>\n",
       "\t<tr><td>4569.659</td><td>202351.1</td><td>0.02258282</td><td>9711392</td><td>42</td><td>43 </td><td>Urban   </td><td>Urban   </td></tr>\n",
       "\t<tr><td>4916.055</td><td>201012.2</td><td>0.02445650</td><td>9724568</td><td>42</td><td>54 </td><td>Urban   </td><td>Suburban</td></tr>\n",
       "\t<tr><td>6760.812</td><td>199067.4</td><td>0.03396244</td><td>9686960</td><td>42</td><td>7  </td><td>Urban   </td><td>Rural   </td></tr>\n",
       "\t<tr><td>4892.103</td><td>202145.5</td><td>0.02420090</td><td>9708170</td><td>42</td><td>83 </td><td>Urban   </td><td>Rural   </td></tr>\n",
       "\t<tr><td>6513.951</td><td>202228.6</td><td>0.03221082</td><td>9641234</td><td>42</td><td>97 </td><td>Urban   </td><td>Rural   </td></tr>\n",
       "\t<tr><td>4131.055</td><td>205481.1</td><td>0.02010431</td><td>9793771</td><td>43</td><td>116</td><td>Urban   </td><td>Suburban</td></tr>\n",
       "\t<tr><td>5002.271</td><td>199643.4</td><td>0.02505602</td><td>9597501</td><td>43</td><td>23 </td><td>Urban   </td><td>Suburban</td></tr>\n",
       "\t<tr><td>5342.545</td><td>198018.6</td><td>0.02698002</td><td>9551606</td><td>43</td><td>37 </td><td>Urban   </td><td>Urban   </td></tr>\n",
       "\t<tr><td>4636.089</td><td>205844.5</td><td>0.02252229</td><td>9810596</td><td>43</td><td>54 </td><td>Urban   </td><td>Suburban</td></tr>\n",
       "\t<tr><td>6450.155</td><td>203760.6</td><td>0.03165555</td><td>9767641</td><td>43</td><td>7  </td><td>Urban   </td><td>Rural   </td></tr>\n",
       "\t<tr><td>4465.256</td><td>206813.0</td><td>0.02159079</td><td>9794425</td><td>43</td><td>83 </td><td>Urban   </td><td>Rural   </td></tr>\n",
       "\t<tr><td>5428.205</td><td>206013.6</td><td>0.02634877</td><td>9720512</td><td>43</td><td>97 </td><td>Urban   </td><td>Rural   </td></tr>\n",
       "\t<tr><td>5062.515</td><td>205053.7</td><td>0.02468873</td><td>9812591</td><td>54</td><td>116</td><td>Suburban</td><td>Suburban</td></tr>\n",
       "\t<tr><td>4786.052</td><td>205567.1</td><td>0.02328218</td><td>9816962</td><td>54</td><td>83 </td><td>Suburban</td><td>Rural   </td></tr>\n",
       "\t<tr><td>6807.213</td><td>202783.1</td><td>0.03356894</td><td>9766820</td><td>7 </td><td>116</td><td>Rural   </td><td>Suburban</td></tr>\n",
       "\t<tr><td>7243.889</td><td>196620.9</td><td>0.03684192</td><td>9583244</td><td>7 </td><td>23 </td><td>Rural   </td><td>Suburban</td></tr>\n",
       "\t<tr><td>7638.468</td><td>195061.8</td><td>0.03915923</td><td>9534744</td><td>7 </td><td>37 </td><td>Rural   </td><td>Urban   </td></tr>\n",
       "\t<tr><td>7081.351</td><td>202829.7</td><td>0.03491279</td><td>9785570</td><td>7 </td><td>54 </td><td>Rural   </td><td>Suburban</td></tr>\n",
       "\t<tr><td>6454.256</td><td>203176.6</td><td>0.03176673</td><td>9771631</td><td>7 </td><td>83 </td><td>Rural   </td><td>Rural   </td></tr>\n",
       "\t<tr><td>4860.675</td><td>205855.2</td><td>0.02361211</td><td>9793724</td><td>83</td><td>116</td><td>Rural   </td><td>Suburban</td></tr>\n",
       "\t<tr><td>5358.133</td><td>204546.2</td><td>0.02619522</td><td>9718845</td><td>97</td><td>116</td><td>Rural   </td><td>Suburban</td></tr>\n",
       "\t<tr><td>6417.029</td><td>199240.2</td><td>0.03220750</td><td>9559960</td><td>97</td><td>23 </td><td>Rural   </td><td>Suburban</td></tr>\n",
       "\t<tr><td>6973.361</td><td>198034.7</td><td>0.03521283</td><td>9507024</td><td>97</td><td>37 </td><td>Rural   </td><td>Urban   </td></tr>\n",
       "\t<tr><td>6275.903</td><td>205491.4</td><td>0.03054095</td><td>9740149</td><td>97</td><td>54 </td><td>Rural   </td><td>Suburban</td></tr>\n",
       "\t<tr><td>7931.453</td><td>203035.6</td><td>0.03906434</td><td>9699885</td><td>97</td><td>7  </td><td>Rural   </td><td>Rural   </td></tr>\n",
       "\t<tr><td>5803.043</td><td>206060.1</td><td>0.02816189</td><td>9730744</td><td>97</td><td>83 </td><td>Rural   </td><td>Rural   </td></tr>\n",
       "</tbody>\n",
       "</table>\n"
      ],
      "text/latex": [
       "A tibble: 55 × 8\n",
       "\\begin{tabular}{llllllll}\n",
       " num\\_sum & denom\\_sum & fst & nSites & pop\\_a & pop\\_b & Habitat\\_a & Habitat\\_b\\\\\n",
       " <dbl> & <dbl> & <dbl> & <int> & <chr> & <chr> & <chr> & <chr>\\\\\n",
       "\\hline\n",
       "\t 5331.119 & 198530.1 & 0.02685295 & 9594853 & 23 & 116 & Suburban & Suburban\\\\\n",
       "\t 5942.879 & 191481.8 & 0.03103625 & 9412703 & 23 & 37  & Suburban & Urban   \\\\\n",
       "\t 5288.984 & 198177.9 & 0.02668806 & 9617779 & 23 & 54  & Suburban & Suburban\\\\\n",
       "\t 5182.609 & 199233.0 & 0.02601280 & 9604885 & 23 & 83  & Suburban & Rural   \\\\\n",
       "\t 5640.798 & 197050.6 & 0.02862614 & 9544106 & 37 & 116 & Urban    & Suburban\\\\\n",
       "\t 5705.358 & 196784.7 & 0.02899289 & 9562273 & 37 & 54  & Urban    & Suburban\\\\\n",
       "\t 5513.126 & 197711.0 & 0.02788476 & 9555662 & 37 & 83  & Urban    & Rural   \\\\\n",
       "\t 6386.576 & 204908.7 & 0.03116790 & 9753295 & 40 & 116 & Urban    & Suburban\\\\\n",
       "\t 6890.274 & 198914.0 & 0.03463946 & 9578555 & 40 & 23  & Urban    & Suburban\\\\\n",
       "\t 7065.316 & 197128.9 & 0.03584109 & 9528579 & 40 & 37  & Urban    & Urban   \\\\\n",
       "\t 5934.831 & 204818.6 & 0.02897603 & 9719079 & 40 & 41  & Urban    & Urban   \\\\\n",
       "\t 6321.581 & 201285.6 & 0.03140602 & 9675842 & 40 & 42  & Urban    & Urban   \\\\\n",
       "\t 6450.199 & 206232.1 & 0.03127641 & 9753647 & 40 & 43  & Urban    & Urban   \\\\\n",
       "\t 6732.598 & 205184.4 & 0.03281243 & 9774004 & 40 & 54  & Urban    & Suburban\\\\\n",
       "\t 8547.126 & 202878.7 & 0.04212924 & 9732110 & 40 & 7   & Urban    & Rural   \\\\\n",
       "\t 6445.654 & 205818.3 & 0.03131721 & 9759040 & 40 & 83  & Urban    & Rural   \\\\\n",
       "\t 7119.122 & 204897.9 & 0.03474473 & 9697466 & 40 & 97  & Urban    & Rural   \\\\\n",
       "\t 4707.708 & 205033.2 & 0.02296070 & 9740868 & 41 & 116 & Urban    & Suburban\\\\\n",
       "\t 4856.569 & 198672.1 & 0.02444514 & 9577847 & 41 & 23  & Urban    & Suburban\\\\\n",
       "\t 5213.756 & 197222.9 & 0.02643586 & 9525864 & 41 & 37  & Urban    & Urban   \\\\\n",
       "\t 4381.844 & 201126.6 & 0.02178650 & 9669081 & 41 & 42  & Urban    & Urban   \\\\\n",
       "\t 4199.770 & 205854.2 & 0.02040167 & 9743581 & 41 & 43  & Urban    & Urban   \\\\\n",
       "\t 4669.875 & 204804.7 & 0.02280160 & 9764546 & 41 & 54  & Urban    & Suburban\\\\\n",
       "\t 6374.971 & 202601.1 & 0.03146563 & 9725729 & 41 & 7   & Urban    & Rural   \\\\\n",
       "\t 4025.910 & 205222.8 & 0.01961727 & 9756098 & 41 & 83  & Urban    & Rural   \\\\\n",
       "\t 5731.128 & 205471.1 & 0.02789263 & 9690242 & 41 & 97  & Urban    & Rural   \\\\\n",
       "\t 4827.280 & 201281.7 & 0.02398271 & 9710111 & 42 & 116 & Urban    & Suburban\\\\\n",
       "\t 5429.033 & 195235.5 & 0.02780761 & 9530560 & 42 & 23  & Urban    & Suburban\\\\\n",
       "\t 5388.581 & 193569.5 & 0.02783797 & 9493438 & 42 & 37  & Urban    & Urban   \\\\\n",
       "\t 4569.659 & 202351.1 & 0.02258282 & 9711392 & 42 & 43  & Urban    & Urban   \\\\\n",
       "\t 4916.055 & 201012.2 & 0.02445650 & 9724568 & 42 & 54  & Urban    & Suburban\\\\\n",
       "\t 6760.812 & 199067.4 & 0.03396244 & 9686960 & 42 & 7   & Urban    & Rural   \\\\\n",
       "\t 4892.103 & 202145.5 & 0.02420090 & 9708170 & 42 & 83  & Urban    & Rural   \\\\\n",
       "\t 6513.951 & 202228.6 & 0.03221082 & 9641234 & 42 & 97  & Urban    & Rural   \\\\\n",
       "\t 4131.055 & 205481.1 & 0.02010431 & 9793771 & 43 & 116 & Urban    & Suburban\\\\\n",
       "\t 5002.271 & 199643.4 & 0.02505602 & 9597501 & 43 & 23  & Urban    & Suburban\\\\\n",
       "\t 5342.545 & 198018.6 & 0.02698002 & 9551606 & 43 & 37  & Urban    & Urban   \\\\\n",
       "\t 4636.089 & 205844.5 & 0.02252229 & 9810596 & 43 & 54  & Urban    & Suburban\\\\\n",
       "\t 6450.155 & 203760.6 & 0.03165555 & 9767641 & 43 & 7   & Urban    & Rural   \\\\\n",
       "\t 4465.256 & 206813.0 & 0.02159079 & 9794425 & 43 & 83  & Urban    & Rural   \\\\\n",
       "\t 5428.205 & 206013.6 & 0.02634877 & 9720512 & 43 & 97  & Urban    & Rural   \\\\\n",
       "\t 5062.515 & 205053.7 & 0.02468873 & 9812591 & 54 & 116 & Suburban & Suburban\\\\\n",
       "\t 4786.052 & 205567.1 & 0.02328218 & 9816962 & 54 & 83  & Suburban & Rural   \\\\\n",
       "\t 6807.213 & 202783.1 & 0.03356894 & 9766820 & 7  & 116 & Rural    & Suburban\\\\\n",
       "\t 7243.889 & 196620.9 & 0.03684192 & 9583244 & 7  & 23  & Rural    & Suburban\\\\\n",
       "\t 7638.468 & 195061.8 & 0.03915923 & 9534744 & 7  & 37  & Rural    & Urban   \\\\\n",
       "\t 7081.351 & 202829.7 & 0.03491279 & 9785570 & 7  & 54  & Rural    & Suburban\\\\\n",
       "\t 6454.256 & 203176.6 & 0.03176673 & 9771631 & 7  & 83  & Rural    & Rural   \\\\\n",
       "\t 4860.675 & 205855.2 & 0.02361211 & 9793724 & 83 & 116 & Rural    & Suburban\\\\\n",
       "\t 5358.133 & 204546.2 & 0.02619522 & 9718845 & 97 & 116 & Rural    & Suburban\\\\\n",
       "\t 6417.029 & 199240.2 & 0.03220750 & 9559960 & 97 & 23  & Rural    & Suburban\\\\\n",
       "\t 6973.361 & 198034.7 & 0.03521283 & 9507024 & 97 & 37  & Rural    & Urban   \\\\\n",
       "\t 6275.903 & 205491.4 & 0.03054095 & 9740149 & 97 & 54  & Rural    & Suburban\\\\\n",
       "\t 7931.453 & 203035.6 & 0.03906434 & 9699885 & 97 & 7   & Rural    & Rural   \\\\\n",
       "\t 5803.043 & 206060.1 & 0.02816189 & 9730744 & 97 & 83  & Rural    & Rural   \\\\\n",
       "\\end{tabular}\n"
      ],
      "text/markdown": [
       "\n",
       "A tibble: 55 × 8\n",
       "\n",
       "| num_sum &lt;dbl&gt; | denom_sum &lt;dbl&gt; | fst &lt;dbl&gt; | nSites &lt;int&gt; | pop_a &lt;chr&gt; | pop_b &lt;chr&gt; | Habitat_a &lt;chr&gt; | Habitat_b &lt;chr&gt; |\n",
       "|---|---|---|---|---|---|---|---|\n",
       "| 5331.119 | 198530.1 | 0.02685295 | 9594853 | 23 | 116 | Suburban | Suburban |\n",
       "| 5942.879 | 191481.8 | 0.03103625 | 9412703 | 23 | 37  | Suburban | Urban    |\n",
       "| 5288.984 | 198177.9 | 0.02668806 | 9617779 | 23 | 54  | Suburban | Suburban |\n",
       "| 5182.609 | 199233.0 | 0.02601280 | 9604885 | 23 | 83  | Suburban | Rural    |\n",
       "| 5640.798 | 197050.6 | 0.02862614 | 9544106 | 37 | 116 | Urban    | Suburban |\n",
       "| 5705.358 | 196784.7 | 0.02899289 | 9562273 | 37 | 54  | Urban    | Suburban |\n",
       "| 5513.126 | 197711.0 | 0.02788476 | 9555662 | 37 | 83  | Urban    | Rural    |\n",
       "| 6386.576 | 204908.7 | 0.03116790 | 9753295 | 40 | 116 | Urban    | Suburban |\n",
       "| 6890.274 | 198914.0 | 0.03463946 | 9578555 | 40 | 23  | Urban    | Suburban |\n",
       "| 7065.316 | 197128.9 | 0.03584109 | 9528579 | 40 | 37  | Urban    | Urban    |\n",
       "| 5934.831 | 204818.6 | 0.02897603 | 9719079 | 40 | 41  | Urban    | Urban    |\n",
       "| 6321.581 | 201285.6 | 0.03140602 | 9675842 | 40 | 42  | Urban    | Urban    |\n",
       "| 6450.199 | 206232.1 | 0.03127641 | 9753647 | 40 | 43  | Urban    | Urban    |\n",
       "| 6732.598 | 205184.4 | 0.03281243 | 9774004 | 40 | 54  | Urban    | Suburban |\n",
       "| 8547.126 | 202878.7 | 0.04212924 | 9732110 | 40 | 7   | Urban    | Rural    |\n",
       "| 6445.654 | 205818.3 | 0.03131721 | 9759040 | 40 | 83  | Urban    | Rural    |\n",
       "| 7119.122 | 204897.9 | 0.03474473 | 9697466 | 40 | 97  | Urban    | Rural    |\n",
       "| 4707.708 | 205033.2 | 0.02296070 | 9740868 | 41 | 116 | Urban    | Suburban |\n",
       "| 4856.569 | 198672.1 | 0.02444514 | 9577847 | 41 | 23  | Urban    | Suburban |\n",
       "| 5213.756 | 197222.9 | 0.02643586 | 9525864 | 41 | 37  | Urban    | Urban    |\n",
       "| 4381.844 | 201126.6 | 0.02178650 | 9669081 | 41 | 42  | Urban    | Urban    |\n",
       "| 4199.770 | 205854.2 | 0.02040167 | 9743581 | 41 | 43  | Urban    | Urban    |\n",
       "| 4669.875 | 204804.7 | 0.02280160 | 9764546 | 41 | 54  | Urban    | Suburban |\n",
       "| 6374.971 | 202601.1 | 0.03146563 | 9725729 | 41 | 7   | Urban    | Rural    |\n",
       "| 4025.910 | 205222.8 | 0.01961727 | 9756098 | 41 | 83  | Urban    | Rural    |\n",
       "| 5731.128 | 205471.1 | 0.02789263 | 9690242 | 41 | 97  | Urban    | Rural    |\n",
       "| 4827.280 | 201281.7 | 0.02398271 | 9710111 | 42 | 116 | Urban    | Suburban |\n",
       "| 5429.033 | 195235.5 | 0.02780761 | 9530560 | 42 | 23  | Urban    | Suburban |\n",
       "| 5388.581 | 193569.5 | 0.02783797 | 9493438 | 42 | 37  | Urban    | Urban    |\n",
       "| 4569.659 | 202351.1 | 0.02258282 | 9711392 | 42 | 43  | Urban    | Urban    |\n",
       "| 4916.055 | 201012.2 | 0.02445650 | 9724568 | 42 | 54  | Urban    | Suburban |\n",
       "| 6760.812 | 199067.4 | 0.03396244 | 9686960 | 42 | 7   | Urban    | Rural    |\n",
       "| 4892.103 | 202145.5 | 0.02420090 | 9708170 | 42 | 83  | Urban    | Rural    |\n",
       "| 6513.951 | 202228.6 | 0.03221082 | 9641234 | 42 | 97  | Urban    | Rural    |\n",
       "| 4131.055 | 205481.1 | 0.02010431 | 9793771 | 43 | 116 | Urban    | Suburban |\n",
       "| 5002.271 | 199643.4 | 0.02505602 | 9597501 | 43 | 23  | Urban    | Suburban |\n",
       "| 5342.545 | 198018.6 | 0.02698002 | 9551606 | 43 | 37  | Urban    | Urban    |\n",
       "| 4636.089 | 205844.5 | 0.02252229 | 9810596 | 43 | 54  | Urban    | Suburban |\n",
       "| 6450.155 | 203760.6 | 0.03165555 | 9767641 | 43 | 7   | Urban    | Rural    |\n",
       "| 4465.256 | 206813.0 | 0.02159079 | 9794425 | 43 | 83  | Urban    | Rural    |\n",
       "| 5428.205 | 206013.6 | 0.02634877 | 9720512 | 43 | 97  | Urban    | Rural    |\n",
       "| 5062.515 | 205053.7 | 0.02468873 | 9812591 | 54 | 116 | Suburban | Suburban |\n",
       "| 4786.052 | 205567.1 | 0.02328218 | 9816962 | 54 | 83  | Suburban | Rural    |\n",
       "| 6807.213 | 202783.1 | 0.03356894 | 9766820 | 7  | 116 | Rural    | Suburban |\n",
       "| 7243.889 | 196620.9 | 0.03684192 | 9583244 | 7  | 23  | Rural    | Suburban |\n",
       "| 7638.468 | 195061.8 | 0.03915923 | 9534744 | 7  | 37  | Rural    | Urban    |\n",
       "| 7081.351 | 202829.7 | 0.03491279 | 9785570 | 7  | 54  | Rural    | Suburban |\n",
       "| 6454.256 | 203176.6 | 0.03176673 | 9771631 | 7  | 83  | Rural    | Rural    |\n",
       "| 4860.675 | 205855.2 | 0.02361211 | 9793724 | 83 | 116 | Rural    | Suburban |\n",
       "| 5358.133 | 204546.2 | 0.02619522 | 9718845 | 97 | 116 | Rural    | Suburban |\n",
       "| 6417.029 | 199240.2 | 0.03220750 | 9559960 | 97 | 23  | Rural    | Suburban |\n",
       "| 6973.361 | 198034.7 | 0.03521283 | 9507024 | 97 | 37  | Rural    | Urban    |\n",
       "| 6275.903 | 205491.4 | 0.03054095 | 9740149 | 97 | 54  | Rural    | Suburban |\n",
       "| 7931.453 | 203035.6 | 0.03906434 | 9699885 | 97 | 7   | Rural    | Rural    |\n",
       "| 5803.043 | 206060.1 | 0.02816189 | 9730744 | 97 | 83  | Rural    | Rural    |\n",
       "\n"
      ],
      "text/plain": [
       "   num_sum  denom_sum fst        nSites  pop_a pop_b Habitat_a Habitat_b\n",
       "1  5331.119 198530.1  0.02685295 9594853 23    116   Suburban  Suburban \n",
       "2  5942.879 191481.8  0.03103625 9412703 23    37    Suburban  Urban    \n",
       "3  5288.984 198177.9  0.02668806 9617779 23    54    Suburban  Suburban \n",
       "4  5182.609 199233.0  0.02601280 9604885 23    83    Suburban  Rural    \n",
       "5  5640.798 197050.6  0.02862614 9544106 37    116   Urban     Suburban \n",
       "6  5705.358 196784.7  0.02899289 9562273 37    54    Urban     Suburban \n",
       "7  5513.126 197711.0  0.02788476 9555662 37    83    Urban     Rural    \n",
       "8  6386.576 204908.7  0.03116790 9753295 40    116   Urban     Suburban \n",
       "9  6890.274 198914.0  0.03463946 9578555 40    23    Urban     Suburban \n",
       "10 7065.316 197128.9  0.03584109 9528579 40    37    Urban     Urban    \n",
       "11 5934.831 204818.6  0.02897603 9719079 40    41    Urban     Urban    \n",
       "12 6321.581 201285.6  0.03140602 9675842 40    42    Urban     Urban    \n",
       "13 6450.199 206232.1  0.03127641 9753647 40    43    Urban     Urban    \n",
       "14 6732.598 205184.4  0.03281243 9774004 40    54    Urban     Suburban \n",
       "15 8547.126 202878.7  0.04212924 9732110 40    7     Urban     Rural    \n",
       "16 6445.654 205818.3  0.03131721 9759040 40    83    Urban     Rural    \n",
       "17 7119.122 204897.9  0.03474473 9697466 40    97    Urban     Rural    \n",
       "18 4707.708 205033.2  0.02296070 9740868 41    116   Urban     Suburban \n",
       "19 4856.569 198672.1  0.02444514 9577847 41    23    Urban     Suburban \n",
       "20 5213.756 197222.9  0.02643586 9525864 41    37    Urban     Urban    \n",
       "21 4381.844 201126.6  0.02178650 9669081 41    42    Urban     Urban    \n",
       "22 4199.770 205854.2  0.02040167 9743581 41    43    Urban     Urban    \n",
       "23 4669.875 204804.7  0.02280160 9764546 41    54    Urban     Suburban \n",
       "24 6374.971 202601.1  0.03146563 9725729 41    7     Urban     Rural    \n",
       "25 4025.910 205222.8  0.01961727 9756098 41    83    Urban     Rural    \n",
       "26 5731.128 205471.1  0.02789263 9690242 41    97    Urban     Rural    \n",
       "27 4827.280 201281.7  0.02398271 9710111 42    116   Urban     Suburban \n",
       "28 5429.033 195235.5  0.02780761 9530560 42    23    Urban     Suburban \n",
       "29 5388.581 193569.5  0.02783797 9493438 42    37    Urban     Urban    \n",
       "30 4569.659 202351.1  0.02258282 9711392 42    43    Urban     Urban    \n",
       "31 4916.055 201012.2  0.02445650 9724568 42    54    Urban     Suburban \n",
       "32 6760.812 199067.4  0.03396244 9686960 42    7     Urban     Rural    \n",
       "33 4892.103 202145.5  0.02420090 9708170 42    83    Urban     Rural    \n",
       "34 6513.951 202228.6  0.03221082 9641234 42    97    Urban     Rural    \n",
       "35 4131.055 205481.1  0.02010431 9793771 43    116   Urban     Suburban \n",
       "36 5002.271 199643.4  0.02505602 9597501 43    23    Urban     Suburban \n",
       "37 5342.545 198018.6  0.02698002 9551606 43    37    Urban     Urban    \n",
       "38 4636.089 205844.5  0.02252229 9810596 43    54    Urban     Suburban \n",
       "39 6450.155 203760.6  0.03165555 9767641 43    7     Urban     Rural    \n",
       "40 4465.256 206813.0  0.02159079 9794425 43    83    Urban     Rural    \n",
       "41 5428.205 206013.6  0.02634877 9720512 43    97    Urban     Rural    \n",
       "42 5062.515 205053.7  0.02468873 9812591 54    116   Suburban  Suburban \n",
       "43 4786.052 205567.1  0.02328218 9816962 54    83    Suburban  Rural    \n",
       "44 6807.213 202783.1  0.03356894 9766820 7     116   Rural     Suburban \n",
       "45 7243.889 196620.9  0.03684192 9583244 7     23    Rural     Suburban \n",
       "46 7638.468 195061.8  0.03915923 9534744 7     37    Rural     Urban    \n",
       "47 7081.351 202829.7  0.03491279 9785570 7     54    Rural     Suburban \n",
       "48 6454.256 203176.6  0.03176673 9771631 7     83    Rural     Rural    \n",
       "49 4860.675 205855.2  0.02361211 9793724 83    116   Rural     Suburban \n",
       "50 5358.133 204546.2  0.02619522 9718845 97    116   Rural     Suburban \n",
       "51 6417.029 199240.2  0.03220750 9559960 97    23    Rural     Suburban \n",
       "52 6973.361 198034.7  0.03521283 9507024 97    37    Rural     Urban    \n",
       "53 6275.903 205491.4  0.03054095 9740149 97    54    Rural     Suburban \n",
       "54 7931.453 203035.6  0.03906434 9699885 97    7     Rural     Rural    \n",
       "55 5803.043 206060.1  0.02816189 9730744 97    83    Rural     Rural    "
      ]
     },
     "metadata": {},
     "output_type": "display_data"
    }
   ],
   "source": [
    "pop_fst_df_withHabs"
   ]
  },
  {
   "cell_type": "code",
   "execution_count": 88,
   "metadata": {},
   "outputs": [],
   "source": [
    "# Function to load thetas for a given habitat\n",
    "load_population_pi <- function(path){\n",
    "    pop <- str_split(basename(path), '_', simplify = T)[1]\n",
    "    df <- suppressMessages(read_delim(path, delim = '\\t')) %>%\n",
    "        mutate(tp_scaled = tP / nSites,\n",
    "               tw_scaled = tW / nSites) %>% \n",
    "        summarize(pi = mean(tp_scaled)) %>% \n",
    "        mutate(pop = pop)\n",
    "    return(df)\n",
    "}\n",
    "\n",
    "\n",
    "path <- paste0(results_prefix, 'angsd/summary_stats/thetas/by_population')\n",
    "pop_pi_df <- list.files(path, pattern = '*.pestPG', full.names = T, recursive = T) %>% \n",
    "    purrr::map_dfr(., load_population_pi)"
   ]
  },
  {
   "cell_type": "code",
   "execution_count": 83,
   "metadata": {},
   "outputs": [
    {
     "data": {
      "text/html": [
       "<table class=\"dataframe\">\n",
       "<caption>A tibble: 11 × 3</caption>\n",
       "<thead>\n",
       "\t<tr><th scope=col>pi</th><th scope=col>pop</th><th scope=col>Habitat</th></tr>\n",
       "\t<tr><th scope=col>&lt;dbl&gt;</th><th scope=col>&lt;chr&gt;</th><th scope=col>&lt;chr&gt;</th></tr>\n",
       "</thead>\n",
       "<tbody>\n",
       "\t<tr><td>0.02269305</td><td>116</td><td>Suburban</td></tr>\n",
       "\t<tr><td>0.02241581</td><td>23 </td><td>Suburban</td></tr>\n",
       "\t<tr><td>0.02181938</td><td>37 </td><td>Urban   </td></tr>\n",
       "\t<tr><td>0.02233328</td><td>40 </td><td>Urban   </td></tr>\n",
       "\t<tr><td>0.02272233</td><td>41 </td><td>Urban   </td></tr>\n",
       "\t<tr><td>0.02230389</td><td>42 </td><td>Urban   </td></tr>\n",
       "\t<tr><td>0.02276866</td><td>43 </td><td>Urban   </td></tr>\n",
       "\t<tr><td>0.02277092</td><td>54 </td><td>Suburban</td></tr>\n",
       "\t<tr><td>0.02181256</td><td>7  </td><td>Rural   </td></tr>\n",
       "\t<tr><td>0.02272458</td><td>83 </td><td>Rural   </td></tr>\n",
       "\t<tr><td>0.02265457</td><td>97 </td><td>Rural   </td></tr>\n",
       "</tbody>\n",
       "</table>\n"
      ],
      "text/latex": [
       "A tibble: 11 × 3\n",
       "\\begin{tabular}{lll}\n",
       " pi & pop & Habitat\\\\\n",
       " <dbl> & <chr> & <chr>\\\\\n",
       "\\hline\n",
       "\t 0.02269305 & 116 & Suburban\\\\\n",
       "\t 0.02241581 & 23  & Suburban\\\\\n",
       "\t 0.02181938 & 37  & Urban   \\\\\n",
       "\t 0.02233328 & 40  & Urban   \\\\\n",
       "\t 0.02272233 & 41  & Urban   \\\\\n",
       "\t 0.02230389 & 42  & Urban   \\\\\n",
       "\t 0.02276866 & 43  & Urban   \\\\\n",
       "\t 0.02277092 & 54  & Suburban\\\\\n",
       "\t 0.02181256 & 7   & Rural   \\\\\n",
       "\t 0.02272458 & 83  & Rural   \\\\\n",
       "\t 0.02265457 & 97  & Rural   \\\\\n",
       "\\end{tabular}\n"
      ],
      "text/markdown": [
       "\n",
       "A tibble: 11 × 3\n",
       "\n",
       "| pi &lt;dbl&gt; | pop &lt;chr&gt; | Habitat &lt;chr&gt; |\n",
       "|---|---|---|\n",
       "| 0.02269305 | 116 | Suburban |\n",
       "| 0.02241581 | 23  | Suburban |\n",
       "| 0.02181938 | 37  | Urban    |\n",
       "| 0.02233328 | 40  | Urban    |\n",
       "| 0.02272233 | 41  | Urban    |\n",
       "| 0.02230389 | 42  | Urban    |\n",
       "| 0.02276866 | 43  | Urban    |\n",
       "| 0.02277092 | 54  | Suburban |\n",
       "| 0.02181256 | 7   | Rural    |\n",
       "| 0.02272458 | 83  | Rural    |\n",
       "| 0.02265457 | 97  | Rural    |\n",
       "\n"
      ],
      "text/plain": [
       "   pi         pop Habitat \n",
       "1  0.02269305 116 Suburban\n",
       "2  0.02241581 23  Suburban\n",
       "3  0.02181938 37  Urban   \n",
       "4  0.02233328 40  Urban   \n",
       "5  0.02272233 41  Urban   \n",
       "6  0.02230389 42  Urban   \n",
       "7  0.02276866 43  Urban   \n",
       "8  0.02277092 54  Suburban\n",
       "9  0.02181256 7   Rural   \n",
       "10 0.02272458 83  Rural   \n",
       "11 0.02265457 97  Rural   "
      ]
     },
     "metadata": {},
     "output_type": "display_data"
    }
   ],
   "source": [
    "pop_pi_df %>% \n",
    "    left_join(samples %>% \n",
    "                  dplyr::select(Population, Habitat) %>% \n",
    "                  distinct() %>% \n",
    "                  mutate(Population = as.character(Population)) %>% \n",
    "                  rename('pop' = Population), by = 'pop') \n",
    "# %>% \n",
    "#     ggplot(., aes(x = pop, y = pi)) +\n",
    "#         geom_bar(stat = 'identity', color = 'black', fill = 'black') +\n",
    "#         facet_grid(~Habitat) +\n",
    "#         theme_classic()"
   ]
  },
  {
   "cell_type": "code",
   "execution_count": 107,
   "metadata": {},
   "outputs": [],
   "source": [
    "fst.hudson <-function(p1, p2, n1, n2){\n",
    "\n",
    "    N = (p1 - p2)^2 - p1*(1-p1)/(n1-1) - p2*(1-p2)/(n2-1)\n",
    "    D = p1*(1-p2) + p2*(1-p1)\n",
    "\n",
    "    return(N / D)\n",
    "  }"
   ]
  },
  {
   "cell_type": "code",
   "execution_count": 130,
   "metadata": {},
   "outputs": [
    {
     "data": {
      "text/html": [
       "-0.0555978674790556"
      ],
      "text/latex": [
       "-0.0555978674790556"
      ],
      "text/markdown": [
       "-0.0555978674790556"
      ],
      "text/plain": [
       "[1] -0.05559787"
      ]
     },
     "metadata": {},
     "output_type": "display_data"
    }
   ],
   "source": [
    "p1 <- 0.45\n",
    "p2 <- 0.55\n",
    "n1 <- 14\n",
    "n2 <- 14\n",
    "\n",
    "fst.hudson(p1, p2, n1, n2)"
   ]
  },
  {
   "cell_type": "code",
   "execution_count": null,
   "metadata": {},
   "outputs": [],
   "source": []
  }
 ],
 "metadata": {
  "kernelspec": {
   "display_name": "R",
   "language": "R",
   "name": "ir"
  },
  "language_info": {
   "codemirror_mode": "r",
   "file_extension": ".r",
   "mimetype": "text/x-r-source",
   "name": "R",
   "pygments_lexer": "r",
   "version": "3.6.3"
  }
 },
 "nbformat": 4,
 "nbformat_minor": 4
}
